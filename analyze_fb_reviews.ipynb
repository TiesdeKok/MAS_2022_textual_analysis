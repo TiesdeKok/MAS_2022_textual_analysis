{
 "cells": [
  {
   "cell_type": "markdown",
   "id": "faf0e7c3",
   "metadata": {},
   "source": [
    "# Preamble"
   ]
  },
  {
   "cell_type": "markdown",
   "id": "e2cb9d33",
   "metadata": {},
   "source": [
    "## Imports"
   ]
  },
  {
   "cell_type": "markdown",
   "id": "3871ea11",
   "metadata": {},
   "source": [
    "Standard imports"
   ]
  },
  {
   "cell_type": "code",
   "execution_count": 1,
   "id": "9d5362ca",
   "metadata": {},
   "outputs": [],
   "source": [
    "import sys, os, re, time, copy\n",
    "import pandas as pd\n",
    "import numpy as np\n",
    "from tqdm.notebook import tqdm\n",
    "import unidecode"
   ]
  },
  {
   "cell_type": "markdown",
   "id": "283de8a1",
   "metadata": {},
   "source": [
    "Language libraries:"
   ]
  },
  {
   "cell_type": "code",
   "execution_count": 2,
   "id": "343cb365",
   "metadata": {},
   "outputs": [],
   "source": [
    "from textblob import TextBlob"
   ]
  },
  {
   "cell_type": "markdown",
   "id": "8c303e62",
   "metadata": {},
   "source": [
    "### Settings"
   ]
  },
  {
   "cell_type": "markdown",
   "id": "3ce49094",
   "metadata": {},
   "source": [
    "Disable copy warnings in Pandas"
   ]
  },
  {
   "cell_type": "code",
   "execution_count": 3,
   "id": "e2a8d70f",
   "metadata": {},
   "outputs": [],
   "source": [
    "pd.options.mode.chained_assignment = None  # default='warn'"
   ]
  },
  {
   "cell_type": "markdown",
   "id": "ef2de8ca",
   "metadata": {},
   "source": [
    "Disable depreciation warnings"
   ]
  },
  {
   "cell_type": "code",
   "execution_count": 4,
   "id": "1a359d06",
   "metadata": {},
   "outputs": [],
   "source": [
    "def warn(*args, **kwargs):\n",
    "    pass\n",
    "import warnings\n",
    "warnings.warn = warn"
   ]
  },
  {
   "cell_type": "markdown",
   "id": "c401443d",
   "metadata": {},
   "source": [
    "-----\n",
    "# Step 1: Inspect the data\n",
    "-----"
   ]
  },
  {
   "cell_type": "markdown",
   "id": "07624a5a",
   "metadata": {},
   "source": [
    "## Load the data\n",
    "\n",
    "You can also download the Excel sheet directly by clicking here: [download](https://github.com/TiesdeKok/MAS_2022_textual_analysis/raw/main/facebook_review_dataset.xlsx)"
   ]
  },
  {
   "cell_type": "code",
   "execution_count": 5,
   "id": "95cd3d68",
   "metadata": {},
   "outputs": [],
   "source": [
    "review_df = pd.read_excel('facebook_review_dataset.xlsx')"
   ]
  },
  {
   "cell_type": "markdown",
   "id": "4b3c100e",
   "metadata": {},
   "source": [
    "## Inspect the data"
   ]
  },
  {
   "cell_type": "markdown",
   "id": "8a4c5128",
   "metadata": {},
   "source": [
    "### Dataset"
   ]
  },
  {
   "cell_type": "code",
   "execution_count": 6,
   "id": "025948ff",
   "metadata": {},
   "outputs": [
    {
     "name": "stdout",
     "output_type": "stream",
     "text": [
      "The dataset contains 2290 reviews. \n",
      "The oldest review is from 2014-03-17 00:00:00 \n",
      "The newest review is from 2021-12-28 00:00:00.\n"
     ]
    },
    {
     "data": {
      "text/html": [
       "<div>\n",
       "<style scoped>\n",
       "    .dataframe tbody tr th:only-of-type {\n",
       "        vertical-align: middle;\n",
       "    }\n",
       "\n",
       "    .dataframe tbody tr th {\n",
       "        vertical-align: top;\n",
       "    }\n",
       "\n",
       "    .dataframe thead th {\n",
       "        text-align: right;\n",
       "    }\n",
       "</style>\n",
       "<table border=\"1\" class=\"dataframe\">\n",
       "  <thead>\n",
       "    <tr style=\"text-align: right;\">\n",
       "      <th></th>\n",
       "      <th>0</th>\n",
       "      <th>1</th>\n",
       "    </tr>\n",
       "  </thead>\n",
       "  <tbody>\n",
       "    <tr>\n",
       "      <th>date</th>\n",
       "      <td>2021-11-09 00:00:00</td>\n",
       "      <td>2021-12-25 00:00:00</td>\n",
       "    </tr>\n",
       "    <tr>\n",
       "      <th>year</th>\n",
       "      <td>2021</td>\n",
       "      <td>2021</td>\n",
       "    </tr>\n",
       "    <tr>\n",
       "      <th>rating</th>\n",
       "      <td>5</td>\n",
       "      <td>5</td>\n",
       "    </tr>\n",
       "    <tr>\n",
       "      <th>rating_wlb</th>\n",
       "      <td>5</td>\n",
       "      <td>5</td>\n",
       "    </tr>\n",
       "    <tr>\n",
       "      <th>rating_culture</th>\n",
       "      <td>5</td>\n",
       "      <td>5</td>\n",
       "    </tr>\n",
       "    <tr>\n",
       "      <th>rating_dei</th>\n",
       "      <td>5</td>\n",
       "      <td>4</td>\n",
       "    </tr>\n",
       "    <tr>\n",
       "      <th>rating_comp</th>\n",
       "      <td>5</td>\n",
       "      <td>4</td>\n",
       "    </tr>\n",
       "    <tr>\n",
       "      <th>job_title</th>\n",
       "      <td>Software Engineer</td>\n",
       "      <td>Data Scientist</td>\n",
       "    </tr>\n",
       "    <tr>\n",
       "      <th>location</th>\n",
       "      <td>Seattle, WA</td>\n",
       "      <td>San Francisco, CA</td>\n",
       "    </tr>\n",
       "    <tr>\n",
       "      <th>pros</th>\n",
       "      <td>I’m still a bit new, but I have very good impr...</td>\n",
       "      <td>Its all you hear about, fun and diverse and su...</td>\n",
       "    </tr>\n",
       "    <tr>\n",
       "      <th>cons</th>\n",
       "      <td>Some risk with new company direction. The meta...</td>\n",
       "      <td>You are evaluated nased on individual accompli...</td>\n",
       "    </tr>\n",
       "  </tbody>\n",
       "</table>\n",
       "</div>"
      ],
      "text/plain": [
       "                                                                0  \\\n",
       "date                                          2021-11-09 00:00:00   \n",
       "year                                                         2021   \n",
       "rating                                                          5   \n",
       "rating_wlb                                                      5   \n",
       "rating_culture                                                  5   \n",
       "rating_dei                                                      5   \n",
       "rating_comp                                                     5   \n",
       "job_title                                       Software Engineer   \n",
       "location                                              Seattle, WA   \n",
       "pros            I’m still a bit new, but I have very good impr...   \n",
       "cons            Some risk with new company direction. The meta...   \n",
       "\n",
       "                                                                1  \n",
       "date                                          2021-12-25 00:00:00  \n",
       "year                                                         2021  \n",
       "rating                                                          5  \n",
       "rating_wlb                                                      5  \n",
       "rating_culture                                                  5  \n",
       "rating_dei                                                      4  \n",
       "rating_comp                                                     4  \n",
       "job_title                                          Data Scientist  \n",
       "location                                        San Francisco, CA  \n",
       "pros            Its all you hear about, fun and diverse and su...  \n",
       "cons            You are evaluated nased on individual accompli...  "
      ]
     },
     "execution_count": 6,
     "metadata": {},
     "output_type": "execute_result"
    }
   ],
   "source": [
    "print(f\"The dataset contains {len(review_df)} reviews. \\nThe oldest review is from {review_df['date'].min()} \\nThe newest review is from {review_df['date'].max()}.\")\n",
    "review_df.head(2).T"
   ]
  },
  {
   "cell_type": "markdown",
   "id": "53589704",
   "metadata": {},
   "source": [
    "### Number of reviews by year"
   ]
  },
  {
   "cell_type": "code",
   "execution_count": 7,
   "id": "09fb4a0e",
   "metadata": {},
   "outputs": [
    {
     "data": {
      "text/plain": [
       "year\n",
       "2021    1123\n",
       "2020     572\n",
       "2019     226\n",
       "2018     239\n",
       "2017     128\n",
       "2016       1\n",
       "2014       1\n",
       "dtype: int64"
      ]
     },
     "execution_count": 7,
     "metadata": {},
     "output_type": "execute_result"
    }
   ],
   "source": [
    "review_df.value_counts('year').sort_index(ascending=False)"
   ]
  },
  {
   "cell_type": "markdown",
   "id": "de39df04",
   "metadata": {},
   "source": [
    "------\n",
    "------\n",
    "## Task 1: Evaluate the textual data that we are working with. \n",
    "\n",
    "Things to evaluate:\n",
    "\n",
    "- What types of constructs could you generate based on the reviews? "
   ]
  },
  {
   "cell_type": "markdown",
   "id": "fb6aa02a",
   "metadata": {},
   "source": [
    "### Show random review\n",
    "\n",
    "**Note:** Every time you run the code below it will show a different review in the dataset."
   ]
  },
  {
   "cell_type": "code",
   "execution_count": 8,
   "id": "bda8f184",
   "metadata": {},
   "outputs": [
    {
     "name": "stdout",
     "output_type": "stream",
     "text": [
      "Review by a Leasing Agent in San Jose, CA on 2021-01-16 00:00:00\n",
      "\n",
      "Pros: \n",
      "\n",
      "Love the energy around each campus\n",
      "\n",
      "Cons: \n",
      "\n",
      "Poor management skills_x000D_\n",
      "Poor sick pay\n"
     ]
    }
   ],
   "source": [
    "#############################\n",
    "## Run this cell to evaluate!\n",
    "############################# \n",
    "\n",
    "review_row = review_df.sample(1).iloc[0].to_dict()\n",
    "print(f\"Review by a {review_row['job_title']} in {review_row['location']} on {review_row['date']}\")\n",
    "print(f\"\\nPros: \\n\\n{review_row['pros'].strip()}\")\n",
    "print(f\"\\nCons: \\n\\n{review_row['cons'].strip()}\")"
   ]
  },
  {
   "cell_type": "markdown",
   "id": "13584a79",
   "metadata": {},
   "source": [
    "## "
   ]
  },
  {
   "cell_type": "markdown",
   "id": "49c3d658",
   "metadata": {},
   "source": [
    "------\n",
    "------"
   ]
  },
  {
   "cell_type": "markdown",
   "id": "84988c4a",
   "metadata": {},
   "source": [
    "\n",
    "# Step 2: Clean the data\n",
    "-----"
   ]
  },
  {
   "cell_type": "markdown",
   "id": "7923eb35",
   "metadata": {},
   "source": [
    "### Cleaning function"
   ]
  },
  {
   "cell_type": "code",
   "execution_count": 9,
   "id": "4283aa09",
   "metadata": {},
   "outputs": [],
   "source": [
    "def clean_text(input_str):\n",
    "    clean_str = copy.copy(input_str)\n",
    "\n",
    "    ## Remove special characters\n",
    "    clean_str = unidecode.unidecode(clean_str)\n",
    "\n",
    "    ## Remove any non-letter characters except for regular sentence-ending punctuation\n",
    "    clean_str = re.sub(r'[^a-zA-Z\\s\\.!\\?\\\\n]', '', clean_str)\n",
    "\n",
    "    ## Replace all \\s with a single space except for \\n\n",
    "    clean_str = re.sub(r'[ \\t\\x0B\\f\\r]+', ' ', clean_str)\n",
    "\n",
    "    ## Replace a newline with a dot and a space\n",
    "    clean_str = re.sub(r'\\s*\\n\\s*', '. ', clean_str)\n",
    "\n",
    "    ## Replace duplicate dots\n",
    "    clean_str = re.sub(r'\\.+', '.', clean_str)\n",
    "\n",
    "    ## Remove any leading or trailing spaces\n",
    "    clean_str = clean_str.strip()\n",
    "\n",
    "    ## Add trailing dot if not exists\n",
    "    if clean_str[-1] != '.':\n",
    "        clean_str += '.'\n",
    "\n",
    "    return clean_str"
   ]
  },
  {
   "cell_type": "markdown",
   "id": "f9cd2725",
   "metadata": {},
   "source": [
    "### Run"
   ]
  },
  {
   "cell_type": "code",
   "execution_count": 10,
   "id": "e1cfb8fc",
   "metadata": {},
   "outputs": [],
   "source": [
    "review_df['pros_clean'] = review_df['pros'].apply(clean_text)\n",
    "review_df['cons_clean'] = review_df['cons'].apply(clean_text)"
   ]
  },
  {
   "cell_type": "markdown",
   "id": "8a06c6f7",
   "metadata": {},
   "source": [
    "#### Add lower case version"
   ]
  },
  {
   "cell_type": "code",
   "execution_count": 11,
   "id": "5564b676",
   "metadata": {},
   "outputs": [],
   "source": [
    "review_df['pros_clean_l'] = review_df['pros_clean'].str.lower()\n",
    "review_df['cons_clean_l'] = review_df['cons_clean'].str.lower()"
   ]
  },
  {
   "cell_type": "markdown",
   "id": "8877ab3c",
   "metadata": {},
   "source": [
    "------\n",
    "------\n",
    "## Task 2: Evaluate whether we did a good job cleaning the data\n",
    "\n",
    "Things to evaluate:\n",
    "\n",
    "- Compare the \"dirty\" versus the \"clean\" text (see below), what are the types of things that are different?\n",
    "- Can you find any remaining errors that aren't taken care off, should we deal with these?\n",
    "\n",
    "### Inspect"
   ]
  },
  {
   "cell_type": "code",
   "execution_count": 12,
   "id": "7c368929",
   "metadata": {},
   "outputs": [
    {
     "name": "stdout",
     "output_type": "stream",
     "text": [
      "Review by a Engineering Training Specialist in Menlo Park, CA on 2018-02-03 00:00:00\n",
      "\n",
      "Pros: \n",
      "\n",
      "Facebook really respects its employees and is very interested in diversity and that everyone is treated and compensated fairly. Zuck is a great leader\n",
      "\n",
      "Pros clean: \n",
      "\n",
      "Facebook really respects its employees and is very interested in diversity and that everyone is treated and compensated fairly. Zuck is a great leader.\n",
      "\n",
      "--------------------------------------------------\n",
      "\n",
      "Cons: \n",
      "\n",
      "The work life balance can be a challenge, but overall Facebook really does care about trying to make this better.\n",
      "\n",
      "Cons clean: \n",
      "\n",
      "The work life balance can be a challenge but overall Facebook really does care about trying to make this better.\n"
     ]
    }
   ],
   "source": [
    "#############################\n",
    "## Run this cell to evaluate!\n",
    "############################# \n",
    "\n",
    "review_row = review_df.sample(1).iloc[0].to_dict()\n",
    "print(f\"Review by a {review_row['job_title']} in {review_row['location']} on {review_row['date']}\")\n",
    "print(f\"\\nPros: \\n\\n{review_row['pros'].strip()}\")\n",
    "print(f\"\\nPros clean: \\n\\n{review_row['pros_clean'].strip()}\")\n",
    "print('\\n' + '-'*50)\n",
    "print(f\"\\nCons: \\n\\n{review_row['cons'].strip()}\")\n",
    "print(f\"\\nCons clean: \\n\\n{review_row['cons_clean'].strip()}\")"
   ]
  },
  {
   "cell_type": "markdown",
   "id": "0fa8942f",
   "metadata": {},
   "source": [
    "------\n",
    "------\n",
    "# Step 3: Analyze the data\n"
   ]
  },
  {
   "cell_type": "markdown",
   "id": "c570b81e",
   "metadata": {},
   "source": [
    "------\n",
    "------\n",
    "## Task 3a: Let's perform a keyword analysis!\n",
    "\n",
    "Things to evaluate:\n",
    "\n",
    "- Use the provided keywords to see what we can learn about the reviews.\n",
    "- Can you come up with keywords of your own to obtain additional insights?"
   ]
  },
  {
   "cell_type": "markdown",
   "id": "4acd86a3",
   "metadata": {},
   "source": [
    "### Check whether each pros and cons contains a keyword"
   ]
  },
  {
   "cell_type": "code",
   "execution_count": 13,
   "id": "ebe65197",
   "metadata": {},
   "outputs": [
    {
     "data": {
      "text/html": [
       "<div>\n",
       "<style scoped>\n",
       "    .dataframe tbody tr th:only-of-type {\n",
       "        vertical-align: middle;\n",
       "    }\n",
       "\n",
       "    .dataframe tbody tr th {\n",
       "        vertical-align: top;\n",
       "    }\n",
       "\n",
       "    .dataframe thead th {\n",
       "        text-align: right;\n",
       "    }\n",
       "</style>\n",
       "<table border=\"1\" class=\"dataframe\">\n",
       "  <thead>\n",
       "    <tr style=\"text-align: right;\">\n",
       "      <th></th>\n",
       "      <th>keyword</th>\n",
       "      <th>text_type</th>\n",
       "      <th>count</th>\n",
       "    </tr>\n",
       "  </thead>\n",
       "  <tbody>\n",
       "    <tr>\n",
       "      <th>0</th>\n",
       "      <td>traffic</td>\n",
       "      <td>pros</td>\n",
       "      <td>0</td>\n",
       "    </tr>\n",
       "    <tr>\n",
       "      <th>5</th>\n",
       "      <td>traffic</td>\n",
       "      <td>cons</td>\n",
       "      <td>9</td>\n",
       "    </tr>\n",
       "    <tr>\n",
       "      <th>2</th>\n",
       "      <td>salary</td>\n",
       "      <td>pros</td>\n",
       "      <td>125</td>\n",
       "    </tr>\n",
       "    <tr>\n",
       "      <th>7</th>\n",
       "      <td>salary</td>\n",
       "      <td>cons</td>\n",
       "      <td>12</td>\n",
       "    </tr>\n",
       "    <tr>\n",
       "      <th>3</th>\n",
       "      <td>diversity</td>\n",
       "      <td>pros</td>\n",
       "      <td>34</td>\n",
       "    </tr>\n",
       "    <tr>\n",
       "      <th>8</th>\n",
       "      <td>diversity</td>\n",
       "      <td>cons</td>\n",
       "      <td>28</td>\n",
       "    </tr>\n",
       "    <tr>\n",
       "      <th>1</th>\n",
       "      <td>culture</td>\n",
       "      <td>pros</td>\n",
       "      <td>407</td>\n",
       "    </tr>\n",
       "    <tr>\n",
       "      <th>6</th>\n",
       "      <td>culture</td>\n",
       "      <td>cons</td>\n",
       "      <td>155</td>\n",
       "    </tr>\n",
       "    <tr>\n",
       "      <th>4</th>\n",
       "      <td>balance</td>\n",
       "      <td>pros</td>\n",
       "      <td>118</td>\n",
       "    </tr>\n",
       "    <tr>\n",
       "      <th>9</th>\n",
       "      <td>balance</td>\n",
       "      <td>cons</td>\n",
       "      <td>279</td>\n",
       "    </tr>\n",
       "  </tbody>\n",
       "</table>\n",
       "</div>"
      ],
      "text/plain": [
       "     keyword text_type  count\n",
       "0    traffic      pros      0\n",
       "5    traffic      cons      9\n",
       "2     salary      pros    125\n",
       "7     salary      cons     12\n",
       "3  diversity      pros     34\n",
       "8  diversity      cons     28\n",
       "1    culture      pros    407\n",
       "6    culture      cons    155\n",
       "4    balance      pros    118\n",
       "9    balance      cons    279"
      ]
     },
     "execution_count": 13,
     "metadata": {},
     "output_type": "execute_result"
    }
   ],
   "source": [
    "#############################\n",
    "## Run this to evaluate\n",
    "############################# \n",
    "\n",
    "keywords_of_interest = ['traffic', 'culture', 'salary', 'diversity', 'balance'] ## <-- Change this!\n",
    "\n",
    "text_types = ['pros', 'cons']\n",
    "contains_columns = []\n",
    "for text_type in text_types:\n",
    "    for keyword in keywords_of_interest:\n",
    "        review_df[f'{text_type}_contains_{keyword}'] = review_df[f'{text_type}_clean_l'].str.contains(keyword)**1\n",
    "        contains_columns.append(f'{text_type}_contains_{keyword}')\n",
    "\n",
    "review_kw_df = review_df[contains_columns].sum().reset_index().rename(columns={'index' : 'group', 0 : 'count'})\n",
    "tmp_df = review_kw_df['group'].str.split('_', expand=True).rename(columns={0 : 'text_type', 2 : 'keyword'}).drop(1,axis=1)\n",
    "review_kw_df = pd.concat([review_kw_df, tmp_df], axis=1)\n",
    "review_kw_df = review_kw_df[['keyword', 'text_type', 'count']].sort_values(by='keyword', ascending=False)\n",
    "\n",
    "review_kw_df"
   ]
  },
  {
   "cell_type": "markdown",
   "id": "3ff34223",
   "metadata": {},
   "source": [
    "## Sentiment analysis"
   ]
  },
  {
   "cell_type": "markdown",
   "id": "8a7e530e",
   "metadata": {},
   "source": [
    "### Add the sentiment to the dataframe"
   ]
  },
  {
   "cell_type": "code",
   "execution_count": 14,
   "id": "8d994dcc",
   "metadata": {},
   "outputs": [],
   "source": [
    "def add_sentiment(input_str):\n",
    "    return TextBlob(input_str).sentiment.polarity"
   ]
  },
  {
   "cell_type": "code",
   "execution_count": 15,
   "id": "98f5fc72",
   "metadata": {},
   "outputs": [],
   "source": [
    "review_df['pros_sentiment'] = review_df['pros_clean'].apply(add_sentiment)\n",
    "review_df['cons_sentiment'] = review_df['cons_clean'].apply(add_sentiment)\n",
    "review_df['average_sentiment'] = (review_df['pros_sentiment'] + review_df['cons_sentiment'])/2"
   ]
  },
  {
   "cell_type": "markdown",
   "id": "c77255b9",
   "metadata": {},
   "source": [
    "------\n",
    "------\n",
    "## Task 4: Inspect the sentiment scores, are they reasonable?\n",
    "\n",
    "Things to evaluate:\n",
    "\n",
    "- Use the inspection tools below to evaluate whether the sentiment scores work as expected. Can you find any issues?\n",
    "\n",
    "### Inspect"
   ]
  },
  {
   "cell_type": "code",
   "execution_count": 16,
   "id": "4a6f914f",
   "metadata": {},
   "outputs": [
    {
     "name": "stdout",
     "output_type": "stream",
     "text": [
      "Review by a Writer in Chicago, IL on 2021-04-23 00:00:00\n",
      "\n",
      "Pros clean (sentiment: 0.70): \n",
      "\n",
      "Good stuff good people good.\n",
      "\n",
      "--------------------------------------------------\n",
      "\n",
      "Cons clean (sentiment: 0.00): \n",
      "\n",
      "its facebook what do u think.\n"
     ]
    }
   ],
   "source": [
    "#############################\n",
    "## Run this cell to evaluate!\n",
    "############################# \n",
    "\n",
    "review_row = review_df.sample(1).iloc[0].to_dict()\n",
    "print(f\"Review by a {review_row['job_title']} in {review_row['location']} on {review_row['date']}\")\n",
    "print(f\"\\nPros clean (sentiment: {review_row['pros_sentiment']:.2f}): \\n\\n{review_row['pros_clean'].strip()}\")\n",
    "print('\\n' + '-'*50)\n",
    "print(f\"\\nCons clean (sentiment: {review_row['cons_sentiment']:.2f}): \\n\\n{review_row['cons_clean'].strip()}\")"
   ]
  },
  {
   "cell_type": "markdown",
   "id": "ccde6081",
   "metadata": {},
   "source": [
    "### Show summary statistics for the sentiment"
   ]
  },
  {
   "cell_type": "code",
   "execution_count": 17,
   "id": "c2dcec53",
   "metadata": {},
   "outputs": [
    {
     "data": {
      "text/html": [
       "<div>\n",
       "<style scoped>\n",
       "    .dataframe tbody tr th:only-of-type {\n",
       "        vertical-align: middle;\n",
       "    }\n",
       "\n",
       "    .dataframe tbody tr th {\n",
       "        vertical-align: top;\n",
       "    }\n",
       "\n",
       "    .dataframe thead th {\n",
       "        text-align: right;\n",
       "    }\n",
       "</style>\n",
       "<table border=\"1\" class=\"dataframe\">\n",
       "  <thead>\n",
       "    <tr style=\"text-align: right;\">\n",
       "      <th></th>\n",
       "      <th>pros_sentiment</th>\n",
       "      <th>cons_sentiment</th>\n",
       "    </tr>\n",
       "  </thead>\n",
       "  <tbody>\n",
       "    <tr>\n",
       "      <th>count</th>\n",
       "      <td>2290.000000</td>\n",
       "      <td>2290.000000</td>\n",
       "    </tr>\n",
       "    <tr>\n",
       "      <th>mean</th>\n",
       "      <td>0.429227</td>\n",
       "      <td>0.046158</td>\n",
       "    </tr>\n",
       "    <tr>\n",
       "      <th>std</th>\n",
       "      <td>0.280898</td>\n",
       "      <td>0.279836</td>\n",
       "    </tr>\n",
       "    <tr>\n",
       "      <th>min</th>\n",
       "      <td>-1.000000</td>\n",
       "      <td>-1.000000</td>\n",
       "    </tr>\n",
       "    <tr>\n",
       "      <th>25%</th>\n",
       "      <td>0.228921</td>\n",
       "      <td>-0.050000</td>\n",
       "    </tr>\n",
       "    <tr>\n",
       "      <th>50%</th>\n",
       "      <td>0.450000</td>\n",
       "      <td>0.000000</td>\n",
       "    </tr>\n",
       "    <tr>\n",
       "      <th>75%</th>\n",
       "      <td>0.650000</td>\n",
       "      <td>0.200000</td>\n",
       "    </tr>\n",
       "    <tr>\n",
       "      <th>max</th>\n",
       "      <td>1.000000</td>\n",
       "      <td>1.000000</td>\n",
       "    </tr>\n",
       "  </tbody>\n",
       "</table>\n",
       "</div>"
      ],
      "text/plain": [
       "       pros_sentiment  cons_sentiment\n",
       "count     2290.000000     2290.000000\n",
       "mean         0.429227        0.046158\n",
       "std          0.280898        0.279836\n",
       "min         -1.000000       -1.000000\n",
       "25%          0.228921       -0.050000\n",
       "50%          0.450000        0.000000\n",
       "75%          0.650000        0.200000\n",
       "max          1.000000        1.000000"
      ]
     },
     "execution_count": 17,
     "metadata": {},
     "output_type": "execute_result"
    }
   ],
   "source": [
    "#############################\n",
    "## Run this cell to evaluate!\n",
    "############################# \n",
    "\n",
    "review_df[['pros_sentiment', 'cons_sentiment']].describe()"
   ]
  },
  {
   "cell_type": "markdown",
   "id": "d52c9902",
   "metadata": {},
   "source": [
    "### Show examples of high and low sentiment reviews"
   ]
  },
  {
   "cell_type": "code",
   "execution_count": 18,
   "id": "f9986092",
   "metadata": {},
   "outputs": [
    {
     "name": "stdout",
     "output_type": "stream",
     "text": [
      "Very positive review by a Content Designer in Seattle, WA on 2021-07-18 00:00:00\n",
      "\n",
      "Pros clean (sentiment: 1.00): \n",
      "\n",
      "Culture sense of empowerment and responsibility. Flexibility in how you perform your job. Benefits are excellent.\n",
      "\n",
      "--------------------------------------------------\n",
      "\n",
      "Cons clean (sentiment: 0.10): \n",
      "\n",
      "Fastpaced high expectations biannual intense reviews. Sometimes no clear accountability.\n"
     ]
    }
   ],
   "source": [
    "#############################\n",
    "## Run this cell to evaluate!\n",
    "############################# \n",
    "\n",
    "top_pos_df = review_df.sort_values(by=['pros_sentiment', 'cons_sentiment'], ascending=False).head(20)\n",
    "review_row = top_pos_df.sample(1).iloc[0].to_dict()\n",
    "print(f\"Very positive review by a {review_row['job_title']} in {review_row['location']} on {review_row['date']}\")\n",
    "print(f\"\\nPros clean (sentiment: {review_row['pros_sentiment']:.2f}): \\n\\n{review_row['pros_clean'].strip()}\")\n",
    "print('\\n' + '-'*50)\n",
    "print(f\"\\nCons clean (sentiment: {review_row['cons_sentiment']:.2f}): \\n\\n{review_row['cons_clean'].strip()}\")"
   ]
  },
  {
   "cell_type": "code",
   "execution_count": 19,
   "id": "e441a3ed",
   "metadata": {},
   "outputs": [
    {
     "name": "stdout",
     "output_type": "stream",
     "text": [
      "Very negative review by a Software Engineer in San Francisco, CA on 2021-01-10 00:00:00\n",
      "\n",
      "Pros clean (sentiment: -0.70): \n",
      "\n",
      "I like working here. Its not too bad.\n",
      "\n",
      "--------------------------------------------------\n",
      "\n",
      "Cons clean (sentiment: 0.20): \n",
      "\n",
      "I really dont like PSC season.\n"
     ]
    }
   ],
   "source": [
    "#############################\n",
    "## Run this cell to evaluate!\n",
    "############################# \n",
    "\n",
    "top_neg_df = review_df.sort_values(by=['pros_sentiment', 'cons_sentiment'], ascending=True).head(20)\n",
    "review_row = top_neg_df.sample(1).iloc[0].to_dict()\n",
    "print(f\"Very negative review by a {review_row['job_title']} in {review_row['location']} on {review_row['date']}\")\n",
    "print(f\"\\nPros clean (sentiment: {review_row['pros_sentiment']:.2f}): \\n\\n{review_row['pros_clean'].strip()}\")\n",
    "print('\\n' + '-'*50)\n",
    "print(f\"\\nCons clean (sentiment: {review_row['cons_sentiment']:.2f}): \\n\\n{review_row['cons_clean'].strip()}\")"
   ]
  },
  {
   "cell_type": "markdown",
   "id": "d4072e50",
   "metadata": {},
   "source": [
    "### Did the sentiment change over time?"
   ]
  },
  {
   "cell_type": "code",
   "execution_count": 20,
   "id": "aff46806",
   "metadata": {},
   "outputs": [],
   "source": [
    "import seaborn as sns\n",
    "import matplotlib.pyplot as plt\n",
    "## Retina\n",
    "sns.set(style=\"whitegrid\", font_scale=1.2)"
   ]
  },
  {
   "cell_type": "code",
   "execution_count": 21,
   "id": "d5ff0bd6",
   "metadata": {},
   "outputs": [],
   "source": [
    "graph_df = review_df[review_df.year >= 2017]"
   ]
  },
  {
   "cell_type": "markdown",
   "id": "eee4d434",
   "metadata": {},
   "source": [
    "#### Pros"
   ]
  },
  {
   "cell_type": "code",
   "execution_count": 22,
   "id": "0e39f315",
   "metadata": {},
   "outputs": [
    {
     "data": {
      "text/plain": [
       "Text(0, 0.5, 'Sentiment')"
      ]
     },
     "execution_count": 22,
     "metadata": {},
     "output_type": "execute_result"
    },
    {
     "data": {
      "image/png": "[encoded data removed]",
      "text/plain": [
       "<Figure size 864x432 with 1 Axes>"
      ]
     },
     "metadata": {},
     "output_type": "display_data"
    }
   ],
   "source": [
    "plt.figure(figsize=(12,6))\n",
    "sns.lineplot(y='pros_sentiment', x='year', data=graph_df)\n",
    "\n",
    "## make pretty\n",
    "plt.title('Pros Sentiment over Time')\n",
    "plt.xlabel('Year', labelpad=10)\n",
    "plt.ylabel('Sentiment', labelpad=10)"
   ]
  },
  {
   "cell_type": "markdown",
   "id": "6037801b",
   "metadata": {},
   "source": [
    "#### Cons"
   ]
  },
  {
   "cell_type": "code",
   "execution_count": 23,
   "id": "fafeaf88",
   "metadata": {},
   "outputs": [
    {
     "data": {
      "text/plain": [
       "Text(0, 0.5, 'Sentiment')"
      ]
     },
     "execution_count": 23,
     "metadata": {},
     "output_type": "execute_result"
    },
    {
     "data": {
      "image/png": "[encoded data removed]",
      "text/plain": [
       "<Figure size 864x432 with 1 Axes>"
      ]
     },
     "metadata": {},
     "output_type": "display_data"
    }
   ],
   "source": [
    "plt.figure(figsize=(12,6))\n",
    "sns.lineplot(y='cons_sentiment', x='year', data=graph_df)\n",
    "\n",
    "plt.title('Cons Sentiment over Time')\n",
    "plt.xlabel('Year', labelpad=10)\n",
    "plt.ylabel('Sentiment', labelpad=10)"
   ]
  },
  {
   "cell_type": "markdown",
   "id": "1d235b5b",
   "metadata": {},
   "source": [
    "### Does the average yearly sentiment and the average yearly ratings change similarly over time?"
   ]
  },
  {
   "cell_type": "markdown",
   "id": "14c7069c",
   "metadata": {},
   "source": [
    "#### Text sentiment"
   ]
  },
  {
   "cell_type": "code",
   "execution_count": 24,
   "id": "448fd2fc",
   "metadata": {},
   "outputs": [
    {
     "data": {
      "text/plain": [
       "Text(0, 0.5, 'Sentiment')"
      ]
     },
     "execution_count": 24,
     "metadata": {},
     "output_type": "execute_result"
    },
    {
     "data": {
      "image/png": "[encoded data removed]",
      "text/plain": [
       "<Figure size 864x432 with 1 Axes>"
      ]
     },
     "metadata": {},
     "output_type": "display_data"
    }
   ],
   "source": [
    "plt.figure(figsize=(12,6))\n",
    "sns.lineplot(y='average_sentiment', x='year', data=graph_df)\n",
    "\n",
    "plt.title('Average Sentiment over Time')\n",
    "plt.xlabel('Year', labelpad=10)\n",
    "plt.ylabel('Sentiment', labelpad=10)"
   ]
  },
  {
   "cell_type": "markdown",
   "id": "5b88a53e",
   "metadata": {},
   "source": [
    "### Rating sentiment"
   ]
  },
  {
   "cell_type": "code",
   "execution_count": 25,
   "id": "c4aafbf9",
   "metadata": {},
   "outputs": [
    {
     "data": {
      "text/plain": [
       "Text(0, 0.5, 'Rating')"
      ]
     },
     "execution_count": 25,
     "metadata": {},
     "output_type": "execute_result"
    },
    {
     "data": {
      "image/png": "[encoded data removed]",
      "text/plain": [
       "<Figure size 864x432 with 1 Axes>"
      ]
     },
     "metadata": {},
     "output_type": "display_data"
    }
   ],
   "source": [
    "plt.figure(figsize=(12,6))\n",
    "sns.lineplot(y='rating', x='year', data=graph_df)\n",
    "\n",
    "plt.title('Average rating over Time')\n",
    "plt.xlabel('Year', labelpad=10)\n",
    "plt.ylabel('Rating', labelpad=10)"
   ]
  },
  {
   "cell_type": "markdown",
   "id": "bd571776",
   "metadata": {},
   "source": [
    "--------\n",
    "# Advanced - LDA model\n",
    "-------"
   ]
  },
  {
   "cell_type": "markdown",
   "id": "e3cc5d8c",
   "metadata": {},
   "source": [
    "## Prep the data"
   ]
  },
  {
   "cell_type": "code",
   "execution_count": 26,
   "id": "bec63390",
   "metadata": {},
   "outputs": [],
   "source": [
    "from sklearn.decomposition import LatentDirichletAllocation\n",
    "from sklearn.feature_extraction.text import CountVectorizer"
   ]
  },
  {
   "cell_type": "code",
   "execution_count": 27,
   "id": "647a59c3",
   "metadata": {},
   "outputs": [],
   "source": [
    "clean_pros_l = review_df['pros_clean_l'].tolist()\n",
    "clean_cons_l = review_df['cons_clean_l'].tolist()"
   ]
  },
  {
   "cell_type": "code",
   "execution_count": 28,
   "id": "ec3fde42",
   "metadata": {},
   "outputs": [],
   "source": [
    "vec_pros = CountVectorizer(stop_words='english', max_df=0.95, min_df=2)\n",
    "tf_pros = vec_pros.fit_transform(clean_pros_l)\n",
    "\n",
    "vec_cons = CountVectorizer(stop_words='english', max_df=0.95, min_df=2)\n",
    "tf_cons = vec_cons.fit_transform(clean_cons_l)"
   ]
  },
  {
   "cell_type": "markdown",
   "id": "20f708da",
   "metadata": {},
   "source": [
    "## Train the models"
   ]
  },
  {
   "cell_type": "markdown",
   "id": "dc2f73a6",
   "metadata": {},
   "source": [
    "#### Pros"
   ]
  },
  {
   "cell_type": "code",
   "execution_count": 29,
   "id": "b4f84218",
   "metadata": {},
   "outputs": [],
   "source": [
    "n_topics = 3\n",
    "lda_pros = LatentDirichletAllocation(n_components=n_topics, max_iter=10,\n",
    "                                learning_method='online',\n",
    "                                n_jobs=1)\n",
    "lda_f_pros = lda_pros.fit_transform(tf_pros)"
   ]
  },
  {
   "cell_type": "markdown",
   "id": "bf6ed775",
   "metadata": {},
   "source": [
    "#### Cons"
   ]
  },
  {
   "cell_type": "code",
   "execution_count": 30,
   "id": "2d4bdf32",
   "metadata": {},
   "outputs": [],
   "source": [
    "n_topics = 3\n",
    "lda_cons = LatentDirichletAllocation(n_components=n_topics, max_iter=10,\n",
    "                                learning_method='online',\n",
    "                                n_jobs=1)\n",
    "lda_f_cons = lda_cons.fit_transform(tf_cons)"
   ]
  },
  {
   "cell_type": "markdown",
   "id": "59aab2a2",
   "metadata": {},
   "source": [
    "## Visualize"
   ]
  },
  {
   "cell_type": "code",
   "execution_count": 31,
   "id": "217e84bc",
   "metadata": {},
   "outputs": [],
   "source": [
    "import pyLDAvis\n",
    "import pyLDAvis.sklearn\n",
    "pyLDAvis.enable_notebook()"
   ]
  },
  {
   "cell_type": "markdown",
   "id": "3165af4e",
   "metadata": {},
   "source": [
    "## Task 5: LDA Analysis, do the clusters make sense? \n",
    "\n",
    "Things to evaluate:\n",
    "\n",
    "- Use the inspection tools below to evaluate whether the LD&A clusters make sense. Can you interpret what the different clusters represent?\n",
    "- Play around with the `n_topics` parameter to see how the results change."
   ]
  },
  {
   "cell_type": "markdown",
   "id": "b3159654",
   "metadata": {},
   "source": [
    "### Pros"
   ]
  },
  {
   "cell_type": "code",
   "execution_count": 32,
   "id": "8028b80d",
   "metadata": {},
   "outputs": [
    {
     "data": {
      "text/html": [
       "\n",
       "<link rel=\"stylesheet\" type=\"text/css\" href=\"https://cdn.jsdelivr.net/gh/bmabey/pyLDAvis@3.3.1/pyLDAvis/js/ldavis.v1.0.0.css\">\n",
       "\n",
       "\n",
       "<div id=\"ldavis_el2643619292565966404552824868\"></div>\n",
       "<script type=\"text/javascript\">\n",
       "\n",
       "var ldavis_el2643619292565966404552824868_data = {\"mdsDat\": {\"x\": [0.04687204866848021, -0.22993811477690818, 0.18306606610842793], \"y\": [-0.16195640571216993, 0.05340743402836981, 0.10854897168379998], \"topics\": [1, 2, 3], \"cluster\": [1, 1, 1], \"Freq\": [45.25225025993094, 27.601159296206333, 27.14659044386274]}, \"tinfo\": {\"Term\": [\"good\", \"great\", \"benefits\", \"food\", \"work\", \"pay\", \"perks\", \"amazing\", \"salary\", \"free\", \"facebook\", \"like\", \"environment\", \"fast\", \"nice\", \"best\", \"support\", \"people\", \"culture\", \"fb\", \"feel\", \"xd\", \"smart\", \"compensation\", \"interesting\", \"care\", \"love\", \"autonomy\", \"friendly\", \"learn\", \"amazing\", \"interesting\", \"autonomy\", \"challenging\", \"problems\", \"flexible\", \"employee\", \"managers\", \"care\", \"smartest\", \"supportive\", \"huge\", \"hours\", \"opportunity\", \"resources\", \"products\", \"culturexd\", \"industry\", \"talented\", \"impactful\", \"caring\", \"teammates\", \"home\", \"passionate\", \"want\", \"time\", \"peers\", \"best\", \"social\", \"takes\", \"learn\", \"projects\", \"grow\", \"peoplexd\", \"work\", \"ability\", \"xd\", \"make\", \"impact\", \"flexibility\", \"people\", \"smart\", \"place\", \"great\", \"lots\", \"really\", \"incredible\", \"career\", \"company\", \"benefits\", \"lot\", \"culture\", \"employees\", \"working\", \"perks\", \"opportunities\", \"growth\", \"feel\", \"way\", \"love\", \"driven\", \"kind\", \"diverse\", \"values\", \"making\", \"support\", \"ideas\", \"role\", \"process\", \"important\", \"bootcamp\", \"months\", \"decision\", \"change\", \"growing\", \"org\", \"im\", \"feels\", \"highly\", \"use\", \"know\", \"bad\", \"genuinely\", \"taken\", \"authentic\", \"dont\", \"actually\", \"large\", \"like\", \"mission\", \"product\", \"companies\", \"fb\", \"facebook\", \"teams\", \"youre\", \"company\", \"feedback\", \"ive\", \"team\", \"just\", \"better\", \"new\", \"xd\", \"things\", \"lot\", \"employees\", \"open\", \"growth\", \"place\", \"good\", \"salary\", \"competitive\", \"friendly\", \"internal\", \"cool\", \"pace\", \"benefit\", \"atmosphere\", \"decent\", \"pto\", \"mobility\", \"health\", \"bonus\", \"salaryxd\", \"moves\", \"coworkersxd\", \"total\", \"paced\", \"pay\", \"food\", \"mentorship\", \"pays\", \"promotion\", \"provided\", \"autonomyxd\", \"tons\", \"competent\", \"general\", \"reimbursement\", \"game\", \"nice\", \"fast\", \"comp\", \"free\", \"especially\", \"learning\", \"awesome\", \"environment\", \"office\", \"benefits\", \"tools\", \"perks\", \"great\", \"high\", \"culture\", \"compensation\", \"fun\", \"people\", \"balance\", \"coworkers\", \"smart\", \"work\", \"company\", \"working\", \"xd\"], \"Freq\": [585.0, 800.0, 540.0, 228.0, 769.0, 207.0, 326.0, 190.0, 109.0, 162.0, 190.0, 114.0, 158.0, 114.0, 94.0, 161.0, 66.0, 548.0, 358.0, 87.0, 58.0, 591.0, 221.0, 138.0, 93.0, 99.0, 53.0, 84.0, 48.0, 109.0, 189.33263461399454, 92.36967951094918, 84.21270109945947, 64.35300381051152, 58.59558043229679, 59.399364733728056, 50.81019911003413, 43.42378476217473, 97.87992452215066, 32.65706836542242, 35.86385910165466, 32.1843586804627, 32.7611580633006, 86.17460770839853, 45.10890335650053, 36.2433077441452, 25.37593606979139, 27.591717833913087, 31.4192435222851, 26.903126273374546, 21.56912584409393, 20.135878027597514, 19.064322446206322, 16.9907721193794, 48.32556942841961, 62.34281090239306, 21.71763442351019, 154.76352866804575, 23.623076622951263, 20.39778987709082, 104.02964296147246, 86.0513588030406, 41.81550080238403, 32.5426087569074, 671.9376849069703, 29.23960710200316, 449.68464950914534, 67.55406449271858, 124.32065339734254, 51.69754443303061, 371.23527196742197, 162.9727114780258, 103.45427212916123, 433.2865327184877, 103.7104136339033, 100.28079364499787, 51.5237093775135, 81.94543437705471, 193.77570281605531, 230.297816964251, 92.56333175068553, 164.93149704859835, 87.34244030364944, 96.68010245424152, 130.99785145571187, 77.2785579006439, 68.87607566321776, 57.88510183886858, 43.78545284247821, 52.46244863827974, 34.271283026182225, 32.718834589929486, 30.844333406697302, 35.64512616220171, 26.35405031134334, 64.49655668312617, 24.457965361623096, 22.69752115897371, 22.123357581278665, 22.617905852109992, 19.111141206255205, 18.039478152316153, 18.437561380737716, 20.20784073874656, 18.179283512398367, 16.525628753664055, 39.075003749850104, 16.787146698867144, 25.8044082938691, 16.316879138657434, 19.740162147249382, 14.171443737617594, 14.858114503207734, 12.908428133911139, 12.748979538743805, 34.92148110970542, 11.628660676739578, 24.49036215308313, 106.25397396353661, 39.91658264117596, 42.42693710081686, 42.63674734538324, 71.72512941984712, 136.2428226676178, 58.60261110221644, 44.45719448841222, 145.5566605409551, 22.590955619233934, 47.380981101583714, 70.82266493626307, 34.75031908761497, 28.79386160975845, 38.5744677663393, 101.95646171324094, 38.04787111304299, 48.73531007385366, 46.15745697784, 42.25738288266202, 35.62479618919248, 31.999199669917857, 583.8441457345217, 108.96421679173605, 40.32288242579585, 47.55509307218525, 47.494686823276105, 30.723334924309984, 20.0676192897856, 22.540769813335437, 19.68906015717991, 16.692320585140024, 15.456515903648004, 15.954521241076812, 38.485619231010716, 13.240063646803517, 11.162190006072988, 12.158356775823, 11.908646736192992, 12.194707486276885, 28.692576212784516, 194.66397826890162, 214.04682106782928, 11.0631346788491, 8.953499508007408, 11.08226855627896, 8.595636993658443, 9.84053931692047, 32.008548612082684, 9.523340687619326, 10.045137455949632, 7.911617466094834, 8.976209253361608, 82.98276595177175, 100.04064524571567, 35.703404673420124, 130.5835404065199, 14.280053688703084, 48.583984066164334, 55.40171483313862, 112.20518888327219, 31.042816783041477, 310.21203395740685, 42.82019346102434, 194.49369351458975, 366.08880070519933, 54.47851583010526, 164.55118135896555, 77.01651754045436, 39.58792818704935, 149.55714511081356, 47.974279581731714, 42.45670213599301, 57.849603715998164, 85.08071467014499, 68.58826236225471, 43.89858376471561, 39.62045650229981], \"Total\": [585.0, 800.0, 540.0, 228.0, 769.0, 207.0, 326.0, 190.0, 109.0, 162.0, 190.0, 114.0, 158.0, 114.0, 94.0, 161.0, 66.0, 548.0, 358.0, 87.0, 58.0, 591.0, 221.0, 138.0, 93.0, 99.0, 53.0, 84.0, 48.0, 109.0, 190.37672144855048, 93.10977147959163, 84.96407682701336, 65.02322638508723, 59.2656806436797, 60.1669348703852, 51.61850102937189, 44.13903802432187, 99.6648436791095, 33.32306825635523, 36.599221323712676, 32.909189541062325, 33.52550792330012, 88.22329262247942, 46.250812790388714, 37.17524645835842, 26.033665889999988, 28.33830016804687, 32.30740570544322, 27.73956664164306, 22.27374980192757, 20.848326078888938, 19.8058076203115, 17.68117662450627, 50.29194618281425, 64.90227550994274, 22.611800026994366, 161.24035079999373, 24.649446655170852, 21.289570472592157, 109.47366322805281, 90.41890451279258, 43.72710489600729, 33.96665526968128, 769.6878588065746, 30.655989542751666, 591.2615677246861, 76.7075622270217, 150.0833656748225, 57.56815724661155, 548.4304739442205, 221.1718768371664, 135.80450494019996, 800.1010570857122, 139.07700832558598, 137.80780410907795, 60.758962715880884, 118.17203244913249, 407.9206257192651, 540.9820678392349, 143.9123910286216, 358.43990179620295, 133.87861011344802, 158.87019199706486, 326.02888797504687, 119.20447194899084, 132.30597502598897, 58.53053907502338, 44.47239248522781, 53.359855573984596, 34.9450815933181, 33.44431524177725, 31.53811514476071, 36.54530093915771, 27.042412933779257, 66.2252541194771, 25.129665306404004, 23.34997975230426, 22.774191037019058, 23.33990504200361, 19.762320799370226, 18.660250635980287, 19.075160719763865, 20.94193414817765, 18.852830527582448, 17.17083077259811, 40.61352368807593, 17.45276842005062, 26.894729242877098, 17.006433996218277, 20.626486552900822, 14.846725827072762, 15.652146838683503, 13.665822920275382, 13.518308729061133, 37.031333880679064, 12.334633125081211, 26.043718626043603, 114.71101014196105, 44.33778607534338, 47.59917182767814, 48.12152308416828, 87.06681691531688, 190.2205501430383, 72.45498344407753, 60.91392326486981, 407.9206257192651, 26.182636382352698, 85.83243708249279, 166.54992127046486, 52.633116158668244, 39.83738663037553, 71.02511859886869, 591.2615677246861, 74.2830955965657, 143.9123910286216, 133.87861011344802, 116.55197940162506, 132.30597502598897, 135.80450494019996, 585.3667642666614, 109.5994745624854, 40.96954100219555, 48.49458193557362, 48.78349958043282, 31.670398604747355, 20.71568523193155, 23.30973755484152, 20.395479841102816, 17.325691271213234, 16.084511972367483, 16.607970000202336, 40.11557851985599, 13.89493930463, 11.771228849591552, 12.836604141666747, 12.575172561462562, 12.912438169770343, 30.463662887487725, 207.3976585911906, 228.30096262824563, 11.841890252886209, 9.592717114102015, 11.889646503536511, 9.231703768823943, 10.654683866492007, 34.84103891823084, 10.372526148451152, 10.95342346546881, 8.640962364347569, 9.810641702756234, 94.3424661614881, 114.82174643276838, 40.424264983153435, 162.1834529258066, 15.792176062654159, 59.44891298093278, 71.58012644595118, 158.40119246382574, 38.044366419974594, 540.9820678392349, 55.44130298009074, 326.02888797504687, 800.1010570857122, 80.1210005472973, 358.43990179620295, 138.5523122697813, 66.73712213269286, 548.4304739442205, 95.09509635664304, 77.13630526208124, 221.1718768371664, 769.6878588065746, 407.9206257192651, 158.87019199706486, 591.2615677246861], \"Category\": [\"Default\", \"Default\", \"Default\", \"Default\", \"Default\", \"Default\", \"Default\", \"Default\", \"Default\", \"Default\", \"Default\", \"Default\", \"Default\", \"Default\", \"Default\", \"Default\", \"Default\", \"Default\", \"Default\", \"Default\", \"Default\", \"Default\", \"Default\", \"Default\", \"Default\", \"Default\", \"Default\", \"Default\", \"Default\", \"Default\", \"Topic1\", \"Topic1\", \"Topic1\", \"Topic1\", \"Topic1\", \"Topic1\", \"Topic1\", \"Topic1\", \"Topic1\", \"Topic1\", \"Topic1\", \"Topic1\", \"Topic1\", \"Topic1\", \"Topic1\", \"Topic1\", \"Topic1\", \"Topic1\", \"Topic1\", \"Topic1\", \"Topic1\", \"Topic1\", \"Topic1\", \"Topic1\", \"Topic1\", \"Topic1\", \"Topic1\", \"Topic1\", \"Topic1\", \"Topic1\", \"Topic1\", \"Topic1\", \"Topic1\", \"Topic1\", \"Topic1\", \"Topic1\", \"Topic1\", \"Topic1\", \"Topic1\", \"Topic1\", \"Topic1\", \"Topic1\", \"Topic1\", \"Topic1\", \"Topic1\", \"Topic1\", \"Topic1\", \"Topic1\", \"Topic1\", \"Topic1\", \"Topic1\", \"Topic1\", \"Topic1\", \"Topic1\", \"Topic1\", \"Topic1\", \"Topic1\", \"Topic2\", \"Topic2\", \"Topic2\", \"Topic2\", \"Topic2\", \"Topic2\", \"Topic2\", \"Topic2\", \"Topic2\", \"Topic2\", \"Topic2\", \"Topic2\", \"Topic2\", \"Topic2\", \"Topic2\", \"Topic2\", \"Topic2\", \"Topic2\", \"Topic2\", \"Topic2\", \"Topic2\", \"Topic2\", \"Topic2\", \"Topic2\", \"Topic2\", \"Topic2\", \"Topic2\", \"Topic2\", \"Topic2\", \"Topic2\", \"Topic2\", \"Topic2\", \"Topic2\", \"Topic2\", \"Topic2\", \"Topic2\", \"Topic2\", \"Topic2\", \"Topic2\", \"Topic2\", \"Topic2\", \"Topic2\", \"Topic2\", \"Topic2\", \"Topic2\", \"Topic2\", \"Topic2\", \"Topic2\", \"Topic2\", \"Topic2\", \"Topic2\", \"Topic2\", \"Topic2\", \"Topic3\", \"Topic3\", \"Topic3\", \"Topic3\", \"Topic3\", \"Topic3\", \"Topic3\", \"Topic3\", \"Topic3\", \"Topic3\", \"Topic3\", \"Topic3\", \"Topic3\", \"Topic3\", \"Topic3\", \"Topic3\", \"Topic3\", \"Topic3\", \"Topic3\", \"Topic3\", \"Topic3\", \"Topic3\", \"Topic3\", \"Topic3\", \"Topic3\", \"Topic3\", \"Topic3\", \"Topic3\", \"Topic3\", \"Topic3\", \"Topic3\", \"Topic3\", \"Topic3\", \"Topic3\", \"Topic3\", \"Topic3\", \"Topic3\", \"Topic3\", \"Topic3\", \"Topic3\", \"Topic3\", \"Topic3\", \"Topic3\", \"Topic3\", \"Topic3\", \"Topic3\", \"Topic3\", \"Topic3\", \"Topic3\", \"Topic3\", \"Topic3\", \"Topic3\", \"Topic3\", \"Topic3\", \"Topic3\", \"Topic3\"], \"logprob\": [30.0, 29.0, 28.0, 27.0, 26.0, 25.0, 24.0, 23.0, 22.0, 21.0, 20.0, 19.0, 18.0, 17.0, 16.0, 15.0, 14.0, 13.0, 12.0, 11.0, 10.0, 9.0, 8.0, 7.0, 6.0, 5.0, 4.0, 3.0, 2.0, 1.0, -4.0645, -4.7822, -4.8747, -5.1436, -5.2374, -5.2237, -5.3799, -5.537, -4.7243, -5.822, -5.7283, -5.8365, -5.8188, -4.8517, -5.4989, -5.7178, -6.0742, -5.9905, -5.8606, -6.0158, -6.2368, -6.3055, -6.3602, -6.4754, -5.4301, -5.1754, -6.2299, -4.2661, -6.1458, -6.2926, -4.6634, -4.8531, -5.5748, -5.8255, -2.7979, -5.9325, -3.1995, -5.0951, -4.4852, -5.3626, -3.3912, -4.2144, -4.6689, -3.2366, -4.6664, -4.7001, -5.366, -4.902, -4.0413, -3.8687, -4.7801, -4.2025, -4.8382, -4.7366, -4.4328, -4.9606, -5.0757, -4.7552, -5.0343, -4.8535, -5.2793, -5.3257, -5.3847, -5.24, -5.542, -4.647, -5.6167, -5.6914, -5.717, -5.6949, -5.8634, -5.9211, -5.8992, -5.8076, -5.9133, -6.0087, -5.1481, -5.993, -5.5631, -6.0214, -5.831, -6.1624, -6.1151, -6.2558, -6.2682, -5.2605, -6.3602, -5.6154, -4.1478, -5.1268, -5.0658, -5.0609, -4.5408, -3.8992, -4.7429, -5.0191, -3.8331, -5.6961, -4.9554, -4.5535, -5.2654, -5.4535, -5.161, -4.1891, -5.1748, -4.9272, -4.9816, -5.0699, -5.2406, -5.3479, -2.4274, -4.106, -5.1001, -4.9351, -4.9364, -5.372, -5.7979, -5.6817, -5.817, -5.9821, -6.059, -6.0273, -5.1467, -6.2138, -6.3845, -6.299, -6.3198, -6.296, -5.4404, -3.5258, -3.4308, -6.3934, -6.605, -6.3917, -6.6458, -6.5105, -5.331, -6.5433, -6.4899, -6.7287, -6.6024, -4.3784, -4.1914, -5.2218, -3.925, -6.1382, -4.9137, -4.7824, -4.0767, -5.3617, -3.0598, -5.04, -3.5266, -2.8941, -4.7992, -3.6938, -4.453, -5.1185, -3.7893, -4.9264, -5.0485, -4.7392, -4.3534, -4.5689, -5.0151, -5.1177], \"loglift\": [30.0, 29.0, 28.0, 27.0, 26.0, 25.0, 24.0, 23.0, 22.0, 21.0, 20.0, 19.0, 18.0, 17.0, 16.0, 15.0, 14.0, 13.0, 12.0, 11.0, 10.0, 9.0, 8.0, 7.0, 6.0, 5.0, 4.0, 3.0, 2.0, 1.0, 0.7874, 0.7849, 0.784, 0.7826, 0.7815, 0.7801, 0.7771, 0.7766, 0.7748, 0.7727, 0.7726, 0.7706, 0.7699, 0.7694, 0.7679, 0.7675, 0.7673, 0.7662, 0.765, 0.7623, 0.7608, 0.7581, 0.7548, 0.7531, 0.753, 0.7527, 0.7526, 0.7519, 0.7504, 0.7501, 0.7419, 0.7434, 0.7482, 0.7501, 0.6571, 0.7456, 0.5192, 0.6658, 0.6046, 0.6854, 0.4027, 0.4876, 0.5208, 0.1796, 0.4995, 0.475, 0.628, 0.4268, 0.0485, -0.0611, 0.3516, 0.0167, 0.3658, 0.2962, -0.1189, 0.3595, 0.1401, 1.2762, 1.2717, 1.2704, 1.2678, 1.2654, 1.2651, 1.2624, 1.2615, 1.2609, 1.2602, 1.259, 1.2583, 1.2559, 1.2538, 1.2535, 1.2533, 1.2516, 1.2509, 1.249, 1.2487, 1.2484, 1.2459, 1.2459, 1.2434, 1.2408, 1.2353, 1.2303, 1.2287, 1.2287, 1.2284, 1.2258, 1.2107, 1.1823, 1.1723, 1.1663, 1.0935, 0.9536, 1.0751, 0.9724, 0.2568, 1.1398, 0.6931, 0.4322, 0.8722, 0.9627, 0.6769, -0.4704, 0.6183, 0.2045, 0.2224, 0.2728, -0.0248, -0.1582, 1.3013, 1.2981, 1.288, 1.2844, 1.2771, 1.2736, 1.2721, 1.2704, 1.2687, 1.2667, 1.2641, 1.2638, 1.2624, 1.2556, 1.2508, 1.2496, 1.2495, 1.2467, 1.244, 1.2406, 1.2394, 1.2359, 1.235, 1.2336, 1.2325, 1.2244, 1.2191, 1.2185, 1.2174, 1.2157, 1.215, 1.1756, 1.1661, 1.1797, 1.0872, 1.2033, 1.1021, 1.0477, 0.9591, 1.1005, 0.7478, 1.0456, 0.7873, 0.5221, 0.9182, 0.5254, 0.7167, 0.7817, 0.0045, 0.6197, 0.7068, -0.0372, -0.8985, -0.479, 0.0177, -1.399]}, \"token.table\": {\"Topic\": [1, 2, 2, 1, 3, 3, 2, 1, 3, 1, 3, 2, 1, 3, 3, 1, 3, 1, 2, 3, 1, 2, 3, 3, 2, 1, 2, 1, 2, 3, 1, 1, 2, 1, 3, 1, 2, 3, 1, 2, 3, 1, 2, 3, 3, 3, 2, 3, 1, 3, 3, 1, 2, 3, 1, 3, 2, 2, 1, 2, 3, 2, 1, 1, 2, 1, 3, 1, 3, 1, 2, 1, 2, 3, 1, 2, 3, 1, 2, 2, 2, 1, 2, 3, 1, 1, 2, 3, 1, 2, 3, 1, 3, 1, 2, 3, 3, 3, 2, 1, 2, 3, 1, 2, 3, 1, 2, 3, 2, 1, 2, 3, 1, 3, 2, 3, 1, 2, 1, 1, 1, 2, 1, 2, 3, 1, 2, 3, 1, 2, 2, 1, 2, 1, 1, 2, 3, 1, 2, 1, 2, 3, 2, 2, 1, 2, 1, 2, 1, 2, 3, 1, 2, 3, 1, 2, 3, 1, 3, 1, 2, 1, 2, 3, 2, 1, 3, 1, 2, 3, 2, 3, 1, 2, 3, 1, 3, 1, 2, 3, 1, 2, 3, 1, 2, 3, 1, 2, 2, 3, 1, 3, 1, 1, 3, 3, 1, 2, 1, 2, 3, 1, 2, 1, 2, 3, 1, 2, 1, 2, 1, 2, 1, 2, 1, 2, 3, 3, 3, 3, 1, 2, 3, 3, 1, 3, 2, 3, 3, 1, 3, 1, 1, 2, 1, 2, 1, 2, 1, 2, 1, 1, 2, 3, 1, 1, 2, 3, 1, 2, 3, 1, 2, 3, 1, 2, 3, 1, 2, 3, 3, 2, 1, 2, 1, 2, 2, 1, 2, 3, 1, 2, 3, 1, 2, 3, 1, 2], \"Freq\": [0.9459815335452706, 0.0326200528808714, 0.9728704435966751, 0.9927684359827441, 0.005252743047527746, 0.9806094367877627, 0.9616587592834825, 0.9886531242024059, 0.9385543602517454, 0.2235257297579839, 0.7683696960430697, 0.9429688513861574, 0.4942420987064569, 0.5047578880406368, 0.9867120960022484, 0.4251527244122068, 0.5730319329034091, 0.9612978341399516, 0.018605764531741, 0.018605764531741, 0.10040819286448995, 0.7279593982675522, 0.17571433751285742, 0.9355924279329674, 0.9614255427229721, 0.9832955772802917, 0.010033628339594813, 0.6939036106982179, 0.24540493549083314, 0.05923567408399421, 0.9877097568051214, 0.9842636786580325, 0.9550216259151203, 0.09895046951792384, 0.8905542256613146, 0.08312288854622679, 0.8935710518719381, 0.020780722136556698, 0.47558271822595377, 0.35791276732468685, 0.16915055442057117, 0.440266921574172, 0.007217490517609377, 0.5557467698559221, 0.9640853015823172, 0.9763350777558482, 0.03157522620666041, 0.9788320124064728, 0.440778176819337, 0.5444906890121222, 0.9542612589488262, 0.4603282145016699, 0.08090617103362682, 0.4603282145016699, 0.9602950312734466, 0.9812018310776222, 0.9436355616836357, 0.9829376250834665, 0.02700415824129267, 0.9451455384452434, 0.02700415824129267, 0.9729552328903759, 0.9880178421101389, 0.6498424201317646, 0.34359484282828934, 0.2904018542064011, 0.7070653841547156, 0.06332249564800838, 0.8865149390721172, 0.2838810000254659, 0.7149595556196919, 0.00870915162909084, 0.11321897117818092, 0.8709151629090839, 0.1722814791149346, 0.8269510997516861, 0.01148543194099564, 0.11457975263415504, 0.8784447701951886, 0.9909356878749512, 0.9740575014144772, 0.9032771324821364, 0.034741428172389864, 0.05211214225858479, 0.9806050470595008, 0.05694237926262527, 0.004380183020201944, 0.9373591663232159, 0.1911415711082526, 0.006165857132524277, 0.8077272843606804, 0.020620860312364944, 0.9898012949935173, 0.3895882706524926, 0.0149841642558651, 0.599366570234604, 0.917371184544586, 0.9129565775965366, 0.9583349910140279, 0.0017083306758161863, 0.0017083306758161863, 0.9976651146766529, 0.5411816372011293, 0.001249842118247412, 0.4574422152785528, 0.9605026470397542, 0.02286911064380367, 0.02286911064380367, 0.9547637938857657, 0.5215183969314029, 0.272096554920732, 0.21163065382723598, 0.024927971548634915, 0.9472629188481267, 0.31202805543150847, 0.6739805997320583, 0.037182006592047914, 0.9667321713932457, 0.9593145790487675, 0.9843251316429753, 0.9723727763052965, 0.9550465438902555, 0.024622340274641042, 0.9602712707110007, 0.024622340274641042, 0.8262074843701472, 0.03997778150178132, 0.1332592716726044, 0.9733389259033048, 0.03604958984827055, 0.9854367427205937, 0.8558408122133476, 0.14812629442154093, 0.988062086785702, 0.9880810417429188, 0.02049873437946429, 0.9634405158348217, 0.4427230694088127, 0.547578533216163, 0.2659922311609953, 0.6649805779024882, 0.07599778033171294, 0.9867147753343077, 0.9696270835416362, 0.03839697450117605, 0.9215273880282252, 0.9500001820835189, 0.04567308567709225, 0.16821165431918542, 0.01682116543191854, 0.8242371061640086, 0.008717559009919327, 0.9240612550514488, 0.061022913069435296, 0.6462264947116607, 0.3404849273211976, 0.02084601595844067, 0.7477871522554683, 0.25165913777828264, 0.01874068040932904, 0.97451538128511, 0.8864836533163312, 0.10429219450780366, 0.013036524313475458, 0.9614526656207828, 0.9741943169741437, 0.9289057544946411, 0.09021650276364236, 0.9021650276364236, 0.9633928770226025, 0.9646172686069282, 0.9348266774893224, 0.35198814860406596, 0.5491015118223429, 0.09855668160913847, 0.11659648562897491, 0.8797734824731743, 0.10514040254590397, 0.07885530190942797, 0.8148381197307557, 0.34319451463080247, 0.3603542403623426, 0.2917153374361821, 0.6459489207162405, 0.2432794636463763, 0.10905631128975489, 0.9747992558836676, 0.02266975013682948, 0.9900511061543552, 0.9654520126214132, 0.03282599350226948, 0.9519538115658149, 0.9614744742970242, 0.05785986245704758, 0.9402227649270231, 0.9382117592907356, 0.9729433293119527, 0.044224696786906936, 0.6764759028283566, 0.051054785119121246, 0.27350777742386384, 0.9715410521876106, 0.029440637945079107, 0.40180488549231347, 0.0030672128663535377, 0.5950392960725863, 0.7584431756910783, 0.23563283128266513, 0.9955171249061149, 0.9660057722462843, 0.10504384442026325, 0.8823682931302113, 0.9683863169629591, 0.026899619915637753, 0.9511285329478042, 0.02211926820808847, 0.033178902312132705, 0.9251746884760711, 0.9749012994105789, 0.9325741449768181, 0.7256483088638999, 0.15238614486141897, 0.11610372941822397, 0.9258228033729013, 0.9729558743960356, 0.021621241653245235, 0.9850115607800592, 0.99453031536074, 0.9344818744545679, 0.7369833919707869, 0.26223948916751927, 0.9903049667014497, 0.9736526882628981, 0.04056886201095408, 0.015099979808245028, 0.9663987077276818, 0.9836274843551265, 0.9512782417744101, 0.939427125866521, 0.04697135629332605, 0.9595323215561394, 0.36025234681777124, 0.4262986104010293, 0.21615140809066274, 0.9593096311100029, 0.11041338524595191, 0.8142987161888954, 0.08281003893446394, 0.4711704556590684, 0.51155649471556, 0.013462013018830526, 0.9552823766633864, 0.030815560537528593, 0.015407780268764297, 0.05740356952884905, 0.028701784764424525, 0.9184571124615848, 0.036074188240456946, 0.18037094120228472, 0.7755950471698243, 0.9293364926303015, 0.9408203979480897, 0.0273632990918544, 0.9850787673067584, 0.9544271726036831, 0.039767798858486796, 0.989377848619574, 0.8730812007895737, 0.01688996370575068, 0.11043437807606216, 0.6105613569208256, 0.11330004561417381, 0.2769556670568693, 0.7610844752377633, 0.17251248105389302, 0.06765195335446786, 0.26266572800487303, 0.7223307520134008], \"Term\": [\"ability\", \"ability\", \"actually\", \"amazing\", \"amazing\", \"atmosphere\", \"authentic\", \"autonomy\", \"autonomyxd\", \"awesome\", \"awesome\", \"bad\", \"balance\", \"balance\", \"benefit\", \"benefits\", \"benefits\", \"best\", \"best\", \"best\", \"better\", \"better\", \"better\", \"bonus\", \"bootcamp\", \"care\", \"care\", \"career\", \"career\", \"career\", \"caring\", \"challenging\", \"change\", \"comp\", \"comp\", \"companies\", \"companies\", \"companies\", \"company\", \"company\", \"company\", \"compensation\", \"compensation\", \"compensation\", \"competent\", \"competitive\", \"cool\", \"cool\", \"coworkers\", \"coworkers\", \"coworkersxd\", \"culture\", \"culture\", \"culture\", \"culturexd\", \"decent\", \"decision\", \"diverse\", \"dont\", \"dont\", \"dont\", \"driven\", \"employee\", \"employees\", \"employees\", \"environment\", \"environment\", \"especially\", \"especially\", \"facebook\", \"facebook\", \"fast\", \"fast\", \"fast\", \"fb\", \"fb\", \"fb\", \"feedback\", \"feedback\", \"feel\", \"feels\", \"flexibility\", \"flexibility\", \"flexibility\", \"flexible\", \"food\", \"food\", \"food\", \"free\", \"free\", \"free\", \"friendly\", \"friendly\", \"fun\", \"fun\", \"fun\", \"game\", \"general\", \"genuinely\", \"good\", \"good\", \"good\", \"great\", \"great\", \"great\", \"grow\", \"grow\", \"grow\", \"growing\", \"growth\", \"growth\", \"growth\", \"health\", \"health\", \"high\", \"high\", \"highly\", \"highly\", \"home\", \"hours\", \"huge\", \"ideas\", \"im\", \"im\", \"im\", \"impact\", \"impact\", \"impact\", \"impactful\", \"impactful\", \"important\", \"incredible\", \"incredible\", \"industry\", \"interesting\", \"internal\", \"internal\", \"ive\", \"ive\", \"just\", \"just\", \"just\", \"kind\", \"know\", \"large\", \"large\", \"learn\", \"learn\", \"learning\", \"learning\", \"learning\", \"like\", \"like\", \"like\", \"lot\", \"lot\", \"lot\", \"lots\", \"lots\", \"love\", \"love\", \"make\", \"make\", \"make\", \"making\", \"managers\", \"mentorship\", \"mission\", \"mission\", \"mobility\", \"months\", \"moves\", \"new\", \"new\", \"new\", \"nice\", \"nice\", \"office\", \"office\", \"office\", \"open\", \"open\", \"open\", \"opportunities\", \"opportunities\", \"opportunities\", \"opportunity\", \"opportunity\", \"org\", \"pace\", \"paced\", \"paced\", \"passionate\", \"pay\", \"pay\", \"pays\", \"peers\", \"peers\", \"people\", \"people\", \"people\", \"peoplexd\", \"peoplexd\", \"perks\", \"perks\", \"perks\", \"place\", \"place\", \"problems\", \"process\", \"product\", \"product\", \"products\", \"products\", \"projects\", \"projects\", \"projects\", \"promotion\", \"provided\", \"pto\", \"really\", \"really\", \"really\", \"reimbursement\", \"resources\", \"resources\", \"role\", \"salary\", \"salaryxd\", \"smart\", \"smart\", \"smartest\", \"social\", \"social\", \"support\", \"support\", \"supportive\", \"taken\", \"takes\", \"takes\", \"talented\", \"team\", \"team\", \"team\", \"teammates\", \"teams\", \"teams\", \"teams\", \"things\", \"things\", \"things\", \"time\", \"time\", \"time\", \"tons\", \"tons\", \"tons\", \"tools\", \"tools\", \"tools\", \"total\", \"use\", \"values\", \"values\", \"want\", \"want\", \"way\", \"work\", \"work\", \"work\", \"working\", \"working\", \"working\", \"xd\", \"xd\", \"xd\", \"youre\", \"youre\"]}, \"R\": 30, \"lambda.step\": 0.01, \"plot.opts\": {\"xlab\": \"PC1\", \"ylab\": \"PC2\"}, \"topic.order\": [3, 1, 2]};\n",
       "\n",
       "function LDAvis_load_lib(url, callback){\n",
       "  var s = document.createElement('script');\n",
       "  s.src = url;\n",
       "  s.async = true;\n",
       "  s.onreadystatechange = s.onload = callback;\n",
       "  s.onerror = function(){console.warn(\"failed to load library \" + url);};\n",
       "  document.getElementsByTagName(\"head\")[0].appendChild(s);\n",
       "}\n",
       "\n",
       "if(typeof(LDAvis) !== \"undefined\"){\n",
       "   // already loaded: just create the visualization\n",
       "   !function(LDAvis){\n",
       "       new LDAvis(\"#\" + \"ldavis_el2643619292565966404552824868\", ldavis_el2643619292565966404552824868_data);\n",
       "   }(LDAvis);\n",
       "}else if(typeof define === \"function\" && define.amd){\n",
       "   // require.js is available: use it to load d3/LDAvis\n",
       "   require.config({paths: {d3: \"https://d3js.org/d3.v5\"}});\n",
       "   require([\"d3\"], function(d3){\n",
       "      window.d3 = d3;\n",
       "      LDAvis_load_lib(\"https://cdn.jsdelivr.net/gh/bmabey/pyLDAvis@3.3.1/pyLDAvis/js/ldavis.v3.0.0.js\", function(){\n",
       "        new LDAvis(\"#\" + \"ldavis_el2643619292565966404552824868\", ldavis_el2643619292565966404552824868_data);\n",
       "      });\n",
       "    });\n",
       "}else{\n",
       "    // require.js not available: dynamically load d3 & LDAvis\n",
       "    LDAvis_load_lib(\"https://d3js.org/d3.v5.js\", function(){\n",
       "         LDAvis_load_lib(\"https://cdn.jsdelivr.net/gh/bmabey/pyLDAvis@3.3.1/pyLDAvis/js/ldavis.v3.0.0.js\", function(){\n",
       "                 new LDAvis(\"#\" + \"ldavis_el2643619292565966404552824868\", ldavis_el2643619292565966404552824868_data);\n",
       "            })\n",
       "         });\n",
       "}\n",
       "</script>"
      ],
      "text/plain": [
       "PreparedData(topic_coordinates=              x         y  topics  cluster       Freq\n",
       "topic                                                \n",
       "2      0.046872 -0.161956       1        1  45.252250\n",
       "0     -0.229938  0.053407       2        1  27.601159\n",
       "1      0.183066  0.108549       3        1  27.146590, topic_info=          Term        Freq       Total Category  logprob  loglift\n",
       "658       good  585.000000  585.000000  Default  30.0000  30.0000\n",
       "667      great  800.000000  800.000000  Default  29.0000  29.0000\n",
       "118   benefits  540.000000  540.000000  Default  28.0000  28.0000\n",
       "609       food  228.000000  228.000000  Default  27.0000  27.0000\n",
       "1694      work  769.000000  769.000000  Default  26.0000  26.0000\n",
       "...        ...         ...         ...      ...      ...      ...\n",
       "1404     smart   57.849604  221.171877   Topic3  -4.7392  -0.0372\n",
       "1694      work   85.080715  769.687859   Topic3  -4.3534  -0.8985\n",
       "254    company   68.588262  407.920626   Topic3  -4.5689  -0.4790\n",
       "1700   working   43.898584  158.870192   Topic3  -5.0151   0.0177\n",
       "1718        xd   39.620457  591.261568   Topic3  -5.1177  -1.3990\n",
       "\n",
       "[196 rows x 6 columns], token_table=      Topic      Freq      Term\n",
       "term                           \n",
       "0         1  0.945982   ability\n",
       "0         2  0.032620   ability\n",
       "18        2  0.972870  actually\n",
       "44        1  0.992768   amazing\n",
       "44        3  0.005253   amazing\n",
       "...     ...       ...       ...\n",
       "1718      1  0.761084        xd\n",
       "1718      2  0.172512        xd\n",
       "1718      3  0.067652        xd\n",
       "1727      1  0.262666     youre\n",
       "1727      2  0.722331     youre\n",
       "\n",
       "[278 rows x 3 columns], R=30, lambda_step=0.01, plot_opts={'xlab': 'PC1', 'ylab': 'PC2'}, topic_order=[3, 1, 2])"
      ]
     },
     "execution_count": 32,
     "metadata": {},
     "output_type": "execute_result"
    }
   ],
   "source": [
    "################\n",
    "## Evaluate this\n",
    "################ \n",
    "\n",
    "pyLDAvis.sklearn.prepare(lda_pros, tf_pros, vec_pros, n_jobs=1)"
   ]
  },
  {
   "cell_type": "markdown",
   "id": "18de7f2e",
   "metadata": {},
   "source": [
    "### Cons"
   ]
  },
  {
   "cell_type": "code",
   "execution_count": 33,
   "id": "095c1aa2",
   "metadata": {},
   "outputs": [
    {
     "data": {
      "text/html": [
       "\n",
       "<link rel=\"stylesheet\" type=\"text/css\" href=\"https://cdn.jsdelivr.net/gh/bmabey/pyLDAvis@3.3.1/pyLDAvis/js/ldavis.v1.0.0.css\">\n",
       "\n",
       "\n",
       "<div id=\"ldavis_el264361929256596528864864395\"></div>\n",
       "<script type=\"text/javascript\">\n",
       "\n",
       "var ldavis_el264361929256596528864864395_data = {\"mdsDat\": {\"x\": [-0.09319721728304409, -0.12292444847047038, 0.2161216657535144], \"y\": [0.1593453754098272, -0.1453741289783587, -0.013971246431468508], \"topics\": [1, 2, 3], \"cluster\": [1, 1, 1], \"Freq\": [45.50936819340276, 33.33866062667233, 21.151971179924907]}, \"tinfo\": {\"Term\": [\"work\", \"balance\", \"life\", \"cons\", \"lot\", \"worklife\", \"hard\", \"xd\", \"performance\", \"environment\", \"hours\", \"long\", \"lots\", \"really\", \"pressure\", \"big\", \"think\", \"high\", \"time\", \"employees\", \"growth\", \"challenging\", \"stressful\", \"good\", \"managers\", \"impact\", \"facebook\", \"expectations\", \"role\", \"bit\", \"big\", \"bit\", \"getting\", \"political\", \"pace\", \"tools\", \"way\", \"thing\", \"middle\", \"processes\", \"support\", \"care\", \"busy\", \"end\", \"decisions\", \"direction\", \"moves\", \"products\", \"day\", \"right\", \"makes\", \"communication\", \"remote\", \"didnt\", \"best\", \"person\", \"open\", \"offices\", \"told\", \"share\", \"job\", \"means\", \"real\", \"stress\", \"facebook\", \"xd\", \"like\", \"just\", \"feel\", \"things\", \"people\", \"dont\", \"make\", \"know\", \"company\", \"time\", \"team\", \"great\", \"management\", \"difficult\", \"working\", \"really\", \"work\", \"fast\", \"teams\", \"culture\", \"place\", \"need\", \"experience\", \"little\", \"manager\", \"performance\", \"environment\", \"lots\", \"expectations\", \"wlb\", \"pay\", \"making\", \"grow\", \"level\", \"hiring\", \"stressful\", \"reorgs\", \"decision\", \"competition\", \"toxic\", \"easy\", \"pains\", \"career\", \"employees\", \"food\", \"inexperienced\", \"business\", \"size\", \"perform\", \"bureaucracy\", \"salary\", \"starting\", \"depends\", \"syndrome\", \"clear\", \"role\", \"limited\", \"growth\", \"process\", \"huge\", \"needs\", \"reviews\", \"politics\", \"project\", \"cycle\", \"diversity\", \"managers\", \"thats\", \"paced\", \"review\", \"high\", \"growing\", \"bad\", \"think\", \"fast\", \"company\", \"youre\", \"good\", \"competitive\", \"leadership\", \"culture\", \"management\", \"xd\", \"people\", \"hard\", \"team\", \"lot\", \"balance\", \"life\", \"worklife\", \"cons\", \"challenging\", \"commute\", \"menlo\", \"park\", \"tough\", \"area\", \"demanding\", \"public\", \"mind\", \"location\", \"information\", \"challenge\", \"psc\", \"bay\", \"traffic\", \"sf\", \"hours\", \"na\", \"scrutiny\", \"external\", \"parking\", \"expensive\", \"crowded\", \"deadlines\", \"understand\", \"technology\", \"workload\", \"long\", \"work\", \"driven\", \"peer\", \"lot\", \"pressure\", \"far\", \"hard\", \"depending\", \"poor\", \"impact\", \"really\", \"good\", \"time\", \"think\", \"working\", \"high\", \"bad\", \"teams\", \"need\", \"culture\", \"company\"], \"Freq\": [547.0, 238.0, 177.0, 94.0, 147.0, 83.0, 143.0, 415.0, 86.0, 83.0, 62.0, 69.0, 73.0, 114.0, 72.0, 94.0, 101.0, 111.0, 135.0, 61.0, 63.0, 36.0, 57.0, 145.0, 79.0, 95.0, 171.0, 44.0, 50.0, 64.0, 93.4471293197591, 63.620646835366806, 48.796446680707696, 35.35659272416641, 32.91536708179319, 29.548193490434016, 36.08313042924408, 34.65431361433214, 24.785485726457413, 26.8779322739469, 28.932467768102352, 25.207980098579817, 25.275988123921067, 25.322643286358158, 31.408631203296668, 23.80522451871366, 24.10255660992303, 21.6525253648941, 21.275570387301265, 21.108269066803203, 22.3293570138205, 18.763682307745682, 19.10961679919659, 17.597916389562737, 34.46754361585802, 17.465763351355196, 34.56928851714702, 17.611019927885664, 15.94968445270176, 16.62247366281632, 64.0168945090675, 50.18147329095094, 23.897861029987844, 21.368239174239235, 150.00656937813616, 335.168518626835, 136.7277835383161, 72.92732179627409, 66.6545930961363, 85.06159460465909, 177.4460957317899, 92.28698827622502, 64.78938257680024, 36.86969581942545, 192.11717551158935, 87.782580249537, 94.96875418909026, 62.9784494836991, 77.50175820102548, 46.347625222588256, 61.44813769281686, 60.73874164921103, 131.3144189687381, 67.42092395924676, 55.45466518991387, 61.98634481883986, 41.807558687295156, 47.089499696726705, 38.7358924090754, 39.91364197861926, 39.299496810067524, 86.1354564121754, 82.56706394721404, 72.91227915191143, 44.09577522342148, 34.74022118070883, 30.18514830422082, 29.7749594913016, 23.54677738889861, 38.02844370606288, 20.689587764756727, 55.20951230133664, 17.05948512572479, 19.913195033812613, 17.553892724538244, 29.100275406245714, 23.409654141346937, 14.739837833062957, 40.667648196198776, 59.02917613401769, 14.417466473968474, 14.104102190266163, 29.135325100264453, 14.812952266658078, 14.343919391910806, 14.285235009163223, 12.910263457849952, 13.641925395018255, 13.20970657162969, 13.445851406582447, 13.729483338070763, 47.58279552241589, 20.302156580457424, 59.43709665326841, 47.234486225643494, 19.37043302149999, 18.928474776968333, 35.23381318329785, 47.10787111250199, 29.699146304039868, 24.87617409042417, 22.841912816070938, 64.8561701909482, 27.023312235699184, 27.354119979278796, 45.07806733308932, 72.89374653943736, 39.42149861894741, 77.7475551474656, 62.663631693542776, 76.73043293382611, 132.89715027555772, 49.64956238850904, 65.16284409086012, 35.66656146703152, 42.13040582803081, 60.581069071089104, 50.60723328966429, 73.50235475568104, 58.004753655728685, 45.043706438568194, 44.05184316663145, 36.1589768289135, 237.7879056688928, 176.42005187198689, 82.4463444597189, 93.17134633394929, 35.530913998453286, 27.525475595784886, 23.282166554124256, 23.15463779979323, 26.692982551729905, 18.211430787694038, 15.181779619480482, 15.332566732837456, 13.315080313562028, 11.90280834871542, 12.515303407704662, 13.606666863198464, 16.9309889966644, 9.281241185993332, 9.367582122388729, 9.229719670815461, 58.48831981473095, 8.027875882538671, 8.75178226252113, 10.809361290915362, 8.495538069280014, 8.358362476364366, 7.749113876335221, 10.696358999446558, 9.456109737846361, 8.756342238342752, 18.002307614575184, 58.07776908878996, 403.1149102229316, 19.366013751885344, 15.933606014598988, 107.28432357981059, 54.13327615664798, 24.389323846040636, 96.71730424697098, 24.07137601264209, 31.646833450647833, 48.8782273996991, 53.16542507325744, 54.9675697360334, 45.00482521801076, 38.43012593948678, 40.76454209357105, 36.72319687328592, 32.88342601266445, 27.71646586805022, 25.265235653629247, 28.575224485840376, 25.684151096893718], \"Total\": [547.0, 238.0, 177.0, 94.0, 147.0, 83.0, 143.0, 415.0, 86.0, 83.0, 62.0, 69.0, 73.0, 114.0, 72.0, 94.0, 101.0, 111.0, 135.0, 61.0, 63.0, 36.0, 57.0, 145.0, 79.0, 95.0, 171.0, 44.0, 50.0, 64.0, 94.12111044847464, 64.42176317508596, 49.43427785494733, 36.00863201927206, 33.57942763495114, 30.164712265298284, 36.92585658545546, 35.48027545517769, 25.438249361727888, 27.587723040652836, 29.697392004601785, 25.877156817528245, 25.97716258547917, 26.033475127278333, 32.301908566542274, 24.483610028522182, 24.79549030859494, 22.295010201420748, 21.91383200793603, 21.782385566749277, 23.07614400322243, 19.42839075619225, 19.789017551767206, 18.23687694421487, 35.742128981575746, 18.12413766611277, 35.878325724572434, 18.28673614779696, 16.578730922130198, 17.29094790948401, 66.8994385076247, 52.397480030108184, 24.988794072307407, 22.29296581009286, 171.9993377113632, 415.10625436430183, 160.2541909951446, 85.08926924654152, 77.42394901124328, 101.99043761003362, 246.4864549837997, 125.00331665338094, 82.98461315916678, 42.54616543373121, 350.6984768840408, 135.06345383747174, 156.92973080758478, 92.90122311600946, 128.421393846086, 66.44621276231018, 115.68167088640949, 114.74385226635698, 547.1779684979984, 145.14493026318164, 103.44594486113536, 151.14263837576934, 57.50513367313848, 84.00408609992014, 50.419874776811255, 63.024562196411225, 75.58775639189251, 86.90692162169175, 83.55272599605846, 73.8473112711255, 44.852051510789735, 35.46212646522151, 30.82421892317024, 30.517576802571618, 24.17858397238641, 39.06347707853774, 21.341091447780606, 57.10832635962969, 17.697950728655176, 20.668382853614826, 18.226724938400675, 30.229247571062437, 24.32354074121232, 15.342011382847222, 42.38277794268563, 61.54843700810723, 15.043888263093882, 14.725165215571256, 30.43624008005534, 15.481151961734904, 15.010052178601555, 14.969765040738114, 13.530596007969075, 14.305750432304603, 13.870571900776838, 14.128044984809732, 14.472704321991142, 50.33088987675796, 21.404262349528995, 63.45444684950667, 50.645757999681386, 20.471158319471083, 20.00503648611771, 38.42207157979328, 52.3820057924344, 32.8694122573525, 27.19711898024301, 24.798414837358862, 79.4029481408117, 29.908443588552455, 30.418755240137795, 57.27472470037792, 111.89792300685116, 50.69844506125162, 135.5207447121136, 101.78646251804082, 145.14493026318164, 350.6984768840408, 88.88044622329745, 145.08596127584866, 49.78591338212948, 69.90890020670072, 151.14263837576934, 128.421393846086, 415.10625436430183, 246.4864549837997, 143.64719476673488, 156.92973080758478, 147.82155888294187, 238.5219222526373, 177.15200195035493, 83.27099954521928, 94.26675513597712, 36.281908741710836, 28.189753578237603, 23.914880541237245, 23.795567653253496, 27.43424860513907, 18.887842178101085, 15.794023511174817, 16.03111763221593, 14.006798441278395, 12.534531787641548, 13.20313662535837, 14.477392393925843, 18.06769417573445, 9.905278599130488, 10.003672826854467, 9.862273130463768, 62.563082886561254, 8.627532864437015, 9.411125510697584, 11.630391395214906, 9.156163353388061, 9.033360492821233, 8.385125813873893, 11.584861539488376, 10.266587785378071, 9.520927627993352, 19.75522519119793, 69.17316151418547, 547.1779684979984, 22.296736328898433, 18.04890135655828, 147.82155888294187, 72.54598829760089, 29.637660528952317, 143.64719476673488, 30.766665061032036, 50.329018305079074, 95.32070738342873, 114.74385226635698, 145.08596127584866, 135.06345383747174, 101.78646251804082, 115.68167088640949, 111.89792300685116, 135.5207447121136, 103.44594486113536, 84.00408609992014, 151.14263837576934, 350.6984768840408], \"Category\": [\"Default\", \"Default\", \"Default\", \"Default\", \"Default\", \"Default\", \"Default\", \"Default\", \"Default\", \"Default\", \"Default\", \"Default\", \"Default\", \"Default\", \"Default\", \"Default\", \"Default\", \"Default\", \"Default\", \"Default\", \"Default\", \"Default\", \"Default\", \"Default\", \"Default\", \"Default\", \"Default\", \"Default\", \"Default\", \"Default\", \"Topic1\", \"Topic1\", \"Topic1\", \"Topic1\", \"Topic1\", \"Topic1\", \"Topic1\", \"Topic1\", \"Topic1\", \"Topic1\", \"Topic1\", \"Topic1\", \"Topic1\", \"Topic1\", \"Topic1\", \"Topic1\", \"Topic1\", \"Topic1\", \"Topic1\", \"Topic1\", \"Topic1\", \"Topic1\", \"Topic1\", \"Topic1\", \"Topic1\", \"Topic1\", \"Topic1\", \"Topic1\", \"Topic1\", \"Topic1\", \"Topic1\", \"Topic1\", \"Topic1\", \"Topic1\", \"Topic1\", \"Topic1\", \"Topic1\", \"Topic1\", \"Topic1\", \"Topic1\", \"Topic1\", \"Topic1\", \"Topic1\", \"Topic1\", \"Topic1\", \"Topic1\", \"Topic1\", \"Topic1\", \"Topic1\", \"Topic1\", \"Topic1\", \"Topic1\", \"Topic1\", \"Topic1\", \"Topic1\", \"Topic1\", \"Topic1\", \"Topic1\", \"Topic1\", \"Topic1\", \"Topic1\", \"Topic2\", \"Topic2\", \"Topic2\", \"Topic2\", \"Topic2\", \"Topic2\", \"Topic2\", \"Topic2\", \"Topic2\", \"Topic2\", \"Topic2\", \"Topic2\", \"Topic2\", \"Topic2\", \"Topic2\", \"Topic2\", \"Topic2\", \"Topic2\", \"Topic2\", \"Topic2\", \"Topic2\", \"Topic2\", \"Topic2\", \"Topic2\", \"Topic2\", \"Topic2\", \"Topic2\", \"Topic2\", \"Topic2\", \"Topic2\", \"Topic2\", \"Topic2\", \"Topic2\", \"Topic2\", \"Topic2\", \"Topic2\", \"Topic2\", \"Topic2\", \"Topic2\", \"Topic2\", \"Topic2\", \"Topic2\", \"Topic2\", \"Topic2\", \"Topic2\", \"Topic2\", \"Topic2\", \"Topic2\", \"Topic2\", \"Topic2\", \"Topic2\", \"Topic2\", \"Topic2\", \"Topic2\", \"Topic2\", \"Topic2\", \"Topic2\", \"Topic2\", \"Topic2\", \"Topic2\", \"Topic2\", \"Topic2\", \"Topic3\", \"Topic3\", \"Topic3\", \"Topic3\", \"Topic3\", \"Topic3\", \"Topic3\", \"Topic3\", \"Topic3\", \"Topic3\", \"Topic3\", \"Topic3\", \"Topic3\", \"Topic3\", \"Topic3\", \"Topic3\", \"Topic3\", \"Topic3\", \"Topic3\", \"Topic3\", \"Topic3\", \"Topic3\", \"Topic3\", \"Topic3\", \"Topic3\", \"Topic3\", \"Topic3\", \"Topic3\", \"Topic3\", \"Topic3\", \"Topic3\", \"Topic3\", \"Topic3\", \"Topic3\", \"Topic3\", \"Topic3\", \"Topic3\", \"Topic3\", \"Topic3\", \"Topic3\", \"Topic3\", \"Topic3\", \"Topic3\", \"Topic3\", \"Topic3\", \"Topic3\", \"Topic3\", \"Topic3\", \"Topic3\", \"Topic3\", \"Topic3\", \"Topic3\", \"Topic3\"], \"logprob\": [30.0, 29.0, 28.0, 27.0, 26.0, 25.0, 24.0, 23.0, 22.0, 21.0, 20.0, 19.0, 18.0, 17.0, 16.0, 15.0, 14.0, 13.0, 12.0, 11.0, 10.0, 9.0, 8.0, 7.0, 6.0, 5.0, 4.0, 3.0, 2.0, 1.0, -4.6545, -5.039, -5.3042, -5.6264, -5.698, -5.8059, -5.6061, -5.6465, -5.9816, -5.9006, -5.8269, -5.9647, -5.962, -5.9602, -5.7448, -6.022, -6.0096, -6.1168, -6.1343, -6.1422, -6.086, -6.26, -6.2417, -6.3241, -5.6519, -6.3317, -5.6489, -6.3234, -6.4225, -6.3811, -5.0328, -5.2763, -6.0181, -6.13, -4.1812, -3.3773, -4.2739, -4.9024, -4.9924, -4.7485, -4.0132, -4.667, -5.0208, -5.5845, -3.9338, -4.717, -4.6384, -5.0491, -4.8416, -5.3557, -5.0737, -5.0853, -4.3143, -4.9809, -5.1763, -5.065, -5.4588, -5.3398, -5.5351, -5.5052, -5.5207, -4.4248, -4.4671, -4.5914, -5.0943, -5.3328, -5.4733, -5.487, -5.7217, -5.2424, -5.8511, -4.8696, -6.044, -5.8893, -6.0154, -5.51, -5.7276, -6.1901, -5.1753, -4.8027, -6.2123, -6.2342, -5.5087, -6.1852, -6.2174, -6.2215, -6.3227, -6.2676, -6.2997, -6.282, -6.2612, -5.0182, -5.87, -4.7958, -5.0256, -5.917, -5.94, -5.3187, -5.0283, -5.4896, -5.6668, -5.7521, -4.7085, -5.584, -5.5718, -5.0723, -4.5917, -5.2064, -4.5272, -4.7429, -4.5404, -3.9911, -4.9757, -4.7038, -5.3065, -5.1399, -4.7767, -4.9566, -4.5834, -4.8202, -5.0731, -5.0953, -5.2928, -2.9543, -3.2528, -4.0136, -3.8913, -4.8553, -5.1106, -5.278, -5.2835, -5.1413, -5.5237, -5.7056, -5.6957, -5.8368, -5.9489, -5.8988, -5.8152, -5.5966, -6.1977, -6.1885, -6.2033, -4.3569, -6.3428, -6.2565, -6.0453, -6.2862, -6.3025, -6.3781, -6.0558, -6.1791, -6.2559, -5.5352, -4.3639, -2.4265, -5.4622, -5.6573, -3.7502, -4.4343, -5.2316, -3.8539, -5.2447, -4.9711, -4.5364, -4.4523, -4.419, -4.6189, -4.7769, -4.7179, -4.8223, -4.9327, -5.1037, -5.1963, -5.0732, -5.1798], \"loglift\": [30.0, 29.0, 28.0, 27.0, 26.0, 25.0, 24.0, 23.0, 22.0, 21.0, 20.0, 19.0, 18.0, 17.0, 16.0, 15.0, 14.0, 13.0, 12.0, 11.0, 10.0, 9.0, 8.0, 7.0, 6.0, 5.0, 4.0, 3.0, 2.0, 1.0, 0.7801, 0.7747, 0.7743, 0.769, 0.7673, 0.7666, 0.7642, 0.7637, 0.7613, 0.7612, 0.7612, 0.7611, 0.7599, 0.7596, 0.7592, 0.7592, 0.7589, 0.758, 0.7577, 0.7558, 0.7544, 0.7524, 0.7523, 0.7516, 0.7509, 0.7502, 0.7501, 0.7496, 0.7486, 0.7478, 0.7432, 0.744, 0.7426, 0.7449, 0.6504, 0.5734, 0.6285, 0.633, 0.6375, 0.6057, 0.4586, 0.4838, 0.5397, 0.6441, 0.1854, 0.3564, 0.285, 0.3985, 0.2822, 0.427, 0.1546, 0.1511, -0.6399, 0.0205, 0.1638, -0.1041, 0.4685, 0.2084, 0.5236, 0.3304, 0.1332, 1.0895, 1.0866, 1.0857, 1.0814, 1.0779, 1.0775, 1.0738, 1.072, 1.0716, 1.0674, 1.0646, 1.0617, 1.0612, 1.0608, 1.0604, 1.0602, 1.0584, 1.0571, 1.0567, 1.0559, 1.0554, 1.0548, 1.0543, 1.0531, 1.0516, 1.0515, 1.0509, 1.0496, 1.049, 1.0457, 1.0423, 1.0456, 1.033, 1.0287, 1.0432, 1.0431, 1.0118, 0.9923, 0.997, 1.0093, 1.0163, 0.8961, 0.997, 0.9923, 0.859, 0.6699, 0.8469, 0.5428, 0.6134, 0.461, 0.1281, 0.5161, 0.298, 0.7649, 0.592, 0.1842, 0.1672, -0.6328, -0.3483, -0.0613, -0.172, -0.3096, 1.5504, 1.5493, 1.5435, 1.5417, 1.5325, 1.5296, 1.5266, 1.5261, 1.526, 1.517, 1.5139, 1.5089, 1.5028, 1.5017, 1.4999, 1.4914, 1.4885, 1.4884, 1.4877, 1.4871, 1.4861, 1.4814, 1.4808, 1.4802, 1.4786, 1.4758, 1.4746, 1.4736, 1.4712, 1.4697, 1.4605, 1.3786, 1.2479, 1.4125, 1.4288, 1.2329, 1.2607, 1.3585, 1.1579, 1.308, 1.0895, 0.8855, 0.7841, 0.5829, 0.4545, 0.5794, 0.5104, 0.4393, 0.1373, 0.2364, 0.352, -0.1122, -1.0606]}, \"token.table\": {\"Topic\": [3, 1, 2, 3, 3, 3, 1, 3, 1, 1, 2, 1, 2, 1, 1, 1, 2, 1, 3, 3, 2, 1, 3, 1, 2, 3, 2, 2, 3, 1, 3, 3, 1, 2, 3, 1, 2, 1, 3, 2, 1, 3, 1, 3, 2, 1, 1, 2, 3, 1, 1, 2, 1, 2, 1, 3, 1, 2, 1, 2, 1, 1, 2, 2, 3, 1, 2, 3, 3, 1, 2, 3, 1, 3, 1, 2, 3, 1, 2, 3, 2, 1, 1, 2, 3, 1, 2, 3, 2, 1, 2, 1, 2, 3, 1, 2, 3, 1, 2, 3, 2, 2, 3, 1, 2, 1, 2, 3, 2, 3, 1, 2, 3, 1, 2, 1, 2, 1, 2, 1, 2, 3, 1, 2, 3, 1, 2, 1, 2, 3, 3, 1, 2, 3, 1, 2, 3, 1, 2, 1, 2, 3, 1, 2, 1, 2, 1, 2, 1, 2, 1, 2, 3, 1, 3, 1, 3, 1, 2, 3, 2, 3, 1, 1, 2, 1, 1, 2, 2, 3, 3, 2, 1, 3, 1, 2, 3, 2, 2, 1, 1, 2, 3, 1, 1, 2, 1, 2, 3, 1, 2, 3, 1, 2, 1, 1, 1, 2, 3, 1, 3, 3, 1, 2, 1, 2, 3, 1, 2, 1, 2, 3, 1, 2, 1, 1, 2, 2, 3, 3, 1, 2, 2, 1, 3, 1, 2, 3, 1, 2, 1, 2, 3, 1, 2, 3, 3, 1, 2, 3, 1, 2, 1, 2, 3, 1, 2, 3, 1, 2, 3, 1, 1, 3, 1, 2, 3, 3, 1, 2, 2, 1, 2, 3, 1, 2, 3, 3, 2, 3, 1, 2, 3, 1, 2, 3], \"Freq\": [0.9529939857751212, 0.184473602569905, 0.5755576400181036, 0.2435051553922746, 0.9978118478682874, 0.9086064475551494, 0.9512583880363206, 0.027978187883421192, 0.9880886398053242, 0.99345309481922, 0.9352184193874096, 0.03285556945830813, 0.9528115142909357, 0.9623837829761519, 0.966103045102154, 0.023594489284121566, 0.9673740606489842, 0.06907321241217179, 0.9670249737704051, 0.9922300465579765, 0.967338217414359, 0.9779502707368745, 0.9932687039029638, 0.5474788533612172, 0.3792431640470932, 0.07413776139266483, 0.9875608514877512, 0.723096103985954, 0.2812040404389821, 0.010608193721715873, 0.9865620161195762, 0.9540703595363268, 0.4102085332522528, 0.4035922665868939, 0.19187173329540858, 0.07353720081354477, 0.9192150101693096, 0.9582988494387887, 0.9495150168610297, 0.9676615796045249, 0.9596956147696248, 0.949726330936951, 0.1950162615316857, 0.7800650461267428, 0.9372360485923381, 0.9870111014654835, 0.6922892680813896, 0.015049766697421512, 0.2859455672510087, 0.9802476012336906, 0.04032515814250748, 0.927478637277672, 0.7359804720630322, 0.25599320767409817, 0.13454883960356787, 0.8521426508225965, 0.04111243550597307, 0.9455860166373807, 0.03249473255895284, 0.9585946104891089, 0.9603020679250217, 0.011968490412235914, 0.9933847042155808, 0.981003064919232, 0.8856061934379306, 0.7735044994188799, 0.15866758962438562, 0.07933379481219281, 0.9457979208271299, 0.8720963812762994, 0.06976771050210395, 0.0581397587517533, 0.16870427391243045, 0.8097805147796662, 0.4616075799444966, 0.5305042336675558, 0.006889665372305919, 0.8653653146815136, 0.1291590021912707, 0.012915900219127068, 0.9306104748428118, 0.991215046041097, 0.17231164049337663, 0.44801026528277926, 0.3790856090854286, 0.6781396184776748, 0.1614618139232559, 0.1614618139232559, 0.9926139606607912, 0.21696917897009044, 0.769254361803048, 0.047278010430301685, 0.9298008717959331, 0.015759336810100562, 0.013923000746709676, 0.3132675168009677, 0.6752655362154193, 0.017873432734560643, 0.6523802948114634, 0.3306585055893719, 0.9840171507340559, 0.0639354682577385, 0.9270642897372083, 0.04884921431382087, 0.9281350719625965, 0.3776723965674064, 0.10490899904650179, 0.5140540953278587, 0.9507533392695368, 0.9846145176617941, 0.9566597482384813, 0.02989561713245254, 0.01494780856622627, 0.8579225165101193, 0.14102835887837578, 0.8696435888594997, 0.11751940389993239, 0.386216918306091, 0.6007818729205859, 0.025599359677826023, 0.9727756677573889, 0.9934970988886833, 0.8548918387048663, 0.11856164186417854, 0.024960345655616535, 0.04671966656314158, 0.9343933312628315, 0.634673190990888, 0.2062687870720386, 0.158668297747722, 0.9573552649035866, 0.014456473842025107, 0.14456473842025105, 0.8384754828374562, 0.027059652395950932, 0.2435368715635584, 0.7238457015916875, 0.013541454425179629, 0.988526173038113, 0.783277736986352, 0.09640341378293563, 0.12050426722866953, 0.953365518820122, 0.9830400425984017, 0.6073754353848828, 0.3971300923670388, 0.5159565763243518, 0.47626760891478626, 0.17631587148593855, 0.8186094033275719, 0.954244363875313, 0.03816977455501252, 0.9617442980883937, 0.9827720313809315, 0.9281207304082185, 0.9679179440013252, 0.9272639265132531, 0.559496593345412, 0.14285019404563712, 0.29760457092841064, 0.9497608271389485, 0.049987411954681496, 0.9843199931644715, 0.9755193224088803, 0.027871980640253723, 0.9827445648791214, 0.09862336497061772, 0.8876102847355595, 0.977707526457085, 0.9665665612669374, 0.873728404707825, 0.9732606712525428, 0.11081006873990569, 0.8864805499192455, 0.7180921970403336, 0.23530704761773644, 0.04462719868612242, 0.9327082833168633, 0.9895644488981027, 0.9379756605902082, 0.7303695742840928, 0.034779503537337754, 0.24345652476136426, 0.9719891603010012, 0.09545262584660621, 0.8972546829580984, 0.0794770121633056, 0.2781695425715696, 0.6358160973064448, 0.04135307920395663, 0.22054975575443533, 0.7443554256712193, 0.05923497087394512, 0.9280145436918069, 0.978696210637363, 0.9867678821962617, 0.030423422000078866, 0.912702660002366, 0.06084684400015773, 0.055347405721701624, 0.9409058972689277, 0.935680240400469, 0.9604305005897348, 0.040017937524572285, 0.5316188954367647, 0.008715063859619092, 0.4618983845598119, 0.96012851321683, 0.9605631895265079, 0.2095165024847482, 0.7856868843178059, 0.017459708540395684, 0.07808012105150892, 0.9109347456009373, 0.9640817318033529, 0.03973702839145647, 0.9536886813949553, 0.9607854666818393, 0.9563149476404008, 0.9125685205573677, 0.9831733973749104, 0.9689201447719021, 0.9786274453932755, 0.942001175567789, 0.04485719883656138, 0.017510581446612092, 0.963081979563665, 0.017510581446612092, 0.9765167256271622, 0.9201556205389643, 0.605366487988702, 0.280380268121083, 0.11470101877680669, 0.5316786469864175, 0.19333768981324273, 0.2706727657385398, 0.9452860426686025, 0.06687074819117321, 0.9027551005808383, 0.033435374095586605, 0.986463592826825, 0.02818467408076643, 0.8334114647591027, 0.14707261142807695, 0.009804840761871797, 0.009824489183153979, 0.6189428185387007, 0.3733305889598512, 0.65154560689596, 0.01480785470218091, 0.33317673079907045, 0.9650919648284009, 0.9945395711436051, 0.9841712958357559, 0.03308054550974899, 0.9593358197827206, 0.8996695669454375, 0.8766301119850183, 0.9749266050656725, 0.02708129458515757, 0.986968450251433, 0.2394102239890881, 0.023758266502733934, 0.736506261584752, 0.5273091193495754, 0.11237735330400786, 0.3544208834972556, 0.9847365883421505, 0.05061951915615503, 0.9111513448107905, 0.8070222900231233, 0.17826761033346605, 0.014454130567578329, 0.42754060780175734, 0.5625534313181018, 0.011251068626362035], \"Term\": [\"area\", \"bad\", \"bad\", \"bad\", \"balance\", \"bay\", \"best\", \"best\", \"big\", \"bit\", \"bureaucracy\", \"business\", \"business\", \"busy\", \"care\", \"career\", \"career\", \"challenge\", \"challenge\", \"challenging\", \"clear\", \"communication\", \"commute\", \"company\", \"company\", \"company\", \"competition\", \"competitive\", \"competitive\", \"cons\", \"cons\", \"crowded\", \"culture\", \"culture\", \"culture\", \"cycle\", \"cycle\", \"day\", \"deadlines\", \"decision\", \"decisions\", \"demanding\", \"depending\", \"depending\", \"depends\", \"didnt\", \"difficult\", \"difficult\", \"difficult\", \"direction\", \"diversity\", \"diversity\", \"dont\", \"dont\", \"driven\", \"driven\", \"easy\", \"easy\", \"employees\", \"employees\", \"end\", \"environment\", \"environment\", \"expectations\", \"expensive\", \"experience\", \"experience\", \"experience\", \"external\", \"facebook\", \"facebook\", \"facebook\", \"far\", \"far\", \"fast\", \"fast\", \"fast\", \"feel\", \"feel\", \"feel\", \"food\", \"getting\", \"good\", \"good\", \"good\", \"great\", \"great\", \"great\", \"grow\", \"growing\", \"growing\", \"growth\", \"growth\", \"growth\", \"hard\", \"hard\", \"hard\", \"high\", \"high\", \"high\", \"hiring\", \"hours\", \"hours\", \"huge\", \"huge\", \"impact\", \"impact\", \"impact\", \"inexperienced\", \"information\", \"job\", \"job\", \"job\", \"just\", \"just\", \"know\", \"know\", \"leadership\", \"leadership\", \"level\", \"level\", \"life\", \"like\", \"like\", \"like\", \"limited\", \"limited\", \"little\", \"little\", \"little\", \"location\", \"long\", \"long\", \"long\", \"lot\", \"lot\", \"lot\", \"lots\", \"lots\", \"make\", \"make\", \"make\", \"makes\", \"making\", \"management\", \"management\", \"manager\", \"manager\", \"managers\", \"managers\", \"means\", \"means\", \"menlo\", \"middle\", \"mind\", \"moves\", \"na\", \"need\", \"need\", \"need\", \"needs\", \"needs\", \"offices\", \"open\", \"open\", \"pace\", \"paced\", \"paced\", \"pains\", \"park\", \"parking\", \"pay\", \"peer\", \"peer\", \"people\", \"people\", \"people\", \"perform\", \"performance\", \"person\", \"place\", \"place\", \"place\", \"political\", \"politics\", \"politics\", \"poor\", \"poor\", \"poor\", \"pressure\", \"pressure\", \"pressure\", \"process\", \"process\", \"processes\", \"products\", \"project\", \"project\", \"project\", \"psc\", \"psc\", \"public\", \"real\", \"real\", \"really\", \"really\", \"really\", \"remote\", \"reorgs\", \"review\", \"review\", \"review\", \"reviews\", \"reviews\", \"right\", \"role\", \"role\", \"salary\", \"scrutiny\", \"sf\", \"share\", \"size\", \"starting\", \"stress\", \"stress\", \"stressful\", \"stressful\", \"stressful\", \"support\", \"syndrome\", \"team\", \"team\", \"team\", \"teams\", \"teams\", \"teams\", \"technology\", \"thats\", \"thats\", \"thats\", \"thing\", \"thing\", \"things\", \"things\", \"things\", \"think\", \"think\", \"think\", \"time\", \"time\", \"time\", \"told\", \"tools\", \"tough\", \"toxic\", \"toxic\", \"traffic\", \"understand\", \"way\", \"way\", \"wlb\", \"work\", \"work\", \"work\", \"working\", \"working\", \"working\", \"worklife\", \"workload\", \"workload\", \"xd\", \"xd\", \"xd\", \"youre\", \"youre\", \"youre\"]}, \"R\": 30, \"lambda.step\": 0.01, \"plot.opts\": {\"xlab\": \"PC1\", \"ylab\": \"PC2\"}, \"topic.order\": [1, 3, 2]};\n",
       "\n",
       "function LDAvis_load_lib(url, callback){\n",
       "  var s = document.createElement('script');\n",
       "  s.src = url;\n",
       "  s.async = true;\n",
       "  s.onreadystatechange = s.onload = callback;\n",
       "  s.onerror = function(){console.warn(\"failed to load library \" + url);};\n",
       "  document.getElementsByTagName(\"head\")[0].appendChild(s);\n",
       "}\n",
       "\n",
       "if(typeof(LDAvis) !== \"undefined\"){\n",
       "   // already loaded: just create the visualization\n",
       "   !function(LDAvis){\n",
       "       new LDAvis(\"#\" + \"ldavis_el264361929256596528864864395\", ldavis_el264361929256596528864864395_data);\n",
       "   }(LDAvis);\n",
       "}else if(typeof define === \"function\" && define.amd){\n",
       "   // require.js is available: use it to load d3/LDAvis\n",
       "   require.config({paths: {d3: \"https://d3js.org/d3.v5\"}});\n",
       "   require([\"d3\"], function(d3){\n",
       "      window.d3 = d3;\n",
       "      LDAvis_load_lib(\"https://cdn.jsdelivr.net/gh/bmabey/pyLDAvis@3.3.1/pyLDAvis/js/ldavis.v3.0.0.js\", function(){\n",
       "        new LDAvis(\"#\" + \"ldavis_el264361929256596528864864395\", ldavis_el264361929256596528864864395_data);\n",
       "      });\n",
       "    });\n",
       "}else{\n",
       "    // require.js not available: dynamically load d3 & LDAvis\n",
       "    LDAvis_load_lib(\"https://d3js.org/d3.v5.js\", function(){\n",
       "         LDAvis_load_lib(\"https://cdn.jsdelivr.net/gh/bmabey/pyLDAvis@3.3.1/pyLDAvis/js/ldavis.v3.0.0.js\", function(){\n",
       "                 new LDAvis(\"#\" + \"ldavis_el264361929256596528864864395\", ldavis_el264361929256596528864864395_data);\n",
       "            })\n",
       "         });\n",
       "}\n",
       "</script>"
      ],
      "text/plain": [
       "PreparedData(topic_coordinates=              x         y  topics  cluster       Freq\n",
       "topic                                                \n",
       "0     -0.093197  0.159345       1        1  45.509368\n",
       "2     -0.122924 -0.145374       2        1  33.338661\n",
       "1      0.216122 -0.013971       3        1  21.151971, topic_info=         Term        Freq       Total Category  logprob  loglift\n",
       "2072     work  547.000000  547.000000  Default  30.0000  30.0000\n",
       "126   balance  238.000000  238.000000  Default  29.0000  29.0000\n",
       "1032     life  177.000000  177.000000  Default  28.0000  28.0000\n",
       "324      cons   94.000000   94.000000  Default  27.0000  27.0000\n",
       "1068      lot  147.000000  147.000000  Default  26.0000  26.0000\n",
       "...       ...         ...         ...      ...      ...      ...\n",
       "123       bad   32.883426  135.520745   Topic3  -4.9327   0.1373\n",
       "1854    teams   27.716466  103.445945   Topic3  -5.1037   0.2364\n",
       "1195     need   25.265236   84.004086   Topic3  -5.1963   0.3520\n",
       "387   culture   28.575224  151.142638   Topic3  -5.0732  -0.1122\n",
       "292   company   25.684151  350.698477   Topic3  -5.1798  -1.0606\n",
       "\n",
       "[206 rows x 6 columns], token_table=      Topic      Freq     Term\n",
       "term                          \n",
       "92        3  0.952994     area\n",
       "123       1  0.184474      bad\n",
       "123       2  0.575558      bad\n",
       "123       3  0.243505      bad\n",
       "126       3  0.997812  balance\n",
       "...     ...       ...      ...\n",
       "2093      2  0.178268       xd\n",
       "2093      3  0.014454       xd\n",
       "2104      1  0.427541    youre\n",
       "2104      2  0.562553    youre\n",
       "2104      3  0.011251    youre\n",
       "\n",
       "[276 rows x 3 columns], R=30, lambda_step=0.01, plot_opts={'xlab': 'PC1', 'ylab': 'PC2'}, topic_order=[1, 3, 2])"
      ]
     },
     "execution_count": 33,
     "metadata": {},
     "output_type": "execute_result"
    }
   ],
   "source": [
    "################\n",
    "## Evaluate this\n",
    "################\n",
    "\n",
    "pyLDAvis.sklearn.prepare(lda_cons, tf_cons, vec_cons, n_jobs=1)"
   ]
  }
 ],
 "metadata": {
  "kernelspec": {
   "display_name": "Python 3 (ipykernel)",
   "language": "python",
   "name": "python3"
  },
  "language_info": {
   "codemirror_mode": {
    "name": "ipython",
    "version": 3
   },
   "file_extension": ".py",
   "mimetype": "text/x-python",
   "name": "python",
   "nbconvert_exporter": "python",
   "pygments_lexer": "ipython3",
   "version": "3.9.9"
  }
 },
 "nbformat": 4,
 "nbformat_minor": 5
}
