{
 "cells": [
  {
   "cell_type": "markdown",
   "id": "c8997c9a",
   "metadata": {},
   "source": [
    "# Preamble"
   ]
  },
  {
   "cell_type": "markdown",
   "id": "b7f07a06",
   "metadata": {},
   "source": [
    "## Imports"
   ]
  },
  {
   "cell_type": "markdown",
   "id": "82487a33",
   "metadata": {},
   "source": [
    "Standard imports"
   ]
  },
  {
   "cell_type": "code",
   "execution_count": 1,
   "id": "3c830790",
   "metadata": {},
   "outputs": [],
   "source": [
    "import sys, os, re, time, copy\n",
    "import pandas as pd\n",
    "import numpy as np\n",
    "from tqdm.notebook import tqdm\n",
    "import unidecode"
   ]
  },
  {
   "cell_type": "markdown",
   "id": "75d77bdf",
   "metadata": {},
   "source": [
    "Language libraries:"
   ]
  },
  {
   "cell_type": "code",
   "execution_count": 2,
   "id": "7b078661",
   "metadata": {},
   "outputs": [],
   "source": [
    "from textblob import TextBlob"
   ]
  },
  {
   "cell_type": "markdown",
   "id": "3fe6f114",
   "metadata": {},
   "source": [
    "### Settings"
   ]
  },
  {
   "cell_type": "markdown",
   "id": "e83cba59",
   "metadata": {},
   "source": [
    "Disable copy warnings in Pandas"
   ]
  },
  {
   "cell_type": "code",
   "execution_count": 3,
   "id": "cc059c9e",
   "metadata": {},
   "outputs": [],
   "source": [
    "pd.options.mode.chained_assignment = None  # default='warn'"
   ]
  },
  {
   "cell_type": "markdown",
   "id": "4a5f7708",
   "metadata": {},
   "source": [
    "Disable depreciation warnings"
   ]
  },
  {
   "cell_type": "code",
   "execution_count": 4,
   "id": "d869bc83",
   "metadata": {},
   "outputs": [],
   "source": [
    "def warn(*args, **kwargs):\n",
    "    pass\n",
    "import warnings\n",
    "warnings.warn = warn"
   ]
  },
  {
   "cell_type": "markdown",
   "id": "b18fd326",
   "metadata": {},
   "source": [
    "-----\n",
    "# Step 1: Inspect the data\n",
    "-----"
   ]
  },
  {
   "cell_type": "markdown",
   "id": "488bc39a",
   "metadata": {},
   "source": [
    "## Load the data"
   ]
  },
  {
   "cell_type": "code",
   "execution_count": 5,
   "id": "3345d681",
   "metadata": {},
   "outputs": [],
   "source": [
    "review_df = pd.read_excel('facebook_review_dataset.xlsx')"
   ]
  },
  {
   "cell_type": "markdown",
   "id": "1f48f792",
   "metadata": {},
   "source": [
    "## Inspect the data"
   ]
  },
  {
   "cell_type": "markdown",
   "id": "4f13f4e8",
   "metadata": {},
   "source": [
    "### Dataset"
   ]
  },
  {
   "cell_type": "code",
   "execution_count": 6,
   "id": "b9f8d811",
   "metadata": {},
   "outputs": [
    {
     "name": "stdout",
     "output_type": "stream",
     "text": [
      "The dataset contains 2290 reviews. \n",
      "The oldest review is from 2014-03-17 00:00:00 \n",
      "The newest review is from 2021-12-28 00:00:00.\n"
     ]
    },
    {
     "data": {
      "text/html": [
       "<div>\n",
       "<style scoped>\n",
       "    .dataframe tbody tr th:only-of-type {\n",
       "        vertical-align: middle;\n",
       "    }\n",
       "\n",
       "    .dataframe tbody tr th {\n",
       "        vertical-align: top;\n",
       "    }\n",
       "\n",
       "    .dataframe thead th {\n",
       "        text-align: right;\n",
       "    }\n",
       "</style>\n",
       "<table border=\"1\" class=\"dataframe\">\n",
       "  <thead>\n",
       "    <tr style=\"text-align: right;\">\n",
       "      <th></th>\n",
       "      <th>date</th>\n",
       "      <th>year</th>\n",
       "      <th>rating</th>\n",
       "      <th>rating_wlb</th>\n",
       "      <th>rating_culture</th>\n",
       "      <th>rating_dei</th>\n",
       "      <th>rating_comp</th>\n",
       "      <th>job_title</th>\n",
       "      <th>location</th>\n",
       "      <th>pros</th>\n",
       "      <th>cons</th>\n",
       "    </tr>\n",
       "  </thead>\n",
       "  <tbody>\n",
       "    <tr>\n",
       "      <th>0</th>\n",
       "      <td>2021-11-09</td>\n",
       "      <td>2021</td>\n",
       "      <td>5</td>\n",
       "      <td>5</td>\n",
       "      <td>5</td>\n",
       "      <td>5</td>\n",
       "      <td>5</td>\n",
       "      <td>Software Engineer</td>\n",
       "      <td>Seattle, WA</td>\n",
       "      <td>I’m still a bit new, but I have very good impr...</td>\n",
       "      <td>Some risk with new company direction. The meta...</td>\n",
       "    </tr>\n",
       "    <tr>\n",
       "      <th>1</th>\n",
       "      <td>2021-12-25</td>\n",
       "      <td>2021</td>\n",
       "      <td>5</td>\n",
       "      <td>5</td>\n",
       "      <td>5</td>\n",
       "      <td>4</td>\n",
       "      <td>4</td>\n",
       "      <td>Data Scientist</td>\n",
       "      <td>San Francisco, CA</td>\n",
       "      <td>Its all you hear about, fun and diverse and su...</td>\n",
       "      <td>You are evaluated nased on individual accompli...</td>\n",
       "    </tr>\n",
       "  </tbody>\n",
       "</table>\n",
       "</div>"
      ],
      "text/plain": [
       "        date  year  rating  rating_wlb  rating_culture  rating_dei  \\\n",
       "0 2021-11-09  2021       5           5               5           5   \n",
       "1 2021-12-25  2021       5           5               5           4   \n",
       "\n",
       "   rating_comp          job_title           location  \\\n",
       "0            5  Software Engineer        Seattle, WA   \n",
       "1            4     Data Scientist  San Francisco, CA   \n",
       "\n",
       "                                                pros  \\\n",
       "0  I’m still a bit new, but I have very good impr...   \n",
       "1  Its all you hear about, fun and diverse and su...   \n",
       "\n",
       "                                                cons  \n",
       "0  Some risk with new company direction. The meta...  \n",
       "1  You are evaluated nased on individual accompli...  "
      ]
     },
     "execution_count": 6,
     "metadata": {},
     "output_type": "execute_result"
    }
   ],
   "source": [
    "print(f\"The dataset contains {len(review_df)} reviews. \\nThe oldest review is from {review_df['date'].min()} \\nThe newest review is from {review_df['date'].max()}.\")\n",
    "review_df.head(2)"
   ]
  },
  {
   "cell_type": "markdown",
   "id": "90ff5eb6",
   "metadata": {},
   "source": [
    "### Number of reviews by year"
   ]
  },
  {
   "cell_type": "code",
   "execution_count": 7,
   "id": "e92e1ab8",
   "metadata": {},
   "outputs": [
    {
     "data": {
      "text/plain": [
       "year\n",
       "2021    1123\n",
       "2020     572\n",
       "2019     226\n",
       "2018     239\n",
       "2017     128\n",
       "2016       1\n",
       "2014       1\n",
       "dtype: int64"
      ]
     },
     "execution_count": 7,
     "metadata": {},
     "output_type": "execute_result"
    }
   ],
   "source": [
    "review_df.value_counts('year').sort_index(ascending=False)"
   ]
  },
  {
   "cell_type": "markdown",
   "id": "9282f6ef",
   "metadata": {},
   "source": [
    "### Show random review\n",
    "\n",
    "**Note:** Every time you run the code below it will show a different review in the dataset."
   ]
  },
  {
   "cell_type": "code",
   "execution_count": 8,
   "id": "2b2e5390",
   "metadata": {},
   "outputs": [
    {
     "name": "stdout",
     "output_type": "stream",
     "text": [
      "Review by a Software Engineering in Menlo Park, CA on 2017-06-22 00:00:00\n",
      "\n",
      "Pros: \n",
      "\n",
      "Nice and passionate people. Lots of work for engineers. Many opportunities. Many supports for employees. Many of employees are smart.\n",
      "\n",
      "Cons: \n",
      "\n",
      "Normally busy. Inexperienced engineers sometimes lead the project, which causes a mess. People move too fast and break things, which is not good for engineering perspective.\n"
     ]
    }
   ],
   "source": [
    "review_row = review_df.sample(1).iloc[0].to_dict()\n",
    "print(f\"Review by a {review_row['job_title']} in {review_row['location']} on {review_row['date']}\")\n",
    "print(f\"\\nPros: \\n\\n{review_row['pros'].strip()}\")\n",
    "print(f\"\\nCons: \\n\\n{review_row['cons'].strip()}\")"
   ]
  },
  {
   "cell_type": "markdown",
   "id": "ecfec4ed",
   "metadata": {},
   "source": [
    "## "
   ]
  },
  {
   "cell_type": "markdown",
   "id": "c3d1436e",
   "metadata": {},
   "source": [
    "-----\n",
    "# Step 2: Clean the data\n",
    "-----"
   ]
  },
  {
   "cell_type": "markdown",
   "id": "ff630e51",
   "metadata": {},
   "source": [
    "### Cleaning function"
   ]
  },
  {
   "cell_type": "code",
   "execution_count": 9,
   "id": "3cb170c9",
   "metadata": {},
   "outputs": [],
   "source": [
    "def clean_text(input_str):\n",
    "    clean_str = copy.copy(input_str)\n",
    "\n",
    "    ## Remove special characters\n",
    "    clean_str = unidecode.unidecode(clean_str)\n",
    "\n",
    "    ## Remove any non-letter characters except for regular sentence-ending punctuation\n",
    "    clean_str = re.sub(r'[^a-zA-Z\\s\\.!\\?\\\\n]', '', clean_str)\n",
    "\n",
    "    ## Replace all \\s with a single space except for \\n\n",
    "    clean_str = re.sub(r'[ \\t\\x0B\\f\\r]+', ' ', clean_str)\n",
    "\n",
    "    ## Replace a newline with a dot and a space\n",
    "    clean_str = re.sub(r'\\s*\\n\\s*', '. ', clean_str)\n",
    "\n",
    "    ## Replace duplicate dots\n",
    "    clean_str = re.sub(r'\\.+', '.', clean_str)\n",
    "\n",
    "    ## Remove any leading or trailing spaces\n",
    "    clean_str = clean_str.strip()\n",
    "\n",
    "    ## Add trailing dot if not exists\n",
    "    if clean_str[-1] != '.':\n",
    "        clean_str += '.'\n",
    "\n",
    "    return clean_str"
   ]
  },
  {
   "cell_type": "markdown",
   "id": "175d5b3c",
   "metadata": {},
   "source": [
    "### Run"
   ]
  },
  {
   "cell_type": "code",
   "execution_count": 10,
   "id": "a31beda7",
   "metadata": {},
   "outputs": [],
   "source": [
    "review_df['pros_clean'] = review_df['pros'].apply(clean_text)\n",
    "review_df['cons_clean'] = review_df['cons'].apply(clean_text)"
   ]
  },
  {
   "cell_type": "markdown",
   "id": "9da09161",
   "metadata": {},
   "source": [
    "#### Add lower case version"
   ]
  },
  {
   "cell_type": "code",
   "execution_count": 11,
   "id": "3ac873c9",
   "metadata": {},
   "outputs": [],
   "source": [
    "review_df['pros_clean_l'] = review_df['pros_clean'].str.lower()\n",
    "review_df['cons_clean_l'] = review_df['cons_clean'].str.lower()"
   ]
  },
  {
   "cell_type": "markdown",
   "id": "1af69629",
   "metadata": {},
   "source": [
    "### Inspect"
   ]
  },
  {
   "cell_type": "code",
   "execution_count": 12,
   "id": "6f78ed19",
   "metadata": {},
   "outputs": [
    {
     "name": "stdout",
     "output_type": "stream",
     "text": [
      "Review by a Product Design in Menlo Park, CA on 2019-05-04 00:00:00\n",
      "\n",
      "Pros: \n",
      "\n",
      "Great design community. Solid internal tools that make your job easier.\n",
      "\n",
      "Pros clean: \n",
      "\n",
      "Great design community. Solid internal tools that make your job easier.\n",
      "\n",
      "--------------------------------------------------\n",
      "\n",
      "Cons: \n",
      "\n",
      "Big company can be challenging getting lots of teams to align on an idea.\n",
      "\n",
      "Cons clean: \n",
      "\n",
      "Big company can be challenging getting lots of teams to align on an idea.\n"
     ]
    }
   ],
   "source": [
    "review_row = review_df.sample(1).iloc[0].to_dict()\n",
    "print(f\"Review by a {review_row['job_title']} in {review_row['location']} on {review_row['date']}\")\n",
    "print(f\"\\nPros: \\n\\n{review_row['pros'].strip()}\")\n",
    "print(f\"\\nPros clean: \\n\\n{review_row['pros_clean'].strip()}\")\n",
    "print('\\n' + '-'*50)\n",
    "print(f\"\\nCons: \\n\\n{review_row['cons'].strip()}\")\n",
    "print(f\"\\nCons clean: \\n\\n{review_row['cons_clean'].strip()}\")"
   ]
  },
  {
   "cell_type": "markdown",
   "id": "c169d1bd",
   "metadata": {},
   "source": [
    "-----\n",
    "# Step 3: Analyze the data\n",
    "-----"
   ]
  },
  {
   "cell_type": "markdown",
   "id": "f636c025",
   "metadata": {},
   "source": [
    "## Key word analysis "
   ]
  },
  {
   "cell_type": "markdown",
   "id": "a5a19f25",
   "metadata": {},
   "source": [
    "### Check whether each pros and cons contains a keyword"
   ]
  },
  {
   "cell_type": "code",
   "execution_count": 13,
   "id": "f95e985e",
   "metadata": {},
   "outputs": [],
   "source": [
    "keywords_of_interest = ['traffic', 'culture', 'salary', 'diversity', 'balance']\n",
    "text_types = ['pros', 'cons']\n",
    "contains_columns = []\n",
    "for text_type in text_types:\n",
    "    for keyword in keywords_of_interest:\n",
    "        review_df[f'{text_type}_contains_{keyword}'] = review_df[f'{text_type}_clean_l'].str.contains(keyword)**1\n",
    "        contains_columns.append(f'{text_type}_contains_{keyword}')"
   ]
  },
  {
   "cell_type": "code",
   "execution_count": 14,
   "id": "e93be612",
   "metadata": {},
   "outputs": [
    {
     "data": {
      "text/html": [
       "<div>\n",
       "<style scoped>\n",
       "    .dataframe tbody tr th:only-of-type {\n",
       "        vertical-align: middle;\n",
       "    }\n",
       "\n",
       "    .dataframe tbody tr th {\n",
       "        vertical-align: top;\n",
       "    }\n",
       "\n",
       "    .dataframe thead th {\n",
       "        text-align: right;\n",
       "    }\n",
       "</style>\n",
       "<table border=\"1\" class=\"dataframe\">\n",
       "  <thead>\n",
       "    <tr style=\"text-align: right;\">\n",
       "      <th></th>\n",
       "      <th>1122</th>\n",
       "      <th>1010</th>\n",
       "    </tr>\n",
       "  </thead>\n",
       "  <tbody>\n",
       "    <tr>\n",
       "      <th>date</th>\n",
       "      <td>2020-12-23 00:00:00</td>\n",
       "      <td>2021-01-31 00:00:00</td>\n",
       "    </tr>\n",
       "    <tr>\n",
       "      <th>year</th>\n",
       "      <td>2020</td>\n",
       "      <td>2021</td>\n",
       "    </tr>\n",
       "    <tr>\n",
       "      <th>rating</th>\n",
       "      <td>5</td>\n",
       "      <td>3</td>\n",
       "    </tr>\n",
       "    <tr>\n",
       "      <th>rating_wlb</th>\n",
       "      <td>5</td>\n",
       "      <td>1</td>\n",
       "    </tr>\n",
       "    <tr>\n",
       "      <th>rating_culture</th>\n",
       "      <td>3</td>\n",
       "      <td>1</td>\n",
       "    </tr>\n",
       "    <tr>\n",
       "      <th>rating_dei</th>\n",
       "      <td>5</td>\n",
       "      <td>1</td>\n",
       "    </tr>\n",
       "    <tr>\n",
       "      <th>rating_comp</th>\n",
       "      <td>4</td>\n",
       "      <td>1</td>\n",
       "    </tr>\n",
       "    <tr>\n",
       "      <th>job_title</th>\n",
       "      <td>Software Engineer</td>\n",
       "      <td>Mobile Engineer</td>\n",
       "    </tr>\n",
       "    <tr>\n",
       "      <th>location</th>\n",
       "      <td>Menlo Park, CA</td>\n",
       "      <td>San Francisco, CA</td>\n",
       "    </tr>\n",
       "    <tr>\n",
       "      <th>pros</th>\n",
       "      <td>i love working here so much</td>\n",
       "      <td>good perks and also free food so it's very nice</td>\n",
       "    </tr>\n",
       "    <tr>\n",
       "      <th>cons</th>\n",
       "      <td>too many perks so good</td>\n",
       "      <td>too much werk and it tires you out test test t...</td>\n",
       "    </tr>\n",
       "    <tr>\n",
       "      <th>pros_clean</th>\n",
       "      <td>i love working here so much.</td>\n",
       "      <td>good perks and also free food so its very nice.</td>\n",
       "    </tr>\n",
       "    <tr>\n",
       "      <th>cons_clean</th>\n",
       "      <td>too many perks so good.</td>\n",
       "      <td>too much werk and it tires you out test test t...</td>\n",
       "    </tr>\n",
       "    <tr>\n",
       "      <th>pros_clean_l</th>\n",
       "      <td>i love working here so much.</td>\n",
       "      <td>good perks and also free food so its very nice.</td>\n",
       "    </tr>\n",
       "    <tr>\n",
       "      <th>cons_clean_l</th>\n",
       "      <td>too many perks so good.</td>\n",
       "      <td>too much werk and it tires you out test test t...</td>\n",
       "    </tr>\n",
       "    <tr>\n",
       "      <th>pros_contains_traffic</th>\n",
       "      <td>0</td>\n",
       "      <td>0</td>\n",
       "    </tr>\n",
       "    <tr>\n",
       "      <th>pros_contains_culture</th>\n",
       "      <td>0</td>\n",
       "      <td>0</td>\n",
       "    </tr>\n",
       "    <tr>\n",
       "      <th>pros_contains_salary</th>\n",
       "      <td>0</td>\n",
       "      <td>0</td>\n",
       "    </tr>\n",
       "    <tr>\n",
       "      <th>pros_contains_diversity</th>\n",
       "      <td>0</td>\n",
       "      <td>0</td>\n",
       "    </tr>\n",
       "    <tr>\n",
       "      <th>pros_contains_balance</th>\n",
       "      <td>0</td>\n",
       "      <td>0</td>\n",
       "    </tr>\n",
       "    <tr>\n",
       "      <th>cons_contains_traffic</th>\n",
       "      <td>0</td>\n",
       "      <td>0</td>\n",
       "    </tr>\n",
       "    <tr>\n",
       "      <th>cons_contains_culture</th>\n",
       "      <td>0</td>\n",
       "      <td>0</td>\n",
       "    </tr>\n",
       "    <tr>\n",
       "      <th>cons_contains_salary</th>\n",
       "      <td>0</td>\n",
       "      <td>0</td>\n",
       "    </tr>\n",
       "    <tr>\n",
       "      <th>cons_contains_diversity</th>\n",
       "      <td>0</td>\n",
       "      <td>0</td>\n",
       "    </tr>\n",
       "    <tr>\n",
       "      <th>cons_contains_balance</th>\n",
       "      <td>0</td>\n",
       "      <td>0</td>\n",
       "    </tr>\n",
       "  </tbody>\n",
       "</table>\n",
       "</div>"
      ],
      "text/plain": [
       "                                                 1122  \\\n",
       "date                              2020-12-23 00:00:00   \n",
       "year                                             2020   \n",
       "rating                                              5   \n",
       "rating_wlb                                          5   \n",
       "rating_culture                                      3   \n",
       "rating_dei                                          5   \n",
       "rating_comp                                         4   \n",
       "job_title                           Software Engineer   \n",
       "location                               Menlo Park, CA   \n",
       "pros                      i love working here so much   \n",
       "cons                           too many perks so good   \n",
       "pros_clean               i love working here so much.   \n",
       "cons_clean                    too many perks so good.   \n",
       "pros_clean_l             i love working here so much.   \n",
       "cons_clean_l                  too many perks so good.   \n",
       "pros_contains_traffic                               0   \n",
       "pros_contains_culture                               0   \n",
       "pros_contains_salary                                0   \n",
       "pros_contains_diversity                             0   \n",
       "pros_contains_balance                               0   \n",
       "cons_contains_traffic                               0   \n",
       "cons_contains_culture                               0   \n",
       "cons_contains_salary                                0   \n",
       "cons_contains_diversity                             0   \n",
       "cons_contains_balance                               0   \n",
       "\n",
       "                                                                      1010  \n",
       "date                                                   2021-01-31 00:00:00  \n",
       "year                                                                  2021  \n",
       "rating                                                                   3  \n",
       "rating_wlb                                                               1  \n",
       "rating_culture                                                           1  \n",
       "rating_dei                                                               1  \n",
       "rating_comp                                                              1  \n",
       "job_title                                                  Mobile Engineer  \n",
       "location                                                 San Francisco, CA  \n",
       "pros                       good perks and also free food so it's very nice  \n",
       "cons                     too much werk and it tires you out test test t...  \n",
       "pros_clean                 good perks and also free food so its very nice.  \n",
       "cons_clean               too much werk and it tires you out test test t...  \n",
       "pros_clean_l               good perks and also free food so its very nice.  \n",
       "cons_clean_l             too much werk and it tires you out test test t...  \n",
       "pros_contains_traffic                                                    0  \n",
       "pros_contains_culture                                                    0  \n",
       "pros_contains_salary                                                     0  \n",
       "pros_contains_diversity                                                  0  \n",
       "pros_contains_balance                                                    0  \n",
       "cons_contains_traffic                                                    0  \n",
       "cons_contains_culture                                                    0  \n",
       "cons_contains_salary                                                     0  \n",
       "cons_contains_diversity                                                  0  \n",
       "cons_contains_balance                                                    0  "
      ]
     },
     "execution_count": 14,
     "metadata": {},
     "output_type": "execute_result"
    }
   ],
   "source": [
    "review_df.sample(2).T"
   ]
  },
  {
   "cell_type": "markdown",
   "id": "8c6462e0",
   "metadata": {},
   "source": [
    "### Create aggregate dataframe"
   ]
  },
  {
   "cell_type": "code",
   "execution_count": 15,
   "id": "04edd877",
   "metadata": {},
   "outputs": [],
   "source": [
    "review_kw_df = review_df[contains_columns].sum().reset_index().rename(columns={'index' : 'group', 0 : 'count'})\n",
    "tmp_df = review_kw_df['group'].str.split('_', expand=True).rename(columns={0 : 'text_type', 2 : 'keyword'}).drop(1,axis=1)\n",
    "review_kw_df = pd.concat([review_kw_df, tmp_df], axis=1)\n",
    "review_kw_df = review_kw_df[['keyword', 'text_type', 'count']].sort_values(by='keyword', ascending=False)"
   ]
  },
  {
   "cell_type": "code",
   "execution_count": 16,
   "id": "07afb2ac",
   "metadata": {},
   "outputs": [
    {
     "data": {
      "text/html": [
       "<div>\n",
       "<style scoped>\n",
       "    .dataframe tbody tr th:only-of-type {\n",
       "        vertical-align: middle;\n",
       "    }\n",
       "\n",
       "    .dataframe tbody tr th {\n",
       "        vertical-align: top;\n",
       "    }\n",
       "\n",
       "    .dataframe thead th {\n",
       "        text-align: right;\n",
       "    }\n",
       "</style>\n",
       "<table border=\"1\" class=\"dataframe\">\n",
       "  <thead>\n",
       "    <tr style=\"text-align: right;\">\n",
       "      <th></th>\n",
       "      <th>keyword</th>\n",
       "      <th>text_type</th>\n",
       "      <th>count</th>\n",
       "    </tr>\n",
       "  </thead>\n",
       "  <tbody>\n",
       "    <tr>\n",
       "      <th>0</th>\n",
       "      <td>traffic</td>\n",
       "      <td>pros</td>\n",
       "      <td>0</td>\n",
       "    </tr>\n",
       "    <tr>\n",
       "      <th>5</th>\n",
       "      <td>traffic</td>\n",
       "      <td>cons</td>\n",
       "      <td>9</td>\n",
       "    </tr>\n",
       "    <tr>\n",
       "      <th>2</th>\n",
       "      <td>salary</td>\n",
       "      <td>pros</td>\n",
       "      <td>125</td>\n",
       "    </tr>\n",
       "    <tr>\n",
       "      <th>7</th>\n",
       "      <td>salary</td>\n",
       "      <td>cons</td>\n",
       "      <td>12</td>\n",
       "    </tr>\n",
       "    <tr>\n",
       "      <th>3</th>\n",
       "      <td>diversity</td>\n",
       "      <td>pros</td>\n",
       "      <td>34</td>\n",
       "    </tr>\n",
       "    <tr>\n",
       "      <th>8</th>\n",
       "      <td>diversity</td>\n",
       "      <td>cons</td>\n",
       "      <td>28</td>\n",
       "    </tr>\n",
       "    <tr>\n",
       "      <th>1</th>\n",
       "      <td>culture</td>\n",
       "      <td>pros</td>\n",
       "      <td>407</td>\n",
       "    </tr>\n",
       "    <tr>\n",
       "      <th>6</th>\n",
       "      <td>culture</td>\n",
       "      <td>cons</td>\n",
       "      <td>155</td>\n",
       "    </tr>\n",
       "    <tr>\n",
       "      <th>4</th>\n",
       "      <td>balance</td>\n",
       "      <td>pros</td>\n",
       "      <td>118</td>\n",
       "    </tr>\n",
       "    <tr>\n",
       "      <th>9</th>\n",
       "      <td>balance</td>\n",
       "      <td>cons</td>\n",
       "      <td>279</td>\n",
       "    </tr>\n",
       "  </tbody>\n",
       "</table>\n",
       "</div>"
      ],
      "text/plain": [
       "     keyword text_type  count\n",
       "0    traffic      pros      0\n",
       "5    traffic      cons      9\n",
       "2     salary      pros    125\n",
       "7     salary      cons     12\n",
       "3  diversity      pros     34\n",
       "8  diversity      cons     28\n",
       "1    culture      pros    407\n",
       "6    culture      cons    155\n",
       "4    balance      pros    118\n",
       "9    balance      cons    279"
      ]
     },
     "execution_count": 16,
     "metadata": {},
     "output_type": "execute_result"
    }
   ],
   "source": [
    "review_kw_df"
   ]
  },
  {
   "cell_type": "markdown",
   "id": "477b6a26",
   "metadata": {},
   "source": [
    "## Sentiment analysis"
   ]
  },
  {
   "cell_type": "markdown",
   "id": "5b344a5c",
   "metadata": {},
   "source": [
    "### Add the sentiment to the dataframe"
   ]
  },
  {
   "cell_type": "code",
   "execution_count": 17,
   "id": "cc317d84",
   "metadata": {},
   "outputs": [],
   "source": [
    "def add_sentiment(input_str):\n",
    "    return TextBlob(input_str).sentiment.polarity"
   ]
  },
  {
   "cell_type": "code",
   "execution_count": 18,
   "id": "336a6175",
   "metadata": {},
   "outputs": [],
   "source": [
    "review_df['pros_sentiment'] = review_df['pros_clean'].apply(add_sentiment)\n",
    "review_df['cons_sentiment'] = review_df['cons_clean'].apply(add_sentiment)\n",
    "review_df['average_sentiment'] = (review_df['pros_sentiment'] + review_df['cons_sentiment'])/2"
   ]
  },
  {
   "cell_type": "markdown",
   "id": "2c659e29",
   "metadata": {},
   "source": [
    "### Inspect scores, are they reasonable?"
   ]
  },
  {
   "cell_type": "code",
   "execution_count": 19,
   "id": "a695739e",
   "metadata": {},
   "outputs": [
    {
     "name": "stdout",
     "output_type": "stream",
     "text": [
      "Review by a SWE Intern in Menlo Park, CA on 2021-03-04 00:00:00\n",
      "\n",
      "Pros clean (sentiment: 0.04): \n",
      "\n",
      "High salary and fast past.\n",
      "\n",
      "--------------------------------------------------\n",
      "\n",
      "Cons clean (sentiment: 0.00): \n",
      "\n",
      "Low works life balance and.\n"
     ]
    }
   ],
   "source": [
    "review_row = review_df.sample(1).iloc[0].to_dict()\n",
    "print(f\"Review by a {review_row['job_title']} in {review_row['location']} on {review_row['date']}\")\n",
    "print(f\"\\nPros clean (sentiment: {review_row['pros_sentiment']:.2f}): \\n\\n{review_row['pros_clean'].strip()}\")\n",
    "print('\\n' + '-'*50)\n",
    "print(f\"\\nCons clean (sentiment: {review_row['cons_sentiment']:.2f}): \\n\\n{review_row['cons_clean'].strip()}\")"
   ]
  },
  {
   "cell_type": "markdown",
   "id": "d8fd8c2a",
   "metadata": {},
   "source": [
    "### Show summary statistics for the sentiment"
   ]
  },
  {
   "cell_type": "code",
   "execution_count": 20,
   "id": "7a8cb270",
   "metadata": {},
   "outputs": [
    {
     "data": {
      "text/html": [
       "<div>\n",
       "<style scoped>\n",
       "    .dataframe tbody tr th:only-of-type {\n",
       "        vertical-align: middle;\n",
       "    }\n",
       "\n",
       "    .dataframe tbody tr th {\n",
       "        vertical-align: top;\n",
       "    }\n",
       "\n",
       "    .dataframe thead th {\n",
       "        text-align: right;\n",
       "    }\n",
       "</style>\n",
       "<table border=\"1\" class=\"dataframe\">\n",
       "  <thead>\n",
       "    <tr style=\"text-align: right;\">\n",
       "      <th></th>\n",
       "      <th>pros_sentiment</th>\n",
       "      <th>cons_sentiment</th>\n",
       "    </tr>\n",
       "  </thead>\n",
       "  <tbody>\n",
       "    <tr>\n",
       "      <th>count</th>\n",
       "      <td>2290.000000</td>\n",
       "      <td>2290.000000</td>\n",
       "    </tr>\n",
       "    <tr>\n",
       "      <th>mean</th>\n",
       "      <td>0.429227</td>\n",
       "      <td>0.046158</td>\n",
       "    </tr>\n",
       "    <tr>\n",
       "      <th>std</th>\n",
       "      <td>0.280898</td>\n",
       "      <td>0.279836</td>\n",
       "    </tr>\n",
       "    <tr>\n",
       "      <th>min</th>\n",
       "      <td>-1.000000</td>\n",
       "      <td>-1.000000</td>\n",
       "    </tr>\n",
       "    <tr>\n",
       "      <th>25%</th>\n",
       "      <td>0.228921</td>\n",
       "      <td>-0.050000</td>\n",
       "    </tr>\n",
       "    <tr>\n",
       "      <th>50%</th>\n",
       "      <td>0.450000</td>\n",
       "      <td>0.000000</td>\n",
       "    </tr>\n",
       "    <tr>\n",
       "      <th>75%</th>\n",
       "      <td>0.650000</td>\n",
       "      <td>0.200000</td>\n",
       "    </tr>\n",
       "    <tr>\n",
       "      <th>max</th>\n",
       "      <td>1.000000</td>\n",
       "      <td>1.000000</td>\n",
       "    </tr>\n",
       "  </tbody>\n",
       "</table>\n",
       "</div>"
      ],
      "text/plain": [
       "       pros_sentiment  cons_sentiment\n",
       "count     2290.000000     2290.000000\n",
       "mean         0.429227        0.046158\n",
       "std          0.280898        0.279836\n",
       "min         -1.000000       -1.000000\n",
       "25%          0.228921       -0.050000\n",
       "50%          0.450000        0.000000\n",
       "75%          0.650000        0.200000\n",
       "max          1.000000        1.000000"
      ]
     },
     "execution_count": 20,
     "metadata": {},
     "output_type": "execute_result"
    }
   ],
   "source": [
    "review_df[['pros_sentiment', 'cons_sentiment']].describe()"
   ]
  },
  {
   "cell_type": "markdown",
   "id": "0bdca7c1",
   "metadata": {},
   "source": [
    "### Show examples of high and low sentiment reviews"
   ]
  },
  {
   "cell_type": "code",
   "execution_count": 21,
   "id": "ab4fdfe5",
   "metadata": {},
   "outputs": [],
   "source": [
    "top_pos_df = review_df.sort_values(by=['pros_sentiment', 'cons_sentiment'], ascending=False).head(20)\n",
    "top_neg_df = review_df.sort_values(by=['pros_sentiment', 'cons_sentiment'], ascending=True).head(20)"
   ]
  },
  {
   "cell_type": "code",
   "execution_count": 22,
   "id": "7a042d20",
   "metadata": {},
   "outputs": [
    {
     "name": "stdout",
     "output_type": "stream",
     "text": [
      "Very positive review by a Software Engineer in New York, NY on 2021-03-24 00:00:00\n",
      "\n",
      "Pros clean (sentiment: 1.00): \n",
      "\n",
      "best company in the world.\n",
      "\n",
      "--------------------------------------------------\n",
      "\n",
      "Cons clean (sentiment: 0.50): \n",
      "\n",
      "Thank you for doing your part to keep Glassdoor the most trusted.\n"
     ]
    }
   ],
   "source": [
    "review_row = top_pos_df.sample(1).iloc[0].to_dict()\n",
    "print(f\"Very positive review by a {review_row['job_title']} in {review_row['location']} on {review_row['date']}\")\n",
    "print(f\"\\nPros clean (sentiment: {review_row['pros_sentiment']:.2f}): \\n\\n{review_row['pros_clean'].strip()}\")\n",
    "print('\\n' + '-'*50)\n",
    "print(f\"\\nCons clean (sentiment: {review_row['cons_sentiment']:.2f}): \\n\\n{review_row['cons_clean'].strip()}\")"
   ]
  },
  {
   "cell_type": "code",
   "execution_count": 23,
   "id": "f7aefbbe",
   "metadata": {},
   "outputs": [
    {
     "name": "stdout",
     "output_type": "stream",
     "text": [
      "Very negative review by a Technical Sourcer in Austin, TX on 2021-12-02 00:00:00\n",
      "\n",
      "Pros clean (sentiment: -0.12): \n",
      "\n",
      "Facebooks perks are unmatched especially if youre coming from a small company.\n",
      "\n",
      "--------------------------------------------------\n",
      "\n",
      "Cons clean (sentiment: -0.15): \n",
      "\n",
      "hard to get promoted with how massive the company is.\n"
     ]
    }
   ],
   "source": [
    "review_row = top_neg_df.sample(1).iloc[0].to_dict()\n",
    "print(f\"Very negative review by a {review_row['job_title']} in {review_row['location']} on {review_row['date']}\")\n",
    "print(f\"\\nPros clean (sentiment: {review_row['pros_sentiment']:.2f}): \\n\\n{review_row['pros_clean'].strip()}\")\n",
    "print('\\n' + '-'*50)\n",
    "print(f\"\\nCons clean (sentiment: {review_row['cons_sentiment']:.2f}): \\n\\n{review_row['cons_clean'].strip()}\")"
   ]
  },
  {
   "cell_type": "markdown",
   "id": "ad781730",
   "metadata": {},
   "source": [
    "### Did the sentiment change over time?"
   ]
  },
  {
   "cell_type": "code",
   "execution_count": 24,
   "id": "f0c32abe",
   "metadata": {},
   "outputs": [],
   "source": [
    "import seaborn as sns\n",
    "import matplotlib.pyplot as plt\n",
    "## Retina\n",
    "sns.set(style=\"whitegrid\", font_scale=1.2)"
   ]
  },
  {
   "cell_type": "code",
   "execution_count": 25,
   "id": "7ecfd909",
   "metadata": {},
   "outputs": [],
   "source": [
    "graph_df = review_df[review_df.year >= 2017]"
   ]
  },
  {
   "cell_type": "markdown",
   "id": "ee37b53b",
   "metadata": {},
   "source": [
    "#### Pros"
   ]
  },
  {
   "cell_type": "code",
   "execution_count": 26,
   "id": "99030e68",
   "metadata": {},
   "outputs": [
    {
     "data": {
      "text/plain": [
       "Text(0, 0.5, 'Sentiment')"
      ]
     },
     "execution_count": 26,
     "metadata": {},
     "output_type": "execute_result"
    },
    {
     "data": {
      "image/png": "[encoded data removed]",
      "text/plain": [
       "<Figure size 864x432 with 1 Axes>"
      ]
     },
     "metadata": {},
     "output_type": "display_data"
    }
   ],
   "source": [
    "plt.figure(figsize=(12,6))\n",
    "sns.lineplot(y='pros_sentiment', x='year', data=graph_df)\n",
    "\n",
    "## make pretty\n",
    "plt.title('Pros Sentiment over Time')\n",
    "plt.xlabel('Year', labelpad=10)\n",
    "plt.ylabel('Sentiment', labelpad=10)"
   ]
  },
  {
   "cell_type": "markdown",
   "id": "112a8092",
   "metadata": {},
   "source": [
    "#### Cons"
   ]
  },
  {
   "cell_type": "code",
   "execution_count": 27,
   "id": "f7025dad",
   "metadata": {},
   "outputs": [
    {
     "data": {
      "text/plain": [
       "Text(0, 0.5, 'Sentiment')"
      ]
     },
     "execution_count": 27,
     "metadata": {},
     "output_type": "execute_result"
    },
    {
     "data": {
      "image/png": "[encoded data removed]",
      "text/plain": [
       "<Figure size 864x432 with 1 Axes>"
      ]
     },
     "metadata": {},
     "output_type": "display_data"
    }
   ],
   "source": [
    "plt.figure(figsize=(12,6))\n",
    "sns.lineplot(y='cons_sentiment', x='year', data=graph_df)\n",
    "\n",
    "## make pretty\n",
    "plt.title('Cons Sentiment over Time')\n",
    "plt.xlabel('Year', labelpad=10)\n",
    "plt.ylabel('Sentiment', labelpad=10)"
   ]
  },
  {
   "cell_type": "markdown",
   "id": "a32481b0",
   "metadata": {},
   "source": [
    "### Does the average yearly sentiment and the average yearly ratings change similarly over time?"
   ]
  },
  {
   "cell_type": "markdown",
   "id": "e52c2cf3",
   "metadata": {},
   "source": [
    "#### Text sentiment"
   ]
  },
  {
   "cell_type": "code",
   "execution_count": 28,
   "id": "56810e53",
   "metadata": {},
   "outputs": [
    {
     "data": {
      "text/plain": [
       "Text(0, 0.5, 'Sentiment')"
      ]
     },
     "execution_count": 28,
     "metadata": {},
     "output_type": "execute_result"
    },
    {
     "data": {
      "image/png": "[encoded data removed]",
      "text/plain": [
       "<Figure size 864x432 with 1 Axes>"
      ]
     },
     "metadata": {},
     "output_type": "display_data"
    }
   ],
   "source": [
    "plt.figure(figsize=(12,6))\n",
    "sns.lineplot(y='average_sentiment', x='year', data=graph_df)\n",
    "\n",
    "## make pretty\n",
    "plt.title('Average Sentiment over Time')\n",
    "plt.xlabel('Year', labelpad=10)\n",
    "plt.ylabel('Sentiment', labelpad=10)"
   ]
  },
  {
   "cell_type": "markdown",
   "id": "c70945d6",
   "metadata": {},
   "source": [
    "### Rating sentiment"
   ]
  },
  {
   "cell_type": "code",
   "execution_count": 29,
   "id": "af8c1850",
   "metadata": {},
   "outputs": [
    {
     "data": {
      "text/plain": [
       "Text(0, 0.5, 'Rating')"
      ]
     },
     "execution_count": 29,
     "metadata": {},
     "output_type": "execute_result"
    },
    {
     "data": {
      "image/png": "[encoded data removed]",
      "text/plain": [
       "<Figure size 864x432 with 1 Axes>"
      ]
     },
     "metadata": {},
     "output_type": "display_data"
    }
   ],
   "source": [
    "plt.figure(figsize=(12,6))\n",
    "sns.lineplot(y='rating', x='year', data=graph_df)\n",
    "\n",
    "## make pretty\n",
    "plt.title('Average rating over Time')\n",
    "plt.xlabel('Year', labelpad=10)\n",
    "plt.ylabel('Rating', labelpad=10)"
   ]
  },
  {
   "cell_type": "markdown",
   "id": "350969b9",
   "metadata": {},
   "source": [
    "--------\n",
    "# Advanced - LDA model\n",
    "-------"
   ]
  },
  {
   "cell_type": "markdown",
   "id": "837a5347",
   "metadata": {},
   "source": [
    "## Prep the data"
   ]
  },
  {
   "cell_type": "code",
   "execution_count": 30,
   "id": "c30d58ec",
   "metadata": {},
   "outputs": [],
   "source": [
    "from sklearn.decomposition import LatentDirichletAllocation\n",
    "from sklearn.feature_extraction.text import CountVectorizer"
   ]
  },
  {
   "cell_type": "code",
   "execution_count": 31,
   "id": "d182b237",
   "metadata": {},
   "outputs": [],
   "source": [
    "clean_pros_l = review_df['pros_clean_l'].tolist()\n",
    "clean_cons_l = review_df['cons_clean_l'].tolist()"
   ]
  },
  {
   "cell_type": "code",
   "execution_count": 32,
   "id": "9b276f67",
   "metadata": {},
   "outputs": [],
   "source": [
    "vec_pros = CountVectorizer(stop_words='english', max_df=0.95, min_df=2)\n",
    "tf_pros = vec_pros.fit_transform(clean_pros_l)\n",
    "\n",
    "vec_cons = CountVectorizer(stop_words='english', max_df=0.95, min_df=2)\n",
    "tf_cons = vec_cons.fit_transform(clean_cons_l)"
   ]
  },
  {
   "cell_type": "markdown",
   "id": "0e6ddd48",
   "metadata": {},
   "source": [
    "## Train the models"
   ]
  },
  {
   "cell_type": "markdown",
   "id": "46d53bdb",
   "metadata": {},
   "source": [
    "#### Pros"
   ]
  },
  {
   "cell_type": "code",
   "execution_count": 33,
   "id": "d8ec8e4f",
   "metadata": {},
   "outputs": [],
   "source": [
    "n_topics = 6\n",
    "lda_pros = LatentDirichletAllocation(n_components=n_topics, max_iter=10,\n",
    "                                learning_method='online',\n",
    "                                n_jobs=1)\n",
    "lda_f_pros = lda_pros.fit_transform(tf_pros)"
   ]
  },
  {
   "cell_type": "markdown",
   "id": "2c0c0923",
   "metadata": {},
   "source": [
    "#### Cons"
   ]
  },
  {
   "cell_type": "code",
   "execution_count": 34,
   "id": "0e9343f8",
   "metadata": {},
   "outputs": [],
   "source": [
    "n_topics = 6\n",
    "lda_cons = LatentDirichletAllocation(n_components=n_topics, max_iter=10,\n",
    "                                learning_method='online',\n",
    "                                n_jobs=1)\n",
    "lda_f_cons = lda_cons.fit_transform(tf_cons)"
   ]
  },
  {
   "cell_type": "markdown",
   "id": "259cfccb",
   "metadata": {},
   "source": [
    "## Visualize"
   ]
  },
  {
   "cell_type": "code",
   "execution_count": 35,
   "id": "919e147c",
   "metadata": {},
   "outputs": [],
   "source": [
    "import pyLDAvis\n",
    "import pyLDAvis.sklearn\n",
    "pyLDAvis.enable_notebook()"
   ]
  },
  {
   "cell_type": "markdown",
   "id": "3d02ec60",
   "metadata": {},
   "source": [
    "### Pros"
   ]
  },
  {
   "cell_type": "code",
   "execution_count": 36,
   "id": "498ebf2b",
   "metadata": {},
   "outputs": [
    {
     "data": {
      "text/html": [
       "\n",
       "<link rel=\"stylesheet\" type=\"text/css\" href=\"https://cdn.jsdelivr.net/gh/bmabey/pyLDAvis@3.3.1/pyLDAvis/js/ldavis.v1.0.0.css\">\n",
       "\n",
       "\n",
       "<div id=\"ldavis_el440426870660064645726939130\"></div>\n",
       "<script type=\"text/javascript\">\n",
       "\n",
       "var ldavis_el440426870660064645726939130_data = {\"mdsDat\": {\"x\": [0.15240074562750172, 0.2653976953300357, -0.0854904087798692, -0.21045612364209998, 0.0498838526053838, -0.17173576114095218], \"y\": [0.011868762945452027, 0.007001929481439667, -0.3224938471640564, 0.07946379211807432, 0.10821508492444934, 0.11594427769464077], \"topics\": [1, 2, 3, 4, 5, 6], \"cluster\": [1, 1, 1, 1, 1, 1], \"Freq\": [40.05709251171923, 21.192202670460052, 11.647227537116601, 9.945462671048531, 8.641925673773047, 8.516088935882541]}, \"tinfo\": {\"Term\": [\"xd\", \"good\", \"work\", \"great\", \"benefits\", \"food\", \"company\", \"fast\", \"facebook\", \"free\", \"pay\", \"like\", \"culture\", \"people\", \"perks\", \"care\", \"best\", \"salary\", \"employees\", \"love\", \"friendly\", \"amazing\", \"feel\", \"fb\", \"team\", \"smart\", \"im\", \"amp\", \"flexible\", \"health\", \"learn\", \"opportunity\", \"projects\", \"job\", \"time\", \"life\", \"fun\", \"learning\", \"excellent\", \"want\", \"grow\", \"easy\", \"help\", \"peoplexd\", \"smartest\", \"super\", \"incredibly\", \"right\", \"leave\", \"doing\", \"makes\", \"way\", \"youll\", \"engineer\", \"skills\", \"freedom\", \"think\", \"amazing\", \"meals\", \"professional\", \"work\", \"challenging\", \"lot\", \"place\", \"managers\", \"world\", \"experience\", \"day\", \"people\", \"opportunities\", \"best\", \"autonomy\", \"impact\", \"smart\", \"company\", \"great\", \"really\", \"facebook\", \"interesting\", \"benefits\", \"lots\", \"new\", \"working\", \"perks\", \"culture\", \"compensation\", \"career\", \"good\", \"salary\", \"free\", \"strong\", \"food\", \"worklife\", \"competitive\", \"workxd\", \"feedback\", \"offices\", \"solve\", \"generous\", \"atmosphere\", \"decent\", \"research\", \"snacks\", \"quality\", \"package\", \"healthy\", \"treated\", \"emphasis\", \"offers\", \"transportation\", \"projectsxd\", \"taking\", \"drive\", \"overall\", \"ambitious\", \"lunch\", \"brand\", \"position\", \"pay\", \"good\", \"awesome\", \"benefitsxd\", \"benefits\", \"coworkers\", \"great\", \"perks\", \"nice\", \"culture\", \"environment\", \"people\", \"balance\", \"open\", \"compensation\", \"career\", \"smart\", \"growth\", \"leadership\", \"company\", \"working\", \"team\", \"high\", \"xd\", \"hours\", \"talented\", \"collaborative\", \"culturexd\", \"benefit\", \"caring\", \"products\", \"teammates\", \"helpful\", \"fair\", \"year\", \"room\", \"collaboration\", \"payxd\", \"challenges\", \"path\", \"technologies\", \"autonomyxd\", \"leadershipxd\", \"companys\", \"growthxd\", \"compensationxd\", \"understanding\", \"cultures\", \"quite\", \"daytoday\", \"fit\", \"exposure\", \"travel\", \"reach\", \"self\", \"performance\", \"flexible\", \"huge\", \"schedule\", \"supportive\", \"team\", \"bootcamp\", \"given\", \"tons\", \"internal\", \"lots\", \"process\", \"tools\", \"highly\", \"work\", \"coworkers\", \"growth\", \"management\", \"environment\", \"working\", \"manager\", \"ideas\", \"personal\", \"months\", \"encouraged\", \"feels\", \"taken\", \"theres\", \"rewards\", \"changes\", \"supported\", \"onsite\", \"companyxd\", \"today\", \"politics\", \"true\", \"welcoming\", \"startup\", \"believe\", \"gyms\", \"looking\", \"share\", \"public\", \"honest\", \"forward\", \"pro\", \"normal\", \"hardworking\", \"constant\", \"let\", \"like\", \"say\", \"feel\", \"wants\", \"need\", \"driven\", \"social\", \"going\", \"facebook\", \"dont\", \"youre\", \"employees\", \"things\", \"open\", \"transparent\", \"support\", \"having\", \"fb\", \"ive\", \"make\", \"worked\", \"data\", \"truly\", \"cares\", \"team\", \"leadership\", \"place\", \"health\", \"focus\", \"paced\", \"fast\", \"covid\", \"industry\", \"takes\", \"pace\", \"thing\", \"mark\", \"based\", \"inclusive\", \"pto\", \"area\", \"bad\", \"bonus\", \"issues\", \"ceo\", \"list\", \"dynamic\", \"moves\", \"mentorship\", \"salaryxd\", \"wide\", \"difficult\", \"times\", \"scope\", \"moving\", \"oriented\", \"insurance\", \"care\", \"internal\", \"employees\", \"extremely\", \"culture\", \"mission\", \"company\", \"really\", \"good\", \"benefits\", \"engineering\", \"values\", \"transparent\", \"open\", \"people\", \"love\", \"friendly\", \"im\", \"amp\", \"diversity\", \"change\", \"building\", \"money\", \"thats\", \"far\", \"small\", \"doesnt\", \"coming\", \"beautiful\", \"weeks\", \"game\", \"getting\", \"stack\", \"future\", \"bay\", \"mistakes\", \"heard\", \"plus\", \"efforts\", \"live\", \"absolutely\", \"infra\", \"youve\", \"decision\", \"college\", \"groups\", \"making\", \"years\", \"pays\", \"cool\", \"just\", \"different\", \"companies\", \"company\", \"fb\", \"best\", \"big\", \"hard\", \"ive\", \"open\", \"campus\", \"tech\", \"working\", \"really\"], \"Freq\": [602.0, 577.0, 775.0, 800.0, 540.0, 225.0, 407.0, 115.0, 186.0, 161.0, 204.0, 112.0, 358.0, 549.0, 325.0, 102.0, 164.0, 108.0, 135.0, 53.0, 49.0, 192.0, 57.0, 85.0, 165.0, 222.0, 40.0, 40.0, 61.0, 40.0, 109.51063403312237, 88.35153701878733, 90.4495081630808, 65.94259523023423, 64.7532331525673, 88.10173221781335, 65.20973606771517, 57.56962173269489, 55.59379901876872, 49.96135706374364, 43.394329513246404, 37.606783653400754, 35.51267902731069, 33.529946267977216, 32.92441500589349, 34.69335432394886, 29.330394187946954, 27.147362134423346, 26.449436227787803, 25.492499376587876, 25.19758907462255, 41.29056120458229, 24.72671469310292, 24.58375279153009, 24.279911408918856, 42.4100460291142, 21.791068943507494, 185.74548535748877, 20.625750053022802, 20.60699009989693, 734.7523478200177, 63.12305623901662, 127.57095233625328, 120.77474192310355, 41.22439899497952, 64.07303585897071, 46.24576419091062, 45.776885222466646, 367.2149238506563, 95.68766247752077, 125.46032960917746, 71.57037461817845, 114.08961126354937, 153.3704714302858, 218.83649416153744, 360.41680656466053, 92.91564209820652, 113.6979585763118, 70.24466548944105, 204.55640576101794, 85.30571037076425, 55.96825564648179, 87.50882114819358, 126.18163554897203, 126.72249911731187, 76.16794439277486, 67.45960283587439, 79.02005258677984, 106.7522102727854, 159.00845880958033, 55.141761815910755, 221.7970558467018, 48.60608255822969, 39.65458430024185, 26.574943254493267, 24.70761664980639, 23.548061190079437, 18.691069339308182, 18.196917333505343, 19.261275161500798, 16.34225797019498, 15.946266283691092, 15.839898921584895, 15.7980892085388, 11.530387791915146, 11.465275414815377, 10.680435975278398, 10.706001180220653, 10.809509125779876, 9.999143724935204, 9.738769148919246, 9.796080917786218, 9.081193569408137, 26.015974777662635, 8.774368204456309, 12.058513527353337, 7.502646111731679, 7.495472931505254, 184.1334974898836, 458.5970072770564, 59.434378233266365, 37.342691182349235, 303.96866522085054, 55.80325111002237, 421.2811317104473, 186.23600400014237, 63.13422634178128, 181.9449060694321, 84.10320460938377, 166.47777778989723, 48.25017326873663, 51.963271581408094, 52.89941027253984, 48.2012592222616, 67.93804436888509, 47.60848922851164, 38.9241016318445, 59.151174666049606, 37.817489440280085, 33.76206080379804, 28.85180974315752, 601.9854072161285, 33.797402947135694, 32.53156560738779, 28.744712290945237, 26.072040255058525, 22.443243085604827, 22.18921832055517, 36.95706143636903, 20.720136539549944, 20.599732843196556, 19.69534557549481, 18.717531455936278, 17.162074065320535, 16.418808692375606, 21.835776752369352, 22.358122322314482, 10.993799864338278, 10.099065514624222, 9.852402041560518, 9.14938922161947, 8.759855081420032, 8.745081378420956, 7.9418918533516205, 7.649823291617821, 6.992620975087097, 8.83171420282344, 6.792070822313257, 6.635375470624483, 6.261431104106876, 6.223494546760577, 9.255500721080699, 16.50626924616713, 17.100565157888273, 41.80856493200978, 24.436721867364206, 11.756526745230333, 24.129975249429187, 59.82445492399908, 13.365363785252125, 14.355522235838455, 18.32578924114688, 21.93506241206079, 35.60488451080589, 13.861721729708856, 18.38373008846631, 14.2271007570499, 39.53694962204709, 19.544528788764563, 22.39426832174801, 19.37514650135087, 19.105351370153873, 18.695652309090054, 30.25400848228057, 23.979697646705873, 23.40317645618782, 17.61258547801688, 16.873137593822758, 16.42517712660173, 12.708840929929684, 11.752561780467008, 11.688753456546307, 10.555038373710525, 10.139077381552157, 10.3296674122968, 9.97228311777592, 9.112981997089022, 9.106340625532496, 8.985631222594057, 8.750344421412628, 8.644770316274036, 8.378329303364673, 8.30023902509139, 7.988813279056923, 7.734543708432621, 8.66185918368974, 7.137235441247373, 7.04393111041494, 6.987785389655737, 7.154020240226499, 6.742787204991719, 6.121688893141695, 6.12370779759948, 99.26027104907519, 12.336810699660436, 48.02156818436728, 10.119426493596261, 17.658132289367227, 26.046789833261055, 20.024062105495485, 16.186716599271755, 72.5356229642979, 19.669988588498605, 25.9028965357543, 40.4561754609015, 25.024040636102857, 30.27111081254728, 20.610272991760432, 22.217429043971524, 13.84961205213934, 23.515270955650227, 22.15862835460774, 19.24442823128994, 17.36149800266354, 13.521517419943265, 15.608278593330802, 13.922948617969478, 15.522179886447246, 14.517118520437466, 14.57791630253659, 39.65729693683393, 32.542887685587175, 29.95676162042139, 112.37768311226375, 26.890110020106324, 28.71278894264248, 21.427984989050312, 20.114058868583108, 18.619914492877694, 15.936441491133188, 15.465025395374093, 14.392158115181473, 15.389007776487993, 15.283522150715028, 13.917237480268275, 13.242667298765687, 13.102051941902898, 12.168357403259243, 12.290966719883867, 12.18128656939541, 12.143806109197753, 11.177525167627072, 11.100586836893282, 10.677550603240693, 11.10418892731969, 10.175102643329966, 9.216798791889385, 12.07243464301375, 9.03288854171428, 11.011823466347208, 61.099251651508695, 22.471596761895785, 37.1461298125652, 16.142795891657514, 42.88004150803238, 18.23315220255381, 38.973738663143536, 26.02806390692317, 35.566872942096744, 30.255051631118867, 15.791967172592244, 14.380957831719353, 14.277494082760478, 14.899874683606335, 15.178657134854868, 52.53189994582159, 48.66915875861101, 39.82614862308755, 39.81504875917535, 29.921428767659243, 20.16839253433702, 18.14801776490347, 17.152507436853377, 16.938547965411324, 12.741439643352656, 12.486089672605157, 11.736256930723215, 10.115891387007702, 9.680194699524908, 9.48707681845171, 9.235482980977716, 9.047245103462538, 9.108737451755324, 8.84006010481986, 8.416956513165198, 7.971948767515314, 9.659826553648077, 7.438236007297396, 6.961054174690532, 6.772395733962275, 6.531581159834685, 6.431500306090651, 6.121635896623928, 16.91884088418184, 6.113432817673134, 13.628866118840488, 23.570712421982513, 25.921384009571337, 8.415384635426387, 21.516326483945075, 30.31735651509001, 20.259697876041564, 24.428637860681835, 90.47207701087135, 28.474586129434346, 38.33672390935815, 18.19277605377303, 16.87476256138751, 19.46928756547707, 17.572954980316347, 12.66716337508881, 12.561962588964372, 15.172234654136489, 12.266642973048098], \"Total\": [602.0, 577.0, 775.0, 800.0, 540.0, 225.0, 407.0, 115.0, 186.0, 161.0, 204.0, 112.0, 358.0, 549.0, 325.0, 102.0, 164.0, 108.0, 135.0, 53.0, 49.0, 192.0, 57.0, 85.0, 165.0, 222.0, 40.0, 40.0, 61.0, 40.0, 110.42494429495397, 89.12369210552116, 91.25742045487286, 66.708607442423, 65.51768180491479, 89.20718478509878, 66.0473820637382, 58.33239085491051, 56.39626036614777, 50.77249720606789, 44.154859469932916, 38.37037128002303, 36.27862879301585, 34.294682999839814, 33.685279711525084, 35.52732773296128, 30.095791212907777, 27.912304008536687, 27.219228947211878, 26.254796173578594, 25.962393546565952, 42.562799393329634, 25.49299023368477, 25.34754819854521, 25.040663529023387, 43.781834719998486, 22.56357762733263, 192.63720180454385, 21.404869595056432, 21.414759017497246, 775.3458999767656, 65.75990252837175, 143.1454847219062, 135.96243248299834, 44.64836620886914, 73.55437225395633, 51.13690448572155, 50.96384761488985, 549.9858529588691, 118.738414692297, 164.41512973195032, 86.17397550615375, 151.5479181069556, 222.3185168850093, 407.7389638667137, 800.8994665395492, 139.03848054278936, 186.84431325701306, 94.39293599577856, 540.1800643979828, 140.4052450060994, 69.79055388061094, 159.5014885666526, 325.0678133448075, 358.43582636315443, 138.1750822402105, 118.24628510808867, 577.2001637265012, 108.07769771116347, 161.02180049322212, 55.91507839118976, 225.64501837473523, 49.50623211915175, 40.412890251499306, 27.33937940517764, 25.497570980917065, 24.316137534342516, 19.459303964559844, 18.96374346151132, 20.125372048619102, 17.09949116759601, 16.711532844622283, 16.606763063371208, 16.619845515219513, 12.2950631823648, 12.231175037150235, 11.440500093228971, 11.479413881715635, 11.590410978758575, 10.776314399134886, 10.498578372685301, 10.58044100742716, 9.851936152191932, 28.27369495076037, 9.54482125068236, 13.229208720331993, 8.257237035836678, 8.258512846127097, 204.9462671651553, 577.2001637265012, 71.25807811281635, 44.24952459248238, 540.1800643979828, 77.51487091753056, 800.8994665395492, 325.0678133448075, 93.37501879604748, 358.43582636315443, 157.58985319161283, 549.9858529588691, 94.96187669000494, 116.94139721758194, 138.1750822402105, 118.24628510808867, 222.3185168850093, 131.7896128214083, 90.97906066676404, 407.7389638667137, 159.5014885666526, 165.2823643259472, 77.99519704711905, 602.7512692238154, 34.55435464334759, 33.29170301182792, 29.504000658801683, 26.829299538762783, 23.20223032690556, 22.948320387329442, 38.29686245254977, 21.477715108978018, 21.359041651029504, 20.46095393543298, 19.485071406342737, 17.91825336104958, 17.18249512143268, 22.938226385466695, 23.595880703717206, 11.75051058958924, 10.857492630881433, 10.6079001926487, 9.917874068834708, 9.51773507634377, 9.537734222880863, 8.699532399732218, 8.405591983127655, 7.74996115121825, 9.796109189177162, 7.550823356437939, 7.397099901002525, 7.02033504734288, 6.983052818863267, 10.405730162895157, 19.32960212466356, 20.168177695349065, 61.651493118310334, 34.122567229329476, 14.672907208101096, 37.60927914020441, 165.2823643259472, 19.19569545455699, 21.645859909347944, 34.73461231551733, 48.90177026154597, 140.4052450060994, 22.081645095269604, 54.80794972791308, 26.14715516907473, 775.3458999767656, 77.51487091753056, 131.7896128214083, 77.8530348730351, 157.58985319161283, 159.5014885666526, 31.025470171538846, 24.737621826372628, 24.163104699312264, 18.372259588977144, 17.630778023941957, 17.18594118512079, 13.46766735095044, 12.506798645179511, 12.4516235566465, 11.313884735384732, 10.897567198011473, 11.104855031212281, 10.731054704724079, 9.87066909999033, 9.877825108754438, 9.763077490492517, 9.509785268111886, 9.39973834886882, 9.13758161374631, 9.070014536147266, 8.744497878393306, 8.489526941561028, 9.529176128382185, 7.896304848024252, 7.79782480285514, 7.743709751602244, 7.9547062401092825, 7.502610605545068, 6.8756611855443355, 6.8788937522969915, 112.84234420886638, 14.036906869531752, 57.616888022392835, 11.584266426210029, 21.73892667079209, 34.41948708259482, 25.555246091951144, 21.427288637978133, 186.84431325701306, 36.295676666270865, 59.96386520126234, 135.3569923724912, 73.68306183689249, 116.94139721758194, 53.818729787297094, 64.0249770911415, 23.914389763797526, 85.94797952691005, 85.6593037423395, 77.68767941120468, 56.51251527353472, 28.11090432312852, 54.0238786263095, 37.250053579665234, 165.2823643259472, 90.97906066676404, 135.96243248299834, 40.44279615328926, 33.30426329808969, 30.731009817195524, 115.40559679453762, 27.644925988688072, 29.554702381862114, 22.185381643045982, 20.867615917156023, 19.3818069443806, 16.701937522077042, 16.225206824597546, 15.147041060323524, 16.200145052528363, 16.094322241347616, 14.67381724042261, 13.99644434050056, 13.875603673097592, 12.922662513652591, 13.05312722866281, 12.940521693622415, 12.93023158211114, 11.932765695069177, 11.856019193221686, 11.43722396678673, 11.933957067059662, 10.942512570500206, 9.973832629895469, 13.079561829259795, 9.797579449248769, 11.980590089463382, 102.6738006791859, 48.90177026154597, 135.3569923724912, 28.65130462692904, 358.43582636315443, 43.33192682223507, 407.7389638667137, 139.03848054278936, 577.2001637265012, 540.1800643979828, 49.25707534006555, 35.80176628248181, 53.818729787297094, 116.94139721758194, 549.9858529588691, 53.31376895431749, 49.42504639026542, 40.607785677917256, 40.71464543707811, 30.820836046616233, 20.925897132962874, 18.908346572294917, 17.905781568087612, 17.694664015291455, 13.494796169605802, 13.239605541129052, 12.489565020309167, 10.870733202767724, 10.433857026893783, 10.245373419199531, 9.989476922564153, 9.801699445044637, 9.889844710100986, 9.607636849188351, 9.17403011135936, 8.729487486386912, 10.607254606880518, 8.194505301026368, 7.723662334820342, 7.526076377356059, 7.285382308178202, 7.1852793120479275, 6.8760228773841545, 19.012229410870315, 6.872569909352567, 15.381825371710296, 26.945961686835428, 30.091409395886494, 9.738113586332403, 31.9402552972942, 52.47876811572546, 35.12587320325201, 47.32146982579142, 407.7389638667137, 85.94797952691005, 164.41512973195032, 43.06748421656404, 37.351426780102436, 85.6593037423395, 116.94139721758194, 34.49495340174733, 47.715886393610035, 159.5014885666526, 139.03848054278936], \"Category\": [\"Default\", \"Default\", \"Default\", \"Default\", \"Default\", \"Default\", \"Default\", \"Default\", \"Default\", \"Default\", \"Default\", \"Default\", \"Default\", \"Default\", \"Default\", \"Default\", \"Default\", \"Default\", \"Default\", \"Default\", \"Default\", \"Default\", \"Default\", \"Default\", \"Default\", \"Default\", \"Default\", \"Default\", \"Default\", \"Default\", \"Topic1\", \"Topic1\", \"Topic1\", \"Topic1\", \"Topic1\", \"Topic1\", \"Topic1\", \"Topic1\", \"Topic1\", \"Topic1\", \"Topic1\", \"Topic1\", \"Topic1\", \"Topic1\", \"Topic1\", \"Topic1\", \"Topic1\", \"Topic1\", \"Topic1\", \"Topic1\", \"Topic1\", \"Topic1\", \"Topic1\", \"Topic1\", \"Topic1\", \"Topic1\", \"Topic1\", \"Topic1\", \"Topic1\", \"Topic1\", \"Topic1\", \"Topic1\", \"Topic1\", \"Topic1\", \"Topic1\", \"Topic1\", \"Topic1\", \"Topic1\", \"Topic1\", \"Topic1\", \"Topic1\", \"Topic1\", \"Topic1\", \"Topic1\", \"Topic1\", \"Topic1\", \"Topic1\", \"Topic1\", \"Topic1\", \"Topic1\", \"Topic1\", \"Topic1\", \"Topic1\", \"Topic1\", \"Topic1\", \"Topic1\", \"Topic1\", \"Topic1\", \"Topic2\", \"Topic2\", \"Topic2\", \"Topic2\", \"Topic2\", \"Topic2\", \"Topic2\", \"Topic2\", \"Topic2\", \"Topic2\", \"Topic2\", \"Topic2\", \"Topic2\", \"Topic2\", \"Topic2\", \"Topic2\", \"Topic2\", \"Topic2\", \"Topic2\", \"Topic2\", \"Topic2\", \"Topic2\", \"Topic2\", \"Topic2\", \"Topic2\", \"Topic2\", \"Topic2\", \"Topic2\", \"Topic2\", \"Topic2\", \"Topic2\", \"Topic2\", \"Topic2\", \"Topic2\", \"Topic2\", \"Topic2\", \"Topic2\", \"Topic2\", \"Topic2\", \"Topic2\", \"Topic2\", \"Topic2\", \"Topic2\", \"Topic2\", \"Topic2\", \"Topic2\", \"Topic2\", \"Topic2\", \"Topic2\", \"Topic2\", \"Topic2\", \"Topic2\", \"Topic2\", \"Topic3\", \"Topic3\", \"Topic3\", \"Topic3\", \"Topic3\", \"Topic3\", \"Topic3\", \"Topic3\", \"Topic3\", \"Topic3\", \"Topic3\", \"Topic3\", \"Topic3\", \"Topic3\", \"Topic3\", \"Topic3\", \"Topic3\", \"Topic3\", \"Topic3\", \"Topic3\", \"Topic3\", \"Topic3\", \"Topic3\", \"Topic3\", \"Topic3\", \"Topic3\", \"Topic3\", \"Topic3\", \"Topic3\", \"Topic3\", \"Topic3\", \"Topic3\", \"Topic3\", \"Topic3\", \"Topic3\", \"Topic3\", \"Topic3\", \"Topic3\", \"Topic3\", \"Topic3\", \"Topic3\", \"Topic3\", \"Topic3\", \"Topic3\", \"Topic3\", \"Topic3\", \"Topic3\", \"Topic3\", \"Topic3\", \"Topic3\", \"Topic3\", \"Topic3\", \"Topic4\", \"Topic4\", \"Topic4\", \"Topic4\", \"Topic4\", \"Topic4\", \"Topic4\", \"Topic4\", \"Topic4\", \"Topic4\", \"Topic4\", \"Topic4\", \"Topic4\", \"Topic4\", \"Topic4\", \"Topic4\", \"Topic4\", \"Topic4\", \"Topic4\", \"Topic4\", \"Topic4\", \"Topic4\", \"Topic4\", \"Topic4\", \"Topic4\", \"Topic4\", \"Topic4\", \"Topic4\", \"Topic4\", \"Topic4\", \"Topic4\", \"Topic4\", \"Topic4\", \"Topic4\", \"Topic4\", \"Topic4\", \"Topic4\", \"Topic4\", \"Topic4\", \"Topic4\", \"Topic4\", \"Topic4\", \"Topic4\", \"Topic4\", \"Topic4\", \"Topic4\", \"Topic4\", \"Topic4\", \"Topic4\", \"Topic4\", \"Topic4\", \"Topic4\", \"Topic4\", \"Topic4\", \"Topic4\", \"Topic4\", \"Topic4\", \"Topic5\", \"Topic5\", \"Topic5\", \"Topic5\", \"Topic5\", \"Topic5\", \"Topic5\", \"Topic5\", \"Topic5\", \"Topic5\", \"Topic5\", \"Topic5\", \"Topic5\", \"Topic5\", \"Topic5\", \"Topic5\", \"Topic5\", \"Topic5\", \"Topic5\", \"Topic5\", \"Topic5\", \"Topic5\", \"Topic5\", \"Topic5\", \"Topic5\", \"Topic5\", \"Topic5\", \"Topic5\", \"Topic5\", \"Topic5\", \"Topic5\", \"Topic5\", \"Topic5\", \"Topic5\", \"Topic5\", \"Topic5\", \"Topic5\", \"Topic5\", \"Topic5\", \"Topic5\", \"Topic5\", \"Topic5\", \"Topic5\", \"Topic5\", \"Topic5\", \"Topic6\", \"Topic6\", \"Topic6\", \"Topic6\", \"Topic6\", \"Topic6\", \"Topic6\", \"Topic6\", \"Topic6\", \"Topic6\", \"Topic6\", \"Topic6\", \"Topic6\", \"Topic6\", \"Topic6\", \"Topic6\", \"Topic6\", \"Topic6\", \"Topic6\", \"Topic6\", \"Topic6\", \"Topic6\", \"Topic6\", \"Topic6\", \"Topic6\", \"Topic6\", \"Topic6\", \"Topic6\", \"Topic6\", \"Topic6\", \"Topic6\", \"Topic6\", \"Topic6\", \"Topic6\", \"Topic6\", \"Topic6\", \"Topic6\", \"Topic6\", \"Topic6\", \"Topic6\", \"Topic6\", \"Topic6\", \"Topic6\", \"Topic6\", \"Topic6\", \"Topic6\", \"Topic6\", \"Topic6\", \"Topic6\"], \"logprob\": [30.0, 29.0, 28.0, 27.0, 26.0, 25.0, 24.0, 23.0, 22.0, 21.0, 20.0, 19.0, 18.0, 17.0, 16.0, 15.0, 14.0, 13.0, 12.0, 11.0, 10.0, 9.0, 8.0, 7.0, 6.0, 5.0, 4.0, 3.0, 2.0, 1.0, -4.4901, -4.7048, -4.6813, -4.9973, -5.0155, -4.7076, -5.0085, -5.1331, -5.168, -5.2748, -5.4158, -5.5589, -5.6162, -5.6736, -5.6919, -5.6395, -5.8075, -5.8848, -5.9108, -5.9477, -5.9593, -5.4654, -5.9782, -5.984, -5.9964, -5.4387, -6.1046, -3.9617, -6.1595, -6.1604, -2.5865, -5.041, -4.3374, -4.3922, -5.467, -5.0261, -5.3521, -5.3623, -3.2801, -4.625, -4.3541, -4.9154, -4.4491, -4.1532, -3.7978, -3.2988, -4.6544, -4.4525, -4.9341, -3.8652, -4.7398, -5.1613, -4.7143, -4.3484, -4.3441, -4.8531, -4.9746, -4.8164, -3.8789, -3.4804, -4.5395, -3.1476, -4.6657, -4.8692, -5.2694, -5.3423, -5.3904, -5.6214, -5.6482, -5.5913, -5.7557, -5.7802, -5.7869, -5.7895, -6.1044, -6.1101, -6.181, -6.1786, -6.169, -6.2469, -6.2733, -6.2674, -6.3432, -5.2907, -6.3776, -6.0596, -6.5342, -6.5351, -3.3337, -2.4212, -4.4645, -4.9293, -2.8325, -4.5276, -2.5061, -3.3224, -4.4041, -3.3457, -4.1174, -3.4345, -4.673, -4.5989, -4.581, -4.674, -4.3308, -4.6864, -4.8878, -4.4693, -4.9166, -5.0301, -5.1872, -1.5506, -4.4305, -4.4686, -4.5924, -4.69, -4.8399, -4.8512, -4.3411, -4.9197, -4.9256, -4.9705, -5.0214, -5.1081, -5.1524, -4.8673, -4.8437, -5.5535, -5.6384, -5.6631, -5.7372, -5.7807, -5.7824, -5.8787, -5.9162, -6.006, -5.7725, -6.0351, -6.0584, -6.1164, -6.1225, -5.7256, -5.1471, -5.1117, -4.2177, -4.7548, -5.4864, -4.7674, -3.8594, -5.3582, -5.2867, -5.0425, -4.8628, -4.3784, -5.3217, -5.0394, -5.2957, -4.2736, -4.9781, -4.842, -4.9869, -5.0009, -5.0226, -4.3833, -4.6157, -4.64, -4.9243, -4.9672, -4.9941, -5.2506, -5.3288, -5.3343, -5.4363, -5.4765, -5.4579, -5.4931, -5.5832, -5.5839, -5.5973, -5.6238, -5.6359, -5.6672, -5.6766, -5.7148, -5.7472, -5.634, -5.8276, -5.8407, -5.8487, -5.8252, -5.8844, -5.9811, -5.9807, -3.1951, -5.2803, -3.9212, -5.4784, -4.9217, -4.533, -4.796, -5.0087, -3.5088, -4.8138, -4.5385, -4.0927, -4.5731, -4.3827, -4.7671, -4.692, -5.1646, -4.6352, -4.6947, -4.8357, -4.9386, -5.1886, -5.0451, -5.1594, -5.0506, -5.1176, -5.1134, -3.9721, -4.1698, -4.2526, -2.9305, -4.3606, -4.2951, -4.5877, -4.651, -4.7282, -4.8838, -4.9138, -4.9857, -4.9187, -4.9256, -5.0193, -5.069, -5.0796, -5.1536, -5.1435, -5.1525, -5.1556, -5.2385, -5.2454, -5.2843, -5.2451, -5.3325, -5.4314, -5.1615, -5.4515, -5.2534, -3.5399, -4.5401, -4.0375, -4.8709, -3.894, -4.7492, -3.9895, -4.3932, -4.081, -4.2427, -4.8929, -4.9865, -4.9937, -4.951, -4.9325, -3.6763, -3.7527, -3.9532, -3.9535, -4.2392, -4.6336, -4.7392, -4.7956, -4.8081, -5.0929, -5.1131, -5.175, -5.3236, -5.3676, -5.3878, -5.4147, -5.4353, -5.4285, -5.4584, -5.5075, -5.5618, -5.3698, -5.6311, -5.6974, -5.7249, -5.7611, -5.7765, -5.8259, -4.8093, -5.8272, -5.0255, -4.4777, -4.3827, -5.5077, -4.5689, -4.226, -4.6291, -4.442, -3.1327, -4.2887, -3.9913, -4.7367, -4.8119, -4.6689, -4.7714, -5.0987, -5.1071, -4.9183, -5.1308], \"loglift\": [30.0, 29.0, 28.0, 27.0, 26.0, 25.0, 24.0, 23.0, 22.0, 21.0, 20.0, 19.0, 18.0, 17.0, 16.0, 15.0, 14.0, 13.0, 12.0, 11.0, 10.0, 9.0, 8.0, 7.0, 6.0, 5.0, 4.0, 3.0, 2.0, 1.0, 0.9066, 0.9062, 0.906, 0.9033, 0.9031, 0.9024, 0.9021, 0.9017, 0.9005, 0.8988, 0.8975, 0.8948, 0.8935, 0.8923, 0.892, 0.8911, 0.8891, 0.8871, 0.8862, 0.8854, 0.885, 0.8845, 0.8843, 0.8843, 0.884, 0.883, 0.88, 0.8784, 0.8778, 0.8764, 0.8611, 0.8739, 0.7997, 0.7964, 0.8351, 0.7769, 0.8143, 0.8075, 0.5109, 0.699, 0.6445, 0.7292, 0.6309, 0.5436, 0.2926, 0.1164, 0.5118, 0.4181, 0.6194, -0.0562, 0.4166, 0.6942, 0.3146, -0.0314, -0.1249, 0.3193, 0.3536, -1.0736, 1.5392, 1.539, 1.5376, 1.5343, 1.5332, 1.5326, 1.5232, 1.5201, 1.5194, 1.5113, 1.5103, 1.5077, 1.5062, 1.5047, 1.5043, 1.5008, 1.4873, 1.4869, 1.4828, 1.4818, 1.4818, 1.4767, 1.4764, 1.4745, 1.4701, 1.4683, 1.4674, 1.4589, 1.4557, 1.4546, 1.4445, 1.3215, 1.3701, 1.3818, 0.9766, 1.2229, 0.9091, 0.9945, 1.1602, 0.8735, 0.9236, 0.3565, 0.8745, 0.7404, 0.5914, 0.6542, 0.366, 0.5333, 0.7025, -0.379, 0.1123, -0.0368, 0.5571, 2.1488, 2.128, 2.127, 2.124, 2.1215, 2.1168, 2.1165, 2.1145, 2.1142, 2.1139, 2.112, 2.1099, 2.107, 2.1046, 2.1008, 2.0962, 2.0835, 2.0777, 2.0762, 2.0695, 2.0671, 2.0633, 2.059, 2.0559, 2.0473, 2.0465, 2.0442, 2.0414, 2.0357, 2.0349, 2.033, 1.9922, 1.9851, 1.7617, 1.8162, 1.9285, 1.7063, 1.1339, 1.7881, 1.7394, 1.5107, 1.3484, 0.7781, 1.6845, 1.0577, 1.5415, -0.826, 0.7723, 0.3777, 0.7593, 0.0401, 0.0063, 2.2829, 2.2769, 2.2761, 2.2658, 2.2641, 2.2628, 2.2501, 2.2459, 2.2448, 2.2386, 2.2359, 2.2357, 2.2347, 2.2282, 2.2267, 2.2251, 2.2248, 2.2243, 2.2213, 2.2194, 2.2177, 2.2149, 2.2126, 2.207, 2.2064, 2.2053, 2.202, 2.2013, 2.1919, 2.1918, 2.1798, 2.179, 2.1259, 2.1729, 2.1001, 2.0293, 2.0641, 2.0276, 1.3619, 1.6954, 1.4687, 1.1004, 1.2281, 0.9566, 1.3482, 1.2497, 1.7618, 1.012, 0.9559, 0.9126, 1.1278, 1.5762, 1.0664, 1.3239, -0.0573, 0.4728, 0.0752, 2.4289, 2.4254, 2.423, 2.422, 2.4209, 2.4196, 2.4138, 2.4118, 2.4084, 2.4016, 2.4006, 2.3974, 2.3972, 2.3969, 2.3956, 2.3932, 2.3912, 2.3884, 2.3884, 2.3881, 2.3858, 2.3832, 2.3827, 2.3798, 2.3765, 2.3758, 2.3696, 2.3684, 2.3673, 2.3642, 1.9295, 1.671, 1.1555, 1.8748, 0.3252, 1.5829, 0.1008, 0.773, -0.3382, -0.4337, 1.311, 1.5365, 1.1216, 0.3882, -1.1415, 2.4484, 2.4478, 2.4438, 2.4409, 2.4336, 2.4263, 2.4222, 2.4202, 2.4195, 2.4058, 2.4046, 2.401, 2.3912, 2.3882, 2.3863, 2.3847, 2.3831, 2.3809, 2.3799, 2.3771, 2.3724, 2.3697, 2.3664, 2.3593, 2.3577, 2.354, 2.3524, 2.347, 2.3466, 2.3462, 2.3422, 2.3294, 2.314, 2.3172, 2.0682, 1.9145, 1.9129, 1.802, 0.9576, 1.3585, 1.0072, 1.6015, 1.6687, 0.9817, 0.5679, 1.4614, 1.1286, 0.1106, 0.0353]}, \"token.table\": {\"Topic\": [6, 1, 2, 3, 6, 2, 6, 5, 2, 1, 3, 3, 2, 3, 5, 1, 2, 5, 6, 6, 4, 3, 1, 2, 3, 5, 1, 2, 3, 1, 6, 1, 2, 5, 6, 5, 1, 3, 2, 6, 1, 2, 6, 1, 2, 5, 1, 2, 4, 6, 1, 2, 4, 3, 5, 3, 1, 2, 6, 4, 3, 3, 6, 6, 1, 6, 1, 2, 5, 6, 3, 4, 1, 2, 5, 3, 2, 4, 2, 6, 5, 2, 3, 5, 1, 2, 3, 4, 5, 3, 3, 1, 3, 4, 1, 2, 4, 5, 3, 2, 2, 6, 1, 2, 6, 5, 6, 6, 1, 1, 4, 6, 2, 4, 5, 5, 1, 6, 2, 1, 2, 4, 5, 6, 4, 1, 1, 3, 5, 1, 2, 3, 5, 1, 1, 2, 6, 3, 1, 5, 1, 4, 3, 6, 1, 2, 5, 1, 4, 6, 2, 1, 4, 6, 4, 3, 1, 3, 5, 1, 2, 6, 4, 1, 2, 1, 2, 6, 1, 6, 6, 2, 6, 3, 4, 6, 1, 4, 1, 2, 5, 6, 1, 2, 3, 5, 2, 6, 1, 1, 2, 3, 3, 4, 1, 6, 4, 1, 4, 5, 2, 6, 1, 3, 1, 2, 1, 2, 3, 4, 3, 3, 6, 4, 6, 1, 2, 3, 5, 5, 1, 5, 6, 5, 1, 2, 3, 5, 6, 5, 1, 3, 4, 6, 1, 1, 2, 6, 1, 2, 3, 4, 5, 6, 3, 1, 1, 1, 4, 1, 1, 4, 6, 5, 6, 4, 1, 3, 4, 5, 1, 2, 3, 5, 6, 1, 2, 1, 3, 4, 1, 2, 3, 6, 1, 2, 3, 4, 4, 1, 2, 5, 1, 5, 1, 4, 5, 6, 6, 4, 5, 5, 4, 5, 1, 2, 4, 1, 2, 6, 4, 2, 2, 4, 1, 2, 4, 5, 6, 1, 2, 1, 5, 2, 3, 5, 5, 2, 3, 1, 2, 5, 1, 6, 3, 1, 2, 4, 5, 1, 3, 6, 1, 2, 3, 5, 4, 1, 4, 6, 4, 2, 4, 1, 3, 1, 3, 1, 1, 2, 5, 4, 2, 3, 3, 4, 1, 2, 5, 6, 2, 4, 1, 3, 1, 2, 5, 1, 4, 3, 6, 5, 3, 5, 4, 1, 6, 1, 2, 1, 2, 3, 4, 2, 6, 4, 2, 1, 1, 4, 4, 2, 3, 4, 5, 2, 3, 1, 2, 3, 4, 6, 3, 2, 4, 6, 3, 6, 4, 5, 1, 4, 1, 1, 5, 4, 2, 3, 4, 1, 2, 3, 5, 1, 2, 4, 5, 2, 3, 2, 4, 1, 4, 5, 3, 1, 4, 5, 1, 1, 4, 1, 4, 6, 4, 5, 1, 3, 1, 4, 1, 2, 3, 6, 2, 2, 1, 2, 3, 5, 3, 3, 1, 4, 6, 1, 1, 4, 6, 6], \"Freq\": [0.9608280943804628, 0.9655455865099298, 0.005191105303816827, 0.01557331591145048, 0.010382210607633655, 0.9429197010218068, 0.9824474601361186, 0.9320056958635876, 0.9440819257452525, 0.8355190714725518, 0.16246204167521838, 0.9426936357234983, 0.8279763019512081, 0.15436846307564897, 0.9540803030743482, 0.48440491704016264, 0.505466000389735, 0.9244874448848244, 0.8720267867983488, 0.9584183465639318, 0.8755051761141082, 0.9481847085402199, 0.3795030833440093, 0.5627753040808724, 0.0018512345528976064, 0.05553703658692819, 0.09039645141587727, 0.8361671755968647, 0.06779733856190795, 0.7602706648943459, 0.23112228212788113, 0.34829060189754246, 0.139316240759017, 0.09287749383934465, 0.417948722277051, 0.928807323041523, 0.2604750638931927, 0.677235166122301, 0.9688470810853242, 0.9519605498650076, 0.2898974781480196, 0.31888722596282154, 0.37686672159242546, 0.3798437356172216, 0.01947916592908829, 0.5941145608371928, 0.5666139950084305, 0.405932414334398, 0.00845692529863329, 0.01691385059726658, 0.40268398454568893, 0.21476479175770077, 0.3758383855759763, 0.9586758258851465, 0.9286012063939755, 0.932366131031261, 0.9580306171046861, 0.03041367038427575, 0.9557535274554905, 0.9722566790517988, 0.9311802440171981, 0.9829175485511207, 0.873035862732349, 0.9199011523393811, 0.4649052550774624, 0.5071693691754136, 0.5371083448173699, 0.14470042166312708, 0.0956494312688467, 0.22072945677426162, 0.9456031217310729, 0.9318748506237462, 0.5500268121272242, 0.38357132950977474, 0.0651347540676976, 0.9195896552148307, 0.989783204098252, 0.8726433484847449, 0.31308453570335565, 0.6887859785473824, 0.9766710900599999, 0.7224420209585254, 0.25801500748518763, 0.025801500748518762, 0.3543172603268963, 0.5077617431456309, 0.013949498438066785, 0.002789899687613357, 0.11996568656737434, 0.9032303341158864, 0.9690897804631605, 0.17786692105405522, 0.3201604578972994, 0.4980273789513546, 0.9026006110763194, 0.019621752414702594, 0.07848700965881038, 0.019621752414702594, 0.9270512193920813, 0.9357003575825943, 0.052597724253645194, 0.8941613123119683, 0.39856660413793943, 0.02846904315270996, 0.5693808630541992, 0.9217395318408185, 0.9733674957624535, 0.9608020760120076, 0.9522069733361194, 0.27551490751770114, 0.5510298150354023, 0.16530894451062067, 0.9135260177257252, 0.7553860386591185, 0.23242647343357492, 0.9273196463102458, 0.9903474668691606, 0.9063058037172498, 0.9582370766786932, 0.29551484041491793, 0.12559380717634014, 0.29551484041491793, 0.2733512273837991, 0.007387871010372949, 0.9642229047926653, 0.9862886857607335, 0.507541298938329, 0.16241321566026526, 0.3248264313205305, 0.3109337245236285, 0.533029242040506, 0.12056613808059063, 0.031727931073839644, 0.9929736410965002, 0.899546041408199, 0.07822139490506079, 0.019555348726265197, 0.8546600638769989, 0.4188290954374669, 0.5584387939166225, 0.6101336348577422, 0.39069960828609807, 0.9774715325156601, 0.9633342983927221, 0.008665091016169262, 0.017330182032338524, 0.9704901938109572, 0.38395317937250406, 0.2792386759072757, 0.325778455225155, 0.9804855536517789, 0.05206806724504191, 0.8330890759206706, 0.12149215690509779, 0.9309935270727243, 0.9463168124917839, 0.3081839390903097, 0.6812487074627899, 0.9908641336586136, 0.004431739761873541, 0.9838462271359262, 0.008863479523747083, 0.8976862364793038, 0.006210339202126193, 0.9874439331380647, 0.9593019632138763, 0.02284052293366372, 0.9914001822697502, 0.9841419594386431, 0.9367548067514975, 0.9009480746355066, 0.9491796826155485, 0.918208117935105, 0.6467749518213404, 0.04619821084438146, 0.2771892650662887, 0.23334730233380555, 0.7467113674681778, 0.1368675980442603, 0.7952180696495631, 0.0623700446783971, 0.005197503723199759, 0.4494946182889271, 0.5256589841656619, 0.01748034626679161, 0.006242980809568432, 0.06501178994264, 0.9101650591969599, 0.9738452463942431, 0.46285893625518704, 0.36421686787293406, 0.1669327311084281, 0.9436203389279975, 0.882027252339798, 0.5354547797529985, 0.4551365627900487, 0.9330085710201198, 0.3763424485798307, 0.5854215866797366, 0.9890512972542517, 0.8993412298155542, 0.942751010569067, 0.9923197540181152, 0.9831901797423482, 0.6282438131465679, 0.37181776696429525, 0.07649015684755942, 0.3824507842377971, 0.5354310979329159, 0.8864905971495619, 0.9839570251255059, 0.7033468448813314, 0.26375506683049926, 0.9701821851934751, 0.9850327796068976, 0.7522373215285215, 0.06598572995864224, 0.0857814489462349, 0.09238002194209913, 0.9242729285703128, 0.9635898852050182, 0.9812313325069199, 0.8350406072509237, 0.918151770310063, 0.7415809166390432, 0.24366230118139992, 0.4498814640520234, 0.4498814640520234, 0.08179662982764062, 0.9368961744853497, 0.49031451535416026, 0.023348310254960012, 0.2568314128045601, 0.22180894742212012, 0.9893775710573091, 0.40016183218499124, 0.01905532534214244, 0.5716597602642732, 0.35172928545842924, 0.4286700666524606, 0.043966160682303655, 0.1648731025586387, 0.010991540170575914, 0.010991540170575914, 0.907452538471024, 0.9961517363883027, 0.9943017789938139, 0.955207072559755, 0.8722332712286024, 0.9864676282744838, 0.07975729379869478, 0.8773302317856425, 0.03544768613275323, 0.919319929223528, 0.9300995165370788, 0.9148609915918811, 0.8941951626952825, 0.020957699125670685, 0.06287309737701205, 0.020957699125670685, 0.6053904894814114, 0.09258913368539233, 0.2564006778980095, 0.04273344631633492, 0.9941146731797119, 0.07559031089010625, 0.907083730681275, 0.707962966803041, 0.03861616182562042, 0.244569024895596, 0.9629312472734916, 0.03711131232286115, 0.0742226246457223, 0.8906714957486676, 0.39818614714963474, 0.2312048596352718, 0.24404957405945354, 0.1156024298176359, 0.966947473612195, 0.9182866805965139, 0.06719170833633029, 0.9579726890278926, 0.9810851641371392, 0.9218315586759059, 0.4615534426162957, 0.11538836065407393, 0.4153980983546662, 0.9164340990780384, 0.9494140166602987, 0.9797379529080631, 0.9280576240105315, 0.9174619269856007, 0.8280077610356162, 0.13800129350593604, 0.8024008534994275, 0.014328586669632633, 0.1719430400355916, 0.24631855818136209, 0.6746986593663397, 0.06425701517774662, 0.8799822128822992, 0.9490603931266454, 0.9869988589307811, 0.9005070279524695, 0.01710258341003731, 0.44466716866097006, 0.25653875115055963, 0.12826937557527981, 0.15392325069033577, 0.8084999302776431, 0.1852812340219599, 0.9873917689115626, 0.9185942350985555, 0.9195826737637196, 0.07073712875105535, 0.9584228538324436, 0.9762126327268787, 0.976001491168584, 0.9361295337877334, 0.06831058790994297, 0.8977962982449648, 0.03415529395497149, 0.10268929306837372, 0.8215143445469898, 0.9590976926593967, 0.6672898912318863, 0.3018259453528423, 0.0018182285864629054, 0.027273428796943583, 0.9914073269071713, 0.8429120497049334, 0.09916612349469804, 0.3876114300690504, 0.572188301530503, 0.006152562382048419, 0.030762811910242098, 0.951864434898328, 0.8899517152661317, 0.11032459280158659, 0.8542309441331675, 0.9111317421507649, 0.847610233273744, 0.9039595006194073, 0.36229184761753935, 0.6340107333306938, 0.026111799660847177, 0.9661365874513456, 0.9806320950350942, 0.9862211703047792, 0.9525099156298649, 0.925917635389255, 0.9444677985533231, 0.9627044959803089, 0.9187321033480608, 0.8649080707562722, 0.09610089675069691, 0.6688795766246818, 0.05753802809674682, 0.18699859131442717, 0.08630704214512022, 0.9574226463103143, 0.9637297453948944, 0.967315345653384, 0.9487531880174401, 0.009252602721724233, 0.9900284912244929, 0.9277987679278481, 0.07124076616698094, 0.8548891940037713, 0.8178338368673558, 0.13630563947789262, 0.9023612420588939, 0.8794800788118081, 0.10346824456609507, 0.9423375477890862, 0.9584410561718061, 0.9063714143689404, 0.6882017842856374, 0.3058674596825055, 0.979656404299038, 0.9634628939393061, 0.19565454318104944, 0.7826181727241978, 0.9763966909918079, 0.9100244001614965, 0.9574734600014772, 0.9836344968563266, 0.9851571236394444, 0.6403750827061642, 0.34361589803745396, 0.9176360024487616, 0.3456593770791786, 0.6381403884538681, 0.9652748067825245, 0.9465692471683245, 0.9451401877275525, 0.9912379666572093, 0.3267136225950193, 0.2057085771894566, 0.36301513621668813, 0.09680403632445016, 0.01210050454055627, 0.9777576382518304, 0.4610623769727596, 0.27244595002935795, 0.27244595002935795, 0.9210229599012106, 0.9607416103130787, 0.9594781478812049, 0.9803007559885278, 0.6514387269390969, 0.33929100361411296, 0.9750226831648393, 0.9920985939878606, 0.9138668962518613, 0.911792291771671, 0.172738360961051, 0.518215082883153, 0.2878972682684183, 0.2919284534347647, 0.14596422671738235, 0.3284195101141103, 0.21894634007607353, 0.16722802703761103, 0.1858089189306789, 0.3901987297544257, 0.26013248650295046, 0.927961047684614, 0.859223058401083, 0.961496430257478, 0.9218404758913757, 0.5923306658773677, 0.29616533293868386, 0.09255166654333871, 0.9517473624770522, 0.22345266255521273, 0.3631105766522207, 0.39104215947162224, 0.9847851248495304, 0.08632398144240243, 0.8632398144240243, 0.9632825045437553, 0.02349469523277452, 0.8784452876197038, 0.9463936089260299, 0.9617718453309638, 0.9479639990641924, 0.0515898775000921, 0.690112620385595, 0.3008183217065414, 0.5517189888997588, 0.23824229066125946, 0.11912114533062973, 0.09404300947154978, 0.9897743759223415, 0.9875864261529884, 0.8701046319725416, 0.027190769749141926, 0.013595384874570963, 0.08157230924742578, 0.9987535999305605, 0.9751054847977186, 0.033232075867363674, 0.09969622760209101, 0.8640339725514554, 0.9806617337093173, 0.5169780149420288, 0.43359446414492736, 0.03335342031884057, 0.8725974457901425], \"Term\": [\"absolutely\", \"amazing\", \"amazing\", \"amazing\", \"amazing\", \"ambitious\", \"amp\", \"area\", \"atmosphere\", \"autonomy\", \"autonomy\", \"autonomyxd\", \"awesome\", \"awesome\", \"bad\", \"balance\", \"balance\", \"based\", \"bay\", \"beautiful\", \"believe\", \"benefit\", \"benefits\", \"benefits\", \"benefits\", \"benefits\", \"benefitsxd\", \"benefitsxd\", \"benefitsxd\", \"best\", \"best\", \"big\", \"big\", \"big\", \"big\", \"bonus\", \"bootcamp\", \"bootcamp\", \"brand\", \"building\", \"campus\", \"campus\", \"campus\", \"care\", \"care\", \"care\", \"career\", \"career\", \"career\", \"career\", \"cares\", \"cares\", \"cares\", \"caring\", \"ceo\", \"challenges\", \"challenging\", \"challenging\", \"change\", \"changes\", \"collaboration\", \"collaborative\", \"college\", \"coming\", \"companies\", \"companies\", \"company\", \"company\", \"company\", \"company\", \"companys\", \"companyxd\", \"compensation\", \"compensation\", \"compensation\", \"compensationxd\", \"competitive\", \"constant\", \"cool\", \"cool\", \"covid\", \"coworkers\", \"coworkers\", \"coworkers\", \"culture\", \"culture\", \"culture\", \"culture\", \"culture\", \"cultures\", \"culturexd\", \"data\", \"data\", \"data\", \"day\", \"day\", \"day\", \"day\", \"daytoday\", \"decent\", \"decision\", \"decision\", \"different\", \"different\", \"different\", \"difficult\", \"diversity\", \"doesnt\", \"doing\", \"dont\", \"dont\", \"dont\", \"drive\", \"driven\", \"driven\", \"dynamic\", \"easy\", \"efforts\", \"emphasis\", \"employees\", \"employees\", \"employees\", \"employees\", \"employees\", \"encouraged\", \"engineer\", \"engineering\", \"engineering\", \"engineering\", \"environment\", \"environment\", \"environment\", \"environment\", \"excellent\", \"experience\", \"experience\", \"experience\", \"exposure\", \"extremely\", \"extremely\", \"facebook\", \"facebook\", \"fair\", \"far\", \"fast\", \"fast\", \"fast\", \"fb\", \"fb\", \"fb\", \"feedback\", \"feel\", \"feel\", \"feel\", \"feels\", \"fit\", \"flexible\", \"flexible\", \"focus\", \"food\", \"food\", \"food\", \"forward\", \"free\", \"free\", \"freedom\", \"freedom\", \"friendly\", \"fun\", \"future\", \"game\", \"generous\", \"getting\", \"given\", \"given\", \"given\", \"going\", \"going\", \"good\", \"good\", \"good\", \"good\", \"great\", \"great\", \"great\", \"great\", \"groups\", \"groups\", \"grow\", \"growth\", \"growth\", \"growth\", \"growthxd\", \"gyms\", \"hard\", \"hard\", \"hardworking\", \"having\", \"having\", \"health\", \"healthy\", \"heard\", \"help\", \"helpful\", \"high\", \"high\", \"highly\", \"highly\", \"highly\", \"honest\", \"hours\", \"huge\", \"huge\", \"ideas\", \"im\", \"impact\", \"impact\", \"impact\", \"impact\", \"inclusive\", \"incredibly\", \"industry\", \"infra\", \"insurance\", \"interesting\", \"interesting\", \"internal\", \"internal\", \"internal\", \"issues\", \"ive\", \"ive\", \"ive\", \"ive\", \"job\", \"just\", \"just\", \"just\", \"leadership\", \"leadership\", \"leadership\", \"leadership\", \"leadership\", \"leadership\", \"leadershipxd\", \"learn\", \"learning\", \"leave\", \"let\", \"life\", \"like\", \"like\", \"like\", \"list\", \"live\", \"looking\", \"lot\", \"lot\", \"lot\", \"lot\", \"lots\", \"lots\", \"lots\", \"lots\", \"love\", \"lunch\", \"lunch\", \"make\", \"make\", \"make\", \"makes\", \"making\", \"making\", \"making\", \"management\", \"management\", \"management\", \"management\", \"manager\", \"managers\", \"managers\", \"mark\", \"meals\", \"mentorship\", \"mission\", \"mission\", \"mission\", \"mistakes\", \"money\", \"months\", \"moves\", \"moving\", \"need\", \"need\", \"new\", \"new\", \"new\", \"nice\", \"nice\", \"nice\", \"normal\", \"offers\", \"offices\", \"onsite\", \"open\", \"open\", \"open\", \"open\", \"open\", \"opportunities\", \"opportunities\", \"opportunity\", \"oriented\", \"overall\", \"overall\", \"pace\", \"paced\", \"package\", \"path\", \"pay\", \"pay\", \"pay\", \"pays\", \"pays\", \"payxd\", \"people\", \"people\", \"people\", \"people\", \"peoplexd\", \"performance\", \"performance\", \"perks\", \"perks\", \"perks\", \"perks\", \"personal\", \"place\", \"place\", \"plus\", \"politics\", \"position\", \"pro\", \"process\", \"process\", \"products\", \"products\", \"professional\", \"projects\", \"projectsxd\", \"pto\", \"public\", \"quality\", \"quite\", \"reach\", \"reach\", \"really\", \"really\", \"really\", \"really\", \"research\", \"rewards\", \"right\", \"room\", \"salary\", \"salary\", \"salaryxd\", \"say\", \"say\", \"schedule\", \"schedule\", \"scope\", \"self\", \"self\", \"share\", \"skills\", \"small\", \"smart\", \"smart\", \"smartest\", \"snacks\", \"social\", \"social\", \"solve\", \"stack\", \"startup\", \"strong\", \"super\", \"support\", \"support\", \"supported\", \"supportive\", \"supportive\", \"taken\", \"takes\", \"taking\", \"talented\", \"team\", \"team\", \"team\", \"team\", \"team\", \"teammates\", \"tech\", \"tech\", \"tech\", \"technologies\", \"thats\", \"theres\", \"thing\", \"things\", \"things\", \"think\", \"time\", \"times\", \"today\", \"tons\", \"tons\", \"tons\", \"tools\", \"tools\", \"tools\", \"tools\", \"transparent\", \"transparent\", \"transparent\", \"transparent\", \"transportation\", \"travel\", \"treated\", \"true\", \"truly\", \"truly\", \"truly\", \"understanding\", \"values\", \"values\", \"values\", \"want\", \"wants\", \"wants\", \"way\", \"way\", \"weeks\", \"welcoming\", \"wide\", \"work\", \"work\", \"worked\", \"worked\", \"working\", \"working\", \"working\", \"working\", \"worklife\", \"workxd\", \"world\", \"world\", \"world\", \"world\", \"xd\", \"year\", \"years\", \"years\", \"years\", \"youll\", \"youre\", \"youre\", \"youre\", \"youve\"]}, \"R\": 30, \"lambda.step\": 0.01, \"plot.opts\": {\"xlab\": \"PC1\", \"ylab\": \"PC2\"}, \"topic.order\": [1, 2, 6, 4, 3, 5]};\n",
       "\n",
       "function LDAvis_load_lib(url, callback){\n",
       "  var s = document.createElement('script');\n",
       "  s.src = url;\n",
       "  s.async = true;\n",
       "  s.onreadystatechange = s.onload = callback;\n",
       "  s.onerror = function(){console.warn(\"failed to load library \" + url);};\n",
       "  document.getElementsByTagName(\"head\")[0].appendChild(s);\n",
       "}\n",
       "\n",
       "if(typeof(LDAvis) !== \"undefined\"){\n",
       "   // already loaded: just create the visualization\n",
       "   !function(LDAvis){\n",
       "       new LDAvis(\"#\" + \"ldavis_el440426870660064645726939130\", ldavis_el440426870660064645726939130_data);\n",
       "   }(LDAvis);\n",
       "}else if(typeof define === \"function\" && define.amd){\n",
       "   // require.js is available: use it to load d3/LDAvis\n",
       "   require.config({paths: {d3: \"https://d3js.org/d3.v5\"}});\n",
       "   require([\"d3\"], function(d3){\n",
       "      window.d3 = d3;\n",
       "      LDAvis_load_lib(\"https://cdn.jsdelivr.net/gh/bmabey/pyLDAvis@3.3.1/pyLDAvis/js/ldavis.v3.0.0.js\", function(){\n",
       "        new LDAvis(\"#\" + \"ldavis_el440426870660064645726939130\", ldavis_el440426870660064645726939130_data);\n",
       "      });\n",
       "    });\n",
       "}else{\n",
       "    // require.js not available: dynamically load d3 & LDAvis\n",
       "    LDAvis_load_lib(\"https://d3js.org/d3.v5.js\", function(){\n",
       "         LDAvis_load_lib(\"https://cdn.jsdelivr.net/gh/bmabey/pyLDAvis@3.3.1/pyLDAvis/js/ldavis.v3.0.0.js\", function(){\n",
       "                 new LDAvis(\"#\" + \"ldavis_el440426870660064645726939130\", ldavis_el440426870660064645726939130_data);\n",
       "            })\n",
       "         });\n",
       "}\n",
       "</script>"
      ],
      "text/plain": [
       "PreparedData(topic_coordinates=              x         y  topics  cluster       Freq\n",
       "topic                                                \n",
       "0      0.152401  0.011869       1        1  40.057093\n",
       "1      0.265398  0.007002       2        1  21.192203\n",
       "5     -0.085490 -0.322494       3        1  11.647228\n",
       "3     -0.210456  0.079464       4        1   9.945463\n",
       "2      0.049884  0.108215       5        1   8.641926\n",
       "4     -0.171736  0.115944       6        1   8.516089, topic_info=          Term        Freq       Total Category  logprob  loglift\n",
       "1718        xd  602.000000  602.000000  Default  30.0000  30.0000\n",
       "658       good  577.000000  577.000000  Default  29.0000  29.0000\n",
       "1694      work  775.000000  775.000000  Default  28.0000  28.0000\n",
       "667      great  800.000000  800.000000  Default  27.0000  27.0000\n",
       "118   benefits  540.000000  540.000000  Default  26.0000  26.0000\n",
       "...        ...         ...         ...      ...      ...      ...\n",
       "1048      open   17.572955  116.941397   Topic6  -4.7714   0.5679\n",
       "177     campus   12.667163   34.494953   Topic6  -5.0987   1.4614\n",
       "1521      tech   12.561963   47.715886   Topic6  -5.1071   1.1286\n",
       "1700   working   15.172235  159.501489   Topic6  -4.9183   0.1106\n",
       "1248    really   12.266643  139.038481   Topic6  -5.1308   0.0353\n",
       "\n",
       "[344 rows x 6 columns], token_table=      Topic      Freq        Term\n",
       "term                             \n",
       "2         6  0.960828  absolutely\n",
       "44        1  0.965546     amazing\n",
       "44        2  0.005191     amazing\n",
       "44        3  0.015573     amazing\n",
       "44        6  0.010382     amazing\n",
       "...     ...       ...         ...\n",
       "1725      1  0.980662       youll\n",
       "1727      1  0.516978       youre\n",
       "1727      4  0.433594       youre\n",
       "1727      6  0.033353       youre\n",
       "1728      6  0.872597       youve\n",
       "\n",
       "[470 rows x 3 columns], R=30, lambda_step=0.01, plot_opts={'xlab': 'PC1', 'ylab': 'PC2'}, topic_order=[1, 2, 6, 4, 3, 5])"
      ]
     },
     "execution_count": 36,
     "metadata": {},
     "output_type": "execute_result"
    }
   ],
   "source": [
    "pyLDAvis.sklearn.prepare(lda_pros, tf_pros, vec_pros, n_jobs=1)"
   ]
  },
  {
   "cell_type": "markdown",
   "id": "c1ce66dd",
   "metadata": {},
   "source": [
    "### Cons"
   ]
  },
  {
   "cell_type": "code",
   "execution_count": 37,
   "id": "f4a7b260",
   "metadata": {},
   "outputs": [
    {
     "data": {
      "text/html": [
       "\n",
       "<link rel=\"stylesheet\" type=\"text/css\" href=\"https://cdn.jsdelivr.net/gh/bmabey/pyLDAvis@3.3.1/pyLDAvis/js/ldavis.v1.0.0.css\">\n",
       "\n",
       "\n",
       "<div id=\"ldavis_el440426870660072481286446176\"></div>\n",
       "<script type=\"text/javascript\">\n",
       "\n",
       "var ldavis_el440426870660072481286446176_data = {\"mdsDat\": {\"x\": [-0.0999167613310852, -0.06230927976864427, -0.1075337720414552, 0.0731638169986002, -0.10970316396899113, 0.30629916011157554], \"y\": [0.057619302817520625, 0.18083432993250445, -0.2632956733921615, -0.007517518349454873, 0.049639341290640696, -0.017279782299049324], \"topics\": [1, 2, 3, 4, 5, 6], \"cluster\": [1, 1, 1, 1, 1, 1], \"Freq\": [23.395763250041885, 21.0194214218797, 16.21242995764758, 15.961237852266239, 13.714895992257114, 9.696251525907497]}, \"tinfo\": {\"Term\": [\"balance\", \"work\", \"life\", \"xd\", \"cons\", \"high\", \"bad\", \"lot\", \"environment\", \"great\", \"team\", \"think\", \"worklife\", \"impact\", \"long\", \"fast\", \"pressure\", \"job\", \"hours\", \"managers\", \"things\", \"facebook\", \"stressful\", \"dont\", \"means\", \"good\", \"hard\", \"getting\", \"company\", \"need\", \"lack\", \"fb\", \"year\", \"depending\", \"thats\", \"support\", \"busy\", \"feedback\", \"care\", \"ive\", \"expected\", \"having\", \"public\", \"share\", \"quite\", \"pains\", \"worked\", \"let\", \"starting\", \"actually\", \"direction\", \"companys\", \"users\", \"strong\", \"covid\", \"fit\", \"campus\", \"offer\", \"going\", \"onboarding\", \"effort\", \"lot\", \"products\", \"team\", \"role\", \"xd\", \"youre\", \"know\", \"dont\", \"project\", \"just\", \"things\", \"growing\", \"bit\", \"internal\", \"culture\", \"years\", \"feel\", \"teams\", \"work\", \"company\", \"like\", \"good\", \"people\", \"experience\", \"management\", \"focus\", \"product\", \"pay\", \"org\", \"code\", \"easy\", \"moves\", \"focused\", \"limited\", \"hiring\", \"metrics\", \"impact\", \"structure\", \"longer\", \"takes\", \"cycles\", \"intense\", \"gets\", \"syndrome\", \"theyre\", \"leads\", \"quality\", \"money\", \"fix\", \"push\", \"willing\", \"design\", \"designed\", \"features\", \"possible\", \"operations\", \"leadership\", \"open\", \"extremely\", \"difficult\", \"processes\", \"review\", \"large\", \"tech\", \"big\", \"reviews\", \"company\", \"engineers\", \"teams\", \"time\", \"really\", \"performance\", \"people\", \"new\", \"hard\", \"like\", \"culture\", \"make\", \"xd\", \"little\", \"team\", \"place\", \"management\", \"life\", \"balance\", \"long\", \"hours\", \"pace\", \"tough\", \"decision\", \"press\", \"challenge\", \"organization\", \"major\", \"perks\", \"worklife\", \"nice\", \"harder\", \"bureaucratic\", \"understand\", \"speed\", \"documentation\", \"likely\", \"everybody\", \"days\", \"left\", \"google\", \"pr\", \"encouraged\", \"rate\", \"ownership\", \"stressed\", \"levels\", \"think\", \"bad\", \"work\", \"run\", \"good\", \"issues\", \"chaotic\", \"information\", \"expect\", \"hard\", \"politics\", \"pretty\", \"slow\", \"social\", \"better\", \"lots\", \"company\", \"wlb\", \"people\", \"theres\", \"bit\", \"isnt\", \"working\", \"facebook\", \"growth\", \"need\", \"employees\", \"fast\", \"world\", \"end\", \"middle\", \"real\", \"job\", \"did\", \"offices\", \"comes\", \"heavy\", \"told\", \"food\", \"bureaucracy\", \"mind\", \"spent\", \"white\", \"areas\", \"works\", \"tell\", \"deadlines\", \"managing\", \"believe\", \"fired\", \"fact\", \"worse\", \"ignore\", \"meeting\", \"bay\", \"actual\", \"parking\", \"opinion\", \"managers\", \"certain\", \"months\", \"companies\", \"facebook\", \"does\", \"day\", \"manager\", \"im\", \"management\", \"sure\", \"benefits\", \"just\", \"opportunities\", \"time\", \"people\", \"employee\", \"like\", \"xd\", \"career\", \"working\", \"work\", \"thing\", \"great\", \"cons\", \"environment\", \"means\", \"getting\", \"stressful\", \"paced\", \"constantly\", \"stress\", \"important\", \"psc\", \"demanding\", \"peer\", \"smart\", \"mission\", \"bigger\", \"stack\", \"talk\", \"definitely\", \"living\", \"red\", \"point\", \"needed\", \"upper\", \"struggle\", \"load\", \"mean\", \"integrity\", \"tape\", \"ranking\", \"infrastructure\", \"pressure\", \"high\", \"want\", \"say\", \"decisions\", \"need\", \"fast\", \"set\", \"overwhelming\", \"expectations\", \"things\", \"working\", \"times\", \"dont\", \"used\", \"moving\", \"work\", \"really\", \"performance\", \"facebook\", \"hard\", \"people\", \"culture\", \"company\", \"lot\", \"challenging\", \"office\", \"business\", \"commute\", \"tools\", \"data\", \"menlo\", \"park\", \"promotion\", \"amp\", \"small\", \"salary\", \"skills\", \"wish\", \"research\", \"individual\", \"seen\", \"sf\", \"mobility\", \"build\", \"paid\", \"ic\", \"expensive\", \"changed\", \"traffic\", \"awful\", \"na\", \"industry\", \"crowded\", \"frequent\", \"competitive\", \"great\", \"poor\", \"far\", \"negative\", \"place\", \"promoted\", \"growth\", \"level\", \"best\", \"given\", \"internal\", \"career\", \"work\", \"managers\", \"culture\"], \"Freq\": [243.0, 555.0, 180.0, 413.0, 97.0, 112.0, 134.0, 154.0, 82.0, 91.0, 157.0, 101.0, 85.0, 96.0, 70.0, 142.0, 74.0, 66.0, 63.0, 80.0, 100.0, 169.0, 56.0, 123.0, 50.0, 145.0, 146.0, 47.0, 346.0, 83.0, 59.960015079385, 56.37506353275794, 36.841853506174644, 31.50391724413343, 29.68417215294472, 28.745350114508202, 25.056064454769196, 25.520611837959986, 24.933321328638044, 23.296590310030535, 18.783955379161366, 17.639332014597645, 16.26573668546722, 16.42246327192532, 15.826515496515777, 14.884512689751332, 15.048975982452125, 13.95140209224413, 13.825976918405496, 13.891084799678989, 23.053920372638625, 12.708796572951682, 12.199811774416297, 12.73574678317243, 11.622587118924027, 11.780022557137011, 10.798816618222295, 10.824648562234769, 34.44516020331029, 10.231410772808916, 11.172241374293272, 134.3087609723188, 20.162266087039868, 124.5179320738162, 42.88027006278591, 283.7001405196505, 61.83172942627445, 31.874446636948164, 69.6100416369665, 25.385807736510163, 47.66835155581676, 53.051593952077965, 32.90369060913745, 36.87030543986929, 32.28204396948727, 60.65225992494022, 25.175341690108212, 36.09880213358692, 41.2120470815063, 86.11816225201635, 64.21286001862349, 45.988405173962796, 40.095282643819104, 44.05667444278669, 27.86663304399368, 27.6764013029089, 25.72968978686728, 57.5130344403801, 30.167750460453036, 29.29598318760581, 25.88099201595071, 23.645018384795545, 23.499261165875414, 20.728828732352284, 20.709941645671346, 20.65973209843057, 20.550613286194903, 93.36755819652197, 16.968721409204267, 15.576479359534797, 15.182200452787779, 14.497520495442421, 14.493798867601244, 13.762266752000311, 13.42301173598309, 13.089977794030093, 12.847298319030033, 20.077090838691937, 11.392167857026099, 10.64009393198962, 10.28107454814591, 10.228733383753912, 9.569505804581269, 9.803213619210393, 9.468392443139713, 9.336278863629236, 9.572815315533921, 61.59320939265901, 31.622026130825606, 29.77065540365192, 58.084083091731344, 24.015980373207373, 46.80907200853586, 41.14888417042423, 30.29612180317331, 66.13118533944443, 30.11801334000238, 174.72677409018374, 25.22942094019254, 58.57134001276477, 67.47237540096387, 60.23088530434103, 46.100547661730516, 88.0651160120585, 34.18704817744734, 58.27447978172523, 57.22022705178341, 54.74128863534717, 40.27807935888963, 80.29533618376098, 28.260245173956875, 32.192160674176975, 27.23280751522804, 29.64120939732173, 179.99682131077603, 242.02671352303483, 69.32276882173072, 62.90582589288304, 31.25861502862606, 27.232712554826723, 19.46469854021987, 17.854453612915883, 13.998991440540443, 13.917476858946989, 13.55277826311551, 13.089335207176145, 80.30809059847135, 12.28257525527364, 11.137546960318078, 10.344945941320214, 9.70389847666509, 9.147742966297166, 9.584712555139024, 8.38117480643094, 7.913688300031404, 9.230075883210935, 7.78872871041171, 8.946032660200514, 7.350277086517414, 7.288236223029987, 7.2052494547383565, 7.188959420485958, 6.744177580066798, 6.6943014841834145, 84.21707855662126, 106.63702138446583, 340.42414091155507, 10.660400605641081, 79.1684639076797, 21.90027277955624, 14.833829188202438, 11.083300629827548, 15.170777804722622, 60.06619951838056, 26.966428770389076, 19.238660227944667, 16.22212399993336, 17.14445098900422, 23.268827181712187, 30.485777862606163, 69.69978180350108, 18.027992082490766, 35.79914576658279, 19.761853312576726, 20.81128982227094, 16.785721330916285, 23.807733830292563, 25.990630237437266, 19.779868755871583, 20.195451941441227, 17.475609670750828, 17.84594723507046, 29.623372548937215, 25.253126153832884, 24.663187918062786, 24.231067987192894, 64.70469515133718, 22.779901736000106, 17.514887618272585, 16.882973005900254, 16.51797567637584, 15.818251830161804, 14.668888959967243, 14.588963720340903, 14.195857806671597, 13.814824312508302, 13.55370020196543, 13.459897408383055, 13.247099484397058, 12.066977631883692, 11.588959489184656, 11.261994704552352, 11.00450033570936, 10.491770543926974, 10.285206777641225, 10.440102357444168, 10.097328362332197, 9.88214828175895, 9.800828881788869, 9.337395635954858, 9.001890738757647, 8.825899098628717, 64.07271319093155, 20.71564324623111, 22.152828117992478, 32.61156720513381, 96.31586618350363, 19.903036774689454, 17.21281512122763, 43.16923853136894, 17.58394209673916, 53.40869152791609, 18.991798660025534, 16.574513901098914, 36.71171812772936, 19.68692072942813, 39.32566603237722, 48.33738984719095, 16.387914114700056, 35.69512547942784, 43.39978101622994, 20.026526347085447, 24.82976386370677, 30.267055988911423, 17.732983745212913, 17.025614380087067, 96.41937188868914, 81.6997003635092, 49.84515944869438, 46.946756951588135, 55.25410671931098, 29.330497181940647, 26.994192032948597, 20.80502866352288, 18.52977895884752, 17.878678390012844, 15.562178126958008, 17.654748154451088, 13.687561788696188, 12.836346090721353, 11.084018954933626, 11.114068348366667, 10.800173423563468, 10.063162487749588, 9.682665017640492, 9.115825755430379, 9.07011223150018, 9.033386331733922, 9.003713687134967, 8.871415329445357, 8.531242977773022, 8.516433534304289, 8.570430995656084, 8.288958341043559, 8.362416804967822, 9.972811606898782, 62.29347485584115, 91.78128347076228, 36.84705461291685, 28.134942334069095, 24.717610126131888, 53.28459090167363, 82.55768423042606, 13.360608802720062, 13.971948925386133, 30.63743494372847, 46.69232236320401, 45.48473965270697, 29.74960247843561, 44.939013264943995, 14.896196601167546, 16.308748159224848, 59.10010022757287, 28.817567934158294, 25.338962667989353, 27.28780809722097, 26.160047450210747, 26.479159549599913, 23.351605978704818, 22.920019021612728, 19.862289293869697, 36.678499211497765, 30.535150650776895, 29.33623189829872, 28.329112642789145, 28.3227497936155, 26.720563253236605, 23.921982420196244, 23.79820957369784, 21.588090003505737, 15.040171816910771, 15.13694171568599, 12.649299977537199, 12.435590815371354, 11.925466264661216, 11.40566737272455, 11.84156954343822, 10.319509666470424, 9.416502859652194, 10.67062794593367, 9.167684517585148, 9.003413859538469, 9.040164287185055, 8.555998110304778, 8.513433851484047, 9.456346161381134, 8.356895359414757, 8.144194068874544, 8.017712571387024, 7.8883885541070065, 7.851647699075747, 36.83274958463139, 61.97293169718016, 36.515620047182296, 19.12454691407662, 21.26558880161648, 28.938662802357012, 14.676055027476789, 28.048425079537893, 19.24761442923849, 17.60192682758897, 13.468952845808236, 19.44742275488044, 16.520758453374835, 28.244893929904382, 15.752563503755978, 12.636870939513733], \"Total\": [243.0, 555.0, 180.0, 413.0, 97.0, 112.0, 134.0, 154.0, 82.0, 91.0, 157.0, 101.0, 85.0, 96.0, 70.0, 142.0, 74.0, 66.0, 63.0, 80.0, 100.0, 169.0, 56.0, 123.0, 50.0, 145.0, 146.0, 47.0, 346.0, 83.0, 60.70049427318053, 57.117677036497206, 37.58411178923357, 32.25362468582113, 30.43685608814042, 29.485360071548435, 25.794551660844917, 26.279067630113044, 25.691619215585717, 24.10180395763743, 19.529642513885566, 18.384075069879408, 17.002933924147076, 17.173256441934626, 16.5679170104601, 15.62195358596716, 15.84393724568805, 14.691284402377882, 14.56403981748307, 14.633870717984124, 24.311529048210296, 13.449024029343422, 12.939798334854855, 13.53206757244024, 12.365142008856568, 12.545295997579867, 11.544399803627513, 11.584294213794873, 36.93007512754622, 10.971716404968186, 11.99547323278725, 154.77143292388314, 22.14349583934508, 157.62869828652694, 50.912394167475036, 413.02702936192446, 88.90547029081799, 42.22412699962036, 123.25250798043578, 33.39210056138175, 84.9685777271133, 100.3384523183102, 51.08207114402296, 62.98565427128462, 52.3422009953227, 151.6806516572587, 36.57447678114308, 75.99206461184858, 104.05880481065645, 555.1417370819744, 346.74559937665504, 158.46231638943505, 145.68814027904, 243.44980921539386, 50.01325815970416, 128.0661273171518, 44.44115861270817, 58.30058642919048, 30.9110761379815, 30.047648081571946, 26.624869245445172, 24.38639501736895, 24.241893590332097, 21.47005274523872, 21.454068044557577, 21.40245637440976, 21.293017762455893, 96.78013152569903, 17.713432138081025, 16.325024275253014, 15.923577622579579, 15.238702762981692, 15.238817219966768, 14.504708947262607, 14.16747858421371, 13.834800963765058, 13.592884955482152, 21.32111621505542, 12.134837392781849, 11.383686873258942, 11.025037029769823, 10.973462760330609, 10.310822485912867, 10.5651738678691, 10.212854593652393, 10.081208821512814, 10.33730630307907, 69.28815460274656, 35.00867800865743, 33.11277245771059, 66.16442050946425, 26.91154894356599, 57.12806177755434, 50.867411507604224, 36.321358150527914, 92.37060127879843, 38.38903752591729, 346.74559937665504, 31.704286570444307, 104.05880481065645, 135.9522879189548, 115.6707881324438, 87.1396408756029, 243.44980921539386, 58.084090317207156, 146.37676090526742, 158.46231638943505, 151.6806516572587, 82.23361945143003, 413.02702936192446, 62.45765457623159, 157.62869828652694, 56.76978314292947, 128.0661273171518, 180.78259904455743, 243.42529950819488, 70.11844608534714, 63.68773375431044, 32.00389213322946, 27.977744970552962, 20.22187234156835, 18.60015772343673, 14.744741245473877, 14.683253087787536, 14.298732812771902, 13.856602344240034, 85.0214239707177, 13.043424761646238, 11.885963332917449, 11.09005086909245, 10.45424657546431, 9.891276000942346, 10.39252454323431, 9.16261488054696, 8.679898890318164, 10.14326458358888, 8.559702766183083, 9.836022786366447, 8.100849047755187, 8.037550516608166, 7.9544397417069295, 7.9480941591832694, 7.489796067115869, 7.443692447902201, 101.63099632015434, 134.3912806556946, 555.1417370819744, 12.261159350658513, 145.68814027904, 31.476005975575394, 19.67079318665516, 13.485454766921745, 20.49637793500036, 146.37676090526742, 51.81617204749597, 31.505884852805025, 24.62545855833088, 27.27514494595592, 45.97538728788773, 73.86316734508014, 346.74559937665504, 35.24328971370897, 243.44980921539386, 50.960354925572794, 62.98565427128462, 30.373347985187994, 115.86312474387186, 169.9620736161033, 62.882101102755584, 83.06060752330775, 61.91460063726737, 142.57162621585258, 30.36286489782749, 25.999795923972695, 25.40082544321142, 24.96833216305125, 66.79285418581814, 23.517596959661358, 18.2643153065829, 17.630976352965252, 17.257002508485172, 16.556173755610903, 15.40390918344519, 15.327256218142665, 14.932634856672427, 14.556552928416112, 14.289920088058103, 14.20428681861028, 13.989791416837722, 12.807994397725173, 12.327361424175754, 12.000877104107719, 11.74292936142841, 11.233388025187882, 11.024209213695142, 11.21207994299371, 10.844746742690123, 10.626914297002072, 10.54578612613545, 10.075144320427167, 9.741976221008038, 9.562096548761176, 80.42502308337632, 23.890465386634826, 26.717521860689338, 43.62409984353089, 169.9620736161033, 25.871108856067263, 21.859396941276536, 75.63051385128661, 22.851221698110013, 128.0661273171518, 26.810648578541993, 21.96292762676483, 84.9685777271133, 29.600650048169186, 135.9522879189548, 243.44980921539386, 22.186640480565693, 158.46231638943505, 413.02702936192446, 42.54230864861614, 115.86312474387186, 555.1417370819744, 35.328026718064834, 91.83535356450432, 97.41833444820823, 82.72923181903991, 50.595183592331416, 47.69508774604857, 56.5367720428136, 30.074070890307354, 27.740050655208965, 21.548755107209182, 19.280335467568616, 18.62182135023614, 16.305160979252754, 18.537479993404585, 14.432231452312402, 13.583128256638512, 11.826086473998382, 11.859779613666818, 11.546621153242421, 10.807759521327654, 10.431842290555048, 9.859089148797137, 9.817377820903568, 9.780153308886884, 9.75271626281697, 9.619526746976534, 9.277063238731131, 9.263566606509785, 9.325186600656881, 9.02876247462662, 9.124734273499826, 10.901455517717823, 74.46679207380143, 112.60225052734714, 45.96989178343582, 35.044233165872555, 31.12102108959951, 83.06060752330775, 142.57162621585258, 15.711945598329367, 16.602981054601976, 44.61040693577106, 100.3384523183102, 115.86312474387186, 60.057778392578335, 123.25250798043578, 20.84746187851927, 27.371308602380022, 555.1417370819744, 115.6707881324438, 87.1396408756029, 169.9620736161033, 146.37676090526742, 243.44980921539386, 151.6806516572587, 346.74559937665504, 154.77143292388314, 37.42356970047339, 31.295617286518926, 30.085283337755886, 29.07482657861025, 29.073177426466184, 27.464049287961586, 24.662703844034052, 24.53908279739449, 22.331776669285627, 15.786662072809083, 15.978214426340223, 13.39034580648557, 13.178193680635026, 12.674094324821576, 12.147691952619292, 12.617954621666051, 11.073635643183328, 10.156195011617934, 11.538614316268667, 9.915361155136505, 9.756353710077022, 9.797910786657873, 9.297468181770158, 9.262069816023933, 10.302595182768702, 9.106212562670962, 8.88310158149835, 8.763539645229173, 8.630692178823397, 8.592830094776366, 50.127672493324624, 91.83535356450432, 51.538183842151284, 30.2670943355799, 35.69552039005558, 56.76978314292947, 21.173558144934848, 62.882101102755584, 38.942801063596036, 34.3816380475779, 21.1953120053222, 52.3422009953227, 42.54230864861614, 555.1417370819744, 80.42502308337632, 151.6806516572587], \"Category\": [\"Default\", \"Default\", \"Default\", \"Default\", \"Default\", \"Default\", \"Default\", \"Default\", \"Default\", \"Default\", \"Default\", \"Default\", \"Default\", \"Default\", \"Default\", \"Default\", \"Default\", \"Default\", \"Default\", \"Default\", \"Default\", \"Default\", \"Default\", \"Default\", \"Default\", \"Default\", \"Default\", \"Default\", \"Default\", \"Default\", \"Topic1\", \"Topic1\", \"Topic1\", \"Topic1\", \"Topic1\", \"Topic1\", \"Topic1\", \"Topic1\", \"Topic1\", \"Topic1\", \"Topic1\", \"Topic1\", \"Topic1\", \"Topic1\", \"Topic1\", \"Topic1\", \"Topic1\", \"Topic1\", \"Topic1\", \"Topic1\", \"Topic1\", \"Topic1\", \"Topic1\", \"Topic1\", \"Topic1\", \"Topic1\", \"Topic1\", \"Topic1\", \"Topic1\", \"Topic1\", \"Topic1\", \"Topic1\", \"Topic1\", \"Topic1\", \"Topic1\", \"Topic1\", \"Topic1\", \"Topic1\", \"Topic1\", \"Topic1\", \"Topic1\", \"Topic1\", \"Topic1\", \"Topic1\", \"Topic1\", \"Topic1\", \"Topic1\", \"Topic1\", \"Topic1\", \"Topic1\", \"Topic1\", \"Topic1\", \"Topic1\", \"Topic1\", \"Topic1\", \"Topic1\", \"Topic1\", \"Topic2\", \"Topic2\", \"Topic2\", \"Topic2\", \"Topic2\", \"Topic2\", \"Topic2\", \"Topic2\", \"Topic2\", \"Topic2\", \"Topic2\", \"Topic2\", \"Topic2\", \"Topic2\", \"Topic2\", \"Topic2\", \"Topic2\", \"Topic2\", \"Topic2\", \"Topic2\", \"Topic2\", \"Topic2\", \"Topic2\", \"Topic2\", \"Topic2\", \"Topic2\", \"Topic2\", \"Topic2\", \"Topic2\", \"Topic2\", \"Topic2\", \"Topic2\", \"Topic2\", \"Topic2\", \"Topic2\", \"Topic2\", \"Topic2\", \"Topic2\", \"Topic2\", \"Topic2\", \"Topic2\", \"Topic2\", \"Topic2\", \"Topic2\", \"Topic2\", \"Topic2\", \"Topic2\", \"Topic2\", \"Topic2\", \"Topic2\", \"Topic2\", \"Topic2\", \"Topic2\", \"Topic2\", \"Topic2\", \"Topic2\", \"Topic2\", \"Topic3\", \"Topic3\", \"Topic3\", \"Topic3\", \"Topic3\", \"Topic3\", \"Topic3\", \"Topic3\", \"Topic3\", \"Topic3\", \"Topic3\", \"Topic3\", \"Topic3\", \"Topic3\", \"Topic3\", \"Topic3\", \"Topic3\", \"Topic3\", \"Topic3\", \"Topic3\", \"Topic3\", \"Topic3\", \"Topic3\", \"Topic3\", \"Topic3\", \"Topic3\", \"Topic3\", \"Topic3\", \"Topic3\", \"Topic3\", \"Topic3\", \"Topic3\", \"Topic3\", \"Topic3\", \"Topic3\", \"Topic3\", \"Topic3\", \"Topic3\", \"Topic3\", \"Topic3\", \"Topic3\", \"Topic3\", \"Topic3\", \"Topic3\", \"Topic3\", \"Topic3\", \"Topic3\", \"Topic3\", \"Topic3\", \"Topic3\", \"Topic3\", \"Topic3\", \"Topic3\", \"Topic3\", \"Topic3\", \"Topic3\", \"Topic3\", \"Topic3\", \"Topic4\", \"Topic4\", \"Topic4\", \"Topic4\", \"Topic4\", \"Topic4\", \"Topic4\", \"Topic4\", \"Topic4\", \"Topic4\", \"Topic4\", \"Topic4\", \"Topic4\", \"Topic4\", \"Topic4\", \"Topic4\", \"Topic4\", \"Topic4\", \"Topic4\", \"Topic4\", \"Topic4\", \"Topic4\", \"Topic4\", \"Topic4\", \"Topic4\", \"Topic4\", \"Topic4\", \"Topic4\", \"Topic4\", \"Topic4\", \"Topic4\", \"Topic4\", \"Topic4\", \"Topic4\", \"Topic4\", \"Topic4\", \"Topic4\", \"Topic4\", \"Topic4\", \"Topic4\", \"Topic4\", \"Topic4\", \"Topic4\", \"Topic4\", \"Topic4\", \"Topic4\", \"Topic4\", \"Topic4\", \"Topic4\", \"Topic4\", \"Topic4\", \"Topic4\", \"Topic4\", \"Topic4\", \"Topic5\", \"Topic5\", \"Topic5\", \"Topic5\", \"Topic5\", \"Topic5\", \"Topic5\", \"Topic5\", \"Topic5\", \"Topic5\", \"Topic5\", \"Topic5\", \"Topic5\", \"Topic5\", \"Topic5\", \"Topic5\", \"Topic5\", \"Topic5\", \"Topic5\", \"Topic5\", \"Topic5\", \"Topic5\", \"Topic5\", \"Topic5\", \"Topic5\", \"Topic5\", \"Topic5\", \"Topic5\", \"Topic5\", \"Topic5\", \"Topic5\", \"Topic5\", \"Topic5\", \"Topic5\", \"Topic5\", \"Topic5\", \"Topic5\", \"Topic5\", \"Topic5\", \"Topic5\", \"Topic5\", \"Topic5\", \"Topic5\", \"Topic5\", \"Topic5\", \"Topic5\", \"Topic5\", \"Topic5\", \"Topic5\", \"Topic5\", \"Topic5\", \"Topic5\", \"Topic5\", \"Topic5\", \"Topic5\", \"Topic6\", \"Topic6\", \"Topic6\", \"Topic6\", \"Topic6\", \"Topic6\", \"Topic6\", \"Topic6\", \"Topic6\", \"Topic6\", \"Topic6\", \"Topic6\", \"Topic6\", \"Topic6\", \"Topic6\", \"Topic6\", \"Topic6\", \"Topic6\", \"Topic6\", \"Topic6\", \"Topic6\", \"Topic6\", \"Topic6\", \"Topic6\", \"Topic6\", \"Topic6\", \"Topic6\", \"Topic6\", \"Topic6\", \"Topic6\", \"Topic6\", \"Topic6\", \"Topic6\", \"Topic6\", \"Topic6\", \"Topic6\", \"Topic6\", \"Topic6\", \"Topic6\", \"Topic6\", \"Topic6\", \"Topic6\", \"Topic6\", \"Topic6\", \"Topic6\", \"Topic6\"], \"logprob\": [30.0, 29.0, 28.0, 27.0, 26.0, 25.0, 24.0, 23.0, 22.0, 21.0, 20.0, 19.0, 18.0, 17.0, 16.0, 15.0, 14.0, 13.0, 12.0, 11.0, 10.0, 9.0, 8.0, 7.0, 6.0, 5.0, 4.0, 3.0, 2.0, 1.0, -4.4329, -4.4945, -4.9199, -5.0764, -5.1359, -5.1681, -5.3054, -5.287, -5.3103, -5.3782, -5.5935, -5.6564, -5.7375, -5.7279, -5.7648, -5.8262, -5.8152, -5.891, -5.9, -5.8953, -5.3887, -5.9842, -6.0251, -5.9821, -6.0736, -6.0601, -6.1471, -6.1447, -4.9872, -6.2011, -6.1131, -3.6264, -5.5227, -3.7021, -4.7681, -2.8786, -4.4021, -5.0647, -4.2836, -5.2923, -4.6623, -4.5553, -5.033, -4.9191, -5.052, -4.4214, -5.3007, -4.9403, -4.8078, -4.0708, -4.3643, -4.6981, -4.8353, -4.7411, -5.1991, -5.206, -5.2789, -4.3674, -5.0127, -5.042, -5.1659, -5.2563, -5.2625, -5.3879, -5.3888, -5.3912, -5.3965, -3.8829, -5.5881, -5.6737, -5.6993, -5.7455, -5.7457, -5.7975, -5.8225, -5.8476, -5.8663, -5.4198, -5.9865, -6.0548, -6.0891, -6.0942, -6.1608, -6.1367, -6.1715, -6.1855, -6.1605, -4.2989, -4.9656, -5.0259, -4.3575, -5.2407, -4.5734, -4.7022, -5.0084, -4.2278, -5.0143, -3.2562, -5.1914, -4.3492, -4.2077, -4.3212, -4.5886, -3.9414, -4.8876, -4.3543, -4.3725, -4.4168, -4.7236, -4.0337, -5.078, -4.9477, -5.115, -5.0303, -2.9668, -2.6707, -3.921, -4.0181, -4.7175, -4.8553, -5.1912, -5.2775, -5.5208, -5.5266, -5.5532, -5.588, -3.7739, -5.6516, -5.7494, -5.8233, -5.8872, -5.9463, -5.8996, -6.0338, -6.0912, -5.9373, -6.1071, -5.9685, -6.165, -6.1735, -6.1849, -6.1872, -6.2511, -6.2585, -3.7264, -3.4903, -2.3296, -5.7932, -3.7882, -5.0733, -5.4628, -5.7543, -5.4404, -4.0643, -4.8652, -5.2028, -5.3734, -5.3181, -5.0126, -4.7425, -3.9156, -5.2678, -4.5818, -5.176, -5.1243, -5.3392, -4.9897, -4.902, -5.1751, -5.1543, -5.299, -5.278, -4.7556, -4.9152, -4.9388, -4.9565, -3.9743, -5.0183, -5.2811, -5.3178, -5.3397, -5.383, -5.4584, -5.4639, -5.4912, -5.5184, -5.5375, -5.5444, -5.5604, -5.6537, -5.6941, -5.7227, -5.7458, -5.7936, -5.8134, -5.7985, -5.8319, -5.8534, -5.8617, -5.9101, -5.9467, -5.9665, -3.9841, -5.1133, -5.0462, -4.6595, -3.5765, -5.1533, -5.2985, -4.379, -5.2772, -4.1662, -5.2001, -5.3363, -4.541, -5.1642, -4.4723, -4.2659, -5.3476, -4.5691, -4.3737, -5.1471, -4.9321, -4.7341, -5.2687, -5.3094, -3.4238, -3.5894, -4.0835, -4.1434, -3.9805, -4.6138, -4.6968, -4.9573, -5.0731, -5.1089, -5.2476, -5.1215, -5.376, -5.4402, -5.587, -5.5843, -5.6129, -5.6836, -5.7221, -5.7825, -5.7875, -5.7915, -5.7948, -5.8096, -5.8487, -5.8505, -5.8441, -5.8775, -5.8687, -5.6926, -3.8606, -3.4731, -4.3857, -4.6555, -4.7849, -4.0168, -3.579, -5.4002, -5.3554, -4.5702, -4.1489, -4.1751, -4.5996, -4.1872, -5.2914, -5.2008, -3.9132, -4.6315, -4.7601, -4.686, -4.7282, -4.7161, -4.8418, -4.8605, -5.0036, -4.0435, -4.2268, -4.2669, -4.3018, -4.3021, -4.3603, -4.4709, -4.4761, -4.5736, -4.935, -4.9286, -5.1081, -5.1252, -5.167, -5.2116, -5.1741, -5.3117, -5.4033, -5.2782, -5.43, -5.4481, -5.444, -5.4991, -5.5041, -5.399, -5.5226, -5.5484, -5.5641, -5.5803, -5.585, -4.0393, -3.519, -4.048, -4.6947, -4.5886, -4.2805, -4.9595, -4.3118, -4.6883, -4.7777, -5.0453, -4.678, -4.8411, -4.3048, -4.8887, -5.1091], \"loglift\": [30.0, 29.0, 28.0, 27.0, 26.0, 25.0, 24.0, 23.0, 22.0, 21.0, 20.0, 19.0, 18.0, 17.0, 16.0, 15.0, 14.0, 13.0, 12.0, 11.0, 10.0, 9.0, 8.0, 7.0, 6.0, 5.0, 4.0, 3.0, 2.0, 1.0, 1.4403, 1.4395, 1.4327, 1.4291, 1.4276, 1.4272, 1.4236, 1.4233, 1.4227, 1.4186, 1.4137, 1.4113, 1.4083, 1.4079, 1.4068, 1.4043, 1.4011, 1.4009, 1.4006, 1.4005, 1.3995, 1.396, 1.3937, 1.392, 1.3907, 1.3897, 1.3859, 1.3848, 1.383, 1.3828, 1.3815, 1.3108, 1.3589, 1.2168, 1.2809, 1.077, 1.0895, 1.1714, 0.8813, 1.1785, 0.8746, 0.8153, 1.0128, 0.9171, 0.9693, 0.536, 1.0791, 0.7082, 0.5264, -0.4109, -0.2338, 0.2155, 0.1624, -0.2568, 0.8678, -0.0794, 0.9061, 1.5461, 1.5354, 1.5344, 1.5314, 1.5289, 1.5286, 1.5246, 1.5244, 1.5244, 1.5242, 1.5238, 1.5168, 1.5128, 1.512, 1.5099, 1.5096, 1.5072, 1.5057, 1.5044, 1.5033, 1.4996, 1.4966, 1.4922, 1.4899, 1.4894, 1.4851, 1.4849, 1.484, 1.483, 1.4829, 1.442, 1.458, 1.4533, 1.4295, 1.4459, 1.3605, 1.3477, 1.3783, 1.2256, 1.3171, 0.8744, 1.3313, 0.985, 0.8591, 0.9072, 0.923, 0.5429, 1.0297, 0.6387, 0.5411, 0.5406, 0.846, -0.0781, 0.7667, -0.0288, 0.8251, 0.0963, 1.815, 1.8136, 1.808, 1.807, 1.7958, 1.7924, 1.7812, 1.7785, 1.7675, 1.7658, 1.7658, 1.7624, 1.7624, 1.7593, 1.7544, 1.7498, 1.7449, 1.7412, 1.7385, 1.7302, 1.727, 1.725, 1.725, 1.7246, 1.7222, 1.7215, 1.7205, 1.719, 1.7145, 1.7133, 1.6314, 1.5881, 1.3304, 1.6795, 1.2095, 1.4567, 1.5372, 1.6232, 1.5185, 0.9287, 1.1663, 1.3261, 1.402, 1.3551, 1.1384, 0.9344, 0.215, 1.149, -0.0976, 0.8721, 0.712, 1.2264, 0.237, -0.0584, 0.6628, 0.4053, 0.5544, -0.2587, 1.8104, 1.8059, 1.8055, 1.805, 1.8032, 1.8031, 1.7931, 1.7917, 1.7912, 1.7894, 1.7861, 1.7856, 1.7844, 1.7827, 1.7821, 1.7812, 1.7805, 1.7754, 1.7732, 1.7715, 1.7701, 1.7667, 1.7656, 1.7637, 1.7636, 1.7623, 1.7617, 1.759, 1.756, 1.7549, 1.6077, 1.6924, 1.6477, 1.5441, 1.2671, 1.5728, 1.596, 1.2743, 1.573, 0.9604, 1.4902, 1.5535, 0.9958, 1.4272, 0.5946, 0.2183, 1.5321, 0.3445, -0.4181, 1.0816, 0.2946, -1.0742, 1.1458, 0.1497, 1.9764, 1.9742, 1.9718, 1.9709, 1.9637, 1.9617, 1.9594, 1.9516, 1.947, 1.946, 1.94, 1.9379, 1.9337, 1.9301, 1.9219, 1.9217, 1.9199, 1.9153, 1.9122, 1.9083, 1.9075, 1.9073, 1.9068, 1.9057, 1.9029, 1.9026, 1.9023, 1.9012, 1.8994, 1.8977, 1.8082, 1.7822, 1.7655, 1.7671, 1.7563, 1.5428, 1.4403, 1.8246, 1.8142, 1.6109, 1.2217, 1.0517, 1.2842, 0.9778, 1.6506, 1.4689, -0.2533, 0.5969, 0.7515, 0.1576, 0.2647, -0.2319, 0.1156, -0.7299, -0.0664, 2.3133, 2.3088, 2.3082, 2.3074, 2.3073, 2.306, 2.3029, 2.3028, 2.2996, 2.285, 2.2793, 2.2765, 2.2754, 2.2725, 2.2704, 2.2699, 2.2629, 2.2578, 2.2552, 2.255, 2.2531, 2.2529, 2.2503, 2.2491, 2.2477, 2.2476, 2.2466, 2.2445, 2.2435, 2.2432, 2.0252, 1.9401, 1.9888, 1.8743, 1.8155, 1.6596, 1.9669, 1.5261, 1.6287, 1.6639, 1.88, 1.3433, 1.3875, -0.6449, 0.7031, -0.1517]}, \"token.table\": {\"Topic\": [4, 1, 6, 4, 6, 1, 3, 4, 3, 4, 4, 4, 6, 1, 3, 6, 1, 3, 4, 1, 2, 4, 5, 1, 2, 3, 6, 4, 3, 6, 1, 1, 1, 3, 4, 6, 3, 4, 3, 6, 6, 3, 5, 2, 4, 6, 3, 4, 1, 2, 3, 4, 5, 6, 1, 1, 4, 5, 6, 5, 5, 1, 6, 1, 2, 5, 6, 2, 6, 1, 4, 3, 4, 3, 3, 5, 5, 5, 1, 2, 2, 4, 2, 5, 6, 1, 4, 3, 3, 4, 1, 3, 5, 2, 1, 2, 3, 4, 1, 2, 3, 4, 3, 4, 2, 5, 6, 5, 3, 3, 5, 2, 4, 5, 6, 1, 6, 1, 2, 5, 2, 5, 2, 3, 4, 5, 6, 4, 5, 6, 1, 2, 3, 5, 1, 2, 1, 1, 2, 3, 5, 4, 1, 2, 1, 2, 3, 2, 4, 6, 2, 5, 4, 6, 1, 5, 1, 2, 3, 5, 3, 1, 4, 6, 1, 2, 1, 3, 6, 2, 3, 5, 6, 3, 1, 4, 2, 5, 2, 3, 6, 4, 3, 4, 1, 2, 6, 5, 6, 6, 3, 6, 5, 5, 2, 1, 6, 1, 3, 1, 3, 4, 1, 3, 4, 1, 4, 1, 3, 4, 1, 2, 4, 2, 6, 2, 3, 1, 2, 4, 6, 3, 3, 1, 2, 3, 4, 5, 3, 2, 1, 2, 3, 5, 5, 3, 2, 1, 5, 1, 2, 3, 4, 3, 1, 2, 4, 5, 6, 1, 2, 3, 4, 5, 1, 3, 4, 5, 4, 6, 4, 5, 5, 4, 6, 2, 4, 4, 5, 6, 2, 1, 2, 4, 2, 1, 3, 5, 6, 1, 2, 3, 4, 5, 5, 1, 6, 1, 2, 6, 3, 1, 6, 4, 1, 2, 3, 2, 4, 1, 4, 2, 3, 3, 5, 3, 3, 5, 6, 1, 6, 4, 2, 5, 1, 2, 3, 4, 5, 6, 2, 4, 5, 6, 3, 2, 6, 5, 3, 4, 6, 2, 4, 6, 2, 3, 3, 1, 5, 2, 3, 2, 3, 2, 1, 4, 1, 2, 6, 2, 6, 6, 5, 1, 2, 1, 2, 1, 5, 3, 4, 1, 2, 3, 5, 5, 6, 2, 4, 5, 2, 4, 5, 1, 3, 3, 6, 6, 4, 5, 6, 4, 5, 6, 1, 6, 2, 3, 6, 6, 5, 1, 3, 3, 4, 5, 1, 5, 3, 3, 5, 1, 2, 5, 1, 4, 5, 2, 2, 5, 5, 1, 2, 1, 2, 3, 1, 2, 4, 1, 1, 3, 5, 2, 1, 4, 1, 5, 1, 2, 3, 1, 2, 4, 5, 1, 4, 5, 4, 6, 3, 6, 3, 5, 3, 5, 1, 3, 5, 4, 2, 6, 1, 2, 3, 1, 2, 3, 4, 5, 6, 1, 1, 2, 3, 4, 5, 3, 5, 6, 4, 4, 4, 1, 2, 3, 4, 1, 1, 3, 4, 1, 3, 4, 5], \"Freq\": [0.8932874521462355, 0.9566846851253691, 0.950169195414398, 0.9152166642374161, 0.8785211134642682, 0.14881917861352364, 0.7961826055823515, 0.05208671251473328, 0.9941448176870913, 0.9482460463726988, 0.9367338984539341, 0.7740315994705176, 0.22765635278544633, 0.058170585044039075, 0.40719409530827355, 0.5235352653963518, 0.2392584521609449, 0.5002676727001575, 0.2392584521609449, 0.20569315060159749, 0.7145130494581807, 0.06495573176892552, 0.930147096775026, 0.5874353521936571, 0.07938315570184554, 0.3334092539477513, 0.9076825199995548, 0.9786487409432553, 0.9017091191050909, 0.9639264378675837, 0.9691969191288169, 0.9528429530432192, 0.9730799678376773, 0.11753005793122713, 0.4701202317249085, 0.3996021969661722, 0.1255731084116221, 0.8790117588813546, 0.9494910603668621, 0.9886817397735302, 0.9717050485226816, 0.7625518634488075, 0.2033471635863487, 0.9765306173080242, 0.9642120583492739, 0.9630323993264683, 0.229231090976492, 0.7564626002224236, 0.18457335901321567, 0.5046927785517615, 0.20187711142070464, 0.025955628611233454, 0.06633105089537437, 0.020187711142070464, 0.9666128911388864, 0.17954154965400612, 0.01994906107266735, 0.05984718321800204, 0.7381152596886918, 0.9854407852870624, 0.9733219429045996, 0.9704700513269452, 0.9269244962332351, 0.40216071946893456, 0.362603927390023, 0.1516343696358278, 0.0857063828376418, 0.9187133719813221, 0.9831033915248253, 0.18298766478991482, 0.777697575357138, 0.8872883011019346, 0.9734443233299098, 0.9395766959196625, 0.19279573066467187, 0.8033155444361327, 0.9252611496644009, 0.981284393349992, 0.9921365524559903, 0.9698547340585557, 0.9465059567464467, 0.9779910778916244, 0.8766040653481367, 0.09068317917394518, 0.01511386319565753, 0.9460532060484758, 0.04113274808906416, 0.9622301066885764, 0.19326577874250664, 0.7730631149700266, 0.5679397616080258, 0.06490740132663153, 0.36510413246230233, 0.9841553039268927, 0.9170125918778826, 0.045072168581626694, 0.22536084290813346, 0.7211546973060271, 0.3714794210617251, 0.09690767505958046, 0.2745717460021447, 0.24226918764895117, 0.870912100090164, 0.9615460087880594, 0.788536904763716, 0.06308295238109728, 0.12616590476219455, 0.9911853186231075, 0.9216697223193988, 0.7318366224300272, 0.19515643264800725, 0.04483258811961858, 0.11208147029904646, 0.694905115854088, 0.13449776435885574, 0.9728800712297222, 0.9680054638580626, 0.5598515479753264, 0.19994698141975945, 0.2199416795617354, 0.905994810259817, 0.0905994810259817, 0.09413864905025526, 0.15297530470666482, 0.5648318943015316, 0.15885897027230578, 0.023534662262563816, 0.9070945413097941, 0.36343098805719065, 0.6277444339169657, 0.1262523299884937, 0.16833643998465828, 0.1262523299884937, 0.5821635216136098, 0.9804320291985434, 0.8812423517312956, 0.989380611441737, 0.4737336744814133, 0.22370756850511184, 0.19738903103392222, 0.10527414988475851, 0.8902033809904601, 0.9565338276844914, 0.9662950257213901, 0.5850432529579724, 0.33752495362959944, 0.0675049907259199, 0.9781065863779509, 0.9737787870186045, 0.9310087493599168, 0.9652037866393826, 0.9854264290329111, 0.33026171061988996, 0.6133431768655099, 0.9206588365329192, 0.05415640214899525, 0.2745590679061936, 0.09609567376716775, 0.5422541591147323, 0.08236772037185808, 0.9150039803155758, 0.13066863178755347, 0.18511389503236741, 0.6751212642356929, 0.6460192247678916, 0.35237412260066814, 0.23854164757453816, 0.3180555300993842, 0.4452777421391379, 0.3962377609758466, 0.40990113204397927, 0.17762382388572434, 0.013663371068132642, 0.9254613775844465, 0.9791082734149253, 0.9851073494160527, 0.1776163434241725, 0.8170351797511936, 0.9811957857841512, 0.98920147234374, 0.9185631708604233, 0.9221054430561485, 0.21880668202582543, 0.7877040552929715, 0.010332699328213452, 0.9609410375238511, 0.020665398656426904, 0.9854600316451876, 0.9510257692157988, 0.9128731453112282, 0.8156936632928186, 0.07415396939025623, 0.9173087010030254, 0.9651281401024218, 0.9187064716319585, 0.6113613755535332, 0.3629958167349103, 0.4280068172379166, 0.5597012225418909, 0.2859320844894927, 0.6989450954187599, 0.03177023160994363, 0.9542854153334739, 0.014971661447764961, 0.9731579941047225, 0.5649147165221209, 0.43545509398580146, 0.757860547366384, 0.094732568420798, 0.142098852631197, 0.9884598258783861, 0.806017031039035, 0.17693056778905647, 0.8948138445231782, 0.10102736954293949, 0.9563826989322797, 0.934611892320104, 0.952945951936919, 0.41085899224020883, 0.07703606104503916, 0.48789505328524796, 0.9403935008052027, 0.9956710488249783, 0.2902898370294611, 0.35970697197128876, 0.03155324315537621, 0.22718335071870868, 0.08834908083505337, 0.8731132001394827, 0.9788353405230873, 0.28819526000660844, 0.44830373778805754, 0.2561735644503186, 0.9586034490814689, 0.9701345963047433, 0.9840491889397294, 0.980090426220945, 0.865792849936987, 0.1292228134234309, 0.25723240260242575, 0.13538547505390827, 0.40615642516172484, 0.1895396650754716, 0.9791077421556498, 0.17024667153643744, 0.4864190615326784, 0.1459257184598035, 0.17024667153643744, 0.024320953076633917, 0.21863704780155385, 0.23425397978737914, 0.03904232996456319, 0.4138486976243698, 0.1015100579078643, 0.19833264691939975, 0.10577741169034655, 0.5685535878356126, 0.11899958815163986, 0.7957722304120627, 0.19894305760301567, 0.9165996705553185, 0.9715480421628783, 0.9882363586793739, 0.9410069301886692, 0.973129311034793, 0.9862387865484926, 0.9842199835549618, 0.9375438517298443, 0.957069664246635, 0.9533207106585357, 0.9064810383485746, 0.07485724201624731, 0.11228586302437096, 0.8234296621787205, 0.948770768021712, 0.1826730344768841, 0.21920764137226093, 0.5845537103260291, 0.9005863466272112, 0.07223640879723077, 0.012039401466205128, 0.24078802932410256, 0.036118204398615385, 0.6380882777088718, 0.920230973457442, 0.39220607647732353, 0.5883091147159853, 0.2410298572904147, 0.58535822484815, 0.15494776540098087, 0.9200037734940294, 0.949561518120018, 0.9905540356078464, 0.9855283210924619, 0.9114344220081941, 0.9140590796398139, 0.08569303871623256, 0.9673700001538506, 0.9412161814205904, 0.30404737684322086, 0.6756608374293797, 0.9651337742399059, 0.9534671857998677, 0.12046029525797987, 0.8432220668058591, 0.8807142768826114, 0.968632186077545, 0.9642858163690264, 0.9224757801374289, 0.9601872081782494, 0.9780316647592172, 0.9238371964604054, 0.970525900362879, 0.9710057681197329, 0.18073540555158416, 0.3614708111031683, 0.1478744227240234, 0.19716589696536455, 0.10679819418957245, 0.004107622853445095, 0.5278883357537333, 0.17213750078926085, 0.28689583464876806, 0.011475833385950724, 0.938180924662523, 0.475605128383563, 0.5108351378934566, 0.9167417373748036, 0.5210728414142817, 0.2508869236439134, 0.23158792951745852, 0.019403089621139014, 0.2716432546959462, 0.7179143159821435, 0.8927500817951944, 0.864106954559258, 0.9677337293392672, 0.16114565520839438, 0.832585885243371, 0.3808812244462837, 0.6030619387066158, 0.8918104286872688, 0.07431753572393907, 0.994844195442947, 0.9031997542349901, 0.045159987711749505, 0.7486800644375368, 0.11978881031000589, 0.08984160773250442, 0.2833723061060157, 0.7084307652650393, 0.9851432927080118, 0.9666079198945674, 0.9410140668297994, 0.9070264320199545, 0.046901859635935614, 0.9380371927187122, 0.9657218822316923, 0.8767378599981488, 0.88001169501573, 0.9612175872730413, 0.18154972693671684, 0.5187135055334767, 0.04322612546112306, 0.2507115276745137, 0.912863233526806, 0.9055218096494597, 0.8227130159431794, 0.0525135967623306, 0.12253172577877139, 0.7814730957958073, 0.026049103193193576, 0.18234372235235502, 0.8445880556815416, 0.13749107883187886, 0.8971419166336192, 0.08155835605760174, 0.9708487135338576, 0.17121219264809123, 0.7989902323577591, 0.9030457857041528, 0.12729168310082856, 0.8273959401553856, 0.8861586440300395, 0.9316811901166454, 0.9105952068099934, 0.28425866602317035, 0.6497340937672466, 0.04060838086045291, 0.9387782389046158, 0.9700509617143683, 0.3666341652744433, 0.6232780809665537, 0.9098927174959597, 0.961766159120704, 0.9275045876336491, 0.9612717470872345, 0.974534254787387, 0.9346048860707529, 0.017687603375069416, 0.9728181856288178, 0.9606809846616593, 0.9597236643627487, 0.9355969619637209, 0.9835389471123747, 0.708673643024314, 0.2610902895352736, 0.9175944698081572, 0.9419993644349152, 0.9526596442380961, 0.886057200251116, 0.7930028056996533, 0.20300871825911124, 0.39400798495238215, 0.5669871002973305, 0.0384398034099885, 0.13766005057625652, 0.8259603034575392, 0.9369148382928181, 0.9856471349447081, 0.4905774309561287, 0.3924619447649029, 0.11773858342947088, 0.9396593441458609, 0.4812043462169123, 0.5095104842296719, 0.5282122533828273, 0.4684146397923185, 0.039358071305326404, 0.12791373174231083, 0.8265194974118545, 0.08826626005112585, 0.49281995195211936, 0.286865345166159, 0.12504386840576162, 0.31636201851828627, 0.18315695808953417, 0.4995189766078204, 0.9664068664764759, 0.9630870265494531, 0.9650527599139225, 0.8735663044446007, 0.9565490853706848, 0.9228198337229637, 0.23983734946419935, 0.7195120483925981, 0.9273714852013266, 0.17402694871869623, 0.80487463782397, 0.9797115668757038, 0.9112893731366452, 0.9468132154025873, 0.25536776144081613, 0.19861937000952365, 0.5107355228816323, 0.1549153923321404, 0.01981475948434354, 0.6124562022433458, 0.05404025313911875, 0.10627916450693353, 0.05043756959651083, 0.9467343733693638, 0.18124834839749748, 0.008630873733214165, 0.20714096959713998, 0.21577184333035415, 0.3883893179946375, 0.9409393099267881, 0.03528522412225456, 0.01176174137408485, 0.9292490225660951, 0.9880490560081024, 0.8918951747439935, 0.6876063303623126, 0.19369192404572186, 0.012105745252857616, 0.10410940917457549, 0.9844585448098605, 0.6835367775620347, 0.10936588440992553, 0.1913902977173697, 0.6973699120784389, 0.05623950903858378, 0.05623950903858378, 0.19121433073118485], \"Term\": [\"actual\", \"actually\", \"amp\", \"areas\", \"awful\", \"bad\", \"bad\", \"bad\", \"balance\", \"bay\", \"believe\", \"benefits\", \"benefits\", \"best\", \"best\", \"best\", \"better\", \"better\", \"better\", \"big\", \"big\", \"big\", \"bigger\", \"bit\", \"bit\", \"bit\", \"build\", \"bureaucracy\", \"bureaucratic\", \"business\", \"busy\", \"campus\", \"care\", \"career\", \"career\", \"career\", \"certain\", \"certain\", \"challenge\", \"challenging\", \"changed\", \"chaotic\", \"chaotic\", \"code\", \"comes\", \"commute\", \"companies\", \"companies\", \"company\", \"company\", \"company\", \"company\", \"company\", \"company\", \"companys\", \"competitive\", \"competitive\", \"competitive\", \"competitive\", \"cons\", \"constantly\", \"covid\", \"crowded\", \"culture\", \"culture\", \"culture\", \"culture\", \"cycles\", \"data\", \"day\", \"day\", \"days\", \"deadlines\", \"decision\", \"decisions\", \"decisions\", \"definitely\", \"demanding\", \"depending\", \"design\", \"designed\", \"did\", \"difficult\", \"difficult\", \"difficult\", \"direction\", \"direction\", \"documentation\", \"does\", \"does\", \"dont\", \"dont\", \"dont\", \"easy\", \"effort\", \"employee\", \"employee\", \"employee\", \"employees\", \"employees\", \"employees\", \"employees\", \"encouraged\", \"end\", \"engineers\", \"engineers\", \"engineers\", \"environment\", \"everybody\", \"expect\", \"expect\", \"expectations\", \"expectations\", \"expectations\", \"expectations\", \"expected\", \"expensive\", \"experience\", \"experience\", \"experience\", \"extremely\", \"extremely\", \"facebook\", \"facebook\", \"facebook\", \"facebook\", \"facebook\", \"fact\", \"far\", \"far\", \"fast\", \"fast\", \"fast\", \"fast\", \"fb\", \"features\", \"feedback\", \"feel\", \"feel\", \"feel\", \"feel\", \"fired\", \"fit\", \"fix\", \"focus\", \"focus\", \"focus\", \"focused\", \"food\", \"frequent\", \"gets\", \"getting\", \"given\", \"given\", \"going\", \"going\", \"good\", \"good\", \"good\", \"good\", \"google\", \"great\", \"great\", \"great\", \"growing\", \"growing\", \"growth\", \"growth\", \"growth\", \"hard\", \"hard\", \"hard\", \"hard\", \"harder\", \"having\", \"heavy\", \"high\", \"high\", \"hiring\", \"hours\", \"ic\", \"ignore\", \"im\", \"im\", \"impact\", \"impact\", \"impact\", \"important\", \"individual\", \"industry\", \"information\", \"information\", \"infrastructure\", \"integrity\", \"intense\", \"internal\", \"internal\", \"isnt\", \"isnt\", \"issues\", \"issues\", \"issues\", \"ive\", \"job\", \"job\", \"just\", \"just\", \"know\", \"know\", \"know\", \"lack\", \"large\", \"large\", \"leadership\", \"leadership\", \"leads\", \"left\", \"let\", \"level\", \"level\", \"level\", \"levels\", \"life\", \"like\", \"like\", \"like\", \"like\", \"like\", \"likely\", \"limited\", \"little\", \"little\", \"little\", \"living\", \"load\", \"long\", \"longer\", \"lot\", \"lot\", \"lots\", \"lots\", \"lots\", \"lots\", \"major\", \"make\", \"make\", \"make\", \"make\", \"make\", \"management\", \"management\", \"management\", \"management\", \"management\", \"manager\", \"manager\", \"manager\", \"manager\", \"managers\", \"managers\", \"managing\", \"mean\", \"means\", \"meeting\", \"menlo\", \"metrics\", \"middle\", \"mind\", \"mission\", \"mobility\", \"money\", \"months\", \"months\", \"months\", \"moves\", \"moving\", \"moving\", \"moving\", \"na\", \"need\", \"need\", \"need\", \"need\", \"need\", \"needed\", \"negative\", \"negative\", \"new\", \"new\", \"new\", \"nice\", \"offer\", \"office\", \"offices\", \"onboarding\", \"open\", \"open\", \"operations\", \"opinion\", \"opportunities\", \"opportunities\", \"org\", \"organization\", \"overwhelming\", \"overwhelming\", \"ownership\", \"pace\", \"paced\", \"paid\", \"pains\", \"park\", \"parking\", \"pay\", \"peer\", \"people\", \"people\", \"people\", \"people\", \"people\", \"people\", \"performance\", \"performance\", \"performance\", \"performance\", \"perks\", \"place\", \"place\", \"point\", \"politics\", \"politics\", \"politics\", \"poor\", \"poor\", \"poor\", \"possible\", \"pr\", \"press\", \"pressure\", \"pressure\", \"pretty\", \"pretty\", \"processes\", \"processes\", \"product\", \"products\", \"products\", \"project\", \"project\", \"project\", \"promoted\", \"promoted\", \"promotion\", \"psc\", \"public\", \"push\", \"quality\", \"quality\", \"quite\", \"ranking\", \"rate\", \"real\", \"really\", \"really\", \"really\", \"really\", \"red\", \"research\", \"review\", \"review\", \"review\", \"reviews\", \"reviews\", \"reviews\", \"role\", \"role\", \"run\", \"run\", \"salary\", \"say\", \"say\", \"seen\", \"set\", \"set\", \"sf\", \"share\", \"skills\", \"slow\", \"slow\", \"slow\", \"small\", \"smart\", \"social\", \"social\", \"speed\", \"spent\", \"stack\", \"starting\", \"stress\", \"stressed\", \"stressful\", \"stressful\", \"strong\", \"structure\", \"struggle\", \"support\", \"sure\", \"sure\", \"syndrome\", \"takes\", \"talk\", \"tape\", \"team\", \"team\", \"teams\", \"teams\", \"teams\", \"tech\", \"tech\", \"tell\", \"thats\", \"theres\", \"theres\", \"theres\", \"theyre\", \"thing\", \"thing\", \"things\", \"things\", \"think\", \"think\", \"think\", \"time\", \"time\", \"time\", \"time\", \"times\", \"times\", \"times\", \"told\", \"tools\", \"tough\", \"traffic\", \"understand\", \"upper\", \"used\", \"used\", \"users\", \"want\", \"want\", \"white\", \"willing\", \"wish\", \"wlb\", \"wlb\", \"wlb\", \"work\", \"work\", \"work\", \"work\", \"work\", \"work\", \"worked\", \"working\", \"working\", \"working\", \"working\", \"working\", \"worklife\", \"worklife\", \"worklife\", \"works\", \"world\", \"worse\", \"xd\", \"xd\", \"xd\", \"xd\", \"year\", \"years\", \"years\", \"years\", \"youre\", \"youre\", \"youre\", \"youre\"]}, \"R\": 30, \"lambda.step\": 0.01, \"plot.opts\": {\"xlab\": \"PC1\", \"ylab\": \"PC2\"}, \"topic.order\": [4, 2, 3, 5, 1, 6]};\n",
       "\n",
       "function LDAvis_load_lib(url, callback){\n",
       "  var s = document.createElement('script');\n",
       "  s.src = url;\n",
       "  s.async = true;\n",
       "  s.onreadystatechange = s.onload = callback;\n",
       "  s.onerror = function(){console.warn(\"failed to load library \" + url);};\n",
       "  document.getElementsByTagName(\"head\")[0].appendChild(s);\n",
       "}\n",
       "\n",
       "if(typeof(LDAvis) !== \"undefined\"){\n",
       "   // already loaded: just create the visualization\n",
       "   !function(LDAvis){\n",
       "       new LDAvis(\"#\" + \"ldavis_el440426870660072481286446176\", ldavis_el440426870660072481286446176_data);\n",
       "   }(LDAvis);\n",
       "}else if(typeof define === \"function\" && define.amd){\n",
       "   // require.js is available: use it to load d3/LDAvis\n",
       "   require.config({paths: {d3: \"https://d3js.org/d3.v5\"}});\n",
       "   require([\"d3\"], function(d3){\n",
       "      window.d3 = d3;\n",
       "      LDAvis_load_lib(\"https://cdn.jsdelivr.net/gh/bmabey/pyLDAvis@3.3.1/pyLDAvis/js/ldavis.v3.0.0.js\", function(){\n",
       "        new LDAvis(\"#\" + \"ldavis_el440426870660072481286446176\", ldavis_el440426870660072481286446176_data);\n",
       "      });\n",
       "    });\n",
       "}else{\n",
       "    // require.js not available: dynamically load d3 & LDAvis\n",
       "    LDAvis_load_lib(\"https://d3js.org/d3.v5.js\", function(){\n",
       "         LDAvis_load_lib(\"https://cdn.jsdelivr.net/gh/bmabey/pyLDAvis@3.3.1/pyLDAvis/js/ldavis.v3.0.0.js\", function(){\n",
       "                 new LDAvis(\"#\" + \"ldavis_el440426870660072481286446176\", ldavis_el440426870660072481286446176_data);\n",
       "            })\n",
       "         });\n",
       "}\n",
       "</script>"
      ],
      "text/plain": [
       "PreparedData(topic_coordinates=              x         y  topics  cluster       Freq\n",
       "topic                                                \n",
       "3     -0.099917  0.057619       1        1  23.395763\n",
       "1     -0.062309  0.180834       2        1  21.019421\n",
       "2     -0.107534 -0.263296       3        1  16.212430\n",
       "4      0.073164 -0.007518       4        1  15.961238\n",
       "0     -0.109703  0.049639       5        1  13.714896\n",
       "5      0.306299 -0.017280       6        1   9.696252, topic_info=          Term        Freq       Total Category  logprob  loglift\n",
       "126    balance  243.000000  243.000000  Default  30.0000  30.0000\n",
       "2072      work  555.000000  555.000000  Default  29.0000  29.0000\n",
       "1032      life  180.000000  180.000000  Default  28.0000  28.0000\n",
       "2093        xd  413.000000  413.000000  Default  27.0000  27.0000\n",
       "324       cons   97.000000   97.000000  Default  26.0000  26.0000\n",
       "...        ...         ...         ...      ...      ...      ...\n",
       "947   internal   19.447423   52.342201   Topic6  -4.6780   1.3433\n",
       "208     career   16.520758   42.542309   Topic6  -4.8411   1.3875\n",
       "2072      work   28.244894  555.141737   Topic6  -4.3048  -0.6449\n",
       "1095  managers   15.752564   80.425023   Topic6  -4.8887   0.7031\n",
       "387    culture   12.636871  151.680652   Topic6  -5.1091  -0.1517\n",
       "\n",
       "[357 rows x 6 columns], token_table=      Topic      Freq      Term\n",
       "term                           \n",
       "25        4  0.893287    actual\n",
       "26        1  0.956685  actually\n",
       "67        6  0.950169       amp\n",
       "93        4  0.915217     areas\n",
       "119       6  0.878521     awful\n",
       "...     ...       ...       ...\n",
       "2098      4  0.191390     years\n",
       "2104      1  0.697370     youre\n",
       "2104      3  0.056240     youre\n",
       "2104      4  0.056240     youre\n",
       "2104      5  0.191214     youre\n",
       "\n",
       "[485 rows x 3 columns], R=30, lambda_step=0.01, plot_opts={'xlab': 'PC1', 'ylab': 'PC2'}, topic_order=[4, 2, 3, 5, 1, 6])"
      ]
     },
     "execution_count": 37,
     "metadata": {},
     "output_type": "execute_result"
    }
   ],
   "source": [
    "pyLDAvis.sklearn.prepare(lda_cons, tf_cons, vec_cons, n_jobs=1)"
   ]
  },
  {
   "cell_type": "code",
   "execution_count": null,
   "id": "b8c4ab00",
   "metadata": {},
   "outputs": [],
   "source": []
  },
  {
   "cell_type": "code",
   "execution_count": null,
   "id": "95ca9add",
   "metadata": {},
   "outputs": [],
   "source": []
  },
  {
   "cell_type": "code",
   "execution_count": null,
   "id": "e81c1b8c",
   "metadata": {},
   "outputs": [],
   "source": []
  },
  {
   "cell_type": "code",
   "execution_count": null,
   "id": "2c3bfd89",
   "metadata": {},
   "outputs": [],
   "source": []
  }
 ],
 "metadata": {
  "kernelspec": {
   "display_name": "Python 3 (ipykernel)",
   "language": "python",
   "name": "python3"
  },
  "language_info": {
   "codemirror_mode": {
    "name": "ipython",
    "version": 3
   },
   "file_extension": ".py",
   "mimetype": "text/x-python",
   "name": "python",
   "nbconvert_exporter": "python",
   "pygments_lexer": "ipython3",
   "version": "3.9.9"
  }
 },
 "nbformat": 4,
 "nbformat_minor": 5
}
