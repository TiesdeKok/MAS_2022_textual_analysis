{
 "cells": [
  {
   "cell_type": "markdown",
   "id": "c8997c9a",
   "metadata": {},
   "source": [
    "# Preamble"
   ]
  },
  {
   "cell_type": "markdown",
   "id": "b7f07a06",
   "metadata": {},
   "source": [
    "## Imports"
   ]
  },
  {
   "cell_type": "markdown",
   "id": "82487a33",
   "metadata": {},
   "source": [
    "Standard imports"
   ]
  },
  {
   "cell_type": "code",
   "execution_count": 4,
   "id": "3c830790",
   "metadata": {},
   "outputs": [],
   "source": [
    "import sys, os, re, time, copy\n",
    "import pandas as pd\n",
    "import numpy as np\n",
    "from tqdm.notebook import tqdm\n",
    "import unidecode"
   ]
  },
  {
   "cell_type": "markdown",
   "id": "75d77bdf",
   "metadata": {},
   "source": [
    "Language libraries:"
   ]
  },
  {
   "cell_type": "code",
   "execution_count": 5,
   "id": "7b078661",
   "metadata": {},
   "outputs": [],
   "source": [
    "from textblob import TextBlob"
   ]
  },
  {
   "cell_type": "markdown",
   "id": "3fe6f114",
   "metadata": {},
   "source": [
    "### Settings"
   ]
  },
  {
   "cell_type": "markdown",
   "id": "e83cba59",
   "metadata": {},
   "source": [
    "Disable copy warnings in Pandas"
   ]
  },
  {
   "cell_type": "code",
   "execution_count": 6,
   "id": "cc059c9e",
   "metadata": {},
   "outputs": [],
   "source": [
    "pd.options.mode.chained_assignment = None  # default='warn'"
   ]
  },
  {
   "cell_type": "markdown",
   "id": "4a5f7708",
   "metadata": {},
   "source": [
    "Disable depreciation warnings"
   ]
  },
  {
   "cell_type": "code",
   "execution_count": 7,
   "id": "d869bc83",
   "metadata": {},
   "outputs": [],
   "source": [
    "def warn(*args, **kwargs):\n",
    "    pass\n",
    "import warnings\n",
    "warnings.warn = warn"
   ]
  },
  {
   "cell_type": "markdown",
   "id": "b18fd326",
   "metadata": {},
   "source": [
    "-----\n",
    "# Step 1: Inspect the data\n",
    "-----"
   ]
  },
  {
   "cell_type": "markdown",
   "id": "488bc39a",
   "metadata": {},
   "source": [
    "## Load the data\n",
    "\n",
    "You can also download the Excel sheet directly by clicking here: [download](https://github.com/TiesdeKok/MAS_2022_textual_analysis/raw/main/facebook_review_dataset.xlsx)"
   ]
  },
  {
   "cell_type": "code",
   "execution_count": 8,
   "id": "3345d681",
   "metadata": {},
   "outputs": [],
   "source": [
    "review_df = pd.read_excel('facebook_review_dataset.xlsx')"
   ]
  },
  {
   "cell_type": "markdown",
   "id": "1f48f792",
   "metadata": {},
   "source": [
    "## Inspect the data"
   ]
  },
  {
   "cell_type": "markdown",
   "id": "4f13f4e8",
   "metadata": {},
   "source": [
    "### Dataset"
   ]
  },
  {
   "cell_type": "code",
   "execution_count": 41,
   "id": "b9f8d811",
   "metadata": {},
   "outputs": [
    {
     "name": "stdout",
     "output_type": "stream",
     "text": [
      "The dataset contains 2290 reviews. \n",
      "The oldest review is from 2014-03-17 00:00:00 \n",
      "The newest review is from 2021-12-28 00:00:00.\n"
     ]
    },
    {
     "data": {
      "text/html": [
       "<div>\n",
       "<style scoped>\n",
       "    .dataframe tbody tr th:only-of-type {\n",
       "        vertical-align: middle;\n",
       "    }\n",
       "\n",
       "    .dataframe tbody tr th {\n",
       "        vertical-align: top;\n",
       "    }\n",
       "\n",
       "    .dataframe thead th {\n",
       "        text-align: right;\n",
       "    }\n",
       "</style>\n",
       "<table border=\"1\" class=\"dataframe\">\n",
       "  <thead>\n",
       "    <tr style=\"text-align: right;\">\n",
       "      <th></th>\n",
       "      <th>0</th>\n",
       "      <th>1</th>\n",
       "    </tr>\n",
       "  </thead>\n",
       "  <tbody>\n",
       "    <tr>\n",
       "      <th>date</th>\n",
       "      <td>2021-11-09 00:00:00</td>\n",
       "      <td>2021-12-25 00:00:00</td>\n",
       "    </tr>\n",
       "    <tr>\n",
       "      <th>year</th>\n",
       "      <td>2021</td>\n",
       "      <td>2021</td>\n",
       "    </tr>\n",
       "    <tr>\n",
       "      <th>rating</th>\n",
       "      <td>5</td>\n",
       "      <td>5</td>\n",
       "    </tr>\n",
       "    <tr>\n",
       "      <th>rating_wlb</th>\n",
       "      <td>5</td>\n",
       "      <td>5</td>\n",
       "    </tr>\n",
       "    <tr>\n",
       "      <th>rating_culture</th>\n",
       "      <td>5</td>\n",
       "      <td>5</td>\n",
       "    </tr>\n",
       "    <tr>\n",
       "      <th>rating_dei</th>\n",
       "      <td>5</td>\n",
       "      <td>4</td>\n",
       "    </tr>\n",
       "    <tr>\n",
       "      <th>rating_comp</th>\n",
       "      <td>5</td>\n",
       "      <td>4</td>\n",
       "    </tr>\n",
       "    <tr>\n",
       "      <th>job_title</th>\n",
       "      <td>Software Engineer</td>\n",
       "      <td>Data Scientist</td>\n",
       "    </tr>\n",
       "    <tr>\n",
       "      <th>location</th>\n",
       "      <td>Seattle, WA</td>\n",
       "      <td>San Francisco, CA</td>\n",
       "    </tr>\n",
       "    <tr>\n",
       "      <th>pros</th>\n",
       "      <td>I’m still a bit new, but I have very good impr...</td>\n",
       "      <td>Its all you hear about, fun and diverse and su...</td>\n",
       "    </tr>\n",
       "    <tr>\n",
       "      <th>cons</th>\n",
       "      <td>Some risk with new company direction. The meta...</td>\n",
       "      <td>You are evaluated nased on individual accompli...</td>\n",
       "    </tr>\n",
       "    <tr>\n",
       "      <th>pros_clean</th>\n",
       "      <td>Im still a bit new but I have very good impres...</td>\n",
       "      <td>Its all you hear about fun and diverse and sup...</td>\n",
       "    </tr>\n",
       "    <tr>\n",
       "      <th>cons_clean</th>\n",
       "      <td>Some risk with new company direction. The meta...</td>\n",
       "      <td>You are evaluated nased on individual accompli...</td>\n",
       "    </tr>\n",
       "    <tr>\n",
       "      <th>pros_clean_l</th>\n",
       "      <td>im still a bit new but i have very good impres...</td>\n",
       "      <td>its all you hear about fun and diverse and sup...</td>\n",
       "    </tr>\n",
       "    <tr>\n",
       "      <th>cons_clean_l</th>\n",
       "      <td>some risk with new company direction. the meta...</td>\n",
       "      <td>you are evaluated nased on individual accompli...</td>\n",
       "    </tr>\n",
       "    <tr>\n",
       "      <th>pros_contains_traffic</th>\n",
       "      <td>0</td>\n",
       "      <td>0</td>\n",
       "    </tr>\n",
       "    <tr>\n",
       "      <th>pros_contains_culture</th>\n",
       "      <td>0</td>\n",
       "      <td>0</td>\n",
       "    </tr>\n",
       "    <tr>\n",
       "      <th>pros_contains_salary</th>\n",
       "      <td>0</td>\n",
       "      <td>0</td>\n",
       "    </tr>\n",
       "    <tr>\n",
       "      <th>pros_contains_diversity</th>\n",
       "      <td>0</td>\n",
       "      <td>0</td>\n",
       "    </tr>\n",
       "    <tr>\n",
       "      <th>pros_contains_balance</th>\n",
       "      <td>1</td>\n",
       "      <td>0</td>\n",
       "    </tr>\n",
       "    <tr>\n",
       "      <th>cons_contains_traffic</th>\n",
       "      <td>0</td>\n",
       "      <td>0</td>\n",
       "    </tr>\n",
       "    <tr>\n",
       "      <th>cons_contains_culture</th>\n",
       "      <td>0</td>\n",
       "      <td>0</td>\n",
       "    </tr>\n",
       "    <tr>\n",
       "      <th>cons_contains_salary</th>\n",
       "      <td>0</td>\n",
       "      <td>0</td>\n",
       "    </tr>\n",
       "    <tr>\n",
       "      <th>cons_contains_diversity</th>\n",
       "      <td>0</td>\n",
       "      <td>0</td>\n",
       "    </tr>\n",
       "    <tr>\n",
       "      <th>cons_contains_balance</th>\n",
       "      <td>0</td>\n",
       "      <td>0</td>\n",
       "    </tr>\n",
       "    <tr>\n",
       "      <th>pros_sentiment</th>\n",
       "      <td>0.224189</td>\n",
       "      <td>0.345833</td>\n",
       "    </tr>\n",
       "    <tr>\n",
       "      <th>cons_sentiment</th>\n",
       "      <td>0.02785</td>\n",
       "      <td>0.45</td>\n",
       "    </tr>\n",
       "    <tr>\n",
       "      <th>average_sentiment</th>\n",
       "      <td>0.126019</td>\n",
       "      <td>0.397917</td>\n",
       "    </tr>\n",
       "  </tbody>\n",
       "</table>\n",
       "</div>"
      ],
      "text/plain": [
       "                                                                         0  \\\n",
       "date                                                   2021-11-09 00:00:00   \n",
       "year                                                                  2021   \n",
       "rating                                                                   5   \n",
       "rating_wlb                                                               5   \n",
       "rating_culture                                                           5   \n",
       "rating_dei                                                               5   \n",
       "rating_comp                                                              5   \n",
       "job_title                                                Software Engineer   \n",
       "location                                                       Seattle, WA   \n",
       "pros                     I’m still a bit new, but I have very good impr...   \n",
       "cons                     Some risk with new company direction. The meta...   \n",
       "pros_clean               Im still a bit new but I have very good impres...   \n",
       "cons_clean               Some risk with new company direction. The meta...   \n",
       "pros_clean_l             im still a bit new but i have very good impres...   \n",
       "cons_clean_l             some risk with new company direction. the meta...   \n",
       "pros_contains_traffic                                                    0   \n",
       "pros_contains_culture                                                    0   \n",
       "pros_contains_salary                                                     0   \n",
       "pros_contains_diversity                                                  0   \n",
       "pros_contains_balance                                                    1   \n",
       "cons_contains_traffic                                                    0   \n",
       "cons_contains_culture                                                    0   \n",
       "cons_contains_salary                                                     0   \n",
       "cons_contains_diversity                                                  0   \n",
       "cons_contains_balance                                                    0   \n",
       "pros_sentiment                                                    0.224189   \n",
       "cons_sentiment                                                     0.02785   \n",
       "average_sentiment                                                 0.126019   \n",
       "\n",
       "                                                                         1  \n",
       "date                                                   2021-12-25 00:00:00  \n",
       "year                                                                  2021  \n",
       "rating                                                                   5  \n",
       "rating_wlb                                                               5  \n",
       "rating_culture                                                           5  \n",
       "rating_dei                                                               4  \n",
       "rating_comp                                                              4  \n",
       "job_title                                                   Data Scientist  \n",
       "location                                                 San Francisco, CA  \n",
       "pros                     Its all you hear about, fun and diverse and su...  \n",
       "cons                     You are evaluated nased on individual accompli...  \n",
       "pros_clean               Its all you hear about fun and diverse and sup...  \n",
       "cons_clean               You are evaluated nased on individual accompli...  \n",
       "pros_clean_l             its all you hear about fun and diverse and sup...  \n",
       "cons_clean_l             you are evaluated nased on individual accompli...  \n",
       "pros_contains_traffic                                                    0  \n",
       "pros_contains_culture                                                    0  \n",
       "pros_contains_salary                                                     0  \n",
       "pros_contains_diversity                                                  0  \n",
       "pros_contains_balance                                                    0  \n",
       "cons_contains_traffic                                                    0  \n",
       "cons_contains_culture                                                    0  \n",
       "cons_contains_salary                                                     0  \n",
       "cons_contains_diversity                                                  0  \n",
       "cons_contains_balance                                                    0  \n",
       "pros_sentiment                                                    0.345833  \n",
       "cons_sentiment                                                        0.45  \n",
       "average_sentiment                                                 0.397917  "
      ]
     },
     "execution_count": 41,
     "metadata": {},
     "output_type": "execute_result"
    }
   ],
   "source": [
    "print(f\"The dataset contains {len(review_df)} reviews. \\nThe oldest review is from {review_df['date'].min()} \\nThe newest review is from {review_df['date'].max()}.\")\n",
    "review_df.head(2).T"
   ]
  },
  {
   "cell_type": "markdown",
   "id": "90ff5eb6",
   "metadata": {},
   "source": [
    "### Number of reviews by year"
   ]
  },
  {
   "cell_type": "code",
   "execution_count": 42,
   "id": "e92e1ab8",
   "metadata": {},
   "outputs": [
    {
     "data": {
      "text/plain": [
       "year\n",
       "2021    1123\n",
       "2020     572\n",
       "2019     226\n",
       "2018     239\n",
       "2017     128\n",
       "2016       1\n",
       "2014       1\n",
       "dtype: int64"
      ]
     },
     "execution_count": 42,
     "metadata": {},
     "output_type": "execute_result"
    }
   ],
   "source": [
    "review_df.value_counts('year').sort_index(ascending=False)"
   ]
  },
  {
   "cell_type": "markdown",
   "id": "7623a2d3",
   "metadata": {},
   "source": [
    "------\n",
    "------\n",
    "## Task 1: Evaluate the textual data that we are working with. \n",
    "\n",
    "Things to evaluate:\n",
    "\n",
    "- What types of constructs could you generate based on the reviews? "
   ]
  },
  {
   "cell_type": "markdown",
   "id": "9282f6ef",
   "metadata": {},
   "source": [
    "### Show random review\n",
    "\n",
    "**Note:** Every time you run the code below it will show a different review in the dataset."
   ]
  },
  {
   "cell_type": "code",
   "execution_count": 43,
   "id": "2b2e5390",
   "metadata": {},
   "outputs": [
    {
     "name": "stdout",
     "output_type": "stream",
     "text": [
      "Review by a Client Partner in Miami, FL on 2021-11-01 00:00:00\n",
      "\n",
      "Pros: \n",
      "\n",
      "Autonomy, impact, product, innovation. Ability to manage your time and grow your career.\n",
      "\n",
      "Cons: \n",
      "\n",
      "Fast moving environment, not suited for all.\n"
     ]
    }
   ],
   "source": [
    "#############################\n",
    "## Run this cell to evaluate!\n",
    "############################# \n",
    "\n",
    "review_row = review_df.sample(1).iloc[0].to_dict()\n",
    "print(f\"Review by a {review_row['job_title']} in {review_row['location']} on {review_row['date']}\")\n",
    "print(f\"\\nPros: \\n\\n{review_row['pros'].strip()}\")\n",
    "print(f\"\\nCons: \\n\\n{review_row['cons'].strip()}\")"
   ]
  },
  {
   "cell_type": "markdown",
   "id": "ecfec4ed",
   "metadata": {},
   "source": [
    "## "
   ]
  },
  {
   "cell_type": "markdown",
   "id": "35a87634",
   "metadata": {},
   "source": [
    "------\n",
    "------"
   ]
  },
  {
   "cell_type": "markdown",
   "id": "c3d1436e",
   "metadata": {},
   "source": [
    "\n",
    "# Step 2: Clean the data\n",
    "-----"
   ]
  },
  {
   "cell_type": "markdown",
   "id": "ff630e51",
   "metadata": {},
   "source": [
    "### Cleaning function"
   ]
  },
  {
   "cell_type": "code",
   "execution_count": 12,
   "id": "3cb170c9",
   "metadata": {},
   "outputs": [],
   "source": [
    "def clean_text(input_str):\n",
    "    clean_str = copy.copy(input_str)\n",
    "\n",
    "    ## Remove special characters\n",
    "    clean_str = unidecode.unidecode(clean_str)\n",
    "\n",
    "    ## Remove any non-letter characters except for regular sentence-ending punctuation\n",
    "    clean_str = re.sub(r'[^a-zA-Z\\s\\.!\\?\\\\n]', '', clean_str)\n",
    "\n",
    "    ## Replace all \\s with a single space except for \\n\n",
    "    clean_str = re.sub(r'[ \\t\\x0B\\f\\r]+', ' ', clean_str)\n",
    "\n",
    "    ## Replace a newline with a dot and a space\n",
    "    clean_str = re.sub(r'\\s*\\n\\s*', '. ', clean_str)\n",
    "\n",
    "    ## Replace duplicate dots\n",
    "    clean_str = re.sub(r'\\.+', '.', clean_str)\n",
    "\n",
    "    ## Remove any leading or trailing spaces\n",
    "    clean_str = clean_str.strip()\n",
    "\n",
    "    ## Add trailing dot if not exists\n",
    "    if clean_str[-1] != '.':\n",
    "        clean_str += '.'\n",
    "\n",
    "    return clean_str"
   ]
  },
  {
   "cell_type": "markdown",
   "id": "175d5b3c",
   "metadata": {},
   "source": [
    "### Run"
   ]
  },
  {
   "cell_type": "code",
   "execution_count": 13,
   "id": "a31beda7",
   "metadata": {},
   "outputs": [],
   "source": [
    "review_df['pros_clean'] = review_df['pros'].apply(clean_text)\n",
    "review_df['cons_clean'] = review_df['cons'].apply(clean_text)"
   ]
  },
  {
   "cell_type": "markdown",
   "id": "9da09161",
   "metadata": {},
   "source": [
    "#### Add lower case version"
   ]
  },
  {
   "cell_type": "code",
   "execution_count": 14,
   "id": "3ac873c9",
   "metadata": {},
   "outputs": [],
   "source": [
    "review_df['pros_clean_l'] = review_df['pros_clean'].str.lower()\n",
    "review_df['cons_clean_l'] = review_df['cons_clean'].str.lower()"
   ]
  },
  {
   "cell_type": "markdown",
   "id": "1af69629",
   "metadata": {},
   "source": [
    "------\n",
    "------\n",
    "## Task 2: Evaluate whether we did a good job cleaning the data\n",
    "\n",
    "Things to evaluate:\n",
    "\n",
    "- Compare the \"dirty\" versus the \"clean\" text (see below), what are the types of things that are different?\n",
    "- Can you find any remaining errors that aren't taken care off, should we deal with these?\n",
    "\n",
    "### Inspect"
   ]
  },
  {
   "cell_type": "code",
   "execution_count": 15,
   "id": "6f78ed19",
   "metadata": {},
   "outputs": [
    {
     "name": "stdout",
     "output_type": "stream",
     "text": [
      "Review by a Production Engineer in Menlo Park, CA on 2021-06-18 00:00:00\n",
      "\n",
      "Pros: \n",
      "\n",
      "The salary is excellent and engineering decisions aren't made from on high.\n",
      "\n",
      "Pros clean: \n",
      "\n",
      "The salary is excellent and engineering decisions arent made from on high.\n",
      "\n",
      "--------------------------------------------------\n",
      "\n",
      "Cons: \n",
      "\n",
      "Each day employees are waterboarded with wokeness. The focus of the company now seems to be social engineering and activism.\n",
      "\n",
      "From an engineering perspective there is a not-invented-here-syndrome almost as bad as RedHat. There are many third rails that may not be touched.\n",
      "\n",
      "Cons clean: \n",
      "\n",
      "Each day employees are waterboarded with wokeness. The focus of the company now seems to be social engineering and activism. From an engineering perspective there is a notinventedheresyndrome almost as bad as RedHat. There are many third rails that may not be touched.\n"
     ]
    }
   ],
   "source": [
    "#############################\n",
    "## Run this cell to evaluate!\n",
    "############################# \n",
    "\n",
    "review_row = review_df.sample(1).iloc[0].to_dict()\n",
    "print(f\"Review by a {review_row['job_title']} in {review_row['location']} on {review_row['date']}\")\n",
    "print(f\"\\nPros: \\n\\n{review_row['pros'].strip()}\")\n",
    "print(f\"\\nPros clean: \\n\\n{review_row['pros_clean'].strip()}\")\n",
    "print('\\n' + '-'*50)\n",
    "print(f\"\\nCons: \\n\\n{review_row['cons'].strip()}\")\n",
    "print(f\"\\nCons clean: \\n\\n{review_row['cons_clean'].strip()}\")"
   ]
  },
  {
   "cell_type": "markdown",
   "id": "c169d1bd",
   "metadata": {},
   "source": [
    "------\n",
    "------\n",
    "# Step 3: Analyze the data\n"
   ]
  },
  {
   "cell_type": "markdown",
   "id": "f636c025",
   "metadata": {},
   "source": [
    "------\n",
    "------\n",
    "## Task 3: Let's perform a keyword analysis!\n",
    "\n",
    "Things to evaluate:\n",
    "\n",
    "- Use the provided keywords to see what we can learn about the reviews.\n",
    "- Can you come up with keywords of your own to obtain additional insights?"
   ]
  },
  {
   "cell_type": "markdown",
   "id": "a5a19f25",
   "metadata": {},
   "source": [
    "### Check whether each pros and cons contains a keyword"
   ]
  },
  {
   "cell_type": "code",
   "execution_count": 16,
   "id": "f95e985e",
   "metadata": {},
   "outputs": [],
   "source": [
    "keywords_of_interest = ['traffic', 'culture', 'salary', 'diversity', 'balance'] ## <-- Change this!\n",
    "\n",
    "text_types = ['pros', 'cons']\n",
    "contains_columns = []\n",
    "for text_type in text_types:\n",
    "    for keyword in keywords_of_interest:\n",
    "        review_df[f'{text_type}_contains_{keyword}'] = review_df[f'{text_type}_clean_l'].str.contains(keyword)**1\n",
    "        contains_columns.append(f'{text_type}_contains_{keyword}')"
   ]
  },
  {
   "cell_type": "code",
   "execution_count": 17,
   "id": "e93be612",
   "metadata": {},
   "outputs": [
    {
     "data": {
      "text/html": [
       "<div>\n",
       "<style scoped>\n",
       "    .dataframe tbody tr th:only-of-type {\n",
       "        vertical-align: middle;\n",
       "    }\n",
       "\n",
       "    .dataframe tbody tr th {\n",
       "        vertical-align: top;\n",
       "    }\n",
       "\n",
       "    .dataframe thead th {\n",
       "        text-align: right;\n",
       "    }\n",
       "</style>\n",
       "<table border=\"1\" class=\"dataframe\">\n",
       "  <thead>\n",
       "    <tr style=\"text-align: right;\">\n",
       "      <th></th>\n",
       "      <th>421</th>\n",
       "      <th>1781</th>\n",
       "    </tr>\n",
       "  </thead>\n",
       "  <tbody>\n",
       "    <tr>\n",
       "      <th>date</th>\n",
       "      <td>2021-07-12 00:00:00</td>\n",
       "      <td>2019-08-11 00:00:00</td>\n",
       "    </tr>\n",
       "    <tr>\n",
       "      <th>year</th>\n",
       "      <td>2021</td>\n",
       "      <td>2019</td>\n",
       "    </tr>\n",
       "    <tr>\n",
       "      <th>rating</th>\n",
       "      <td>4</td>\n",
       "      <td>5</td>\n",
       "    </tr>\n",
       "    <tr>\n",
       "      <th>rating_wlb</th>\n",
       "      <td>0</td>\n",
       "      <td>4</td>\n",
       "    </tr>\n",
       "    <tr>\n",
       "      <th>rating_culture</th>\n",
       "      <td>0</td>\n",
       "      <td>5</td>\n",
       "    </tr>\n",
       "    <tr>\n",
       "      <th>rating_dei</th>\n",
       "      <td>0</td>\n",
       "      <td>0</td>\n",
       "    </tr>\n",
       "    <tr>\n",
       "      <th>rating_comp</th>\n",
       "      <td>0</td>\n",
       "      <td>5</td>\n",
       "    </tr>\n",
       "    <tr>\n",
       "      <th>job_title</th>\n",
       "      <td>Product Manager</td>\n",
       "      <td>Software Engineer</td>\n",
       "    </tr>\n",
       "    <tr>\n",
       "      <th>location</th>\n",
       "      <td>Menlo Park, CA</td>\n",
       "      <td>Seattle, WA</td>\n",
       "    </tr>\n",
       "    <tr>\n",
       "      <th>pros</th>\n",
       "      <td>Autonomy, culture, speed of decisions, opportu...</td>\n",
       "      <td>The benefits, perks, and opportunities for gro...</td>\n",
       "    </tr>\n",
       "    <tr>\n",
       "      <th>cons</th>\n",
       "      <td>Moving too fast. Lot of chaos.</td>\n",
       "      <td>A lot of pressure to perform. Oncall sometimes...</td>\n",
       "    </tr>\n",
       "    <tr>\n",
       "      <th>pros_clean</th>\n",
       "      <td>Autonomy culture speed of decisions opportunit...</td>\n",
       "      <td>The benefits perks and opportunities for growt...</td>\n",
       "    </tr>\n",
       "    <tr>\n",
       "      <th>cons_clean</th>\n",
       "      <td>Moving too fast. Lot of chaos.</td>\n",
       "      <td>A lot of pressure to perform. Oncall sometimes...</td>\n",
       "    </tr>\n",
       "    <tr>\n",
       "      <th>pros_clean_l</th>\n",
       "      <td>autonomy culture speed of decisions opportunit...</td>\n",
       "      <td>the benefits perks and opportunities for growt...</td>\n",
       "    </tr>\n",
       "    <tr>\n",
       "      <th>cons_clean_l</th>\n",
       "      <td>moving too fast. lot of chaos.</td>\n",
       "      <td>a lot of pressure to perform. oncall sometimes...</td>\n",
       "    </tr>\n",
       "    <tr>\n",
       "      <th>pros_contains_traffic</th>\n",
       "      <td>0</td>\n",
       "      <td>0</td>\n",
       "    </tr>\n",
       "    <tr>\n",
       "      <th>pros_contains_culture</th>\n",
       "      <td>1</td>\n",
       "      <td>0</td>\n",
       "    </tr>\n",
       "    <tr>\n",
       "      <th>pros_contains_salary</th>\n",
       "      <td>0</td>\n",
       "      <td>0</td>\n",
       "    </tr>\n",
       "    <tr>\n",
       "      <th>pros_contains_diversity</th>\n",
       "      <td>0</td>\n",
       "      <td>0</td>\n",
       "    </tr>\n",
       "    <tr>\n",
       "      <th>pros_contains_balance</th>\n",
       "      <td>0</td>\n",
       "      <td>0</td>\n",
       "    </tr>\n",
       "    <tr>\n",
       "      <th>cons_contains_traffic</th>\n",
       "      <td>0</td>\n",
       "      <td>0</td>\n",
       "    </tr>\n",
       "    <tr>\n",
       "      <th>cons_contains_culture</th>\n",
       "      <td>0</td>\n",
       "      <td>0</td>\n",
       "    </tr>\n",
       "    <tr>\n",
       "      <th>cons_contains_salary</th>\n",
       "      <td>0</td>\n",
       "      <td>0</td>\n",
       "    </tr>\n",
       "    <tr>\n",
       "      <th>cons_contains_diversity</th>\n",
       "      <td>0</td>\n",
       "      <td>0</td>\n",
       "    </tr>\n",
       "    <tr>\n",
       "      <th>cons_contains_balance</th>\n",
       "      <td>0</td>\n",
       "      <td>0</td>\n",
       "    </tr>\n",
       "  </tbody>\n",
       "</table>\n",
       "</div>"
      ],
      "text/plain": [
       "                                                                      421   \\\n",
       "date                                                   2021-07-12 00:00:00   \n",
       "year                                                                  2021   \n",
       "rating                                                                   4   \n",
       "rating_wlb                                                               0   \n",
       "rating_culture                                                           0   \n",
       "rating_dei                                                               0   \n",
       "rating_comp                                                              0   \n",
       "job_title                                                  Product Manager   \n",
       "location                                                    Menlo Park, CA   \n",
       "pros                     Autonomy, culture, speed of decisions, opportu...   \n",
       "cons                                        Moving too fast. Lot of chaos.   \n",
       "pros_clean               Autonomy culture speed of decisions opportunit...   \n",
       "cons_clean                                  Moving too fast. Lot of chaos.   \n",
       "pros_clean_l             autonomy culture speed of decisions opportunit...   \n",
       "cons_clean_l                                moving too fast. lot of chaos.   \n",
       "pros_contains_traffic                                                    0   \n",
       "pros_contains_culture                                                    1   \n",
       "pros_contains_salary                                                     0   \n",
       "pros_contains_diversity                                                  0   \n",
       "pros_contains_balance                                                    0   \n",
       "cons_contains_traffic                                                    0   \n",
       "cons_contains_culture                                                    0   \n",
       "cons_contains_salary                                                     0   \n",
       "cons_contains_diversity                                                  0   \n",
       "cons_contains_balance                                                    0   \n",
       "\n",
       "                                                                      1781  \n",
       "date                                                   2019-08-11 00:00:00  \n",
       "year                                                                  2019  \n",
       "rating                                                                   5  \n",
       "rating_wlb                                                               4  \n",
       "rating_culture                                                           5  \n",
       "rating_dei                                                               0  \n",
       "rating_comp                                                              5  \n",
       "job_title                                                Software Engineer  \n",
       "location                                                       Seattle, WA  \n",
       "pros                     The benefits, perks, and opportunities for gro...  \n",
       "cons                     A lot of pressure to perform. Oncall sometimes...  \n",
       "pros_clean               The benefits perks and opportunities for growt...  \n",
       "cons_clean               A lot of pressure to perform. Oncall sometimes...  \n",
       "pros_clean_l             the benefits perks and opportunities for growt...  \n",
       "cons_clean_l             a lot of pressure to perform. oncall sometimes...  \n",
       "pros_contains_traffic                                                    0  \n",
       "pros_contains_culture                                                    0  \n",
       "pros_contains_salary                                                     0  \n",
       "pros_contains_diversity                                                  0  \n",
       "pros_contains_balance                                                    0  \n",
       "cons_contains_traffic                                                    0  \n",
       "cons_contains_culture                                                    0  \n",
       "cons_contains_salary                                                     0  \n",
       "cons_contains_diversity                                                  0  \n",
       "cons_contains_balance                                                    0  "
      ]
     },
     "execution_count": 17,
     "metadata": {},
     "output_type": "execute_result"
    }
   ],
   "source": [
    "review_df.sample(2).T"
   ]
  },
  {
   "cell_type": "markdown",
   "id": "8c6462e0",
   "metadata": {},
   "source": [
    "### Create aggregate dataframe"
   ]
  },
  {
   "cell_type": "code",
   "execution_count": 18,
   "id": "04edd877",
   "metadata": {},
   "outputs": [],
   "source": [
    "review_kw_df = review_df[contains_columns].sum().reset_index().rename(columns={'index' : 'group', 0 : 'count'})\n",
    "tmp_df = review_kw_df['group'].str.split('_', expand=True).rename(columns={0 : 'text_type', 2 : 'keyword'}).drop(1,axis=1)\n",
    "review_kw_df = pd.concat([review_kw_df, tmp_df], axis=1)\n",
    "review_kw_df = review_kw_df[['keyword', 'text_type', 'count']].sort_values(by='keyword', ascending=False)"
   ]
  },
  {
   "cell_type": "code",
   "execution_count": 19,
   "id": "07afb2ac",
   "metadata": {},
   "outputs": [
    {
     "data": {
      "text/html": [
       "<div>\n",
       "<style scoped>\n",
       "    .dataframe tbody tr th:only-of-type {\n",
       "        vertical-align: middle;\n",
       "    }\n",
       "\n",
       "    .dataframe tbody tr th {\n",
       "        vertical-align: top;\n",
       "    }\n",
       "\n",
       "    .dataframe thead th {\n",
       "        text-align: right;\n",
       "    }\n",
       "</style>\n",
       "<table border=\"1\" class=\"dataframe\">\n",
       "  <thead>\n",
       "    <tr style=\"text-align: right;\">\n",
       "      <th></th>\n",
       "      <th>keyword</th>\n",
       "      <th>text_type</th>\n",
       "      <th>count</th>\n",
       "    </tr>\n",
       "  </thead>\n",
       "  <tbody>\n",
       "    <tr>\n",
       "      <th>0</th>\n",
       "      <td>traffic</td>\n",
       "      <td>pros</td>\n",
       "      <td>0</td>\n",
       "    </tr>\n",
       "    <tr>\n",
       "      <th>5</th>\n",
       "      <td>traffic</td>\n",
       "      <td>cons</td>\n",
       "      <td>9</td>\n",
       "    </tr>\n",
       "    <tr>\n",
       "      <th>2</th>\n",
       "      <td>salary</td>\n",
       "      <td>pros</td>\n",
       "      <td>125</td>\n",
       "    </tr>\n",
       "    <tr>\n",
       "      <th>7</th>\n",
       "      <td>salary</td>\n",
       "      <td>cons</td>\n",
       "      <td>12</td>\n",
       "    </tr>\n",
       "    <tr>\n",
       "      <th>3</th>\n",
       "      <td>diversity</td>\n",
       "      <td>pros</td>\n",
       "      <td>34</td>\n",
       "    </tr>\n",
       "    <tr>\n",
       "      <th>8</th>\n",
       "      <td>diversity</td>\n",
       "      <td>cons</td>\n",
       "      <td>28</td>\n",
       "    </tr>\n",
       "    <tr>\n",
       "      <th>1</th>\n",
       "      <td>culture</td>\n",
       "      <td>pros</td>\n",
       "      <td>407</td>\n",
       "    </tr>\n",
       "    <tr>\n",
       "      <th>6</th>\n",
       "      <td>culture</td>\n",
       "      <td>cons</td>\n",
       "      <td>155</td>\n",
       "    </tr>\n",
       "    <tr>\n",
       "      <th>4</th>\n",
       "      <td>balance</td>\n",
       "      <td>pros</td>\n",
       "      <td>118</td>\n",
       "    </tr>\n",
       "    <tr>\n",
       "      <th>9</th>\n",
       "      <td>balance</td>\n",
       "      <td>cons</td>\n",
       "      <td>279</td>\n",
       "    </tr>\n",
       "  </tbody>\n",
       "</table>\n",
       "</div>"
      ],
      "text/plain": [
       "     keyword text_type  count\n",
       "0    traffic      pros      0\n",
       "5    traffic      cons      9\n",
       "2     salary      pros    125\n",
       "7     salary      cons     12\n",
       "3  diversity      pros     34\n",
       "8  diversity      cons     28\n",
       "1    culture      pros    407\n",
       "6    culture      cons    155\n",
       "4    balance      pros    118\n",
       "9    balance      cons    279"
      ]
     },
     "execution_count": 19,
     "metadata": {},
     "output_type": "execute_result"
    }
   ],
   "source": [
    "review_kw_df"
   ]
  },
  {
   "cell_type": "markdown",
   "id": "477b6a26",
   "metadata": {},
   "source": [
    "## Sentiment analysis"
   ]
  },
  {
   "cell_type": "markdown",
   "id": "5b344a5c",
   "metadata": {},
   "source": [
    "### Add the sentiment to the dataframe"
   ]
  },
  {
   "cell_type": "code",
   "execution_count": 20,
   "id": "cc317d84",
   "metadata": {},
   "outputs": [],
   "source": [
    "def add_sentiment(input_str):\n",
    "    return TextBlob(input_str).sentiment.polarity"
   ]
  },
  {
   "cell_type": "code",
   "execution_count": 21,
   "id": "336a6175",
   "metadata": {},
   "outputs": [],
   "source": [
    "review_df['pros_sentiment'] = review_df['pros_clean'].apply(add_sentiment)\n",
    "review_df['cons_sentiment'] = review_df['cons_clean'].apply(add_sentiment)\n",
    "review_df['average_sentiment'] = (review_df['pros_sentiment'] + review_df['cons_sentiment'])/2"
   ]
  },
  {
   "cell_type": "markdown",
   "id": "2c659e29",
   "metadata": {},
   "source": [
    "------\n",
    "------\n",
    "## Task 4: Inspect the sentiment scores, are they reasonable?\n",
    "\n",
    "Things to evaluate:\n",
    "\n",
    "- Use the inspection tools below to evaluate whether the sentiment scores work as expected. Can you find any issues?\n",
    "\n",
    "### Inspect"
   ]
  },
  {
   "cell_type": "code",
   "execution_count": 22,
   "id": "a695739e",
   "metadata": {},
   "outputs": [
    {
     "name": "stdout",
     "output_type": "stream",
     "text": [
      "Review by a Software Engineer in New York, NY on 2020-10-21 00:00:00\n",
      "\n",
      "Pros clean (sentiment: 0.70): \n",
      "\n",
      "Good pay and good benefits.\n",
      "\n",
      "--------------------------------------------------\n",
      "\n",
      "Cons clean (sentiment: 0.00): \n",
      "\n",
      "If you dont believe in their values then this company is not for you.\n"
     ]
    }
   ],
   "source": [
    "review_row = review_df.sample(1).iloc[0].to_dict()\n",
    "print(f\"Review by a {review_row['job_title']} in {review_row['location']} on {review_row['date']}\")\n",
    "print(f\"\\nPros clean (sentiment: {review_row['pros_sentiment']:.2f}): \\n\\n{review_row['pros_clean'].strip()}\")\n",
    "print('\\n' + '-'*50)\n",
    "print(f\"\\nCons clean (sentiment: {review_row['cons_sentiment']:.2f}): \\n\\n{review_row['cons_clean'].strip()}\")"
   ]
  },
  {
   "cell_type": "markdown",
   "id": "d8fd8c2a",
   "metadata": {},
   "source": [
    "### Show summary statistics for the sentiment"
   ]
  },
  {
   "cell_type": "code",
   "execution_count": 23,
   "id": "7a8cb270",
   "metadata": {},
   "outputs": [
    {
     "data": {
      "text/html": [
       "<div>\n",
       "<style scoped>\n",
       "    .dataframe tbody tr th:only-of-type {\n",
       "        vertical-align: middle;\n",
       "    }\n",
       "\n",
       "    .dataframe tbody tr th {\n",
       "        vertical-align: top;\n",
       "    }\n",
       "\n",
       "    .dataframe thead th {\n",
       "        text-align: right;\n",
       "    }\n",
       "</style>\n",
       "<table border=\"1\" class=\"dataframe\">\n",
       "  <thead>\n",
       "    <tr style=\"text-align: right;\">\n",
       "      <th></th>\n",
       "      <th>pros_sentiment</th>\n",
       "      <th>cons_sentiment</th>\n",
       "    </tr>\n",
       "  </thead>\n",
       "  <tbody>\n",
       "    <tr>\n",
       "      <th>count</th>\n",
       "      <td>2290.000000</td>\n",
       "      <td>2290.000000</td>\n",
       "    </tr>\n",
       "    <tr>\n",
       "      <th>mean</th>\n",
       "      <td>0.429227</td>\n",
       "      <td>0.046158</td>\n",
       "    </tr>\n",
       "    <tr>\n",
       "      <th>std</th>\n",
       "      <td>0.280898</td>\n",
       "      <td>0.279836</td>\n",
       "    </tr>\n",
       "    <tr>\n",
       "      <th>min</th>\n",
       "      <td>-1.000000</td>\n",
       "      <td>-1.000000</td>\n",
       "    </tr>\n",
       "    <tr>\n",
       "      <th>25%</th>\n",
       "      <td>0.228921</td>\n",
       "      <td>-0.050000</td>\n",
       "    </tr>\n",
       "    <tr>\n",
       "      <th>50%</th>\n",
       "      <td>0.450000</td>\n",
       "      <td>0.000000</td>\n",
       "    </tr>\n",
       "    <tr>\n",
       "      <th>75%</th>\n",
       "      <td>0.650000</td>\n",
       "      <td>0.200000</td>\n",
       "    </tr>\n",
       "    <tr>\n",
       "      <th>max</th>\n",
       "      <td>1.000000</td>\n",
       "      <td>1.000000</td>\n",
       "    </tr>\n",
       "  </tbody>\n",
       "</table>\n",
       "</div>"
      ],
      "text/plain": [
       "       pros_sentiment  cons_sentiment\n",
       "count     2290.000000     2290.000000\n",
       "mean         0.429227        0.046158\n",
       "std          0.280898        0.279836\n",
       "min         -1.000000       -1.000000\n",
       "25%          0.228921       -0.050000\n",
       "50%          0.450000        0.000000\n",
       "75%          0.650000        0.200000\n",
       "max          1.000000        1.000000"
      ]
     },
     "execution_count": 23,
     "metadata": {},
     "output_type": "execute_result"
    }
   ],
   "source": [
    "review_df[['pros_sentiment', 'cons_sentiment']].describe()"
   ]
  },
  {
   "cell_type": "markdown",
   "id": "0bdca7c1",
   "metadata": {},
   "source": [
    "### Show examples of high and low sentiment reviews"
   ]
  },
  {
   "cell_type": "code",
   "execution_count": 24,
   "id": "ab4fdfe5",
   "metadata": {},
   "outputs": [],
   "source": [
    "top_pos_df = review_df.sort_values(by=['pros_sentiment', 'cons_sentiment'], ascending=False).head(20)\n",
    "top_neg_df = review_df.sort_values(by=['pros_sentiment', 'cons_sentiment'], ascending=True).head(20)"
   ]
  },
  {
   "cell_type": "code",
   "execution_count": 25,
   "id": "7a042d20",
   "metadata": {},
   "outputs": [
    {
     "name": "stdout",
     "output_type": "stream",
     "text": [
      "Very positive review by a Software Engineer in San Jose, CA on 2021-03-10 00:00:00\n",
      "\n",
      "Pros clean (sentiment: 1.00): \n",
      "\n",
      "Best make tons of money.\n",
      "\n",
      "--------------------------------------------------\n",
      "\n",
      "Cons clean (sentiment: 0.80): \n",
      "\n",
      "Nothing im happy about everything great company.\n"
     ]
    }
   ],
   "source": [
    "review_row = top_pos_df.sample(1).iloc[0].to_dict()\n",
    "print(f\"Very positive review by a {review_row['job_title']} in {review_row['location']} on {review_row['date']}\")\n",
    "print(f\"\\nPros clean (sentiment: {review_row['pros_sentiment']:.2f}): \\n\\n{review_row['pros_clean'].strip()}\")\n",
    "print('\\n' + '-'*50)\n",
    "print(f\"\\nCons clean (sentiment: {review_row['cons_sentiment']:.2f}): \\n\\n{review_row['cons_clean'].strip()}\")"
   ]
  },
  {
   "cell_type": "code",
   "execution_count": 26,
   "id": "f7aefbbe",
   "metadata": {},
   "outputs": [
    {
     "name": "stdout",
     "output_type": "stream",
     "text": [
      "Very negative review by a Software Engineer in Menlo Park, CA on 2021-02-09 00:00:00\n",
      "\n",
      "Pros clean (sentiment: -0.12): \n",
      "\n",
      "Openness which means you can see and submit diffs on almost everyones code and you can see the direction and accomplishments of other teams.\n",
      "\n",
      "--------------------------------------------------\n",
      "\n",
      "Cons clean (sentiment: 0.07): \n",
      "\n",
      "Move fast break things applies to internal tools and infrastructure. Things broke often enough that I remember it as an annoyance.\n"
     ]
    }
   ],
   "source": [
    "review_row = top_neg_df.sample(1).iloc[0].to_dict()\n",
    "print(f\"Very negative review by a {review_row['job_title']} in {review_row['location']} on {review_row['date']}\")\n",
    "print(f\"\\nPros clean (sentiment: {review_row['pros_sentiment']:.2f}): \\n\\n{review_row['pros_clean'].strip()}\")\n",
    "print('\\n' + '-'*50)\n",
    "print(f\"\\nCons clean (sentiment: {review_row['cons_sentiment']:.2f}): \\n\\n{review_row['cons_clean'].strip()}\")"
   ]
  },
  {
   "cell_type": "markdown",
   "id": "ad781730",
   "metadata": {},
   "source": [
    "### Did the sentiment change over time?"
   ]
  },
  {
   "cell_type": "code",
   "execution_count": 27,
   "id": "f0c32abe",
   "metadata": {},
   "outputs": [],
   "source": [
    "import seaborn as sns\n",
    "import matplotlib.pyplot as plt\n",
    "## Retina\n",
    "sns.set(style=\"whitegrid\", font_scale=1.2)"
   ]
  },
  {
   "cell_type": "code",
   "execution_count": 28,
   "id": "7ecfd909",
   "metadata": {},
   "outputs": [],
   "source": [
    "graph_df = review_df[review_df.year >= 2017]"
   ]
  },
  {
   "cell_type": "markdown",
   "id": "ee37b53b",
   "metadata": {},
   "source": [
    "#### Pros"
   ]
  },
  {
   "cell_type": "code",
   "execution_count": 29,
   "id": "99030e68",
   "metadata": {},
   "outputs": [
    {
     "data": {
      "text/plain": [
       "Text(0, 0.5, 'Sentiment')"
      ]
     },
     "execution_count": 29,
     "metadata": {},
     "output_type": "execute_result"
    },
    {
     "data": {
      "image/png": "[encoded data removed]",
      "text/plain": [
       "<Figure size 864x432 with 1 Axes>"
      ]
     },
     "metadata": {},
     "output_type": "display_data"
    }
   ],
   "source": [
    "plt.figure(figsize=(12,6))\n",
    "sns.lineplot(y='pros_sentiment', x='year', data=graph_df)\n",
    "\n",
    "## make pretty\n",
    "plt.title('Pros Sentiment over Time')\n",
    "plt.xlabel('Year', labelpad=10)\n",
    "plt.ylabel('Sentiment', labelpad=10)"
   ]
  },
  {
   "cell_type": "markdown",
   "id": "112a8092",
   "metadata": {},
   "source": [
    "#### Cons"
   ]
  },
  {
   "cell_type": "code",
   "execution_count": 30,
   "id": "f7025dad",
   "metadata": {},
   "outputs": [
    {
     "data": {
      "text/plain": [
       "Text(0, 0.5, 'Sentiment')"
      ]
     },
     "execution_count": 30,
     "metadata": {},
     "output_type": "execute_result"
    },
    {
     "data": {
      "image/png": "[encoded data removed]",
      "text/plain": [
       "<Figure size 864x432 with 1 Axes>"
      ]
     },
     "metadata": {},
     "output_type": "display_data"
    }
   ],
   "source": [
    "plt.figure(figsize=(12,6))\n",
    "sns.lineplot(y='cons_sentiment', x='year', data=graph_df)\n",
    "\n",
    "## make pretty\n",
    "plt.title('Cons Sentiment over Time')\n",
    "plt.xlabel('Year', labelpad=10)\n",
    "plt.ylabel('Sentiment', labelpad=10)"
   ]
  },
  {
   "cell_type": "markdown",
   "id": "a32481b0",
   "metadata": {},
   "source": [
    "### Does the average yearly sentiment and the average yearly ratings change similarly over time?"
   ]
  },
  {
   "cell_type": "markdown",
   "id": "e52c2cf3",
   "metadata": {},
   "source": [
    "#### Text sentiment"
   ]
  },
  {
   "cell_type": "code",
   "execution_count": 31,
   "id": "56810e53",
   "metadata": {},
   "outputs": [
    {
     "data": {
      "text/plain": [
       "Text(0, 0.5, 'Sentiment')"
      ]
     },
     "execution_count": 31,
     "metadata": {},
     "output_type": "execute_result"
    },
    {
     "data": {
      "image/png": "[encoded data removed]",
      "text/plain": [
       "<Figure size 864x432 with 1 Axes>"
      ]
     },
     "metadata": {},
     "output_type": "display_data"
    }
   ],
   "source": [
    "plt.figure(figsize=(12,6))\n",
    "sns.lineplot(y='average_sentiment', x='year', data=graph_df)\n",
    "\n",
    "## make pretty\n",
    "plt.title('Average Sentiment over Time')\n",
    "plt.xlabel('Year', labelpad=10)\n",
    "plt.ylabel('Sentiment', labelpad=10)"
   ]
  },
  {
   "cell_type": "markdown",
   "id": "c70945d6",
   "metadata": {},
   "source": [
    "### Rating sentiment"
   ]
  },
  {
   "cell_type": "code",
   "execution_count": 32,
   "id": "af8c1850",
   "metadata": {},
   "outputs": [
    {
     "data": {
      "text/plain": [
       "Text(0, 0.5, 'Rating')"
      ]
     },
     "execution_count": 32,
     "metadata": {},
     "output_type": "execute_result"
    },
    {
     "data": {
      "image/png": "[encoded data removed]",
      "text/plain": [
       "<Figure size 864x432 with 1 Axes>"
      ]
     },
     "metadata": {},
     "output_type": "display_data"
    }
   ],
   "source": [
    "plt.figure(figsize=(12,6))\n",
    "sns.lineplot(y='rating', x='year', data=graph_df)\n",
    "\n",
    "## make pretty\n",
    "plt.title('Average rating over Time')\n",
    "plt.xlabel('Year', labelpad=10)\n",
    "plt.ylabel('Rating', labelpad=10)"
   ]
  },
  {
   "cell_type": "markdown",
   "id": "350969b9",
   "metadata": {},
   "source": [
    "--------\n",
    "# Advanced - LDA model\n",
    "-------"
   ]
  },
  {
   "cell_type": "markdown",
   "id": "837a5347",
   "metadata": {},
   "source": [
    "## Prep the data"
   ]
  },
  {
   "cell_type": "code",
   "execution_count": 33,
   "id": "c30d58ec",
   "metadata": {},
   "outputs": [],
   "source": [
    "from sklearn.decomposition import LatentDirichletAllocation\n",
    "from sklearn.feature_extraction.text import CountVectorizer"
   ]
  },
  {
   "cell_type": "code",
   "execution_count": 34,
   "id": "d182b237",
   "metadata": {},
   "outputs": [],
   "source": [
    "clean_pros_l = review_df['pros_clean_l'].tolist()\n",
    "clean_cons_l = review_df['cons_clean_l'].tolist()"
   ]
  },
  {
   "cell_type": "code",
   "execution_count": 35,
   "id": "9b276f67",
   "metadata": {},
   "outputs": [],
   "source": [
    "vec_pros = CountVectorizer(stop_words='english', max_df=0.95, min_df=2)\n",
    "tf_pros = vec_pros.fit_transform(clean_pros_l)\n",
    "\n",
    "vec_cons = CountVectorizer(stop_words='english', max_df=0.95, min_df=2)\n",
    "tf_cons = vec_cons.fit_transform(clean_cons_l)"
   ]
  },
  {
   "cell_type": "markdown",
   "id": "0e6ddd48",
   "metadata": {},
   "source": [
    "## Train the models"
   ]
  },
  {
   "cell_type": "markdown",
   "id": "46d53bdb",
   "metadata": {},
   "source": [
    "#### Pros"
   ]
  },
  {
   "cell_type": "code",
   "execution_count": 36,
   "id": "d8ec8e4f",
   "metadata": {},
   "outputs": [],
   "source": [
    "n_topics = 6 ## <-- Change this!\n",
    "lda_pros = LatentDirichletAllocation(n_components=n_topics, max_iter=10,\n",
    "                                learning_method='online',\n",
    "                                n_jobs=1)\n",
    "lda_f_pros = lda_pros.fit_transform(tf_pros)"
   ]
  },
  {
   "cell_type": "markdown",
   "id": "2c0c0923",
   "metadata": {},
   "source": [
    "#### Cons"
   ]
  },
  {
   "cell_type": "code",
   "execution_count": 37,
   "id": "0e9343f8",
   "metadata": {},
   "outputs": [],
   "source": [
    "n_topics = 6 ## <-- Change this!\n",
    "lda_cons = LatentDirichletAllocation(n_components=n_topics, max_iter=10,\n",
    "                                learning_method='online',\n",
    "                                n_jobs=1)\n",
    "lda_f_cons = lda_cons.fit_transform(tf_cons)"
   ]
  },
  {
   "cell_type": "markdown",
   "id": "259cfccb",
   "metadata": {},
   "source": [
    "## Visualize"
   ]
  },
  {
   "cell_type": "code",
   "execution_count": 38,
   "id": "919e147c",
   "metadata": {},
   "outputs": [],
   "source": [
    "import pyLDAvis\n",
    "import pyLDAvis.sklearn\n",
    "pyLDAvis.enable_notebook()"
   ]
  },
  {
   "cell_type": "markdown",
   "id": "2b3211b3",
   "metadata": {},
   "source": [
    "## Task 5: LDA Analysis, do the clusters make sense? \n",
    "\n",
    "Things to evaluate:\n",
    "\n",
    "- Use the inspection tools below to evaluate whether the LD&A clusters make sense. Can you interpret what the different clusters represent?\n",
    "- Play around with the `n_topics` parameter to see how the results change."
   ]
  },
  {
   "cell_type": "markdown",
   "id": "3d02ec60",
   "metadata": {},
   "source": [
    "### Pros"
   ]
  },
  {
   "cell_type": "code",
   "execution_count": 39,
   "id": "498ebf2b",
   "metadata": {},
   "outputs": [
    {
     "data": {
      "text/html": [
       "\n",
       "<link rel=\"stylesheet\" type=\"text/css\" href=\"https://cdn.jsdelivr.net/gh/bmabey/pyLDAvis@3.3.1/pyLDAvis/js/ldavis.v1.0.0.css\">\n",
       "\n",
       "\n",
       "<div id=\"ldavis_el532816067158871685117373262\"></div>\n",
       "<script type=\"text/javascript\">\n",
       "\n",
       "var ldavis_el532816067158871685117373262_data = {\"mdsDat\": {\"x\": [-0.20164388408843645, -0.19381657198300495, 0.1558444731955489, -0.11883637374416911, 0.14426788164750923, 0.21418447497255233], \"y\": [-0.011103713052459739, 0.019698919685340044, 0.2252627697951801, -0.0008124056014719734, -0.2330094000565039, -3.6170770084535596e-05], \"topics\": [1, 2, 3, 4, 5, 6], \"cluster\": [1, 1, 1, 1, 1, 1], \"Freq\": [26.20498927005522, 21.990176727202694, 18.889476166311816, 15.430174227455351, 14.767001366763143, 2.718182242211782]}, \"tinfo\": {\"Term\": [\"xd\", \"good\", \"people\", \"food\", \"great\", \"benefits\", \"company\", \"free\", \"like\", \"work\", \"smart\", \"facebook\", \"employees\", \"care\", \"opportunity\", \"perks\", \"environment\", \"pay\", \"problems\", \"fast\", \"salary\", \"place\", \"balance\", \"really\", \"strong\", \"open\", \"truly\", \"impact\", \"fb\", \"lot\", \"transparent\", \"worklife\", \"resources\", \"friendly\", \"health\", \"office\", \"hours\", \"kind\", \"offices\", \"benefit\", \"amenities\", \"helpful\", \"free\", \"pace\", \"business\", \"food\", \"balance\", \"quality\", \"bad\", \"unlimited\", \"potential\", \"dynamic\", \"enjoyed\", \"healthy\", \"stuff\", \"variety\", \"wellness\", \"supports\", \"sick\", \"meet\", \"salary\", \"paced\", \"fast\", \"lots\", \"leave\", \"environment\", \"flexible\", \"fun\", \"life\", \"nice\", \"open\", \"easy\", \"good\", \"great\", \"perks\", \"work\", \"people\", \"place\", \"benefits\", \"autonomy\", \"learn\", \"lot\", \"culture\", \"amazing\", \"smart\", \"pay\", \"working\", \"company\", \"opportunity\", \"tools\", \"peoplexd\", \"focus\", \"payxd\", \"fair\", \"know\", \"mobility\", \"global\", \"class\", \"meaningful\", \"especially\", \"comp\", \"schedule\", \"bonus\", \"environmentxd\", \"little\", \"balancexd\", \"total\", \"colleaguesxd\", \"ton\", \"mentorship\", \"impactful\", \"challenge\", \"stay\", \"autonomyxd\", \"wide\", \"game\", \"growthxd\", \"willing\", \"internal\", \"projects\", \"benefitsxd\", \"supportive\", \"overall\", \"flexibility\", \"covid\", \"smart\", \"coworkers\", \"talented\", \"management\", \"pay\", \"benefits\", \"good\", \"impact\", \"challenging\", \"work\", \"great\", \"engineering\", \"colleagues\", \"culture\", \"people\", \"amazing\", \"xd\", \"perks\", \"interesting\", \"compensation\", \"growth\", \"learn\", \"high\", \"best\", \"team\", \"environment\", \"like\", \"feel\", \"large\", \"social\", \"important\", \"meals\", \"gym\", \"year\", \"months\", \"feels\", \"services\", \"thing\", \"senior\", \"campus\", \"org\", \"openness\", \"inclusive\", \"success\", \"used\", \"helps\", \"ceo\", \"resume\", \"felt\", \"treated\", \"wants\", \"supported\", \"deeply\", \"needs\", \"outside\", \"paid\", \"xd\", \"awesome\", \"long\", \"facebook\", \"having\", \"support\", \"mission\", \"employees\", \"team\", \"things\", \"place\", \"freedom\", \"youre\", \"ive\", \"manager\", \"company\", \"really\", \"scale\", \"work\", \"fb\", \"new\", \"want\", \"just\", \"incredible\", \"leadership\", \"working\", \"problems\", \"strong\", \"truly\", \"love\", \"amp\", \"smartest\", \"huge\", \"right\", \"diversity\", \"personal\", \"solve\", \"pros\", \"value\", \"talent\", \"respect\", \"encouraged\", \"inclusion\", \"market\", \"workplace\", \"rewards\", \"salaryxd\", \"emphasis\", \"edge\", \"got\", \"companyxd\", \"projectsxd\", \"worked\", \"cutting\", \"voice\", \"individuals\", \"learning\", \"generous\", \"products\", \"make\", \"best\", \"people\", \"ive\", \"company\", \"compensation\", \"working\", \"great\", \"opportunities\", \"benefits\", \"impact\", \"career\", \"culture\", \"work\", \"interesting\", \"facebook\", \"growth\", \"perks\", \"amazing\", \"care\", \"way\", \"im\", \"companies\", \"different\", \"product\", \"development\", \"making\", \"feedback\", \"transparency\", \"role\", \"takes\", \"bootcamp\", \"decision\", \"building\", \"growing\", \"research\", \"sure\", \"say\", \"communication\", \"far\", \"small\", \"offers\", \"taken\", \"general\", \"shuttles\", \"taking\", \"group\", \"workxd\", \"works\", \"review\", \"access\", \"data\", \"groups\", \"care\", \"years\", \"fb\", \"cool\", \"hard\", \"really\", \"world\", \"employee\", \"company\", \"employees\", \"lot\", \"career\", \"open\", \"big\", \"values\", \"good\", \"management\", \"culture\", \"experience\", \"list\", \"onsite\", \"art\", \"state\", \"gyms\", \"visibility\", \"imagine\", \"ones\", \"let\", \"leading\", \"sweet\", \"response\", \"interviews\", \"perk\", \"speed\", \"cleaning\", \"enterprise\", \"authenticity\", \"goodxd\", \"hr\", \"bureaucracy\", \"austin\", \"star\", \"park\", \"straight\", \"restaurants\", \"execution\", \"responsive\", \"phone\", \"formal\", \"progress\", \"dry\", \"goes\", \"decent\", \"technology\", \"successful\"], \"Freq\": [597.0, 575.0, 552.0, 223.0, 802.0, 540.0, 407.0, 159.0, 110.0, 781.0, 223.0, 186.0, 134.0, 102.0, 90.0, 325.0, 156.0, 204.0, 60.0, 112.0, 107.0, 136.0, 94.0, 140.0, 56.0, 115.0, 54.0, 152.0, 85.0, 144.0, 52.027447831152685, 48.28325987147938, 46.07187190928555, 46.64032766536055, 38.490253044332796, 36.51659248042746, 33.19664627218406, 31.30161914818876, 23.343592281703387, 22.040066088079435, 21.161333595698455, 20.23104758349762, 153.7079473610281, 19.51200087789652, 16.87845475539762, 213.45841625735488, 90.26801107462077, 15.717308457533125, 13.498754114093114, 12.305106883536729, 12.31981875125001, 11.808507920512698, 11.52000318132488, 11.370542428695247, 11.446160182913614, 11.351801861269665, 15.536507011807254, 10.612899185315143, 10.0278115587645, 9.579218768446989, 99.27519721370514, 27.16300623510334, 91.85394509167556, 108.7392621754683, 24.020445684974103, 116.18779792582782, 48.745658585567305, 51.12640765175509, 66.13730341207189, 67.7079799003557, 80.04951484251819, 31.203919312279183, 292.3526901956382, 362.9704368490542, 173.15323745450536, 319.37567954227563, 217.11273792567894, 78.15283960343201, 209.95545310838133, 55.379166225327275, 64.23025197035626, 73.85547532839185, 127.13798515173514, 80.7586606416765, 77.15785395065008, 72.73499302444185, 61.48162882875452, 65.56775892423583, 89.45450988601979, 53.8866765540543, 33.96114892911419, 31.902204133158445, 22.019273721748746, 19.55629880271591, 19.14827665185383, 15.66308861759225, 15.680858206594225, 15.724408714192354, 15.51294560051312, 14.881592901697605, 38.0696077613611, 13.763508933432941, 12.981125902835167, 12.936320064010799, 13.891153679900343, 11.722111784378084, 11.980839283371918, 11.575902988225357, 11.503269415137584, 10.961197173644377, 26.446441825629748, 10.170504627663332, 9.967002597040514, 9.781025051857469, 10.395009268887044, 8.94661210030239, 8.714720365339517, 8.691505229570042, 43.62434724671602, 81.34730464485955, 39.32489959747377, 32.15524559560014, 24.62150982811635, 47.740858609935295, 23.16885356795825, 139.8875781434572, 55.86557629480449, 26.609531689059622, 52.823156434853, 113.35365575895565, 232.9644442077503, 243.77644379403273, 86.62872962693805, 44.89689488024749, 284.67696539602446, 269.261710025241, 34.29640736010928, 34.98451549854615, 124.1854627073467, 154.8475565627483, 74.72254019250867, 136.5080210027186, 94.74545872217989, 44.28987692552972, 51.67085849515022, 50.30648832346752, 46.29758867087724, 39.558788861587004, 44.91846123923055, 40.61354338564038, 39.47388854737354, 110.18371804562652, 55.771770959882694, 24.459502816770367, 24.36681047460859, 21.799252855538814, 20.850196679694843, 19.987433740687983, 18.53894332188638, 17.278270069155646, 16.124584703798494, 16.307704594521752, 18.084043060825575, 15.955840083027317, 32.51333712256061, 15.806212185695578, 14.645956063040144, 14.065396784965873, 14.076010089237187, 13.249918753995317, 12.957136588384977, 11.896678145097775, 11.007050489191109, 10.861746859991849, 10.671905850986354, 10.648073425137719, 9.952093162847188, 9.784162749859899, 9.623905178927638, 9.361188618761872, 9.352259716854414, 459.8797834246421, 57.019292064335765, 24.613561150788236, 125.37155223182201, 20.12854435197615, 47.82804380581082, 31.65867331759613, 79.94908884859684, 82.34227995356105, 41.263181469239896, 57.526392152261394, 27.458525861894437, 31.668311291381258, 38.53455518843477, 21.33248799244644, 76.69545567698007, 42.319169760450556, 22.0850259309679, 82.56494775177514, 30.670102466862573, 28.024032894314384, 24.678052853991257, 24.20004376056681, 22.625328874747215, 23.159507480110353, 22.39391177747712, 60.01544525214942, 55.35065316052017, 53.41899065789737, 51.01809870742379, 38.79612419806599, 33.3994393678503, 32.97248262369319, 27.54346235332066, 29.13900170338403, 23.037950302638496, 18.767888494201102, 18.062580087036366, 16.07102373510739, 14.901895897430038, 14.220931516902212, 16.453033188341756, 13.208881762172574, 13.066759137748635, 19.53526156791129, 11.529143125903884, 10.901192502517482, 10.759882977145505, 10.655665123587116, 10.678293855532866, 9.82942296801188, 9.764442204487903, 52.51362932534735, 9.007083782889776, 8.833744704554546, 8.656120566867592, 54.18270386893145, 15.775026450874241, 26.226929796505765, 44.36318938291114, 76.57369348401741, 180.10699697287433, 46.06338234681766, 132.24053411540692, 54.60486469785288, 56.900242019192135, 143.9394959535374, 46.098859318438855, 93.26667656206291, 47.347674610102125, 41.20167009442355, 66.81318272619006, 92.47796837624696, 33.89343902255368, 43.06132500444244, 37.213065841108275, 50.415326280829994, 38.196951891882414, 30.672568065187427, 42.814162566022816, 39.07239421889427, 46.482832501781616, 34.31430207329105, 45.77732789118464, 31.335457068810136, 25.750376790166435, 25.0675974596659, 23.190978659560106, 22.127553749523592, 21.255569077614446, 18.61791515639079, 17.945773566057245, 17.798095389395304, 17.72860529373075, 16.17001966941261, 16.19582643395842, 13.241404537107012, 12.267390793209303, 12.434203102745471, 12.182154019832268, 10.979430390708742, 12.530858432624944, 10.188309720182298, 10.009520307354501, 9.945210985753565, 9.780846578335847, 25.73045297882392, 10.871186773057005, 9.38942403653667, 15.770612595692597, 24.017646025597394, 13.504423201437858, 71.50916907342503, 22.678795038716267, 52.862519671908615, 23.66140088246519, 26.95061773157179, 72.34334873410404, 42.53113796055024, 32.87557307267148, 132.20477571761367, 54.35500525096756, 55.081934485043234, 35.7273306121693, 34.311476129578814, 23.156323394061012, 21.454799639379843, 38.961590642393155, 24.778246181853177, 29.412575787812234, 22.401380853494864, 13.315086722017533, 11.249129516707834, 8.499373505312413, 8.469944054622804, 8.987858029815456, 7.586381753372151, 7.078771118255275, 6.726427410090699, 6.651219005994053, 6.513694690673732, 5.669355848043402, 4.965310776880836, 4.97142821409021, 4.798290909620896, 4.868855840515924, 4.6384560970135125, 4.357795997809475, 4.194265994289377, 4.482957841571631, 4.1639403581217085, 4.125110824492884, 4.364900139589432, 3.8097115476173333, 3.671686160888394, 3.7543458576959052, 3.604991641749339, 3.4811889455444978, 3.4095463544295983, 3.382909329875546, 3.394932360215481, 4.508785568729616, 5.213457918071257, 5.906192570540651, 6.0678659300973985, 6.480188212111445, 4.335027085083613], \"Total\": [597.0, 575.0, 552.0, 223.0, 802.0, 540.0, 407.0, 159.0, 110.0, 781.0, 223.0, 186.0, 134.0, 102.0, 90.0, 325.0, 156.0, 204.0, 60.0, 112.0, 107.0, 136.0, 94.0, 140.0, 56.0, 115.0, 54.0, 152.0, 85.0, 144.0, 52.799387930430484, 49.08718630130259, 46.84616656826276, 47.43946110833002, 39.26914521473576, 37.32239747645172, 33.96456252976857, 32.0847652425463, 24.11862717235461, 22.81366142561796, 21.93110583299602, 21.003493770061286, 159.685056761099, 20.27775479305645, 17.65782186429094, 223.7174865629969, 94.68606281212159, 16.488794934038193, 14.268952414425447, 13.071763457051132, 13.096473739785202, 12.587937202752498, 12.288296668977312, 12.138838768469446, 12.220806787959843, 12.126681991027564, 16.633731450808337, 11.388042653006414, 10.792808093690924, 10.344997811412284, 107.3132084908798, 29.86717426417062, 112.55730333560444, 140.15321499978208, 27.3069240933256, 156.91602237547048, 61.08208831015052, 66.30554814562802, 89.66348795454851, 92.88002082527535, 115.3064490146088, 38.52684683606841, 575.5938630594176, 802.6757948771962, 325.0494410114026, 781.029954316081, 552.7008202908725, 136.2980925995954, 540.695754888959, 86.58349026263552, 111.15041369585927, 144.43908824161818, 358.5738231907557, 194.14784185282411, 223.5950007652967, 204.58769378815754, 159.4839020462731, 407.9501323307276, 90.2597002961896, 54.66305687526376, 34.72879763991957, 32.67690808991667, 22.783600984084913, 20.32497788456028, 20.017072977167217, 16.425991215980936, 16.445488506089518, 16.4941031643485, 16.278944679068136, 15.6492226738023, 40.11372261798507, 14.528290656947119, 13.746678606146013, 13.703124456632773, 14.728738230720348, 12.498267727378153, 12.774378296573026, 12.344050922304744, 12.302156165887503, 11.723440629349836, 28.386097708509997, 10.939996360598437, 10.734063771153497, 10.543660986874666, 11.237269880211478, 9.715580465767482, 9.481029476887365, 9.465506000014173, 48.24819175012394, 92.45045057069102, 44.337354680436064, 37.51694532764744, 28.307872176985327, 58.830020444309255, 27.457877917823073, 223.5950007652967, 77.69288590242837, 33.046491500092344, 78.28166859520991, 204.58769378815754, 540.695754888959, 575.5938630594176, 152.9260167346982, 66.53859548563067, 781.029954316081, 802.6757948771962, 49.095491824116046, 52.10172431754829, 358.5738231907557, 552.7008202908725, 194.14784185282411, 597.1018324314414, 325.0494410114026, 95.22548015846168, 138.8393427170534, 132.56448254135512, 111.15041369585927, 78.3638285186009, 164.8784177645179, 164.63778829570674, 156.91602237547048, 110.95029543402657, 56.53982491011186, 25.22754280551729, 25.142344770328766, 22.5749736840362, 21.616374689108596, 20.78705606125919, 19.305525909924086, 18.053925949418943, 16.88951019718704, 17.09809115183856, 18.977271121024437, 16.74438267976187, 34.17733789517602, 16.61727988170416, 15.413474465388834, 14.836409929322322, 14.85478456108319, 14.024914008329883, 13.721937269964679, 12.661598462749787, 11.774739097517147, 11.635541711309724, 11.436956404478988, 11.412455246722809, 10.718238318159996, 10.556030215914594, 10.389306962757718, 10.135591099486323, 10.128683300130218, 597.1018324314414, 71.15709206131838, 29.01005807120825, 186.82676245854117, 23.769158967995907, 64.24790347402704, 42.96766811647142, 134.9208036802111, 164.63778829570674, 73.45903010153815, 136.2980925995954, 44.09032110500547, 59.854580115792785, 85.21754436572974, 30.555301884897496, 407.9501323307276, 140.1010103627403, 34.623404268827215, 781.029954316081, 85.64049446724803, 69.96196833795183, 51.167422504090524, 51.90847012021487, 61.71651443083329, 91.19128519735511, 159.4839020462731, 60.78371796291572, 56.11630867151931, 54.18592306990114, 51.790198952934375, 39.5641804894203, 34.16925270197401, 33.7413513340098, 28.312022171818263, 29.958420889120372, 23.8395039082136, 19.531375915203025, 18.846869482632073, 16.838207766120043, 15.669790463219607, 14.98522637226569, 17.39931103776857, 13.971051330292065, 13.834246851518191, 20.722362399634736, 12.29436085947678, 11.666927460387122, 11.522963858388009, 11.417865826355122, 11.447466908746197, 10.59803839189255, 10.539264751171487, 56.790747785503484, 9.770176721160649, 9.599533212544424, 9.428413456847162, 59.21723955268906, 19.052109169847864, 38.08741484772722, 77.93572935832341, 164.8784177645179, 552.7008202908725, 85.21754436572974, 407.9501323307276, 138.8393427170534, 159.4839020462731, 802.6757948771962, 119.94479611157266, 540.695754888959, 152.9260167346982, 119.22138877768191, 358.5738231907557, 781.029954316081, 95.22548015846168, 186.82676245854117, 132.56448254135512, 325.0494410114026, 194.14784185282411, 102.86832850162587, 43.5802997177831, 39.83795078055399, 47.39529463611912, 35.08039382426016, 46.88886927848853, 32.24782835347246, 26.51308870883213, 25.83544331456888, 23.963687933212846, 22.895136738152033, 22.018918062545573, 19.381346173275617, 18.70853319034994, 18.562538889031323, 18.4911000502357, 16.931264827443353, 16.960563087660944, 14.012743693228815, 13.03222030199309, 13.254295188859846, 13.00423319389098, 11.740791627184425, 13.417454626694544, 10.956549711022195, 10.779151777395489, 10.717442342219359, 10.55125561021276, 27.785774951825537, 11.746801146649371, 10.163180343827753, 17.35400996879683, 28.175979782391387, 15.129557873173612, 102.86832850162587, 29.53670107342063, 85.64049446724803, 31.556173427979267, 37.399974740835425, 140.1010103627403, 74.74864988020018, 53.01365297698907, 407.9501323307276, 134.9208036802111, 144.43908824161818, 119.22138877768191, 115.3064490146088, 43.051679206454544, 35.63541789222242, 575.5938630594176, 78.28166859520991, 358.5738231907557, 51.957673097413654, 14.066367226399432, 11.998019661093123, 9.245232454862705, 9.2177083923444, 9.78204725948534, 8.334407320276366, 7.8344950107887374, 7.479494126096663, 7.404268591647597, 7.312866465132242, 6.428713332651969, 5.71198068179542, 5.7218258600443805, 5.549025995540458, 5.648971834212845, 5.3900215276919035, 5.11228157849198, 4.941424100153576, 5.2824697365855915, 4.913892937669216, 4.873221902116791, 5.1607618042546735, 4.560318486489603, 4.420846796225837, 4.529869211033832, 4.353425829014903, 4.238415506070177, 4.159033200275959, 4.129095183769817, 4.144832638208441, 6.064593693554128, 7.541567933993712, 14.972857944795877, 17.57951561583528, 21.399075407648183, 10.528969746829222], \"Category\": [\"Default\", \"Default\", \"Default\", \"Default\", \"Default\", \"Default\", \"Default\", \"Default\", \"Default\", \"Default\", \"Default\", \"Default\", \"Default\", \"Default\", \"Default\", \"Default\", \"Default\", \"Default\", \"Default\", \"Default\", \"Default\", \"Default\", \"Default\", \"Default\", \"Default\", \"Default\", \"Default\", \"Default\", \"Default\", \"Default\", \"Topic1\", \"Topic1\", \"Topic1\", \"Topic1\", \"Topic1\", \"Topic1\", \"Topic1\", \"Topic1\", \"Topic1\", \"Topic1\", \"Topic1\", \"Topic1\", \"Topic1\", \"Topic1\", \"Topic1\", \"Topic1\", \"Topic1\", \"Topic1\", \"Topic1\", \"Topic1\", \"Topic1\", \"Topic1\", \"Topic1\", \"Topic1\", \"Topic1\", \"Topic1\", \"Topic1\", \"Topic1\", \"Topic1\", \"Topic1\", \"Topic1\", \"Topic1\", \"Topic1\", \"Topic1\", \"Topic1\", \"Topic1\", \"Topic1\", \"Topic1\", \"Topic1\", \"Topic1\", \"Topic1\", \"Topic1\", \"Topic1\", \"Topic1\", \"Topic1\", \"Topic1\", \"Topic1\", \"Topic1\", \"Topic1\", \"Topic1\", \"Topic1\", \"Topic1\", \"Topic1\", \"Topic1\", \"Topic1\", \"Topic1\", \"Topic1\", \"Topic1\", \"Topic2\", \"Topic2\", \"Topic2\", \"Topic2\", \"Topic2\", \"Topic2\", \"Topic2\", \"Topic2\", \"Topic2\", \"Topic2\", \"Topic2\", \"Topic2\", \"Topic2\", \"Topic2\", \"Topic2\", \"Topic2\", \"Topic2\", \"Topic2\", \"Topic2\", \"Topic2\", \"Topic2\", \"Topic2\", \"Topic2\", \"Topic2\", \"Topic2\", \"Topic2\", \"Topic2\", \"Topic2\", \"Topic2\", \"Topic2\", \"Topic2\", \"Topic2\", \"Topic2\", \"Topic2\", \"Topic2\", \"Topic2\", \"Topic2\", \"Topic2\", \"Topic2\", \"Topic2\", \"Topic2\", \"Topic2\", \"Topic2\", \"Topic2\", \"Topic2\", \"Topic2\", \"Topic2\", \"Topic2\", \"Topic2\", \"Topic2\", \"Topic2\", \"Topic2\", \"Topic2\", \"Topic2\", \"Topic2\", \"Topic2\", \"Topic2\", \"Topic2\", \"Topic2\", \"Topic2\", \"Topic2\", \"Topic2\", \"Topic2\", \"Topic3\", \"Topic3\", \"Topic3\", \"Topic3\", \"Topic3\", \"Topic3\", \"Topic3\", \"Topic3\", \"Topic3\", \"Topic3\", \"Topic3\", \"Topic3\", \"Topic3\", \"Topic3\", \"Topic3\", \"Topic3\", \"Topic3\", \"Topic3\", \"Topic3\", \"Topic3\", \"Topic3\", \"Topic3\", \"Topic3\", \"Topic3\", \"Topic3\", \"Topic3\", \"Topic3\", \"Topic3\", \"Topic3\", \"Topic3\", \"Topic3\", \"Topic3\", \"Topic3\", \"Topic3\", \"Topic3\", \"Topic3\", \"Topic3\", \"Topic3\", \"Topic3\", \"Topic3\", \"Topic3\", \"Topic3\", \"Topic3\", \"Topic3\", \"Topic3\", \"Topic3\", \"Topic3\", \"Topic3\", \"Topic3\", \"Topic3\", \"Topic3\", \"Topic3\", \"Topic3\", \"Topic3\", \"Topic3\", \"Topic3\", \"Topic4\", \"Topic4\", \"Topic4\", \"Topic4\", \"Topic4\", \"Topic4\", \"Topic4\", \"Topic4\", \"Topic4\", \"Topic4\", \"Topic4\", \"Topic4\", \"Topic4\", \"Topic4\", \"Topic4\", \"Topic4\", \"Topic4\", \"Topic4\", \"Topic4\", \"Topic4\", \"Topic4\", \"Topic4\", \"Topic4\", \"Topic4\", \"Topic4\", \"Topic4\", \"Topic4\", \"Topic4\", \"Topic4\", \"Topic4\", \"Topic4\", \"Topic4\", \"Topic4\", \"Topic4\", \"Topic4\", \"Topic4\", \"Topic4\", \"Topic4\", \"Topic4\", \"Topic4\", \"Topic4\", \"Topic4\", \"Topic4\", \"Topic4\", \"Topic4\", \"Topic4\", \"Topic4\", \"Topic4\", \"Topic4\", \"Topic4\", \"Topic4\", \"Topic4\", \"Topic4\", \"Topic5\", \"Topic5\", \"Topic5\", \"Topic5\", \"Topic5\", \"Topic5\", \"Topic5\", \"Topic5\", \"Topic5\", \"Topic5\", \"Topic5\", \"Topic5\", \"Topic5\", \"Topic5\", \"Topic5\", \"Topic5\", \"Topic5\", \"Topic5\", \"Topic5\", \"Topic5\", \"Topic5\", \"Topic5\", \"Topic5\", \"Topic5\", \"Topic5\", \"Topic5\", \"Topic5\", \"Topic5\", \"Topic5\", \"Topic5\", \"Topic5\", \"Topic5\", \"Topic5\", \"Topic5\", \"Topic5\", \"Topic5\", \"Topic5\", \"Topic5\", \"Topic5\", \"Topic5\", \"Topic5\", \"Topic5\", \"Topic5\", \"Topic5\", \"Topic5\", \"Topic5\", \"Topic5\", \"Topic5\", \"Topic5\", \"Topic5\", \"Topic5\", \"Topic5\", \"Topic6\", \"Topic6\", \"Topic6\", \"Topic6\", \"Topic6\", \"Topic6\", \"Topic6\", \"Topic6\", \"Topic6\", \"Topic6\", \"Topic6\", \"Topic6\", \"Topic6\", \"Topic6\", \"Topic6\", \"Topic6\", \"Topic6\", \"Topic6\", \"Topic6\", \"Topic6\", \"Topic6\", \"Topic6\", \"Topic6\", \"Topic6\", \"Topic6\", \"Topic6\", \"Topic6\", \"Topic6\", \"Topic6\", \"Topic6\", \"Topic6\", \"Topic6\", \"Topic6\", \"Topic6\", \"Topic6\", \"Topic6\"], \"logprob\": [30.0, 29.0, 28.0, 27.0, 26.0, 25.0, 24.0, 23.0, 22.0, 21.0, 20.0, 19.0, 18.0, 17.0, 16.0, 15.0, 14.0, 13.0, 12.0, 11.0, 10.0, 9.0, 8.0, 7.0, 6.0, 5.0, 4.0, 3.0, 2.0, 1.0, -4.81, -4.8846, -4.9315, -4.9193, -5.1113, -5.164, -5.2593, -5.3181, -5.6114, -5.6689, -5.7095, -5.7545, -3.7267, -5.7907, -5.9357, -3.3983, -4.2589, -6.007, -6.1591, -6.2517, -6.2505, -6.2929, -6.3176, -6.3307, -6.3241, -6.3323, -6.0185, -6.3997, -6.4564, -6.5021, -4.1638, -5.4599, -4.2415, -4.0728, -5.5828, -4.0065, -4.8751, -4.8274, -4.57, -4.5465, -4.3791, -5.3212, -3.0838, -2.8674, -3.6075, -2.9954, -3.3813, -4.4031, -3.4148, -4.7475, -4.5992, -4.4596, -3.9165, -4.3703, -4.4159, -4.4749, -4.643, -4.5786, -4.0926, -4.5995, -5.0612, -5.1237, -5.4945, -5.6131, -5.6342, -5.8351, -5.8339, -5.8312, -5.8447, -5.8862, -4.947, -5.9643, -6.0229, -6.0263, -5.9551, -6.1249, -6.1031, -6.1374, -6.1437, -6.192, -5.3112, -6.2669, -6.2871, -6.3059, -6.245, -6.3951, -6.4214, -6.424, -4.8108, -4.1876, -4.9145, -5.1158, -5.3827, -4.7206, -5.4436, -3.6455, -4.5634, -5.3051, -4.6194, -3.8559, -3.1355, -3.0901, -4.1247, -4.782, -2.935, -2.9907, -5.0513, -5.0315, -3.7646, -3.5439, -4.2726, -3.67, -4.0352, -4.7956, -4.6415, -4.6682, -4.7513, -4.9086, -4.7815, -4.8823, -4.9107, -3.7322, -4.4131, -5.2374, -5.2412, -5.3525, -5.397, -5.4393, -5.5145, -5.5849, -5.654, -5.6427, -5.5393, -5.6646, -4.9527, -5.674, -5.7502, -5.7907, -5.7899, -5.8504, -5.8727, -5.9581, -6.0358, -6.0491, -6.0668, -6.069, -6.1366, -6.1536, -6.1701, -6.1978, -6.1988, -2.3034, -4.391, -5.2311, -3.6031, -5.4322, -4.5668, -4.9794, -4.053, -4.0235, -4.7144, -4.3821, -5.1217, -4.9791, -4.7828, -5.3741, -4.0945, -4.6891, -5.3395, -4.0208, -5.0111, -5.1013, -5.2285, -5.248, -5.3153, -5.292, -5.3256, -4.1375, -4.2184, -4.2539, -4.2999, -4.5738, -4.7236, -4.7364, -4.9163, -4.86, -5.095, -5.3, -5.3383, -5.4551, -5.5306, -5.5774, -5.4316, -5.6512, -5.662, -5.2599, -5.7872, -5.8432, -5.8563, -5.866, -5.8639, -5.9467, -5.9534, -4.271, -6.0341, -6.0535, -6.0738, -4.2397, -5.4737, -4.9653, -4.4397, -3.8938, -3.0385, -4.4021, -3.3475, -4.232, -4.1908, -3.2627, -4.4013, -3.6966, -4.3746, -4.5136, -4.0302, -3.7051, -4.7089, -4.4695, -4.6154, -4.3118, -4.5893, -4.8087, -4.4313, -4.5228, -4.3491, -4.6526, -4.3644, -4.7434, -4.9397, -4.9666, -5.0444, -5.0913, -5.1315, -5.264, -5.3008, -5.3091, -5.313, -5.405, -5.4034, -5.6048, -5.6812, -5.6677, -5.6882, -5.7921, -5.66, -5.8669, -5.8846, -5.8911, -5.9077, -4.9405, -5.8021, -5.9486, -5.43, -5.0094, -5.5852, -3.9183, -5.0667, -4.2205, -5.0243, -4.8942, -3.9067, -4.4379, -4.6954, -3.3038, -4.1926, -4.1793, -4.6123, -4.6527, -5.0459, -5.1222, -4.5256, -4.9782, -4.8067, -5.079, -3.9068, -4.0754, -4.3557, -4.3592, -4.2999, -4.4694, -4.5386, -4.5897, -4.6009, -4.6218, -4.7607, -4.8933, -4.892, -4.9275, -4.9129, -4.9614, -5.0238, -5.062, -4.9955, -5.0693, -5.0786, -5.0221, -5.1582, -5.1951, -5.1728, -5.2134, -5.2484, -5.2692, -5.277, -5.2735, -4.9897, -4.8445, -4.7197, -4.6927, -4.627, -5.029], \"loglift\": [30.0, 29.0, 28.0, 27.0, 26.0, 25.0, 24.0, 23.0, 22.0, 21.0, 20.0, 19.0, 18.0, 17.0, 16.0, 15.0, 14.0, 13.0, 12.0, 11.0, 10.0, 9.0, 8.0, 7.0, 6.0, 5.0, 4.0, 3.0, 2.0, 1.0, 1.3245, 1.3227, 1.3226, 1.3222, 1.3192, 1.3174, 1.3164, 1.3145, 1.3066, 1.3047, 1.3035, 1.3018, 1.3011, 1.3007, 1.2941, 1.2923, 1.2914, 1.2913, 1.2837, 1.2788, 1.2781, 1.2753, 1.2747, 1.2738, 1.2737, 1.2732, 1.271, 1.2687, 1.2657, 1.2623, 1.2614, 1.2443, 1.136, 1.0854, 1.211, 1.0387, 1.1136, 1.0792, 1.0349, 1.0231, 0.9743, 1.1284, 0.6618, 0.5456, 0.7094, 0.445, 0.4048, 0.783, 0.3933, 0.8923, 0.7908, 0.6685, 0.3024, 0.4621, 0.2752, 0.305, 0.386, -0.4888, 1.5056, 1.5003, 1.4922, 1.4906, 1.4805, 1.476, 1.4702, 1.467, 1.467, 1.4668, 1.4664, 1.4643, 1.4623, 1.4605, 1.4573, 1.457, 1.456, 1.4505, 1.4504, 1.4503, 1.4474, 1.4473, 1.4438, 1.4416, 1.4404, 1.4395, 1.4367, 1.4321, 1.4303, 1.4293, 1.4138, 1.3866, 1.3946, 1.3604, 1.3751, 1.3057, 1.3447, 1.0456, 1.1848, 1.2979, 1.1212, 0.9241, 0.6726, 0.6554, 0.9463, 1.1212, 0.5053, 0.4223, 1.1558, 1.1163, 0.4542, 0.2422, 0.5597, 0.0389, 0.2818, 0.7491, 0.5262, 0.5456, 0.6388, 0.831, 0.2142, 0.1149, 0.1345, 1.6596, 1.6529, 1.6356, 1.6352, 1.6316, 1.6305, 1.6273, 1.626, 1.6227, 1.6202, 1.6192, 1.6184, 1.6183, 1.6167, 1.6165, 1.6155, 1.6132, 1.6127, 1.6097, 1.6092, 1.6043, 1.5991, 1.5977, 1.5973, 1.5972, 1.5924, 1.5906, 1.59, 1.5871, 1.5868, 1.4054, 1.4451, 1.5022, 1.2677, 1.5003, 1.3714, 1.3611, 1.1433, 0.9737, 1.0898, 0.804, 1.193, 1.03, 0.8729, 1.3073, -0.0047, 0.4694, 1.2169, -0.5805, 0.6397, 0.7517, 0.9374, 0.9034, 0.6631, 0.296, -0.2966, 1.8561, 1.8551, 1.8546, 1.8538, 1.8492, 1.8461, 1.8458, 1.8413, 1.8411, 1.8346, 1.829, 1.8263, 1.8222, 1.8186, 1.8165, 1.8129, 1.8127, 1.8118, 1.8099, 1.8046, 1.801, 1.8003, 1.7998, 1.7993, 1.7936, 1.7925, 1.7905, 1.7875, 1.7857, 1.7834, 1.78, 1.6801, 1.4957, 1.3054, 1.1019, 0.7476, 1.2537, 0.7423, 0.9357, 0.8382, 0.1503, 0.9126, 0.1115, 0.6964, 0.8063, 0.1886, -0.2648, 0.8358, 0.4013, 0.5984, 0.0052, 0.243, 0.6588, 1.895, 1.8934, 1.8933, 1.8907, 1.8888, 1.8841, 1.8836, 1.8826, 1.88, 1.8787, 1.8775, 1.8726, 1.8712, 1.8707, 1.8707, 1.8668, 1.8666, 1.8562, 1.8523, 1.8489, 1.8475, 1.8457, 1.8444, 1.8401, 1.8387, 1.838, 1.837, 1.8359, 1.8353, 1.8336, 1.8171, 1.7531, 1.7991, 1.5492, 1.6486, 1.4303, 1.6249, 1.5851, 1.2518, 1.3489, 1.435, 0.786, 1.0036, 0.9487, 0.7077, 0.7007, 1.2926, 1.4054, -0.7801, 0.7624, -0.5879, 1.0715, 3.5503, 3.5408, 3.5211, 3.5206, 3.5205, 3.5112, 3.5038, 3.4991, 3.498, 3.4895, 3.4795, 3.4651, 3.4646, 3.4598, 3.4566, 3.455, 3.4455, 3.4413, 3.4411, 3.4396, 3.4385, 3.4377, 3.4254, 3.4195, 3.4174, 3.4166, 3.4084, 3.4065, 3.4059, 3.4056, 3.3088, 3.236, 2.675, 2.5415, 2.4106, 2.7178]}, \"token.table\": {\"Topic\": [2, 5, 1, 2, 4, 1, 4, 6, 6, 6, 1, 3, 5, 2, 3, 4, 1, 1, 2, 2, 1, 1, 2, 3, 4, 5, 2, 3, 1, 2, 4, 5, 3, 4, 5, 6, 2, 5, 5, 6, 1, 2, 3, 4, 5, 1, 3, 4, 5, 3, 2, 1, 2, 4, 2, 6, 1, 2, 3, 2, 5, 2, 5, 5, 1, 2, 3, 4, 5, 4, 1, 2, 4, 3, 5, 2, 6, 2, 5, 1, 2, 3, 4, 5, 4, 2, 5, 1, 6, 5, 3, 5, 5, 4, 5, 6, 1, 1, 2, 4, 4, 1, 5, 3, 5, 4, 1, 2, 3, 5, 1, 6, 1, 2, 5, 2, 2, 6, 3, 4, 5, 1, 3, 4, 5, 2, 5, 1, 2, 6, 1, 3, 5, 5, 3, 3, 3, 2, 5, 1, 2, 2, 1, 3, 6, 1, 3, 1, 3, 1, 1, 3, 2, 5, 4, 5, 2, 1, 3, 6, 1, 2, 5, 6, 4, 1, 2, 3, 4, 5, 5, 4, 5, 5, 1, 2, 3, 4, 5, 2, 3, 6, 2, 5, 3, 4, 1, 1, 1, 3, 1, 2, 4, 1, 6, 4, 5, 6, 2, 3, 4, 5, 2, 4, 3, 4, 3, 1, 2, 3, 5, 4, 1, 2, 3, 4, 2, 5, 6, 3, 4, 1, 3, 5, 1, 2, 3, 1, 2, 3, 4, 5, 6, 1, 2, 4, 5, 1, 2, 3, 6, 1, 2, 4, 5, 3, 6, 2, 2, 3, 1, 2, 4, 5, 1, 4, 5, 4, 1, 2, 3, 4, 5, 2, 5, 1, 3, 4, 6, 4, 3, 2, 1, 2, 1, 3, 2, 3, 3, 1, 3, 5, 1, 2, 5, 1, 1, 6, 6, 1, 5, 3, 1, 2, 3, 4, 5, 2, 3, 3, 2, 3, 1, 1, 2, 3, 6, 1, 2, 4, 2, 1, 2, 4, 2, 6, 1, 2, 3, 4, 4, 6, 1, 3, 1, 4, 5, 2, 4, 1, 6, 2, 3, 5, 4, 4, 1, 2, 3, 4, 5, 5, 1, 4, 6, 6, 6, 3, 5, 4, 4, 5, 1, 5, 4, 5, 2, 3, 2, 3, 3, 5, 1, 5, 1, 2, 4, 4, 3, 4, 6, 6, 6, 2, 6, 4, 1, 3, 1, 2, 6, 3, 5, 3, 2, 5, 1, 5, 6, 5, 5, 5, 4, 2, 3, 1, 2, 3, 4, 6, 3, 1, 3, 2, 2, 2, 5, 1, 3, 4, 1, 3, 4, 3, 5, 1, 6, 4, 1, 2, 3, 4, 3, 5, 1, 2, 2, 1, 2, 3, 4, 5, 1, 4, 1, 2, 3, 4, 1, 3, 4, 5, 5, 6, 2, 5, 2, 3, 3, 4, 5, 2, 3, 4, 5], \"Freq\": [0.057623569526468986, 0.9219771124235038, 0.41720783103735415, 0.38630354725680943, 0.19572713061011676, 0.9575440545457975, 0.985740119410001, 0.8653108549793411, 0.775079368457248, 0.8094832418605161, 0.6352250276948567, 0.13859455149705963, 0.20789182724558944, 0.9484371711541707, 0.8010445389038839, 0.18269436852193843, 0.9110689854748848, 0.9505094765486258, 0.04224486562438337, 0.9601330569766345, 0.9643344656327598, 0.3883884755912816, 0.4309262610131838, 0.005548406794161165, 0.17200061061899613, 0.001849468931387055, 0.8796194604097303, 0.09021738055484413, 0.16375702997442546, 0.27292838329070906, 0.46701078918632444, 0.09704120294780767, 0.023227897690227015, 0.3948742607338593, 0.5342416468752214, 0.023227897690227015, 0.9456829807738301, 0.9803240616071631, 0.9696949381550533, 0.8208122019361589, 0.9627461490241194, 0.029259154211105063, 0.965552088966467, 0.3013561166157185, 0.6999238837526364, 0.3103469971231064, 0.04193878339501438, 0.34389802383911794, 0.30195924044410355, 0.9477476351270973, 0.9140770865350619, 0.09017322887880508, 0.6762992165910381, 0.2254330721970127, 0.9700436477554908, 0.9276400797866725, 0.2687051183694641, 0.6717627959236603, 0.05757966822202803, 0.9721281996914748, 0.9207947473205906, 0.9473067449233102, 0.0249291248664029, 0.9705604818615098, 0.16178447993857592, 0.0024512799990693323, 0.18874855992833858, 0.32356895987715184, 0.32356895987715184, 0.9435708411520715, 0.23048222048424818, 0.3745336082869033, 0.3961413164573016, 0.22182664244687708, 0.7605484883892928, 0.8376466698859697, 0.14567768171929907, 0.7207867148908375, 0.27029501808406403, 0.35418090163385396, 0.3458144236425031, 0.030677085968286565, 0.18685134180683635, 0.08087595391639185, 0.9211706458192749, 0.1419648945979087, 0.8517893675874523, 0.6257282760448426, 0.341306332388096, 0.9621278064324461, 0.9473258218722881, 0.9613050423180484, 0.9692023461973507, 0.9680082974777743, 0.2651968420233908, 0.6629921050584769, 0.9532936021778105, 0.8046337176749732, 0.18169148463628426, 0.963402457805154, 0.9546155082307819, 0.35839824145389637, 0.6224811562093989, 0.5929404348169743, 0.4002347935014577, 0.9195766410100322, 0.2444216272033661, 0.6925279437428706, 0.02036846893361384, 0.02036846893361384, 0.9765389234371972, 0.7824295157818595, 0.7392489195426701, 0.24854058501865633, 0.00637283551329888, 0.9486887491346955, 0.9585140624978686, 0.7078116800260518, 0.2886965313453706, 0.2694500959223459, 0.42342157930654356, 0.06423062650171935, 0.6690690260595765, 0.23015974496449434, 0.03211531325085967, 0.9840109107913398, 0.9053668889226133, 0.8173614441142915, 0.1510341798906843, 0.026653090568944285, 0.023353438258870294, 0.36197829301248957, 0.6188661138600628, 0.9676628999782727, 0.9904523066534061, 0.947333570553444, 0.9453792760940405, 0.815909966331537, 0.16998124298573689, 0.8021991610895409, 0.1964569374096835, 0.9792848182559368, 0.9520936573727377, 0.044699232740504115, 0.7237927949961129, 0.9643983170597843, 0.03131163367077222, 0.36289143737226165, 0.6123793005656916, 0.9907363806826032, 0.7691664035110277, 0.22622541279736108, 0.9263471216888373, 0.9126960825943304, 0.8398020322769211, 0.10497525403461513, 0.9729112026119163, 0.06678751669767698, 0.46751261688373885, 0.4007251001860619, 0.5073021426044241, 0.42391000957355984, 0.06775610808757719, 0.7572215648102253, 0.9609112730079771, 0.4522373819127516, 0.33512907915848533, 0.008720831056168762, 0.1793999531554717, 0.023670827152458072, 0.9477545013998913, 0.06609578471378276, 0.9253409859929587, 0.9734412745103588, 0.12069597899277888, 0.377174934352434, 0.08297848555753548, 0.2791094514208012, 0.13578297636687625, 0.9492640036548766, 0.9621372040879793, 0.9200528029828302, 0.26737985972705564, 0.7219256212630503, 0.8414264899708522, 0.12621397349562782, 0.9676808545794495, 0.9061822312503588, 0.9522225311156717, 0.9473880942784301, 0.39559067730645214, 0.5104395836212285, 0.10208791672424572, 0.9716009140726258, 0.8140185491907159, 0.9780284041776789, 0.9789660169728656, 0.8934845181929952, 0.5689025442343854, 0.019617329111530527, 0.30733815608064496, 0.10462575526149616, 0.915941326877253, 0.03522851257220204, 0.9745304826449127, 0.9304954718628348, 0.9436245066490606, 0.11342182987091752, 0.34026548961275255, 0.372671726718729, 0.1782343040828704, 0.9545614478185578, 0.16802225594845951, 0.4620612038582636, 0.01050139099677872, 0.35704729389047646, 0.9119512753529665, 0.08290466139572422, 0.8738469366771707, 0.4576522392222776, 0.5397949488262761, 0.1348527510787487, 0.4623522894128526, 0.38529357451071056, 0.9661906442404685, 0.9491897252746514, 0.9513411664790109, 0.10965960155466739, 0.4057405257522693, 0.25221708357573497, 0.054829800777333695, 0.17545536248746782, 0.9572169864410912, 0.5757963274443865, 0.41385361035065277, 0.9118966099720509, 0.06754789703496673, 0.8788979644128472, 0.07324149703440393, 0.03662074851720196, 0.9454006041726211, 0.7360855740238009, 0.10037530554870013, 0.15613936418686686, 0.011152811727633346, 0.991434944537019, 0.9241902895583375, 0.9505226979185232, 0.13788321244244248, 0.8617700777652655, 0.512326690100761, 0.006923333650010285, 0.09692667110014398, 0.3807833507505657, 0.7777202970347094, 0.1498360205296229, 0.07135048596648709, 0.9847423070598263, 0.2437906228174771, 0.05132434164578465, 0.12831085411446164, 0.5645677581036311, 0.9806477202838609, 0.6770422878191318, 0.3193595697260056, 0.03272754442967123, 0.6872784330230959, 0.22909281100769863, 0.03272754442967123, 0.9396969809435893, 0.9714857510580089, 0.9828646951895592, 0.9666507603286592, 0.9382910996675592, 0.2560064458276527, 0.7447460242258986, 0.974066026799863, 0.9416234478654841, 0.962528110474235, 0.500271802401731, 0.4002174419213848, 0.1000543604803462, 0.7321273121581302, 0.2583978748793401, 0.9369044566407934, 0.9913618229735875, 0.95361978257051, 0.9358921715810081, 0.916817967524301, 0.6938033447709795, 0.2948664215276663, 0.9731744801396144, 0.23344072363051413, 0.158406205320706, 0.0917088557119877, 0.3835097602501304, 0.13339469921743666, 0.9860436020499086, 0.9628531332385035, 0.8879600520246052, 0.8831465623306484, 0.10597758747967781, 0.9863024878300847, 0.9040024932117481, 0.06696314764531468, 0.8885656440540789, 0.9048040306248291, 0.35681520549123846, 0.552330386582328, 0.0879818314909903, 0.9656067983005723, 0.3926174741079602, 0.2804410529342573, 0.32567348082687947, 0.979014602017726, 0.9010590334264627, 0.5322267266841145, 0.29226323141613225, 0.018458730405229405, 0.15382275337691173, 0.9647851770973992, 0.7265514274875675, 0.5722750664540961, 0.4255378699274048, 0.916277177996832, 0.987106449075822, 0.9810430643313397, 0.28880930995127385, 0.6826401871575564, 0.16489150807627384, 0.8244575403813692, 0.8761449998349593, 0.06489962961740439, 0.043266419744936266, 0.9488327920492229, 0.9550657745355277, 0.9703559334691486, 0.09992790175996677, 0.2997837052799003, 0.07851477995425961, 0.513914923336972, 0.9449973267245872, 0.9819373359604622, 0.9342534875489686, 0.8753531005340119, 0.7213214839931897, 0.9188166187053481, 0.934203289677942, 0.8855495716422892, 0.9760572458510618, 0.9889791633418241, 0.9609027564067616, 0.9225332220722269, 0.06522962176268271, 0.9428360669377992, 0.9277269523085483, 0.34658636992561886, 0.6354083448636345, 0.9636371084925602, 0.9555443342404274, 0.9357769740442352, 0.9277167820357242, 0.9265429268445559, 0.9227764391088633, 0.34437263684989716, 0.626132066999813, 0.02683423144284913, 0.9657805597280019, 0.9545649071013901, 0.9727937285365847, 0.88511682244858, 0.8771317204818913, 0.8678946718084783, 0.9316136193334155, 0.88302770204862, 0.980107232675376, 0.9001042395038433, 0.9424572899345462, 0.4748802703612801, 0.09497605407225602, 0.3799042162890241, 0.7471060906976452, 0.24903536356588174, 0.9329891445926259, 0.8529479071532557, 0.1332731104926962, 0.9659254303105397, 0.9433649058291133, 0.9333127314178875, 0.9688871966919864, 0.9537253347484514, 0.9330584369562569, 0.957255940033675, 0.8170307580132842, 0.1815623906696187, 0.24903152808612625, 0.24903152808612625, 0.4980630561722525, 0.6542338738147677, 0.2803859459206147, 0.9485030742938724, 0.43561696847573755, 0.5581342408595388, 0.9754387635945194, 0.9878701098481045, 0.9393803535017615, 0.9597854914527907, 0.984859901567727, 0.9617943455386553, 0.9781138162328383, 0.9180092677952335, 0.9269219042825395, 0.9502198940788348, 0.39286756906688497, 0.5893013536003274, 0.9070906624036825, 0.9598762926473724, 0.9375455869290634, 0.3517863343333546, 0.07817474096296768, 0.48859213101854804, 0.0977184262037096, 0.9638592013895302, 0.9866843568873781, 0.9619008246777039, 0.8898958649742607, 0.9508208013376701, 0.408435039190445, 0.36490277796011544, 0.10626993182698098, 0.1177931774467741, 0.002560721248842915, 0.07043400828437493, 0.9332506097679679, 0.382483744235837, 0.11286405567614861, 0.137944956937515, 0.3574028429744706, 0.9778519327909871, 0.04825704621484791, 0.9651409242969581, 0.9364251478060998, 0.9357306047817028, 0.03598963864545011, 0.42810137776784557, 0.5752612263755424, 0.22944160034164726, 0.7703878551617352, 0.9841741731694018, 0.20313710678404964, 0.7786922426721903, 0.016707159219318413, 0.5346290950181892, 0.4176789804829603, 0.016707159219318413], \"Term\": [\"access\", \"access\", \"amazing\", \"amazing\", \"amazing\", \"amenities\", \"amp\", \"art\", \"austin\", \"authenticity\", \"autonomy\", \"autonomy\", \"autonomy\", \"autonomyxd\", \"awesome\", \"awesome\", \"bad\", \"balance\", \"balance\", \"balancexd\", \"benefit\", \"benefits\", \"benefits\", \"benefits\", \"benefits\", \"benefits\", \"benefitsxd\", \"benefitsxd\", \"best\", \"best\", \"best\", \"best\", \"big\", \"big\", \"big\", \"big\", \"bonus\", \"bootcamp\", \"building\", \"bureaucracy\", \"business\", \"campus\", \"campus\", \"care\", \"care\", \"career\", \"career\", \"career\", \"career\", \"ceo\", \"challenge\", \"challenging\", \"challenging\", \"challenging\", \"class\", \"cleaning\", \"colleagues\", \"colleagues\", \"colleagues\", \"colleaguesxd\", \"communication\", \"comp\", \"comp\", \"companies\", \"company\", \"company\", \"company\", \"company\", \"company\", \"companyxd\", \"compensation\", \"compensation\", \"compensation\", \"cool\", \"cool\", \"covid\", \"covid\", \"coworkers\", \"coworkers\", \"culture\", \"culture\", \"culture\", \"culture\", \"culture\", \"cutting\", \"data\", \"data\", \"decent\", \"decent\", \"decision\", \"deeply\", \"development\", \"different\", \"diversity\", \"dry\", \"dry\", \"dynamic\", \"easy\", \"easy\", \"edge\", \"emphasis\", \"employee\", \"employee\", \"employees\", \"employees\", \"encouraged\", \"engineering\", \"engineering\", \"engineering\", \"engineering\", \"enjoyed\", \"enterprise\", \"environment\", \"environment\", \"environment\", \"environmentxd\", \"especially\", \"execution\", \"experience\", \"experience\", \"experience\", \"facebook\", \"facebook\", \"facebook\", \"facebook\", \"fair\", \"far\", \"fast\", \"fast\", \"fast\", \"fb\", \"fb\", \"fb\", \"feedback\", \"feel\", \"feels\", \"felt\", \"flexibility\", \"flexibility\", \"flexible\", \"flexible\", \"focus\", \"food\", \"food\", \"formal\", \"free\", \"free\", \"freedom\", \"freedom\", \"friendly\", \"fun\", \"fun\", \"game\", \"general\", \"generous\", \"generous\", \"global\", \"goes\", \"goes\", \"goes\", \"good\", \"good\", \"good\", \"goodxd\", \"got\", \"great\", \"great\", \"great\", \"great\", \"great\", \"group\", \"groups\", \"groups\", \"growing\", \"growth\", \"growth\", \"growth\", \"growth\", \"growth\", \"growthxd\", \"gym\", \"gyms\", \"hard\", \"hard\", \"having\", \"having\", \"health\", \"healthy\", \"helpful\", \"helps\", \"high\", \"high\", \"high\", \"hours\", \"hr\", \"huge\", \"im\", \"imagine\", \"impact\", \"impact\", \"impact\", \"impact\", \"impactful\", \"impactful\", \"important\", \"inclusion\", \"inclusive\", \"incredible\", \"incredible\", \"incredible\", \"incredible\", \"individuals\", \"interesting\", \"interesting\", \"interesting\", \"interesting\", \"internal\", \"internal\", \"interviews\", \"ive\", \"ive\", \"just\", \"just\", \"just\", \"kind\", \"know\", \"large\", \"leadership\", \"leadership\", \"leadership\", \"leadership\", \"leadership\", \"leading\", \"learn\", \"learn\", \"learning\", \"learning\", \"leave\", \"leave\", \"leave\", \"let\", \"life\", \"life\", \"life\", \"life\", \"like\", \"list\", \"little\", \"long\", \"long\", \"lot\", \"lot\", \"lot\", \"lot\", \"lots\", \"lots\", \"lots\", \"love\", \"make\", \"make\", \"make\", \"make\", \"making\", \"management\", \"management\", \"manager\", \"manager\", \"manager\", \"manager\", \"market\", \"meals\", \"meaningful\", \"meet\", \"mentorship\", \"mission\", \"mission\", \"mobility\", \"months\", \"needs\", \"new\", \"new\", \"new\", \"nice\", \"nice\", \"offers\", \"office\", \"offices\", \"ones\", \"onsite\", \"open\", \"open\", \"openness\", \"opportunities\", \"opportunities\", \"opportunities\", \"opportunities\", \"opportunities\", \"opportunity\", \"org\", \"outside\", \"overall\", \"overall\", \"pace\", \"paced\", \"paced\", \"paid\", \"park\", \"pay\", \"pay\", \"pay\", \"payxd\", \"people\", \"people\", \"people\", \"peoplexd\", \"perk\", \"perks\", \"perks\", \"perks\", \"perks\", \"personal\", \"phone\", \"place\", \"place\", \"potential\", \"problems\", \"product\", \"products\", \"products\", \"progress\", \"progress\", \"projects\", \"projects\", \"projects\", \"projectsxd\", \"pros\", \"quality\", \"really\", \"really\", \"really\", \"really\", \"research\", \"resources\", \"respect\", \"response\", \"responsive\", \"restaurants\", \"resume\", \"review\", \"rewards\", \"right\", \"role\", \"salary\", \"salary\", \"salaryxd\", \"say\", \"scale\", \"scale\", \"schedule\", \"senior\", \"services\", \"shuttles\", \"sick\", \"small\", \"smart\", \"smart\", \"smart\", \"smartest\", \"social\", \"solve\", \"speed\", \"star\", \"state\", \"stay\", \"straight\", \"strong\", \"stuff\", \"success\", \"successful\", \"successful\", \"successful\", \"support\", \"support\", \"supported\", \"supportive\", \"supportive\", \"supports\", \"sure\", \"sweet\", \"taken\", \"takes\", \"taking\", \"talent\", \"talented\", \"talented\", \"team\", \"team\", \"team\", \"technology\", \"technology\", \"thing\", \"things\", \"things\", \"ton\", \"tools\", \"total\", \"transparency\", \"transparent\", \"treated\", \"truly\", \"unlimited\", \"used\", \"value\", \"values\", \"values\", \"variety\", \"visibility\", \"voice\", \"want\", \"want\", \"want\", \"want\", \"wants\", \"way\", \"wellness\", \"wide\", \"willing\", \"work\", \"work\", \"work\", \"work\", \"work\", \"worked\", \"worked\", \"working\", \"working\", \"working\", \"working\", \"worklife\", \"workplace\", \"workplace\", \"works\", \"workxd\", \"workxd\", \"world\", \"world\", \"xd\", \"xd\", \"year\", \"years\", \"years\", \"youre\", \"youre\", \"youre\", \"youre\"]}, \"R\": 30, \"lambda.step\": 0.01, \"plot.opts\": {\"xlab\": \"PC1\", \"ylab\": \"PC2\"}, \"topic.order\": [5, 2, 4, 3, 6, 1]};\n",
       "\n",
       "function LDAvis_load_lib(url, callback){\n",
       "  var s = document.createElement('script');\n",
       "  s.src = url;\n",
       "  s.async = true;\n",
       "  s.onreadystatechange = s.onload = callback;\n",
       "  s.onerror = function(){console.warn(\"failed to load library \" + url);};\n",
       "  document.getElementsByTagName(\"head\")[0].appendChild(s);\n",
       "}\n",
       "\n",
       "if(typeof(LDAvis) !== \"undefined\"){\n",
       "   // already loaded: just create the visualization\n",
       "   !function(LDAvis){\n",
       "       new LDAvis(\"#\" + \"ldavis_el532816067158871685117373262\", ldavis_el532816067158871685117373262_data);\n",
       "   }(LDAvis);\n",
       "}else if(typeof define === \"function\" && define.amd){\n",
       "   // require.js is available: use it to load d3/LDAvis\n",
       "   require.config({paths: {d3: \"https://d3js.org/d3.v5\"}});\n",
       "   require([\"d3\"], function(d3){\n",
       "      window.d3 = d3;\n",
       "      LDAvis_load_lib(\"https://cdn.jsdelivr.net/gh/bmabey/pyLDAvis@3.3.1/pyLDAvis/js/ldavis.v3.0.0.js\", function(){\n",
       "        new LDAvis(\"#\" + \"ldavis_el532816067158871685117373262\", ldavis_el532816067158871685117373262_data);\n",
       "      });\n",
       "    });\n",
       "}else{\n",
       "    // require.js not available: dynamically load d3 & LDAvis\n",
       "    LDAvis_load_lib(\"https://d3js.org/d3.v5.js\", function(){\n",
       "         LDAvis_load_lib(\"https://cdn.jsdelivr.net/gh/bmabey/pyLDAvis@3.3.1/pyLDAvis/js/ldavis.v3.0.0.js\", function(){\n",
       "                 new LDAvis(\"#\" + \"ldavis_el532816067158871685117373262\", ldavis_el532816067158871685117373262_data);\n",
       "            })\n",
       "         });\n",
       "}\n",
       "</script>"
      ],
      "text/plain": [
       "PreparedData(topic_coordinates=              x         y  topics  cluster       Freq\n",
       "topic                                                \n",
       "4     -0.201644 -0.011104       1        1  26.204989\n",
       "1     -0.193817  0.019699       2        1  21.990177\n",
       "3      0.155844  0.225263       3        1  18.889476\n",
       "2     -0.118836 -0.000812       4        1  15.430174\n",
       "5      0.144268 -0.233009       5        1  14.767001\n",
       "0      0.214184 -0.000036       6        1   2.718182, topic_info=            Term        Freq       Total Category  logprob  loglift\n",
       "1718          xd  597.000000  597.000000  Default  30.0000  30.0000\n",
       "658         good  575.000000  575.000000  Default  29.0000  29.0000\n",
       "1105      people  552.000000  552.000000  Default  28.0000  28.0000\n",
       "609         food  223.000000  223.000000  Default  27.0000  27.0000\n",
       "667        great  802.000000  802.000000  Default  26.0000  26.0000\n",
       "...          ...         ...         ...      ...      ...      ...\n",
       "432          dry    5.213458    7.541568   Topic6  -4.8445   3.2360\n",
       "655         goes    5.906193   14.972858   Topic6  -4.7197   2.6750\n",
       "355       decent    6.067866   17.579516   Topic6  -4.6927   2.5415\n",
       "1525  technology    6.480188   21.399075   Topic6  -4.6270   2.4106\n",
       "1480  successful    4.335027   10.528970   Topic6  -5.0290   2.7178\n",
       "\n",
       "[348 rows x 6 columns], token_table=      Topic      Freq     Term\n",
       "term                          \n",
       "6         2  0.057624   access\n",
       "6         5  0.921977   access\n",
       "44        1  0.417208  amazing\n",
       "44        2  0.386304  amazing\n",
       "44        4  0.195727  amazing\n",
       "...     ...       ...      ...\n",
       "1723      5  0.778692    years\n",
       "1727      2  0.016707    youre\n",
       "1727      3  0.534629    youre\n",
       "1727      4  0.417679    youre\n",
       "1727      5  0.016707    youre\n",
       "\n",
       "[455 rows x 3 columns], R=30, lambda_step=0.01, plot_opts={'xlab': 'PC1', 'ylab': 'PC2'}, topic_order=[5, 2, 4, 3, 6, 1])"
      ]
     },
     "execution_count": 39,
     "metadata": {},
     "output_type": "execute_result"
    }
   ],
   "source": [
    "pyLDAvis.sklearn.prepare(lda_pros, tf_pros, vec_pros, n_jobs=1)"
   ]
  },
  {
   "cell_type": "markdown",
   "id": "c1ce66dd",
   "metadata": {},
   "source": [
    "### Cons"
   ]
  },
  {
   "cell_type": "code",
   "execution_count": 40,
   "id": "f4a7b260",
   "metadata": {},
   "outputs": [
    {
     "data": {
      "text/html": [
       "\n",
       "<link rel=\"stylesheet\" type=\"text/css\" href=\"https://cdn.jsdelivr.net/gh/bmabey/pyLDAvis@3.3.1/pyLDAvis/js/ldavis.v1.0.0.css\">\n",
       "\n",
       "\n",
       "<div id=\"ldavis_el532816067158875049369830917\"></div>\n",
       "<script type=\"text/javascript\">\n",
       "\n",
       "var ldavis_el532816067158875049369830917_data = {\"mdsDat\": {\"x\": [0.05158360562483589, 0.226488845050656, 0.11251788949066935, -0.06553086946082387, -0.1029584368479317, -0.2221010338574058], \"y\": [-0.14025869589441645, 0.05917804335399813, 0.1393309960018793, -0.11894731648916698, -0.1356291373664712, 0.19632611039417677], \"topics\": [1, 2, 3, 4, 5, 6], \"cluster\": [1, 1, 1, 1, 1, 1], \"Freq\": [27.95097416955713, 27.43513554725663, 16.709859953238933, 11.601677042428241, 8.951040372119092, 7.351312915399964]}, \"tinfo\": {\"Term\": [\"work\", \"balance\", \"lot\", \"cons\", \"life\", \"think\", \"hard\", \"really\", \"pressure\", \"company\", \"impact\", \"long\", \"xd\", \"hours\", \"facebook\", \"fast\", \"high\", \"time\", \"lots\", \"like\", \"dont\", \"environment\", \"competitive\", \"culture\", \"feel\", \"job\", \"team\", \"fb\", \"youre\", \"worklife\", \"balance\", \"life\", \"high\", \"youre\", \"worklife\", \"depending\", \"business\", \"isnt\", \"thats\", \"tough\", \"im\", \"stress\", \"decision\", \"huge\", \"needs\", \"expected\", \"remote\", \"communication\", \"short\", \"terrible\", \"demanding\", \"quite\", \"challenge\", \"smart\", \"starting\", \"terms\", \"areas\", \"depends\", \"users\", \"probably\", \"away\", \"doing\", \"team\", \"leadership\", \"work\", \"different\", \"good\", \"expectations\", \"poor\", \"bad\", \"best\", \"teams\", \"better\", \"just\", \"xd\", \"management\", \"make\", \"time\", \"hard\", \"manager\", \"people\", \"working\", \"culture\", \"dont\", \"lot\", \"company\", \"growing\", \"process\", \"growth\", \"reviews\", \"quickly\", \"pace\", \"toxic\", \"performance\", \"opportunities\", \"middle\", \"moves\", \"driven\", \"limited\", \"hiring\", \"used\", \"help\", \"chaotic\", \"changing\", \"offices\", \"reorgs\", \"small\", \"overall\", \"amp\", \"managers\", \"size\", \"pains\", \"cycles\", \"gets\", \"technical\", \"scale\", \"paced\", \"fast\", \"extremely\", \"career\", \"politics\", \"engineers\", \"big\", \"lack\", \"moving\", \"review\", \"people\", \"xd\", \"company\", \"role\", \"difficult\", \"management\", \"new\", \"things\", \"bit\", \"environment\", \"little\", \"facebook\", \"product\", \"like\", \"culture\", \"manager\", \"doesnt\", \"far\", \"tools\", \"data\", \"news\", \"day\", \"focused\", \"job\", \"share\", \"lead\", \"set\", \"told\", \"food\", \"mind\", \"white\", \"problems\", \"tell\", \"bigger\", \"believe\", \"seen\", \"worse\", \"free\", \"fact\", \"fired\", \"pros\", \"ignore\", \"friends\", \"create\", \"cause\", \"operations\", \"media\", \"did\", \"decisions\", \"facebook\", \"want\", \"social\", \"company\", \"means\", \"pay\", \"way\", \"large\", \"like\", \"end\", \"just\", \"getting\", \"internal\", \"great\", \"dont\", \"experience\", \"people\", \"working\", \"time\", \"bad\", \"able\", \"opportunity\", \"takes\", \"perks\", \"overwhelming\", \"works\", \"skills\", \"learning\", \"stack\", \"rating\", \"jobs\", \"understand\", \"meeting\", \"design\", \"speed\", \"navigate\", \"emphasis\", \"ranking\", \"oriented\", \"pm\", \"everybody\", \"rooms\", \"fun\", \"fastpaced\", \"ownership\", \"brand\", \"havent\", \"grows\", \"impact\", \"balancexd\", \"mean\", \"lot\", \"feel\", \"hard\", \"times\", \"dont\", \"culture\", \"press\", \"right\", \"like\", \"roles\", \"strong\", \"things\", \"work\", \"projects\", \"org\", \"theres\", \"negative\", \"place\", \"really\", \"going\", \"little\", \"make\", \"company\", \"xd\", \"pressure\", \"hours\", \"competitive\", \"long\", \"psc\", \"peer\", \"heavy\", \"perform\", \"workload\", \"wish\", \"deadlines\", \"needed\", \"technology\", \"paid\", \"departments\", \"load\", \"left\", \"crowded\", \"align\", \"encouraged\", \"rate\", \"true\", \"hour\", \"workxd\", \"ethics\", \"easily\", \"practices\", \"approach\", \"rest\", \"ago\", \"place\", \"lots\", \"values\", \"outside\", \"environment\", \"stressful\", \"time\", \"week\", \"office\", \"commute\", \"work\", \"open\", \"focus\", \"diversity\", \"great\", \"working\", \"world\", \"want\", \"engineering\", \"bad\", \"cons\", \"wlb\", \"menlo\", \"park\", \"real\", \"worked\", \"self\", \"location\", \"ton\", \"research\", \"money\", \"fix\", \"amazing\", \"sf\", \"scrutiny\", \"parking\", \"progress\", \"expensive\", \"awful\", \"goal\", \"fear\", \"authentic\", \"impacts\", \"opinions\", \"startup\", \"stuff\", \"global\", \"scientist\", \"theyll\", \"morale\", \"buildings\", \"think\", \"arent\", \"fb\", \"really\", \"processes\", \"say\", \"public\", \"area\", \"commute\", \"working\", \"great\", \"bad\", \"need\", \"things\", \"impact\"], \"Freq\": [561.0, 249.0, 152.0, 94.0, 185.0, 100.0, 147.0, 113.0, 73.0, 352.0, 96.0, 70.0, 409.0, 64.0, 171.0, 144.0, 113.0, 134.0, 73.0, 158.0, 123.0, 83.0, 49.0, 150.0, 75.0, 66.0, 155.0, 54.0, 88.0, 87.0, 248.65647135934617, 184.48045041619056, 112.88534718319092, 87.28664821250743, 86.26182847009493, 30.958084034974732, 29.723686979342293, 29.813382314808266, 29.183025591044835, 27.90597357432987, 21.815888768537633, 21.044984072228246, 19.9544275144029, 19.75711131627621, 19.30463261664474, 18.464854748108927, 18.580162009373048, 18.22940017270034, 17.697053425754564, 17.884239540907235, 15.743102297388733, 15.55165471514245, 14.341781497441021, 13.842346929571077, 13.582810332780415, 13.21519774540071, 13.151706674436712, 13.1364447115602, 11.989600282769574, 12.089806088288128, 13.362683730857427, 50.2712647644951, 133.9058640973831, 59.95413986979408, 412.5571180215628, 27.025179247625815, 111.07745313337271, 36.790780436763626, 41.20202041606749, 88.12968290054825, 28.794696972094705, 68.30618020822249, 35.13078609725171, 52.43156705346129, 148.1125963997289, 58.23312879900886, 43.09298263015544, 55.443184507223215, 55.086177575259036, 37.25588503208076, 57.47282583476992, 39.13604176152869, 38.45949663536247, 34.32877347059271, 34.8769095775652, 35.11184901486275, 50.21154970906075, 50.34441697171913, 62.972144666903475, 38.01807203748681, 33.54607777533399, 32.33062858426815, 29.79218550875602, 85.53604715446583, 28.485456749043646, 24.313981699264062, 23.686916913255388, 22.58150690774171, 20.8759013447207, 20.82134493090721, 20.583582729064997, 20.070841664562987, 19.515796194226134, 19.27586753159791, 17.277626552268757, 17.140603444065878, 15.577472208606975, 15.42801186959875, 15.381528224044377, 76.2223314525749, 14.900635678697997, 14.764091691543339, 14.612485690334157, 13.872428352776677, 13.476979287517366, 13.361743388605854, 28.90356270428783, 133.77030914067063, 30.79002347128126, 38.94727760463287, 47.17287047502126, 29.26796376292403, 79.19965497117491, 52.14123352178148, 25.390318954933576, 48.387126157955294, 157.875771103482, 242.453337846064, 161.24695324641445, 38.31685444835406, 45.861567232968405, 62.43187700188961, 38.12217939263493, 50.5188340311951, 38.7801978144814, 41.39320930029669, 34.51682643978709, 49.434184214893, 33.00254551543732, 39.662556832209205, 36.49986154659086, 31.652064993944528, 36.00433078007264, 30.606651008167574, 29.383824308008634, 27.712888557543426, 23.912932862844112, 21.151061009386556, 21.175748054942524, 64.09976730489356, 16.53776446798384, 20.631258683481768, 15.443348087192824, 15.776084202533543, 14.672450793422122, 14.200441914602745, 13.552767453008915, 13.527402990476372, 12.070019702578882, 11.478080409011621, 11.00780740938745, 10.71339445473153, 10.478770948786769, 10.2550316747874, 10.283232529744133, 10.463286227924614, 9.917294897441858, 10.09501207776683, 9.899003265994184, 9.876078099667478, 9.845051745398296, 9.799221506290447, 23.543888360699324, 19.876586122169773, 26.06732204133179, 110.68676690326477, 34.18669173558167, 21.18273696655179, 141.04875939123804, 32.537500056921196, 21.217520655667464, 22.94164668973558, 27.522805673346472, 55.17358578866336, 17.15798870069636, 30.97946744765927, 23.09787204928907, 23.18690859970466, 28.9288407415747, 31.222787519856006, 22.079651760736386, 28.674876597539445, 24.062087789421735, 24.398152382526522, 20.49824225475129, 19.016595353490438, 18.76327198345691, 15.118315552290321, 13.40032095570915, 15.879390397855287, 12.905304616467145, 12.559309069991462, 12.200013566944712, 11.215372427896202, 11.259545958860162, 10.998994901716001, 9.924491300263691, 9.632309580784918, 9.530674079171108, 9.350812496899968, 9.209442494157898, 9.032503983270807, 8.45671923108204, 8.466908758838592, 8.21793366100677, 8.1057917841408, 7.946160016767472, 7.852195803966563, 7.804099849167054, 7.3572905852733586, 7.0257542681765015, 6.958041566414234, 7.282493871816422, 86.52088680901525, 6.658982654256306, 8.338175435090701, 116.31515345714958, 52.7453299059566, 92.17661424302834, 41.95026957194508, 57.357558429699964, 64.09317985142378, 13.97295132585607, 14.982029773455894, 58.05642336459051, 17.903193187864858, 10.582261130692807, 28.621130235762543, 62.40668783834614, 16.226237556186256, 15.060941352500757, 16.59572364910081, 14.455793772560545, 16.38543360193172, 19.666540635540972, 13.858611433116542, 15.137066715422552, 14.188048707746042, 14.178342931939733, 13.297215508634016, 72.72578440896166, 63.182637745517155, 48.75498972508056, 69.25858392395249, 17.74360918407698, 17.63707110520809, 15.831297129785614, 14.026873021475263, 19.106634146732063, 11.823965557705433, 11.102883291390006, 8.968198241367837, 8.991965618000961, 8.956162639823914, 8.718817332784724, 8.464410635013909, 7.849546473000998, 7.832692544153419, 7.650268876524664, 7.326507081243822, 7.248916727751671, 6.898883269762474, 6.944346789767675, 6.640298130606241, 6.1709324312453235, 6.197857936343623, 6.168298972094253, 6.0543980554256684, 5.951845121875942, 5.898763755528228, 36.96204621779756, 45.497179607585146, 12.486608436171112, 14.85818428235719, 38.776452883372954, 27.083254224711016, 47.51850065829122, 12.142477650238384, 17.230609647799362, 15.173454894106177, 68.58766799732396, 15.182780514610753, 14.792314361986367, 11.434376705677943, 17.758983011746928, 16.377408378933943, 11.283469812047656, 12.36605252947752, 10.639663724479778, 12.208654519515706, 93.63842412429382, 33.29976491575949, 23.20914735303387, 23.088895963601658, 22.664823594660696, 14.198058409663506, 13.119817399991478, 11.809545803911384, 11.675873111291489, 11.060712301313405, 10.889331001556279, 10.153389845092187, 10.29937588136813, 9.13592622561545, 8.677832658496596, 8.424826357004225, 8.437280417455703, 8.30260656526258, 8.114930669944346, 8.062072628703927, 7.9128518916359765, 7.495404661566389, 6.879100571474135, 6.599387477877303, 6.512522411937434, 6.265680926896285, 5.882358496095971, 5.47639472633653, 5.4814962177380675, 5.281279143114422, 6.862288029877815, 73.34602878681224, 16.40094321165911, 34.942391629288224, 59.23952380845299, 16.40336926708355, 19.244883876147583, 11.431958588032195, 11.263074094427283, 12.817956069613382, 20.396616961633626, 16.836601093846912, 14.904888074167593, 12.573933947827376, 9.771057706829714, 8.929377581165518], \"Total\": [561.0, 249.0, 152.0, 94.0, 185.0, 100.0, 147.0, 113.0, 73.0, 352.0, 96.0, 70.0, 409.0, 64.0, 171.0, 144.0, 113.0, 134.0, 73.0, 158.0, 123.0, 83.0, 49.0, 150.0, 75.0, 66.0, 155.0, 54.0, 88.0, 87.0, 249.41351394168072, 185.22861975222327, 113.62439545697478, 88.04632160797198, 87.03994846928398, 31.708903619773483, 30.463936970136636, 30.55997147446971, 29.923814260493423, 28.64426231729387, 22.55697478834454, 21.782329231526525, 20.69612468210167, 20.49839260107591, 20.05222304332031, 19.204575339877554, 19.3249139690597, 18.972747753535717, 18.435710599774424, 18.635887994068714, 16.478622213236054, 16.293828769166304, 15.083928398547462, 14.58396882249075, 14.324368249352974, 13.954425948750933, 13.893287802005045, 13.890324660751391, 12.728273978615276, 12.838798967294133, 14.213740681170849, 55.93886688990951, 155.39380407697132, 69.49934535913543, 561.335184782296, 30.028494983998055, 147.2748805072852, 44.77736727541426, 51.782440954505255, 136.10501156168945, 34.69422171787348, 103.73864410269937, 46.17317272772425, 84.02014619809773, 409.4116276785461, 127.18198165782313, 82.06280814078085, 134.65517569381583, 147.8649284077466, 75.09265235459554, 244.74724593928696, 115.52495928151446, 150.99550274678487, 123.34830528956844, 152.3946328715186, 352.0026463102232, 50.94810386089635, 51.103425688283295, 64.05471309991731, 38.75679467321108, 34.28348061198594, 33.064221796147656, 30.53075468672721, 87.81089149401951, 29.247425525035915, 25.052038876026646, 24.422422310784444, 23.322255035894052, 21.612637450866675, 21.560512410350587, 21.32848344625738, 20.819360665220422, 20.254576178306646, 20.032246476490666, 18.016388295966223, 17.87787884314935, 16.31417475664719, 16.165150332884977, 16.11741661420332, 79.91399438648291, 15.638815282533722, 15.497760898800783, 15.34827722958086, 14.608432417994154, 14.216368282033008, 14.109104932943193, 30.668581747400076, 144.83720061318806, 33.37445625219154, 42.769125656316525, 52.88243165006927, 32.00594530744092, 92.82686009729342, 60.00307191874901, 27.841541455967874, 57.550937812754675, 244.74724593928696, 409.4116276785461, 352.0026463102232, 50.699568549000226, 66.58759328756766, 127.18198165782313, 58.462272730085864, 99.81627978986097, 63.53274416123843, 83.35561004595726, 62.78958864357394, 171.67936733637882, 58.21055368160225, 158.53317780276763, 150.99550274678487, 75.09265235459554, 36.74841916921843, 31.341973826280118, 30.121364792232548, 28.45235312584806, 24.669839638550297, 21.885567105706553, 21.930178446811333, 66.82905926311244, 17.271718039753907, 21.55316325549244, 16.18026115412423, 16.555683284846552, 15.404217616161118, 14.932793269557967, 14.289776455754023, 14.271470699346933, 12.80757665630072, 12.212659052083607, 11.742235564629766, 11.44971956776924, 11.212813885288396, 10.989807891613571, 11.023206437310435, 11.231874732776733, 10.649349718596229, 10.84376486571111, 10.63436071172451, 10.612773967007401, 10.584761976796912, 10.5464378597235, 25.679730429856694, 23.47831059835137, 32.19267400225418, 171.67936733637882, 47.152789710901, 28.077778052766007, 352.0026463102232, 52.09025291143932, 31.359683244682902, 36.688174992310664, 51.44405909010298, 158.53317780276763, 25.79397160270898, 84.02014619809773, 48.99505798806489, 52.83991761091657, 91.6367987515603, 123.34830528956844, 50.409858625328354, 244.74724593928696, 115.52495928151446, 134.65517569381583, 136.10501156168945, 19.757062295577214, 19.507082825692564, 15.86254745931145, 14.13970034702921, 16.768551625576816, 13.651847640495614, 13.304484550649459, 12.944715938231994, 11.954430742111635, 12.005233832393488, 11.739409502167872, 10.662646148283658, 10.374733904184732, 10.27117346164608, 10.08733482990349, 9.947317226931615, 9.772425063156794, 9.19427175587317, 9.21028514210311, 8.967987634083322, 8.848222719914792, 8.688776827922638, 8.592342034158593, 8.543349308590088, 8.100436265293931, 7.7631687969986665, 7.694618146219611, 8.084583546814125, 96.06942936647567, 7.401992095355239, 9.337969519811395, 152.3946328715186, 75.8002783294844, 147.8649284077466, 60.0865930979678, 123.34830528956844, 150.99550274678487, 19.00005097295359, 21.2296972768066, 158.53317780276763, 28.157184299283212, 13.201954785160334, 99.81627978986097, 561.335184782296, 34.77834407081775, 29.96785074276755, 51.097715635726594, 35.82814179535393, 56.37857858218261, 113.26897806023243, 36.510589678186804, 62.78958864357394, 82.06280814078085, 352.0026463102232, 409.4116276785461, 73.58015444416817, 64.01973245398617, 49.51650874683261, 70.49103296518861, 18.482308855353853, 18.39727887391135, 16.572824712833885, 14.764555047560103, 20.203361140456867, 12.59965518992482, 11.848134028776393, 9.708334716299799, 9.737166814931232, 9.698608188011136, 9.474334805378435, 9.209129630187585, 8.596332369770476, 8.580238801451225, 8.393155084385267, 8.072128775535475, 7.988421811667389, 7.641266194710525, 7.695200262742664, 7.386516598889328, 6.909844862523764, 6.946318112436006, 6.915548528451802, 6.809100037898131, 6.695780967878434, 6.6468254134728815, 56.37857858218261, 73.32009815278097, 16.169034081279115, 22.676299834278026, 83.35561004595726, 56.89118795448264, 134.65517569381583, 18.122239352573338, 31.58169038984768, 28.59005432736966, 561.335184782296, 34.93831564173134, 43.45610887690035, 24.606159839882807, 91.6367987515603, 115.52495928151446, 29.475608700454256, 47.152789710901, 34.1072317083836, 136.10501156168945, 94.38296306058919, 34.04619864199104, 23.950644089681038, 23.830749600748952, 23.41284774021489, 14.962127204399636, 13.868730421931197, 12.552583592911775, 12.428521800344653, 11.808816371223639, 11.641155384069117, 10.923565651083834, 11.098033775355002, 9.876330221588002, 9.423045944084134, 9.167769686216554, 9.18252216171663, 9.043182571166474, 8.857497068939779, 8.814187524656338, 8.660897926392481, 8.244345409503453, 7.624087536832937, 7.346388172616625, 7.263586269346723, 7.008871363793583, 6.641045090966135, 6.221104826044179, 6.227127915212838, 6.023266059379072, 7.827087442772505, 100.38460607787565, 20.494983812246705, 54.74224615643203, 113.26897806023243, 26.4267032764166, 34.57739586062046, 16.31895146195128, 19.23622082453413, 28.59005432736966, 115.52495928151446, 91.6367987515603, 136.10501156168945, 83.74809778466253, 99.81627978986097, 96.06942936647567], \"Category\": [\"Default\", \"Default\", \"Default\", \"Default\", \"Default\", \"Default\", \"Default\", \"Default\", \"Default\", \"Default\", \"Default\", \"Default\", \"Default\", \"Default\", \"Default\", \"Default\", \"Default\", \"Default\", \"Default\", \"Default\", \"Default\", \"Default\", \"Default\", \"Default\", \"Default\", \"Default\", \"Default\", \"Default\", \"Default\", \"Default\", \"Topic1\", \"Topic1\", \"Topic1\", \"Topic1\", \"Topic1\", \"Topic1\", \"Topic1\", \"Topic1\", \"Topic1\", \"Topic1\", \"Topic1\", \"Topic1\", \"Topic1\", \"Topic1\", \"Topic1\", \"Topic1\", \"Topic1\", \"Topic1\", \"Topic1\", \"Topic1\", \"Topic1\", \"Topic1\", \"Topic1\", \"Topic1\", \"Topic1\", \"Topic1\", \"Topic1\", \"Topic1\", \"Topic1\", \"Topic1\", \"Topic1\", \"Topic1\", \"Topic1\", \"Topic1\", \"Topic1\", \"Topic1\", \"Topic1\", \"Topic1\", \"Topic1\", \"Topic1\", \"Topic1\", \"Topic1\", \"Topic1\", \"Topic1\", \"Topic1\", \"Topic1\", \"Topic1\", \"Topic1\", \"Topic1\", \"Topic1\", \"Topic1\", \"Topic1\", \"Topic1\", \"Topic1\", \"Topic1\", \"Topic1\", \"Topic2\", \"Topic2\", \"Topic2\", \"Topic2\", \"Topic2\", \"Topic2\", \"Topic2\", \"Topic2\", \"Topic2\", \"Topic2\", \"Topic2\", \"Topic2\", \"Topic2\", \"Topic2\", \"Topic2\", \"Topic2\", \"Topic2\", \"Topic2\", \"Topic2\", \"Topic2\", \"Topic2\", \"Topic2\", \"Topic2\", \"Topic2\", \"Topic2\", \"Topic2\", \"Topic2\", \"Topic2\", \"Topic2\", \"Topic2\", \"Topic2\", \"Topic2\", \"Topic2\", \"Topic2\", \"Topic2\", \"Topic2\", \"Topic2\", \"Topic2\", \"Topic2\", \"Topic2\", \"Topic2\", \"Topic2\", \"Topic2\", \"Topic2\", \"Topic2\", \"Topic2\", \"Topic2\", \"Topic2\", \"Topic2\", \"Topic2\", \"Topic2\", \"Topic2\", \"Topic2\", \"Topic2\", \"Topic2\", \"Topic2\", \"Topic3\", \"Topic3\", \"Topic3\", \"Topic3\", \"Topic3\", \"Topic3\", \"Topic3\", \"Topic3\", \"Topic3\", \"Topic3\", \"Topic3\", \"Topic3\", \"Topic3\", \"Topic3\", \"Topic3\", \"Topic3\", \"Topic3\", \"Topic3\", \"Topic3\", \"Topic3\", \"Topic3\", \"Topic3\", \"Topic3\", \"Topic3\", \"Topic3\", \"Topic3\", \"Topic3\", \"Topic3\", \"Topic3\", \"Topic3\", \"Topic3\", \"Topic3\", \"Topic3\", \"Topic3\", \"Topic3\", \"Topic3\", \"Topic3\", \"Topic3\", \"Topic3\", \"Topic3\", \"Topic3\", \"Topic3\", \"Topic3\", \"Topic3\", \"Topic3\", \"Topic3\", \"Topic3\", \"Topic3\", \"Topic3\", \"Topic3\", \"Topic3\", \"Topic3\", \"Topic3\", \"Topic4\", \"Topic4\", \"Topic4\", \"Topic4\", \"Topic4\", \"Topic4\", \"Topic4\", \"Topic4\", \"Topic4\", \"Topic4\", \"Topic4\", \"Topic4\", \"Topic4\", \"Topic4\", \"Topic4\", \"Topic4\", \"Topic4\", \"Topic4\", \"Topic4\", \"Topic4\", \"Topic4\", \"Topic4\", \"Topic4\", \"Topic4\", \"Topic4\", \"Topic4\", \"Topic4\", \"Topic4\", \"Topic4\", \"Topic4\", \"Topic4\", \"Topic4\", \"Topic4\", \"Topic4\", \"Topic4\", \"Topic4\", \"Topic4\", \"Topic4\", \"Topic4\", \"Topic4\", \"Topic4\", \"Topic4\", \"Topic4\", \"Topic4\", \"Topic4\", \"Topic4\", \"Topic4\", \"Topic4\", \"Topic4\", \"Topic4\", \"Topic4\", \"Topic4\", \"Topic4\", \"Topic4\", \"Topic4\", \"Topic5\", \"Topic5\", \"Topic5\", \"Topic5\", \"Topic5\", \"Topic5\", \"Topic5\", \"Topic5\", \"Topic5\", \"Topic5\", \"Topic5\", \"Topic5\", \"Topic5\", \"Topic5\", \"Topic5\", \"Topic5\", \"Topic5\", \"Topic5\", \"Topic5\", \"Topic5\", \"Topic5\", \"Topic5\", \"Topic5\", \"Topic5\", \"Topic5\", \"Topic5\", \"Topic5\", \"Topic5\", \"Topic5\", \"Topic5\", \"Topic5\", \"Topic5\", \"Topic5\", \"Topic5\", \"Topic5\", \"Topic5\", \"Topic5\", \"Topic5\", \"Topic5\", \"Topic5\", \"Topic5\", \"Topic5\", \"Topic5\", \"Topic5\", \"Topic5\", \"Topic5\", \"Topic5\", \"Topic5\", \"Topic5\", \"Topic5\", \"Topic6\", \"Topic6\", \"Topic6\", \"Topic6\", \"Topic6\", \"Topic6\", \"Topic6\", \"Topic6\", \"Topic6\", \"Topic6\", \"Topic6\", \"Topic6\", \"Topic6\", \"Topic6\", \"Topic6\", \"Topic6\", \"Topic6\", \"Topic6\", \"Topic6\", \"Topic6\", \"Topic6\", \"Topic6\", \"Topic6\", \"Topic6\", \"Topic6\", \"Topic6\", \"Topic6\", \"Topic6\", \"Topic6\", \"Topic6\", \"Topic6\", \"Topic6\", \"Topic6\", \"Topic6\", \"Topic6\", \"Topic6\", \"Topic6\", \"Topic6\", \"Topic6\", \"Topic6\", \"Topic6\", \"Topic6\", \"Topic6\", \"Topic6\", \"Topic6\", \"Topic6\"], \"logprob\": [30.0, 29.0, 28.0, 27.0, 26.0, 25.0, 24.0, 23.0, 22.0, 21.0, 20.0, 19.0, 18.0, 17.0, 16.0, 15.0, 14.0, 13.0, 12.0, 11.0, 10.0, 9.0, 8.0, 7.0, 6.0, 5.0, 4.0, 3.0, 2.0, 1.0, -3.1884, -3.4869, -3.9781, -4.2352, -4.247, -5.2718, -5.3125, -5.3095, -5.3308, -5.3756, -5.6218, -5.6578, -5.711, -5.7209, -5.7441, -5.7886, -5.7823, -5.8014, -5.831, -5.8205, -5.948, -5.9603, -6.0413, -6.0767, -6.0956, -6.1231, -6.1279, -6.129, -6.2204, -6.2121, -6.112, -4.787, -3.8073, -4.6109, -2.6821, -5.4077, -3.9942, -5.0992, -4.9859, -4.2256, -5.3442, -4.4804, -5.1454, -4.7449, -3.7065, -4.64, -4.9411, -4.6891, -4.6955, -5.0866, -4.6531, -5.0374, -5.0548, -5.1684, -5.1526, -5.1459, -4.7696, -4.7669, -4.5431, -5.0477, -5.1729, -5.2098, -5.2916, -4.2369, -5.3364, -5.4948, -5.5209, -5.5687, -5.6472, -5.6498, -5.6613, -5.6865, -5.7146, -5.727, -5.8364, -5.8444, -5.94, -5.9496, -5.9526, -4.3522, -5.9844, -5.9936, -6.0039, -6.0559, -6.0848, -6.0934, -5.3218, -3.7897, -5.2586, -5.0236, -4.832, -5.3093, -4.3138, -4.7318, -5.4514, -4.8066, -3.624, -3.195, -3.6029, -5.0399, -4.8602, -4.5517, -5.045, -4.7635, -5.0279, -4.9627, -5.1444, -4.7852, -5.1892, -5.0054, -5.0885, -5.231, -4.6063, -4.7688, -4.8095, -4.8681, -5.0156, -5.1383, -5.1371, -4.0295, -5.3843, -5.1632, -5.4528, -5.4315, -5.504, -5.5367, -5.5834, -5.5853, -5.6993, -5.7495, -5.7914, -5.8185, -5.8406, -5.8622, -5.8595, -5.8421, -5.8957, -5.8779, -5.8975, -5.8999, -5.903, -5.9077, -5.0311, -5.2004, -4.9293, -3.4833, -4.6581, -5.1368, -3.2409, -4.7076, -5.1352, -5.057, -4.875, -4.1795, -5.3475, -4.7567, -5.0502, -5.0464, -4.8251, -4.7488, -5.0953, -4.834, -5.0093, -4.9955, -5.1696, -4.8798, -4.8932, -5.1092, -5.2299, -5.0601, -5.2675, -5.2947, -5.3237, -5.4078, -5.4039, -5.4273, -5.5301, -5.56, -5.5706, -5.5897, -5.6049, -5.6243, -5.6902, -5.689, -5.7188, -5.7326, -5.7524, -5.7643, -5.7705, -5.8294, -5.8755, -5.8852, -5.8397, -3.3647, -5.9292, -5.7043, -3.0688, -3.8597, -3.3014, -4.0886, -3.7758, -3.6648, -5.188, -5.1183, -3.7637, -4.9402, -5.466, -4.471, -3.6915, -5.0385, -5.113, -5.016, -5.154, -5.0287, -4.8462, -5.1962, -5.108, -5.1727, -5.1734, -5.2376, -3.2791, -3.4197, -3.6789, -3.3279, -4.6897, -4.6957, -4.8038, -4.9248, -4.6157, -5.0956, -5.1585, -5.3721, -5.3694, -5.3734, -5.4003, -5.4299, -5.5053, -5.5074, -5.531, -5.5743, -5.5849, -5.6344, -5.6278, -5.6726, -5.7459, -5.7415, -5.7463, -5.765, -5.782, -5.791, -3.9559, -3.7481, -5.0411, -4.8672, -3.9079, -4.2668, -3.7046, -5.069, -4.7191, -4.8462, -3.3376, -4.8456, -4.8716, -5.1291, -4.6889, -4.7698, -5.1424, -5.0508, -5.2012, -5.0636, -2.8294, -3.8633, -4.2243, -4.2295, -4.248, -4.7158, -4.7947, -4.9, -4.9113, -4.9655, -4.9811, -5.0511, -5.0368, -5.1566, -5.2081, -5.2377, -5.2362, -5.2523, -5.2752, -5.2817, -5.3004, -5.3546, -5.4404, -5.4819, -5.4951, -5.5338, -5.5969, -5.6684, -5.6675, -5.7047, -5.4428, -3.0737, -4.5715, -3.8152, -3.2873, -4.5714, -4.4116, -4.9324, -4.9473, -4.818, -4.3535, -4.5453, -4.6672, -4.8372, -5.0894, -5.1795], \"loglift\": [30.0, 29.0, 28.0, 27.0, 26.0, 25.0, 24.0, 23.0, 22.0, 21.0, 20.0, 19.0, 18.0, 17.0, 16.0, 15.0, 14.0, 13.0, 12.0, 11.0, 10.0, 9.0, 8.0, 7.0, 6.0, 5.0, 4.0, 3.0, 2.0, 1.0, 1.2717, 1.2707, 1.2682, 1.2661, 1.2657, 1.2508, 1.2501, 1.25, 1.2497, 1.2486, 1.2413, 1.2403, 1.2382, 1.2379, 1.2367, 1.2354, 1.2354, 1.2348, 1.2338, 1.2335, 1.2291, 1.2281, 1.2243, 1.2225, 1.2216, 1.2203, 1.2199, 1.2189, 1.2149, 1.2146, 1.213, 1.1679, 1.1259, 1.127, 0.9668, 1.1693, 0.9926, 1.0783, 1.0462, 0.8401, 1.0883, 0.8568, 1.0014, 0.8032, 0.258, 0.4936, 0.6306, 0.3874, 0.2873, 0.5738, -0.1742, 0.1923, -0.0929, -0.0043, -0.1999, -1.0304, 1.2788, 1.2784, 1.2763, 1.2741, 1.2716, 1.2709, 1.2689, 1.2671, 1.2669, 1.2634, 1.2628, 1.2611, 1.2587, 1.2585, 1.2578, 1.2567, 1.2562, 1.2549, 1.2515, 1.2512, 1.2471, 1.2467, 1.2466, 1.246, 1.245, 1.2448, 1.2442, 1.2417, 1.2399, 1.2389, 1.2341, 1.2139, 1.2127, 1.1997, 1.1791, 1.2039, 1.1346, 1.1529, 1.2012, 1.1199, 0.8549, 0.7694, 0.5126, 1.0133, 0.9205, 0.5818, 0.8658, 0.6124, 0.7997, 0.5933, 0.695, 0.0484, 0.7259, -0.0922, -0.1266, 0.4294, 1.7687, 1.7654, 1.7644, 1.7628, 1.758, 1.755, 1.7542, 1.7475, 1.7457, 1.7455, 1.7426, 1.7409, 1.7405, 1.7389, 1.7362, 1.7356, 1.7299, 1.7271, 1.7246, 1.7227, 1.7215, 1.72, 1.7197, 1.7183, 1.718, 1.7176, 1.7175, 1.7172, 1.7167, 1.7157, 1.7023, 1.6226, 1.5781, 1.3502, 1.4676, 1.5074, 0.8746, 1.3186, 1.3985, 1.3197, 1.1637, 0.7337, 1.3815, 0.7914, 1.0372, 0.9655, 0.6362, 0.4153, 0.9636, -0.355, 0.2203, 0.081, -0.1039, 2.1158, 2.1151, 2.106, 2.1003, 2.0995, 2.0978, 2.0964, 2.0948, 2.0902, 2.0899, 2.0889, 2.0823, 2.0798, 2.0792, 2.0782, 2.0769, 2.0753, 2.0704, 2.0699, 2.0667, 2.0664, 2.0647, 2.0639, 2.0635, 2.0578, 2.0542, 2.0534, 2.0495, 2.0493, 2.0482, 2.0408, 1.8839, 1.7914, 1.6814, 1.7947, 1.3883, 1.2971, 1.8467, 1.8055, 1.1495, 1.7012, 1.9328, 0.9048, -0.0426, 1.3917, 1.466, 1.0294, 1.2464, 0.9183, 0.4032, 1.1853, 0.7314, 0.3989, -1.0579, -1.2731, 2.4017, 2.4002, 2.3979, 2.3958, 2.3726, 2.3712, 2.3676, 2.3621, 2.3576, 2.3499, 2.3484, 2.3341, 2.3338, 2.3338, 2.3303, 2.3291, 2.3225, 2.3222, 2.3207, 2.3165, 2.3163, 2.3112, 2.3107, 2.3069, 2.3003, 2.2994, 2.2991, 2.2959, 2.2956, 2.294, 1.9912, 1.9362, 2.155, 1.9906, 1.6481, 1.6712, 1.3718, 2.013, 1.8075, 1.7799, 0.3112, 1.58, 1.3358, 1.647, 0.7725, 0.4598, 1.4532, 1.075, 1.2485, 0.0021, 2.6024, 2.5881, 2.5788, 2.5787, 2.5778, 2.5579, 2.5548, 2.5493, 2.5478, 2.5448, 2.5435, 2.5372, 2.5356, 2.5324, 2.5279, 2.5258, 2.5256, 2.5248, 2.5227, 2.5211, 2.52, 2.5151, 2.5075, 2.5031, 2.5011, 2.4982, 2.489, 2.4828, 2.4828, 2.4788, 2.4787, 2.2965, 2.3874, 2.1614, 1.9621, 2.1334, 2.0243, 2.2544, 2.075, 1.8081, 0.8762, 0.916, 0.3986, 0.7141, 0.2864, 0.2346]}, \"token.table\": {\"Topic\": [4, 5, 5, 6, 2, 5, 1, 2, 6, 1, 4, 6, 6, 1, 6, 1, 3, 5, 6, 1, 4, 3, 1, 6, 1, 2, 3, 5, 2, 3, 3, 2, 3, 4, 4, 6, 1, 1, 2, 3, 1, 2, 2, 1, 5, 6, 1, 2, 3, 4, 5, 6, 3, 5, 1, 2, 3, 4, 5, 2, 3, 3, 5, 1, 2, 3, 1, 5, 1, 1, 4, 2, 3, 1, 2, 4, 1, 2, 1, 2, 4, 5, 3, 1, 2, 5, 1, 3, 4, 2, 5, 4, 5, 3, 4, 1, 2, 5, 1, 2, 2, 3, 5, 5, 4, 1, 5, 1, 6, 2, 3, 2, 4, 1, 2, 3, 5, 6, 3, 3, 1, 2, 4, 1, 2, 4, 6, 6, 1, 2, 3, 4, 3, 6, 1, 5, 6, 3, 3, 3, 3, 4, 2, 2, 3, 6, 6, 1, 2, 3, 4, 1, 2, 3, 4, 5, 1, 3, 5, 6, 2, 4, 2, 1, 4, 4, 5, 2, 1, 2, 5, 5, 1, 3, 1, 4, 6, 6, 2, 3, 1, 1, 2, 3, 4, 1, 3, 2, 5, 2, 3, 4, 3, 1, 3, 4, 5, 1, 1, 2, 3, 4, 5, 2, 1, 2, 4, 5, 6, 4, 5, 1, 2, 4, 2, 5, 1, 3, 4, 6, 1, 2, 3, 5, 1, 2, 3, 2, 3, 4, 2, 3, 2, 3, 4, 6, 2, 3, 6, 6, 2, 1, 2, 4, 1, 2, 3, 5, 6, 5, 1, 1, 3, 4, 6, 1, 2, 3, 3, 2, 3, 5, 2, 2, 3, 5, 3, 6, 2, 4, 1, 4, 4, 1, 2, 4, 5, 2, 4, 4, 2, 1, 2, 5, 2, 6, 6, 1, 3, 5, 1, 2, 3, 5, 2, 4, 4, 2, 4, 5, 4, 2, 3, 1, 2, 5, 1, 4, 5, 1, 3, 2, 3, 6, 1, 2, 6, 6, 1, 4, 5, 3, 5, 3, 6, 2, 1, 4, 5, 4, 6, 1, 2, 4, 6, 1, 2, 6, 5, 1, 2, 3, 4, 2, 1, 4, 1, 2, 2, 4, 4, 3, 4, 6, 2, 6, 6, 3, 6, 3, 6, 3, 1, 2, 4, 2, 1, 2, 3, 4, 4, 1, 6, 1, 2, 4, 5, 4, 6, 6, 4, 1, 2, 3, 4, 6, 1, 2, 3, 2, 5, 3, 1, 1, 1, 1, 2, 4, 6, 1, 2, 4, 5, 6, 1, 2, 6, 1, 2, 3, 5, 1, 3, 4, 3, 6, 3, 1, 2, 5, 4, 2, 1, 1, 2, 5, 3, 5, 2, 3, 1, 5, 3, 5, 6, 1, 3, 4, 5, 6, 1, 2, 3, 5, 6, 1, 5, 4, 5, 1, 3, 5, 3, 1, 2, 3, 4, 6, 1], \"Freq\": [0.9616814339980753, 0.9026865649033313, 0.9531576528215596, 0.9010605123771235, 0.9306702407122361, 0.8811737184951262, 0.2599263153406377, 0.10397052613625508, 0.571837893749403, 0.9357036423102005, 0.14637728077674111, 0.780678830809286, 0.8490668030394425, 0.9146079340831995, 0.9031896864017344, 0.6465595865300969, 0.14694536057502203, 0.08816721634501322, 0.11020902043126653, 0.9983420547862639, 0.9456913638684524, 0.9367892459196148, 0.835874060984052, 0.14411621741104344, 0.7580159199020036, 0.06497279313445745, 0.10828798855742908, 0.06497279313445745, 0.8510467758706775, 0.14004567197871906, 0.9007047484980992, 0.6138566894107818, 0.23609872669645451, 0.14165923601787273, 0.9016936489525107, 0.8943301133634027, 0.9847709450491764, 0.07014405728345614, 0.9118727446849298, 0.9447543574358326, 0.9281401787446936, 0.9484707580000035, 0.9874311772280229, 0.9487292106461259, 0.5246579747013733, 0.45470357807452355, 0.0994310706663102, 0.4573829250650269, 0.40056517039856393, 0.03977242826652408, 0.9895689587189312, 0.995942455627894, 0.9422607162922371, 0.9323749822262423, 0.2516631244555999, 0.2384176968526736, 0.006622713801463156, 0.423853683293642, 0.06622713801463156, 0.9773083829298038, 0.9841013808648006, 0.9595364789301875, 0.9284162361164661, 0.9663644912854779, 0.1863778075589456, 0.8076371660887642, 0.9709549617047709, 0.9499347642739876, 0.97764338911638, 0.9359032504641811, 0.9735985900093423, 0.12777750713506011, 0.8518500475670675, 0.8991459616736731, 0.033301702284210116, 0.06660340456842023, 0.3003562527575859, 0.6908193813424475, 0.2844816113343324, 0.08128046038123783, 0.12192069057185675, 0.4470425320968081, 0.9796339764774065, 0.8938329068839114, 0.0715066325507129, 0.017876658137678227, 0.2756422142986295, 0.2513208424487504, 0.4621060651477024, 0.9861825095644445, 0.8637669486023378, 0.9209587120735335, 0.867181408356019, 0.6590687258961934, 0.3101499886570322, 0.14659647674575108, 0.5277473162847038, 0.3225122488406523, 0.06248839022839388, 0.9060816583117113, 0.49186851343772864, 0.035990379032028924, 0.46787492741637604, 0.8683262966642856, 0.904136373284808, 0.8263103047667444, 0.15632897657749217, 0.9372766479570991, 0.8846443093504951, 0.5554469058941467, 0.43642256891682957, 0.9288540842658486, 0.05992606995263539, 0.04659849418203676, 0.28541577686497516, 0.6465541067757601, 0.01164962354550919, 0.005824811772754595, 0.9071770593130534, 0.989088950549969, 0.06904303561283727, 0.9251766772120195, 0.9364009021562812, 0.054802281795802966, 0.2740114089790148, 0.018267427265267654, 0.639359954284368, 0.9236917543643463, 0.11873307325969576, 0.17150332804178275, 0.01319256369552175, 0.6992058758626528, 0.8903233198299577, 0.915451997947923, 0.4832462119304662, 0.3451758656646187, 0.16108207064348873, 0.9575845472909692, 0.9737592894210324, 0.9099340132807141, 0.9403480163104568, 0.9310616323461339, 0.9583506018589162, 0.5102555446733006, 0.46943510109943654, 0.9034722574255438, 0.9076276148676468, 0.2738931386247778, 0.19172519703734447, 0.1643358831748667, 0.38345039407468895, 0.7536926841676114, 0.04074014509014116, 0.10185036272535289, 0.04074014509014116, 0.06111021763521173, 0.3055541046988314, 0.31646675129521823, 0.19642763873496305, 0.1855149921385762, 0.9813907920207401, 0.8658454649477245, 0.9835341843109642, 0.37196109038334046, 0.6221894602775877, 0.9097267553737051, 0.9654359034890236, 0.9606442926660472, 0.9945047412180845, 0.9740028251795397, 0.9096579375447097, 0.9840715914469169, 0.9756862593679784, 0.9221889374990816, 0.9753080901330645, 0.9055950532205354, 0.09368224688488297, 0.9181426585387575, 0.5488275022217045, 0.4352769845206622, 0.9816763089933668, 0.014963550452848718, 0.014963550452848718, 0.9576672289823179, 0.9370147619408516, 0.6188991849335452, 0.3689591294796135, 0.866622296778637, 0.11666069379712421, 0.44708758225543743, 0.544280534919663, 0.019438590532845103, 0.9743349387310247, 0.8633174843583361, 0.12949762265375042, 0.9270191835232326, 0.9306294424041217, 0.9933670090838729, 0.025231311549033804, 0.252313115490338, 0.3469305337992148, 0.3658540174609901, 0.012615655774516902, 0.9716537395188616, 0.20704069386080387, 0.5574172527021642, 0.23889310830092755, 0.8687031588496648, 0.9559784972693741, 0.014186201534226934, 0.9788479058616584, 0.22966688091638976, 0.006561910883325421, 0.7611816624657489, 0.3682482795336508, 0.6137471325560846, 0.5239888930711755, 0.24371576421915137, 0.17060103495340595, 0.06092894105478784, 0.45603944241131694, 0.48749043843968365, 0.031450996028366686, 0.015725498014183343, 0.4927246386941034, 0.4261402280597651, 0.07990129276120596, 0.9510224158292737, 0.03754035851957659, 0.8567172963059299, 0.36475154060592957, 0.6335158336839829, 0.07788243749142662, 0.9345892498971194, 0.9638801430816862, 0.9603082035655728, 0.9580058580767498, 0.9375339058996041, 0.9449233892241885, 0.8301144181094735, 0.9827035047789706, 0.07183510306579298, 0.8979387883224121, 0.904766561142051, 0.3104548125600721, 0.32239538227392106, 0.10746512742464036, 0.09552455771079144, 0.15522740628003606, 0.9270384945514352, 0.9475258657832044, 0.027911020496454456, 0.4186653074468168, 0.39075428695036235, 0.13955510248227226, 0.18815553153032277, 0.6499918361956605, 0.1539454348884459, 0.9728478316695836, 0.22164741385249712, 0.22164741385249712, 0.5382865764989216, 0.9435853468925408, 0.4865718248791222, 0.05724374410342614, 0.42932808077569606, 0.9481874480282741, 0.9528491873179566, 0.9573492195417982, 0.9740051944094537, 0.46716730272619783, 0.5005363957780691, 0.8685941723377796, 0.04409890534647, 0.04409890534647, 0.22049452673234998, 0.66148358019705, 0.9279220849239678, 0.9541670835539215, 0.8641509877673236, 0.9678134933067849, 0.03260665942222042, 0.9455931232443923, 0.9279682017802601, 0.9678817538836014, 0.9651395942357246, 0.8726222706082748, 0.3188807719126283, 0.6696496210165195, 0.9784055633099784, 0.2328933254437505, 0.6455639547388172, 0.11848958662927657, 0.9482168582055273, 0.9793773703556711, 0.022776217915248167, 0.9193971357908822, 0.053211699823664825, 0.2837957323928791, 0.6562776311585329, 0.8920618901832076, 0.8887639719558629, 0.09454935871870881, 0.7917741853077487, 0.19311565495310945, 0.8676101361034383, 0.2105257509937192, 0.7368401284780172, 0.9921153407661248, 0.9346668664700717, 0.9809780852256975, 0.9784079898084742, 0.34056461397633625, 0.6054482026245978, 0.30922227777553324, 0.5669075092551443, 0.12025310802381849, 0.8712203313108516, 0.3162887795232901, 0.46005640657933106, 0.20127467787845735, 0.9390244723147448, 0.9739042963123008, 0.24511378744683848, 0.6740629154788058, 0.9917312767862074, 0.9819668677430604, 0.8701069766498595, 0.8762681997808676, 0.9162670343262215, 0.9823666157660196, 0.044142713085494396, 0.2560277358958675, 0.17657085234197759, 0.5208840144088339, 0.9831867831556763, 0.9508958053216842, 0.9315074139695655, 0.8960866594626835, 0.0521277343865477, 0.8340437501847632, 0.034751822924365135, 0.06950364584873027, 0.9804732388322561, 0.28262296545108945, 0.7065574136277236, 0.23668840472285704, 0.7495132816223806, 0.3551491475038776, 0.6392684655069797, 0.9207279871996304, 0.26028565124679987, 0.1446031395815555, 0.5494919304099108, 0.9213908367529711, 0.8037157610763739, 0.955105180788201, 0.9607222198668348, 0.9373604940393507, 0.9270554941677569, 0.9112696515885534, 0.9842680363859287, 0.9763659449188926, 0.9591519388781844, 0.9771141415144418, 0.9807422219429652, 0.959958168479476, 0.21369212295660717, 0.7479224303481251, 0.8922079173301425, 0.9201609208584496, 0.9773554935403433, 0.963711277105761, 0.964084225189553, 0.45701278062258105, 0.05273224391799012, 0.4745901952619111, 0.8332099434520528, 0.15149271699128233, 0.8560579426517643, 0.9456236483122308, 0.862325243892129, 0.019305789042361098, 0.07078789315532402, 0.0064352630141203656, 0.045046841098842556, 0.655493433408299, 0.2988278887596657, 0.038558437259311705, 0.9144388877734488, 0.9242935004665997, 0.9369453974024484, 0.9316040694001917, 0.9658783099431001, 0.9691277905800573, 0.5675400483015669, 0.09785173246578739, 0.33269589038367714, 0.8029383799528236, 0.05009202918127474, 0.5109386976490023, 0.2905337692513935, 0.06011043501752969, 0.10018405836254948, 0.25900385543008364, 0.00996168674731091, 0.7272031325536964, 0.4084506942760309, 0.051984633816949385, 0.17823303022954076, 0.3564660604590815, 0.033285295385929316, 0.2662823630874345, 0.6989912031045157, 0.9664354967846498, 0.9655210967781567, 0.9627717800980348, 0.9775081546818227, 0.9826157364214142, 0.9160785426956563, 0.9378534991156653, 0.9845988371800987, 0.942782974357808, 0.12369322681530165, 0.061846613407650824, 0.7421593608918099, 0.7210602004347523, 0.25449183544755966, 0.3543376034028572, 0.6269049906358243, 0.2759040923543483, 0.662169821650436, 0.9797214143516333, 0.9524070158360899, 0.9692712054878072, 0.735745791812738, 0.030284935740475902, 0.11045094211232388, 0.12292120977016689, 0.9356958277886636, 0.33758938538090033, 0.12984207130034628, 0.20774731408055405, 0.13849820938703603, 0.17312276173379504, 0.9880520555495161, 0.9404375770897271, 0.9522520571822065, 0.9476726825541222, 0.5767480554095566, 0.033926356200562155, 0.3731899182061837, 0.8918367951438443, 0.36149437386327427, 0.5910921518575161, 0.012212647765651159, 0.03175288419069301, 0.002442529553130232, 0.9881162371253766], \"Term\": [\"able\", \"ago\", \"align\", \"amazing\", \"amp\", \"approach\", \"area\", \"area\", \"area\", \"areas\", \"arent\", \"arent\", \"authentic\", \"away\", \"awful\", \"bad\", \"bad\", \"bad\", \"bad\", \"balance\", \"balancexd\", \"believe\", \"best\", \"best\", \"better\", \"better\", \"better\", \"better\", \"big\", \"big\", \"bigger\", \"bit\", \"bit\", \"bit\", \"brand\", \"buildings\", \"business\", \"career\", \"career\", \"cause\", \"challenge\", \"changing\", \"chaotic\", \"communication\", \"commute\", \"commute\", \"company\", \"company\", \"company\", \"company\", \"competitive\", \"cons\", \"create\", \"crowded\", \"culture\", \"culture\", \"culture\", \"culture\", \"culture\", \"cycles\", \"data\", \"day\", \"deadlines\", \"decision\", \"decisions\", \"decisions\", \"demanding\", \"departments\", \"depending\", \"depends\", \"design\", \"did\", \"did\", \"different\", \"different\", \"different\", \"difficult\", \"difficult\", \"diversity\", \"diversity\", \"diversity\", \"diversity\", \"doesnt\", \"doing\", \"doing\", \"doing\", \"dont\", \"dont\", \"dont\", \"driven\", \"easily\", \"emphasis\", \"encouraged\", \"end\", \"end\", \"engineering\", \"engineering\", \"engineering\", \"engineers\", \"engineers\", \"environment\", \"environment\", \"environment\", \"ethics\", \"everybody\", \"expectations\", \"expectations\", \"expected\", \"expensive\", \"experience\", \"experience\", \"extremely\", \"extremely\", \"facebook\", \"facebook\", \"facebook\", \"facebook\", \"facebook\", \"fact\", \"far\", \"fast\", \"fast\", \"fastpaced\", \"fb\", \"fb\", \"fb\", \"fb\", \"fear\", \"feel\", \"feel\", \"feel\", \"feel\", \"fired\", \"fix\", \"focus\", \"focus\", \"focus\", \"focused\", \"food\", \"free\", \"friends\", \"fun\", \"gets\", \"getting\", \"getting\", \"global\", \"goal\", \"going\", \"going\", \"going\", \"going\", \"good\", \"good\", \"good\", \"good\", \"good\", \"great\", \"great\", \"great\", \"great\", \"growing\", \"grows\", \"growth\", \"hard\", \"hard\", \"havent\", \"heavy\", \"help\", \"high\", \"hiring\", \"hour\", \"hours\", \"huge\", \"ignore\", \"im\", \"impact\", \"impact\", \"impacts\", \"internal\", \"internal\", \"isnt\", \"job\", \"job\", \"job\", \"jobs\", \"just\", \"just\", \"lack\", \"lack\", \"large\", \"large\", \"large\", \"lead\", \"leadership\", \"leadership\", \"learning\", \"left\", \"life\", \"like\", \"like\", \"like\", \"like\", \"like\", \"limited\", \"little\", \"little\", \"little\", \"load\", \"location\", \"long\", \"long\", \"lot\", \"lot\", \"lot\", \"lots\", \"lots\", \"make\", \"make\", \"make\", \"make\", \"management\", \"management\", \"management\", \"management\", \"manager\", \"manager\", \"manager\", \"managers\", \"managers\", \"mean\", \"means\", \"means\", \"media\", \"media\", \"meeting\", \"menlo\", \"middle\", \"mind\", \"money\", \"morale\", \"moves\", \"moving\", \"moving\", \"navigate\", \"need\", \"need\", \"need\", \"need\", \"need\", \"needed\", \"needs\", \"negative\", \"negative\", \"negative\", \"negative\", \"new\", \"new\", \"new\", \"news\", \"office\", \"office\", \"office\", \"offices\", \"open\", \"open\", \"open\", \"operations\", \"opinions\", \"opportunities\", \"opportunity\", \"org\", \"org\", \"oriented\", \"outside\", \"outside\", \"outside\", \"outside\", \"overall\", \"overwhelming\", \"ownership\", \"pace\", \"paced\", \"paced\", \"paid\", \"pains\", \"park\", \"parking\", \"pay\", \"pay\", \"peer\", \"people\", \"people\", \"people\", \"perform\", \"performance\", \"performance\", \"perks\", \"place\", \"place\", \"place\", \"pm\", \"politics\", \"politics\", \"poor\", \"poor\", \"practices\", \"press\", \"press\", \"pressure\", \"probably\", \"problems\", \"process\", \"processes\", \"processes\", \"product\", \"product\", \"product\", \"progress\", \"projects\", \"projects\", \"projects\", \"pros\", \"psc\", \"public\", \"public\", \"quickly\", \"quite\", \"ranking\", \"rate\", \"rating\", \"real\", \"really\", \"really\", \"really\", \"really\", \"remote\", \"reorgs\", \"research\", \"rest\", \"review\", \"review\", \"review\", \"review\", \"reviews\", \"right\", \"right\", \"role\", \"role\", \"roles\", \"roles\", \"rooms\", \"say\", \"say\", \"say\", \"scale\", \"scientist\", \"scrutiny\", \"seen\", \"self\", \"set\", \"sf\", \"share\", \"short\", \"size\", \"skills\", \"small\", \"smart\", \"social\", \"social\", \"speed\", \"stack\", \"starting\", \"startup\", \"stress\", \"stressful\", \"stressful\", \"stressful\", \"strong\", \"strong\", \"stuff\", \"takes\", \"team\", \"team\", \"team\", \"team\", \"team\", \"teams\", \"teams\", \"teams\", \"technical\", \"technology\", \"tell\", \"terms\", \"terrible\", \"thats\", \"theres\", \"theres\", \"theres\", \"theyll\", \"things\", \"things\", \"things\", \"things\", \"things\", \"think\", \"think\", \"think\", \"time\", \"time\", \"time\", \"time\", \"times\", \"times\", \"times\", \"told\", \"ton\", \"tools\", \"tough\", \"toxic\", \"true\", \"understand\", \"used\", \"users\", \"values\", \"values\", \"values\", \"want\", \"want\", \"way\", \"way\", \"week\", \"week\", \"white\", \"wish\", \"wlb\", \"work\", \"work\", \"work\", \"work\", \"worked\", \"working\", \"working\", \"working\", \"working\", \"working\", \"worklife\", \"workload\", \"works\", \"workxd\", \"world\", \"world\", \"world\", \"worse\", \"xd\", \"xd\", \"xd\", \"xd\", \"xd\", \"youre\"]}, \"R\": 30, \"lambda.step\": 0.01, \"plot.opts\": {\"xlab\": \"PC1\", \"ylab\": \"PC2\"}, \"topic.order\": [2, 1, 3, 4, 5, 6]};\n",
       "\n",
       "function LDAvis_load_lib(url, callback){\n",
       "  var s = document.createElement('script');\n",
       "  s.src = url;\n",
       "  s.async = true;\n",
       "  s.onreadystatechange = s.onload = callback;\n",
       "  s.onerror = function(){console.warn(\"failed to load library \" + url);};\n",
       "  document.getElementsByTagName(\"head\")[0].appendChild(s);\n",
       "}\n",
       "\n",
       "if(typeof(LDAvis) !== \"undefined\"){\n",
       "   // already loaded: just create the visualization\n",
       "   !function(LDAvis){\n",
       "       new LDAvis(\"#\" + \"ldavis_el532816067158875049369830917\", ldavis_el532816067158875049369830917_data);\n",
       "   }(LDAvis);\n",
       "}else if(typeof define === \"function\" && define.amd){\n",
       "   // require.js is available: use it to load d3/LDAvis\n",
       "   require.config({paths: {d3: \"https://d3js.org/d3.v5\"}});\n",
       "   require([\"d3\"], function(d3){\n",
       "      window.d3 = d3;\n",
       "      LDAvis_load_lib(\"https://cdn.jsdelivr.net/gh/bmabey/pyLDAvis@3.3.1/pyLDAvis/js/ldavis.v3.0.0.js\", function(){\n",
       "        new LDAvis(\"#\" + \"ldavis_el532816067158875049369830917\", ldavis_el532816067158875049369830917_data);\n",
       "      });\n",
       "    });\n",
       "}else{\n",
       "    // require.js not available: dynamically load d3 & LDAvis\n",
       "    LDAvis_load_lib(\"https://d3js.org/d3.v5.js\", function(){\n",
       "         LDAvis_load_lib(\"https://cdn.jsdelivr.net/gh/bmabey/pyLDAvis@3.3.1/pyLDAvis/js/ldavis.v3.0.0.js\", function(){\n",
       "                 new LDAvis(\"#\" + \"ldavis_el532816067158875049369830917\", ldavis_el532816067158875049369830917_data);\n",
       "            })\n",
       "         });\n",
       "}\n",
       "</script>"
      ],
      "text/plain": [
       "PreparedData(topic_coordinates=              x         y  topics  cluster       Freq\n",
       "topic                                                \n",
       "1      0.051584 -0.140259       1        1  27.950974\n",
       "0      0.226489  0.059178       2        1  27.435136\n",
       "2      0.112518  0.139331       3        1  16.709860\n",
       "3     -0.065531 -0.118947       4        1  11.601677\n",
       "4     -0.102958 -0.135629       5        1   8.951040\n",
       "5     -0.222101  0.196326       6        1   7.351313, topic_info=         Term        Freq       Total Category  logprob  loglift\n",
       "2072     work  561.000000  561.000000  Default  30.0000  30.0000\n",
       "126   balance  249.000000  249.000000  Default  29.0000  29.0000\n",
       "1068      lot  152.000000  152.000000  Default  28.0000  28.0000\n",
       "324      cons   94.000000   94.000000  Default  27.0000  27.0000\n",
       "1032     life  185.000000  185.000000  Default  26.0000  26.0000\n",
       "...       ...         ...         ...      ...      ...      ...\n",
       "764     great   16.836601   91.636799   Topic6  -4.5453   0.9160\n",
       "123       bad   14.904888  136.105012   Topic6  -4.6672   0.3986\n",
       "1195     need   12.573934   83.748098   Topic6  -4.8372   0.7141\n",
       "1881   things    9.771058   99.816280   Topic6  -5.0894   0.2864\n",
       "879    impact    8.929378   96.069429   Topic6  -5.1795   0.2346\n",
       "\n",
       "[346 rows x 6 columns], token_table=      Topic      Freq     Term\n",
       "term                          \n",
       "1         4  0.961681     able\n",
       "51        5  0.902687      ago\n",
       "54        5  0.953158    align\n",
       "61        6  0.901061  amazing\n",
       "67        2  0.930670      amp\n",
       "...     ...       ...      ...\n",
       "2093      2  0.591092       xd\n",
       "2093      3  0.012213       xd\n",
       "2093      4  0.031753       xd\n",
       "2093      6  0.002443       xd\n",
       "2104      1  0.988116    youre\n",
       "\n",
       "[459 rows x 3 columns], R=30, lambda_step=0.01, plot_opts={'xlab': 'PC1', 'ylab': 'PC2'}, topic_order=[2, 1, 3, 4, 5, 6])"
      ]
     },
     "execution_count": 40,
     "metadata": {},
     "output_type": "execute_result"
    }
   ],
   "source": [
    "pyLDAvis.sklearn.prepare(lda_cons, tf_cons, vec_cons, n_jobs=1)"
   ]
  }
 ],
 "metadata": {
  "kernelspec": {
   "display_name": "Python 3 (ipykernel)",
   "language": "python",
   "name": "python3"
  },
  "language_info": {
   "codemirror_mode": {
    "name": "ipython",
    "version": 3
   },
   "file_extension": ".py",
   "mimetype": "text/x-python",
   "name": "python",
   "nbconvert_exporter": "python",
   "pygments_lexer": "ipython3",
   "version": "3.9.9"
  }
 },
 "nbformat": 4,
 "nbformat_minor": 5
}
